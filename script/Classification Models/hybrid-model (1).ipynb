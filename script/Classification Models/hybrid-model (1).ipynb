{
 "cells": [
  {
   "cell_type": "markdown",
   "id": "1699415c-8b40-418d-a308-6125a4886f49",
   "metadata": {},
   "source": [
    "# Hybrid Network (1D conv + LSTM) Training"
   ]
  },
  {
   "cell_type": "markdown",
   "id": "d8ab1694-b612-4cbb-9880-3b35cc50c1a5",
   "metadata": {},
   "source": [
    "Author: Luna Lyu <br>\n",
    "Date: 11/10/2024"
   ]
  },
  {
   "cell_type": "markdown",
   "id": "77a2a297-1a10-4d51-aeb9-81fa10dc4f2c",
   "metadata": {},
   "source": [
    "## Import Packages"
   ]
  },
  {
   "cell_type": "code",
   "execution_count": 1,
   "id": "29b86dad-3dec-437a-b382-e8825d4da04b",
   "metadata": {},
   "outputs": [],
   "source": [
    "# system\n",
    "import os\n",
    "import pickle\n",
    "import gzip\n",
    "\n",
    "# data manipulation\n",
    "import pandas as pd\n",
    "import numpy as np\n",
    "\n",
    "# deep learning\n",
    "import torch\n",
    "import torch.nn as nn\n",
    "import torch.optim as optim\n",
    "from torch.utils.data import DataLoader, TensorDataset\n",
    "from sklearn.model_selection import train_test_split\n",
    "import numpy as np\n",
    "import matplotlib.pyplot as plt"
   ]
  },
  {
   "cell_type": "code",
   "execution_count": 2,
   "id": "dbed938c-1b3c-45b0-9645-72209d5fde47",
   "metadata": {},
   "outputs": [
    {
     "data": {
      "text/plain": [
       "'/home/jianhaozheng/Downloads/test2'"
      ]
     },
     "execution_count": 2,
     "metadata": {},
     "output_type": "execute_result"
    }
   ],
   "source": [
    "os.getcwd()"
   ]
  },
  {
   "cell_type": "markdown",
   "id": "1db5fc50-5731-478c-b776-1e103bf6aa6c",
   "metadata": {},
   "source": [
    "## Import Dataset"
   ]
  },
  {
   "cell_type": "code",
   "execution_count": 3,
   "id": "921f75e7-934e-466b-bd95-a5e1cd54bbde",
   "metadata": {},
   "outputs": [],
   "source": [
    "with gzip.open('./gene_id_label_ohe (2).pkl.gz', 'rb') as f:\n",
    "    data = pickle.load(f)"
   ]
  },
  {
   "cell_type": "code",
   "execution_count": 4,
   "id": "fcb15e32-05db-4e10-94da-b342a46ff956",
   "metadata": {},
   "outputs": [
    {
     "data": {
      "text/html": [
       "<div>\n",
       "<style scoped>\n",
       "    .dataframe tbody tr th:only-of-type {\n",
       "        vertical-align: middle;\n",
       "    }\n",
       "\n",
       "    .dataframe tbody tr th {\n",
       "        vertical-align: top;\n",
       "    }\n",
       "\n",
       "    .dataframe thead th {\n",
       "        text-align: right;\n",
       "    }\n",
       "</style>\n",
       "<table border=\"1\" class=\"dataframe\">\n",
       "  <thead>\n",
       "    <tr style=\"text-align: right;\">\n",
       "      <th></th>\n",
       "      <th>ensembl_gene_id</th>\n",
       "      <th>DE</th>\n",
       "      <th>upstream_region_encoded</th>\n",
       "    </tr>\n",
       "  </thead>\n",
       "  <tbody>\n",
       "    <tr>\n",
       "      <th>0</th>\n",
       "      <td>ENSG00000000457</td>\n",
       "      <td>0</td>\n",
       "      <td>[[1, 0, 0, 0], [0, 0, 1, 0], [1, 0, 0, 0], [0,...</td>\n",
       "    </tr>\n",
       "    <tr>\n",
       "      <th>1</th>\n",
       "      <td>ENSG00000000460</td>\n",
       "      <td>0</td>\n",
       "      <td>[[0, 0, 0, 1], [0, 0, 0, 1], [0, 0, 0, 1], [0,...</td>\n",
       "    </tr>\n",
       "    <tr>\n",
       "      <th>2</th>\n",
       "      <td>ENSG00000000938</td>\n",
       "      <td>0</td>\n",
       "      <td>[[1, 0, 0, 0], [0, 0, 1, 0], [0, 1, 0, 0], [1,...</td>\n",
       "    </tr>\n",
       "    <tr>\n",
       "      <th>3</th>\n",
       "      <td>ENSG00000000971</td>\n",
       "      <td>1</td>\n",
       "      <td>[[0, 0, 1, 0], [0, 1, 0, 0], [0, 0, 0, 1], [0,...</td>\n",
       "    </tr>\n",
       "    <tr>\n",
       "      <th>4</th>\n",
       "      <td>ENSG00000001460</td>\n",
       "      <td>0</td>\n",
       "      <td>[[0, 0, 0, 1], [0, 0, 0, 1], [1, 0, 0, 0], [0,...</td>\n",
       "    </tr>\n",
       "    <tr>\n",
       "      <th>...</th>\n",
       "      <td>...</td>\n",
       "      <td>...</td>\n",
       "      <td>...</td>\n",
       "    </tr>\n",
       "    <tr>\n",
       "      <th>55221</th>\n",
       "      <td>ENSG00000284520</td>\n",
       "      <td>0</td>\n",
       "      <td>[[0, 1, 0, 0], [0, 0, 0, 1], [0, 1, 0, 0], [1,...</td>\n",
       "    </tr>\n",
       "    <tr>\n",
       "      <th>55222</th>\n",
       "      <td>ENSG00000284544</td>\n",
       "      <td>0</td>\n",
       "      <td>[[0, 1, 0, 0], [0, 0, 0, 1], [0, 0, 0, 1], [1,...</td>\n",
       "    </tr>\n",
       "    <tr>\n",
       "      <th>55223</th>\n",
       "      <td>ENSG00000284554</td>\n",
       "      <td>0</td>\n",
       "      <td>[[1, 0, 0, 0], [0, 0, 1, 0], [1, 0, 0, 0], [0,...</td>\n",
       "    </tr>\n",
       "    <tr>\n",
       "      <th>55224</th>\n",
       "      <td>ENSG00000284568</td>\n",
       "      <td>0</td>\n",
       "      <td>[[1, 0, 0, 0], [0, 0, 0, 1], [1, 0, 0, 0], [0,...</td>\n",
       "    </tr>\n",
       "    <tr>\n",
       "      <th>55225</th>\n",
       "      <td>ENSG00000284583</td>\n",
       "      <td>0</td>\n",
       "      <td>[[0, 1, 0, 0], [0, 0, 0, 1], [0, 0, 0, 1], [0,...</td>\n",
       "    </tr>\n",
       "  </tbody>\n",
       "</table>\n",
       "<p>55223 rows × 3 columns</p>\n",
       "</div>"
      ],
      "text/plain": [
       "       ensembl_gene_id  DE                            upstream_region_encoded\n",
       "0      ENSG00000000457   0  [[1, 0, 0, 0], [0, 0, 1, 0], [1, 0, 0, 0], [0,...\n",
       "1      ENSG00000000460   0  [[0, 0, 0, 1], [0, 0, 0, 1], [0, 0, 0, 1], [0,...\n",
       "2      ENSG00000000938   0  [[1, 0, 0, 0], [0, 0, 1, 0], [0, 1, 0, 0], [1,...\n",
       "3      ENSG00000000971   1  [[0, 0, 1, 0], [0, 1, 0, 0], [0, 0, 0, 1], [0,...\n",
       "4      ENSG00000001460   0  [[0, 0, 0, 1], [0, 0, 0, 1], [1, 0, 0, 0], [0,...\n",
       "...                ...  ..                                                ...\n",
       "55221  ENSG00000284520   0  [[0, 1, 0, 0], [0, 0, 0, 1], [0, 1, 0, 0], [1,...\n",
       "55222  ENSG00000284544   0  [[0, 1, 0, 0], [0, 0, 0, 1], [0, 0, 0, 1], [1,...\n",
       "55223  ENSG00000284554   0  [[1, 0, 0, 0], [0, 0, 1, 0], [1, 0, 0, 0], [0,...\n",
       "55224  ENSG00000284568   0  [[1, 0, 0, 0], [0, 0, 0, 1], [1, 0, 0, 0], [0,...\n",
       "55225  ENSG00000284583   0  [[0, 1, 0, 0], [0, 0, 0, 1], [0, 0, 0, 1], [0,...\n",
       "\n",
       "[55223 rows x 3 columns]"
      ]
     },
     "execution_count": 4,
     "metadata": {},
     "output_type": "execute_result"
    }
   ],
   "source": [
    "data"
   ]
  },
  {
   "cell_type": "markdown",
   "id": "65044adb-996a-4d04-b447-d0e48caa7ba8",
   "metadata": {},
   "source": [
    "## Quality Control"
   ]
  },
  {
   "cell_type": "code",
   "execution_count": 5,
   "id": "9865119f-2781-41f5-8132-d1d6b31875c3",
   "metadata": {},
   "outputs": [],
   "source": [
    "X = np.stack(data['upstream_region_encoded'].values)\n",
    "Y = data['DE'].values"
   ]
  },
  {
   "cell_type": "code",
   "execution_count": 6,
   "id": "9f172aa7-9a17-4a30-b70d-ea51df1cb95b",
   "metadata": {},
   "outputs": [
    {
     "name": "stdout",
     "output_type": "stream",
     "text": [
      "(55223, 2000, 4)\n",
      "(55223,)\n"
     ]
    }
   ],
   "source": [
    "print(X.shape)\n",
    "print(Y.shape)"
   ]
  },
  {
   "cell_type": "code",
   "execution_count": 7,
   "id": "b317e2f0-f5a2-40d8-935c-7645b6b9aa07",
   "metadata": {},
   "outputs": [
    {
     "name": "stdout",
     "output_type": "stream",
     "text": [
      "<class 'numpy.ndarray'>\n",
      "<class 'numpy.ndarray'>\n"
     ]
    }
   ],
   "source": [
    "print(type(X))\n",
    "print(type(Y))"
   ]
  },
  {
   "cell_type": "markdown",
   "id": "629b91ca-cfa5-403b-8a78-7a7001491853",
   "metadata": {},
   "source": [
    "## Train-test Split"
   ]
  },
  {
   "cell_type": "code",
   "execution_count": 8,
   "id": "cc78fb8c-b7c4-4817-8627-9cefe01c1f72",
   "metadata": {},
   "outputs": [],
   "source": [
    "X_train, X_dev, Y_train, Y_dev = train_test_split(X, Y, test_size=0.2, shuffle=True, random_state=123)"
   ]
  },
  {
   "cell_type": "code",
   "execution_count": 9,
   "id": "f4ee2e36-ee90-47d3-8b0d-0245849a387c",
   "metadata": {},
   "outputs": [
    {
     "name": "stdout",
     "output_type": "stream",
     "text": [
      "(44178, 2000, 4)\n",
      "(11045, 2000, 4)\n",
      "(44178,)\n",
      "(11045,)\n"
     ]
    }
   ],
   "source": [
    "print(X_train.shape)\n",
    "print(X_dev.shape)\n",
    "print(Y_train.shape)\n",
    "print(Y_dev.shape)"
   ]
  },
  {
   "cell_type": "markdown",
   "id": "557a5990-36ec-4a3e-8895-c424fcd815aa",
   "metadata": {},
   "source": [
    "We need to add one more channel to train CNN."
   ]
  },
  {
   "cell_type": "code",
   "execution_count": 10,
   "id": "36f5b6f6-6c21-4567-bcad-d3069071c45c",
   "metadata": {},
   "outputs": [],
   "source": [
    "X_train = np.expand_dims(X_train, axis=-1)\n",
    "X_dev = np.expand_dims(X_dev, axis=-1) "
   ]
  },
  {
   "cell_type": "code",
   "execution_count": 11,
   "id": "83cfbbf7-dcc2-48b1-9c47-21b8ef2c5a0c",
   "metadata": {},
   "outputs": [
    {
     "name": "stdout",
     "output_type": "stream",
     "text": [
      "(44178, 2000, 4, 1)\n",
      "(11045, 2000, 4, 1)\n",
      "(44178,)\n",
      "(11045,)\n"
     ]
    }
   ],
   "source": [
    "print(X_train.shape)\n",
    "print(X_dev.shape)\n",
    "print(Y_train.shape)\n",
    "print(Y_dev.shape)"
   ]
  },
  {
   "cell_type": "markdown",
   "id": "2896489f-bb8c-4f9e-96f3-064c350dc5a8",
   "metadata": {},
   "source": [
    "Hyperparameters:"
   ]
  },
  {
   "cell_type": "code",
   "execution_count": 12,
   "id": "52c11019-ecef-45a1-b4d4-6255f12b99eb",
   "metadata": {},
   "outputs": [],
   "source": [
    "BATCH_SIZE = 256\n",
    "EPOCH_SIZE = 5\n",
    "LEARNING_RATE = 1e-3"
   ]
  },
  {
   "cell_type": "markdown",
   "id": "60f78931-61ef-4bf3-9d65-a0dabdb715fa",
   "metadata": {},
   "source": [
    "Shuffle the dataset and apply mini-batch gradient descent with a batch size of 256:"
   ]
  },
  {
   "cell_type": "code",
   "execution_count": 13,
   "id": "b8d78899-72f9-45b9-9d00-5c662c450408",
   "metadata": {},
   "outputs": [],
   "source": [
    "train_dataset = TensorDataset(torch.FloatTensor(X_train), torch.FloatTensor(Y_train))\n",
    "train_loader = DataLoader(train_dataset, batch_size=BATCH_SIZE, shuffle=True)\n",
    "val_dataset = TensorDataset(torch.FloatTensor(X_dev), torch.FloatTensor(Y_dev))\n",
    "val_loader = DataLoader(val_dataset, batch_size=BATCH_SIZE)"
   ]
  },
  {
   "cell_type": "code",
   "execution_count": 14,
   "id": "f413eb0b-915c-4c7d-bd5c-2e284230feed",
   "metadata": {},
   "outputs": [],
   "source": [
    "class DNAHybrid(nn.Module):\n",
    "    def __init__(self):\n",
    "        super(DNAHybrid, self).__init__()\n",
    "        self.conv1 = nn.Sequential(\n",
    "            nn.Conv1d(4, 64, kernel_size=3, padding=1),\n",
    "            nn.ReLU(),\n",
    "            nn.BatchNorm1d(64),\n",
    "            nn.MaxPool1d(2)\n",
    "        )\n",
    "        \n",
    "        self.conv2 = nn.Sequential(\n",
    "            nn.Conv1d(64, 128, kernel_size=3, padding=1),\n",
    "            nn.ReLU(),\n",
    "            nn.BatchNorm1d(128),\n",
    "            nn.MaxPool1d(2)\n",
    "        )\n",
    "        \n",
    "        self.lstm = nn.LSTM(\n",
    "            input_size=128,\n",
    "            hidden_size=64,\n",
    "            num_layers=2,\n",
    "            batch_first=True,\n",
    "            dropout=0.3,\n",
    "            bidirectional=True\n",
    "        )\n",
    "        \n",
    "        self.fc = nn.Sequential(\n",
    "            nn.Linear(128, 64), \n",
    "            nn.ReLU(),\n",
    "            nn.BatchNorm1d(64),\n",
    "            nn.Dropout(0.3),\n",
    "            nn.Linear(64, 2)\n",
    "        )\n",
    "        \n",
    "    def forward(self, x):\n",
    "        x = x.permute(0, 2, 1) \n",
    "        \n",
    "        # Rest remains the same\n",
    "        x = self.conv1(x)\n",
    "        x = self.conv2(x)\n",
    "        x = x.permute(0, 2, 1)\n",
    "        x, _ = self.lstm(x)\n",
    "        x = torch.mean(x, dim=1)\n",
    "        x = self.fc(x)\n",
    "        return x\n",
    "\n",
    "def train_and_evaluate(model, train_loader, val_loader, num_epochs=20):\n",
    "    device = torch.device('cuda' if torch.cuda.is_available() else 'cpu')\n",
    "    print(f\"Using device: {device}\")\n",
    "    \n",
    "    model = model.to(device)\n",
    "    criterion = nn.CrossEntropyLoss()\n",
    "    optimizer = optim.Adam(model.parameters(), lr=LEARNING_RATE)\n",
    "    \n",
    "    scheduler = optim.lr_scheduler.ReduceLROnPlateau(\n",
    "        optimizer, mode='max', factor=0.5, patience=3, verbose=True\n",
    "    )\n",
    "    \n",
    "    history = {\n",
    "        'train_loss': [], 'train_acc': [],\n",
    "        'val_loss': [], 'val_acc': []\n",
    "    }\n",
    "    \n",
    "    for epoch in range(num_epochs):\n",
    "        # Training phase\n",
    "        model.train()\n",
    "        train_loss = 0\n",
    "        train_correct = 0\n",
    "        train_total = 0\n",
    "        \n",
    "        for inputs, labels in train_loader:\n",
    "            inputs = inputs.to(device)\n",
    "            labels = labels.to(device).long()\n",
    "            \n",
    "            inputs = inputs.squeeze(-1).squeeze(-1)\n",
    "            \n",
    "            optimizer.zero_grad()\n",
    "            outputs = model(inputs)\n",
    "            loss = criterion(outputs, labels)\n",
    "            loss.backward()\n",
    "            \n",
    "            torch.nn.utils.clip_grad_norm_(model.parameters(), max_norm=1.0)\n",
    "            \n",
    "            optimizer.step()\n",
    "            \n",
    "            train_loss += loss.item()\n",
    "            predicted = outputs.argmax(dim=1)\n",
    "            train_total += labels.size(0)\n",
    "            train_correct += (predicted == labels).sum().item()\n",
    "        \n",
    "        epoch_train_loss = train_loss / len(train_loader)\n",
    "        epoch_train_acc = 100 * train_correct / train_total\n",
    "        \n",
    "        # Validation phase\n",
    "        model.eval()\n",
    "        val_loss = 0\n",
    "        val_correct = 0\n",
    "        val_total = 0\n",
    "        \n",
    "        with torch.no_grad():\n",
    "            for inputs, labels in val_loader:\n",
    "                inputs = inputs.to(device)\n",
    "                labels = labels.to(device).long()\n",
    "                \n",
    "                inputs = inputs.squeeze(-1).squeeze(-1)\n",
    "                \n",
    "                outputs = model(inputs)\n",
    "                loss = criterion(outputs, labels)\n",
    "                \n",
    "                val_loss += loss.item()\n",
    "                predicted = outputs.argmax(dim=1)\n",
    "                val_total += labels.size(0)\n",
    "                val_correct += (predicted == labels).sum().item()\n",
    "        \n",
    "        epoch_val_loss = val_loss / len(val_loader)\n",
    "        epoch_val_acc = 100 * val_correct / val_total\n",
    "        \n",
    "        scheduler.step(epoch_val_acc)\n",
    "        \n",
    "        history['train_loss'].append(epoch_train_loss)\n",
    "        history['train_acc'].append(epoch_train_acc)\n",
    "        history['val_loss'].append(epoch_val_loss)\n",
    "        history['val_acc'].append(epoch_val_acc)\n",
    "        \n",
    "        print(f'Epoch {epoch+1}/{num_epochs}:')\n",
    "        print(f'Train Loss: {epoch_train_loss:.4f}, Train Acc: {epoch_train_acc:.2f}%')\n",
    "        print(f'Val Loss: {epoch_val_loss:.4f}, Val Acc: {epoch_val_acc:.2f}%')\n",
    "        print('-' * 50)\n",
    "    \n",
    "    # Plot results\n",
    "    plt.figure(figsize=(12, 4))\n",
    "    \n",
    "    plt.subplot(1, 2, 1)\n",
    "    plt.plot(history['train_loss'], label='Train Loss')\n",
    "    plt.plot(history['val_loss'], label='Val Loss')\n",
    "    plt.title('Model Loss')\n",
    "    plt.xlabel('Epoch')\n",
    "    plt.ylabel('Loss')\n",
    "    plt.legend()\n",
    "    \n",
    "    plt.subplot(1, 2, 2)\n",
    "    plt.plot(history['train_acc'], label='Train Accuracy')\n",
    "    plt.plot(history['val_acc'], label='Val Accuracy')\n",
    "    plt.title('Model Accuracy')\n",
    "    plt.xlabel('Epoch')\n",
    "    plt.ylabel('Accuracy')\n",
    "    plt.legend()\n",
    "    \n",
    "    plt.tight_layout()\n",
    "    plt.show()\n",
    "    \n",
    "    return history"
   ]
  },
  {
   "cell_type": "code",
   "execution_count": 15,
   "id": "63ae8622-ce45-436e-873f-5c4413ba4126",
   "metadata": {},
   "outputs": [],
   "source": [
    "def forward(self, x):\n",
    "        x = x.permute(0, 2, 1) \n",
    "        \n",
    "        # Rest remains the same\n",
    "        x = self.conv1(x)\n",
    "        x = self.conv2(x)\n",
    "        x = x.permute(0, 2, 1)\n",
    "        x, _ = self.lstm(x)\n",
    "        x = torch.mean(x, dim=1)\n",
    "        x = self.fc(x)\n",
    "        return x"
   ]
  },
  {
   "cell_type": "code",
   "execution_count": 16,
   "id": "2f44f943-6212-48cf-9741-ea8e205879ca",
   "metadata": {},
   "outputs": [
    {
     "name": "stdout",
     "output_type": "stream",
     "text": [
      "Using device: cuda\n"
     ]
    },
    {
     "name": "stderr",
     "output_type": "stream",
     "text": [
      "/home/jianhaozheng/anaconda3/envs/all/lib/python3.9/site-packages/torch/optim/lr_scheduler.py:60: UserWarning: The verbose parameter is deprecated. Please use get_last_lr() to access the learning rate.\n",
      "  warnings.warn(\n"
     ]
    },
    {
     "name": "stdout",
     "output_type": "stream",
     "text": [
      "Epoch 1/5:\n",
      "Train Loss: 0.4299, Train Acc: 85.26%\n",
      "Val Loss: 0.2556, Val Acc: 92.90%\n",
      "--------------------------------------------------\n",
      "Epoch 2/5:\n",
      "Train Loss: 0.2765, Train Acc: 92.29%\n",
      "Val Loss: 0.2575, Val Acc: 92.90%\n",
      "--------------------------------------------------\n",
      "Epoch 3/5:\n",
      "Train Loss: 0.2702, Train Acc: 92.41%\n",
      "Val Loss: 0.3527, Val Acc: 92.90%\n",
      "--------------------------------------------------\n",
      "Epoch 4/5:\n",
      "Train Loss: 0.2683, Train Acc: 92.41%\n",
      "Val Loss: 0.2545, Val Acc: 92.90%\n",
      "--------------------------------------------------\n",
      "Epoch 5/5:\n",
      "Train Loss: 0.2659, Train Acc: 92.43%\n",
      "Val Loss: 0.2532, Val Acc: 92.90%\n",
      "--------------------------------------------------\n"
     ]
    },
    {
     "data": {
      "image/png": "[encoded data removed]",
      "text/plain": [
       "<Figure size 1200x400 with 2 Axes>"
      ]
     },
     "metadata": {},
     "output_type": "display_data"
    }
   ],
   "source": [
    "model = DNAHybrid()\n",
    "history = train_and_evaluate(model, train_loader, val_loader, num_epochs=EPOCH_SIZE)"
   ]
  },
  {
   "cell_type": "code",
   "execution_count": 17,
   "id": "2dc3cee5-a758-4092-9758-8680fdf38d3d",
   "metadata": {},
   "outputs": [
    {
     "data": {
      "text/plain": [
       "{'train_loss': [0.4298724074756479,\n",
       "  0.2764501845561011,\n",
       "  0.27016162751727024,\n",
       "  0.26825741906731115,\n",
       "  0.2658835387643362],\n",
       " 'train_acc': [85.2641586309928,\n",
       "  92.29028022997872,\n",
       "  92.41477658563086,\n",
       "  92.40798587532255,\n",
       "  92.42835800624745],\n",
       " 'val_loss': [0.25559213215654547,\n",
       "  0.2575142214244062,\n",
       "  0.3527270826426419,\n",
       "  0.25445132567123935,\n",
       "  0.2531584399667653],\n",
       " 'val_acc': [92.90176550475329,\n",
       "  92.90176550475329,\n",
       "  92.90176550475329,\n",
       "  92.90176550475329,\n",
       "  92.90176550475329]}"
      ]
     },
     "execution_count": 17,
     "metadata": {},
     "output_type": "execute_result"
    }
   ],
   "source": [
    "history"
   ]
  },
  {
   "cell_type": "code",
   "execution_count": null,
   "id": "fa9485cf-b473-4721-9b6e-ebd2f229ba9d",
   "metadata": {},
   "outputs": [],
   "source": []
  }
 ],
 "metadata": {
  "kernelspec": {
   "display_name": "Python 3 (ipykernel)",
   "language": "python",
   "name": "python3"
  },
  "language_info": {
   "codemirror_mode": {
    "name": "ipython",
    "version": 3
   },
   "file_extension": ".py",
   "mimetype": "text/x-python",
   "name": "python",
   "nbconvert_exporter": "python",
   "pygments_lexer": "ipython3",
   "version": "3.9.18"
  }
 },
 "nbformat": 4,
 "nbformat_minor": 5
}

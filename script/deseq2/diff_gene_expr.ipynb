{
 "cells": [
  {
   "cell_type": "markdown",
   "id": "60c49766",
   "metadata": {},
   "source": [
    "This notebook uses an R kernel."
   ]
  },
  {
   "cell_type": "markdown",
   "id": "c47ca371",
   "metadata": {},
   "source": [
    "# Differential Gene Expression using DESeq2"
   ]
  },
  {
   "cell_type": "markdown",
   "id": "a99d9c5d",
   "metadata": {},
   "source": [
    "Author: Zhongyi (James) Guo <br>\n",
    "Date: 10/28/2024"
   ]
  },
  {
   "cell_type": "markdown",
   "id": "91fa7985",
   "metadata": {},
   "source": [
    "## Import Packages"
   ]
  },
  {
   "cell_type": "code",
   "execution_count": 1,
   "id": "2daec64a",
   "metadata": {},
   "outputs": [
    {
     "data": {
      "text/html": [
       "'/Users/zhongyiguo/Desktop/SCA-DL-DGE/script/deseq2'"
      ],
      "text/latex": [
       "'/Users/zhongyiguo/Desktop/SCA-DL-DGE/script/deseq2'"
      ],
      "text/markdown": [
       "'/Users/zhongyiguo/Desktop/SCA-DL-DGE/script/deseq2'"
      ],
      "text/plain": [
       "[1] \"/Users/zhongyiguo/Desktop/SCA-DL-DGE/script/deseq2\""
      ]
     },
     "metadata": {},
     "output_type": "display_data"
    }
   ],
   "source": [
    "getwd()"
   ]
  },
  {
   "cell_type": "code",
   "execution_count": 2,
   "id": "e9ccac0a",
   "metadata": {},
   "outputs": [
    {
     "data": {
      "text/html": [
       "'/Library/Frameworks/R.framework/Versions/4.3-arm64/Resources/library'"
      ],
      "text/latex": [
       "'/Library/Frameworks/R.framework/Versions/4.3-arm64/Resources/library'"
      ],
      "text/markdown": [
       "'/Library/Frameworks/R.framework/Versions/4.3-arm64/Resources/library'"
      ],
      "text/plain": [
       "[1] \"/Library/Frameworks/R.framework/Versions/4.3-arm64/Resources/library\""
      ]
     },
     "metadata": {},
     "output_type": "display_data"
    }
   ],
   "source": [
    ".libPaths()"
   ]
  },
  {
   "cell_type": "code",
   "execution_count": 3,
   "id": "603a668a",
   "metadata": {
    "scrolled": false
   },
   "outputs": [
    {
     "name": "stderr",
     "output_type": "stream",
     "text": [
      "── \u001b[1mAttaching core tidyverse packages\u001b[22m ──────────────────────────────────────────────────────────────────────────────────────────── tidyverse 2.0.0 ──\n",
      "\u001b[32m✔\u001b[39m \u001b[34mdplyr    \u001b[39m 1.1.4     \u001b[32m✔\u001b[39m \u001b[34mreadr    \u001b[39m 2.1.5\n",
      "\u001b[32m✔\u001b[39m \u001b[34mforcats  \u001b[39m 1.0.0     \u001b[32m✔\u001b[39m \u001b[34mstringr  \u001b[39m 1.5.1\n",
      "\u001b[32m✔\u001b[39m \u001b[34mggplot2  \u001b[39m 3.5.0     \u001b[32m✔\u001b[39m \u001b[34mtibble   \u001b[39m 3.2.1\n",
      "\u001b[32m✔\u001b[39m \u001b[34mlubridate\u001b[39m 1.9.3     \u001b[32m✔\u001b[39m \u001b[34mtidyr    \u001b[39m 1.3.1\n",
      "\u001b[32m✔\u001b[39m \u001b[34mpurrr    \u001b[39m 1.0.2     \n",
      "── \u001b[1mConflicts\u001b[22m ────────────────────────────────────────────────────────────────────────────────────────────────────────────── tidyverse_conflicts() ──\n",
      "\u001b[31m✖\u001b[39m \u001b[34mdplyr\u001b[39m::\u001b[32mfilter()\u001b[39m  masks \u001b[34mstats\u001b[39m::filter()\n",
      "\u001b[31m✖\u001b[39m \u001b[34mpurrr\u001b[39m::\u001b[32mflatten()\u001b[39m masks \u001b[34mjsonlite\u001b[39m::flatten()\n",
      "\u001b[31m✖\u001b[39m \u001b[34mdplyr\u001b[39m::\u001b[32mlag()\u001b[39m     masks \u001b[34mstats\u001b[39m::lag()\n",
      "\u001b[36mℹ\u001b[39m Use the conflicted package (\u001b[3m\u001b[34m<http://conflicted.r-lib.org/>\u001b[39m\u001b[23m) to force all conflicts to become errors\n",
      "Warning message:\n",
      "“package ‘DESeq2’ was built under R version 4.3.3”\n",
      "Loading required package: S4Vectors\n",
      "\n",
      "Warning message:\n",
      "“package ‘S4Vectors’ was built under R version 4.3.2”\n",
      "Loading required package: stats4\n",
      "\n",
      "Loading required package: BiocGenerics\n",
      "\n",
      "\n",
      "Attaching package: ‘BiocGenerics’\n",
      "\n",
      "\n",
      "The following objects are masked from ‘package:lubridate’:\n",
      "\n",
      "    intersect, setdiff, union\n",
      "\n",
      "\n",
      "The following objects are masked from ‘package:dplyr’:\n",
      "\n",
      "    combine, intersect, setdiff, union\n",
      "\n",
      "\n",
      "The following objects are masked from ‘package:stats’:\n",
      "\n",
      "    IQR, mad, sd, var, xtabs\n",
      "\n",
      "\n",
      "The following objects are masked from ‘package:base’:\n",
      "\n",
      "    anyDuplicated, aperm, append, as.data.frame, basename, cbind,\n",
      "    colnames, dirname, do.call, duplicated, eval, evalq, Filter, Find,\n",
      "    get, grep, grepl, intersect, is.unsorted, lapply, Map, mapply,\n",
      "    match, mget, order, paste, pmax, pmax.int, pmin, pmin.int,\n",
      "    Position, rank, rbind, Reduce, rownames, sapply, setdiff, sort,\n",
      "    table, tapply, union, unique, unsplit, which.max, which.min\n",
      "\n",
      "\n",
      "\n",
      "Attaching package: ‘S4Vectors’\n",
      "\n",
      "\n",
      "The following objects are masked from ‘package:lubridate’:\n",
      "\n",
      "    second, second<-\n",
      "\n",
      "\n",
      "The following objects are masked from ‘package:dplyr’:\n",
      "\n",
      "    first, rename\n",
      "\n",
      "\n",
      "The following object is masked from ‘package:tidyr’:\n",
      "\n",
      "    expand\n",
      "\n",
      "\n",
      "The following object is masked from ‘package:utils’:\n",
      "\n",
      "    findMatches\n",
      "\n",
      "\n",
      "The following objects are masked from ‘package:base’:\n",
      "\n",
      "    expand.grid, I, unname\n",
      "\n",
      "\n",
      "Loading required package: IRanges\n",
      "\n",
      "\n",
      "Attaching package: ‘IRanges’\n",
      "\n",
      "\n",
      "The following object is masked from ‘package:lubridate’:\n",
      "\n",
      "    %within%\n",
      "\n",
      "\n",
      "The following objects are masked from ‘package:dplyr’:\n",
      "\n",
      "    collapse, desc, slice\n",
      "\n",
      "\n",
      "The following object is masked from ‘package:purrr’:\n",
      "\n",
      "    reduce\n",
      "\n",
      "\n",
      "Loading required package: GenomicRanges\n",
      "\n",
      "Loading required package: GenomeInfoDb\n",
      "\n",
      "Warning message:\n",
      "“package ‘GenomeInfoDb’ was built under R version 4.3.3”\n",
      "Loading required package: SummarizedExperiment\n",
      "\n",
      "Warning message:\n",
      "“package ‘SummarizedExperiment’ was built under R version 4.3.2”\n",
      "Loading required package: MatrixGenerics\n",
      "\n",
      "Loading required package: matrixStats\n",
      "\n",
      "\n",
      "Attaching package: ‘matrixStats’\n",
      "\n",
      "\n",
      "The following object is masked from ‘package:dplyr’:\n",
      "\n",
      "    count\n",
      "\n",
      "\n",
      "\n",
      "Attaching package: ‘MatrixGenerics’\n",
      "\n",
      "\n",
      "The following objects are masked from ‘package:matrixStats’:\n",
      "\n",
      "    colAlls, colAnyNAs, colAnys, colAvgsPerRowSet, colCollapse,\n",
      "    colCounts, colCummaxs, colCummins, colCumprods, colCumsums,\n",
      "    colDiffs, colIQRDiffs, colIQRs, colLogSumExps, colMadDiffs,\n",
      "    colMads, colMaxs, colMeans2, colMedians, colMins, colOrderStats,\n",
      "    colProds, colQuantiles, colRanges, colRanks, colSdDiffs, colSds,\n",
      "    colSums2, colTabulates, colVarDiffs, colVars, colWeightedMads,\n",
      "    colWeightedMeans, colWeightedMedians, colWeightedSds,\n",
      "    colWeightedVars, rowAlls, rowAnyNAs, rowAnys, rowAvgsPerColSet,\n",
      "    rowCollapse, rowCounts, rowCummaxs, rowCummins, rowCumprods,\n",
      "    rowCumsums, rowDiffs, rowIQRDiffs, rowIQRs, rowLogSumExps,\n",
      "    rowMadDiffs, rowMads, rowMaxs, rowMeans2, rowMedians, rowMins,\n",
      "    rowOrderStats, rowProds, rowQuantiles, rowRanges, rowRanks,\n",
      "    rowSdDiffs, rowSds, rowSums2, rowTabulates, rowVarDiffs, rowVars,\n",
      "    rowWeightedMads, rowWeightedMeans, rowWeightedMedians,\n",
      "    rowWeightedSds, rowWeightedVars\n",
      "\n",
      "\n",
      "Loading required package: Biobase\n",
      "\n",
      "Welcome to Bioconductor\n",
      "\n",
      "    Vignettes contain introductory material; view with\n",
      "    'browseVignettes()'. To cite Bioconductor, see\n",
      "    'citation(\"Biobase\")', and for packages 'citation(\"pkgname\")'.\n",
      "\n",
      "\n",
      "\n",
      "Attaching package: ‘Biobase’\n",
      "\n",
      "\n",
      "The following object is masked from ‘package:MatrixGenerics’:\n",
      "\n",
      "    rowMedians\n",
      "\n",
      "\n",
      "The following objects are masked from ‘package:matrixStats’:\n",
      "\n",
      "    anyMissing, rowMedians\n",
      "\n",
      "\n"
     ]
    }
   ],
   "source": [
    "library(tidyverse)\n",
    "library(DESeq2)"
   ]
  },
  {
   "cell_type": "markdown",
   "id": "bc68ec6f",
   "metadata": {},
   "source": [
    "## Import Data"
   ]
  },
  {
   "cell_type": "code",
   "execution_count": 4,
   "id": "01ddf611",
   "metadata": {},
   "outputs": [
    {
     "name": "stderr",
     "output_type": "stream",
     "text": [
      "\u001b[1mRows: \u001b[22m\u001b[34m58174\u001b[39m \u001b[1mColumns: \u001b[22m\u001b[34m9\u001b[39m\n",
      "\u001b[36m──\u001b[39m \u001b[1mColumn specification\u001b[22m \u001b[36m────────────────────────────────────────────────────────────────────────────────────────────────────────────────────────────\u001b[39m\n",
      "\u001b[1mDelimiter:\u001b[22m \"\\t\"\n",
      "\u001b[31mchr\u001b[39m (1): NAME\n",
      "\u001b[32mdbl\u001b[39m (8): Sample_1, Sample_2, Sample_3, Sample_4, Sample_5, Sample_6, Sample_...\n",
      "\n",
      "\u001b[36mℹ\u001b[39m Use `spec()` to retrieve the full column specification for this data.\n",
      "\u001b[36mℹ\u001b[39m Specify the column types or set `show_col_types = FALSE` to quiet this message.\n"
     ]
    },
    {
     "data": {
      "text/html": [
       "<table class=\"dataframe\">\n",
       "<caption>A data.frame: 6 × 9</caption>\n",
       "<thead>\n",
       "\t<tr><th></th><th scope=col>NAME</th><th scope=col>Sample_1</th><th scope=col>Sample_2</th><th scope=col>Sample_3</th><th scope=col>Sample_4</th><th scope=col>Sample_5</th><th scope=col>Sample_6</th><th scope=col>Sample_7</th><th scope=col>Sample_8</th></tr>\n",
       "\t<tr><th></th><th scope=col>&lt;chr&gt;</th><th scope=col>&lt;int&gt;</th><th scope=col>&lt;int&gt;</th><th scope=col>&lt;int&gt;</th><th scope=col>&lt;int&gt;</th><th scope=col>&lt;int&gt;</th><th scope=col>&lt;int&gt;</th><th scope=col>&lt;int&gt;</th><th scope=col>&lt;int&gt;</th></tr>\n",
       "</thead>\n",
       "<tbody>\n",
       "\t<tr><th scope=row>1</th><td>ENSG00000223972</td><td>  13</td><td>  18</td><td>  3</td><td>  1</td><td>  5</td><td> 11</td><td> 17</td><td> 10</td></tr>\n",
       "\t<tr><th scope=row>2</th><td>ENSG00000227232</td><td>1087</td><td>1002</td><td>182</td><td>531</td><td>200</td><td>114</td><td>319</td><td>172</td></tr>\n",
       "\t<tr><th scope=row>3</th><td>ENSG00000278267</td><td>  23</td><td>  33</td><td>  1</td><td> 12</td><td>  6</td><td>  1</td><td>  4</td><td>  1</td></tr>\n",
       "\t<tr><th scope=row>4</th><td>ENSG00000243485</td><td>   0</td><td>   3</td><td>  0</td><td>  1</td><td>  2</td><td>  2</td><td>  0</td><td>  2</td></tr>\n",
       "\t<tr><th scope=row>5</th><td>ENSG00000284332</td><td>   0</td><td>   0</td><td>  0</td><td>  0</td><td>  0</td><td>  0</td><td>  0</td><td>  0</td></tr>\n",
       "\t<tr><th scope=row>6</th><td>ENSG00000237613</td><td>   0</td><td>   0</td><td>  0</td><td>  0</td><td>  0</td><td>  0</td><td>  2</td><td>  0</td></tr>\n",
       "</tbody>\n",
       "</table>\n"
      ],
      "text/latex": [
       "A data.frame: 6 × 9\n",
       "\\begin{tabular}{r|lllllllll}\n",
       "  & NAME & Sample\\_1 & Sample\\_2 & Sample\\_3 & Sample\\_4 & Sample\\_5 & Sample\\_6 & Sample\\_7 & Sample\\_8\\\\\n",
       "  & <chr> & <int> & <int> & <int> & <int> & <int> & <int> & <int> & <int>\\\\\n",
       "\\hline\n",
       "\t1 & ENSG00000223972 &   13 &   18 &   3 &   1 &   5 &  11 &  17 &  10\\\\\n",
       "\t2 & ENSG00000227232 & 1087 & 1002 & 182 & 531 & 200 & 114 & 319 & 172\\\\\n",
       "\t3 & ENSG00000278267 &   23 &   33 &   1 &  12 &   6 &   1 &   4 &   1\\\\\n",
       "\t4 & ENSG00000243485 &    0 &    3 &   0 &   1 &   2 &   2 &   0 &   2\\\\\n",
       "\t5 & ENSG00000284332 &    0 &    0 &   0 &   0 &   0 &   0 &   0 &   0\\\\\n",
       "\t6 & ENSG00000237613 &    0 &    0 &   0 &   0 &   0 &   0 &   2 &   0\\\\\n",
       "\\end{tabular}\n"
      ],
      "text/markdown": [
       "\n",
       "A data.frame: 6 × 9\n",
       "\n",
       "| <!--/--> | NAME &lt;chr&gt; | Sample_1 &lt;int&gt; | Sample_2 &lt;int&gt; | Sample_3 &lt;int&gt; | Sample_4 &lt;int&gt; | Sample_5 &lt;int&gt; | Sample_6 &lt;int&gt; | Sample_7 &lt;int&gt; | Sample_8 &lt;int&gt; |\n",
       "|---|---|---|---|---|---|---|---|---|---|\n",
       "| 1 | ENSG00000223972 |   13 |   18 |   3 |   1 |   5 |  11 |  17 |  10 |\n",
       "| 2 | ENSG00000227232 | 1087 | 1002 | 182 | 531 | 200 | 114 | 319 | 172 |\n",
       "| 3 | ENSG00000278267 |   23 |   33 |   1 |  12 |   6 |   1 |   4 |   1 |\n",
       "| 4 | ENSG00000243485 |    0 |    3 |   0 |   1 |   2 |   2 |   0 |   2 |\n",
       "| 5 | ENSG00000284332 |    0 |    0 |   0 |   0 |   0 |   0 |   0 |   0 |\n",
       "| 6 | ENSG00000237613 |    0 |    0 |   0 |   0 |   0 |   0 |   2 |   0 |\n",
       "\n"
      ],
      "text/plain": [
       "  NAME            Sample_1 Sample_2 Sample_3 Sample_4 Sample_5 Sample_6\n",
       "1 ENSG00000223972   13       18       3        1        5       11     \n",
       "2 ENSG00000227232 1087     1002     182      531      200      114     \n",
       "3 ENSG00000278267   23       33       1       12        6        1     \n",
       "4 ENSG00000243485    0        3       0        1        2        2     \n",
       "5 ENSG00000284332    0        0       0        0        0        0     \n",
       "6 ENSG00000237613    0        0       0        0        0        0     \n",
       "  Sample_7 Sample_8\n",
       "1  17       10     \n",
       "2 319      172     \n",
       "3   4        1     \n",
       "4   0        2     \n",
       "5   0        0     \n",
       "6   2        0     "
      ]
     },
     "metadata": {},
     "output_type": "display_data"
    }
   ],
   "source": [
    "# count matrix\n",
    "count_clean <- read_tsv('../../result/deseq2//count_clean.tsv') |> \n",
    "    as.data.frame() |>\n",
    "    mutate(across(where(is.double), as.integer))\n",
    "head(count_clean)"
   ]
  },
  {
   "cell_type": "code",
   "execution_count": 5,
   "id": "6bfa5d10",
   "metadata": {},
   "outputs": [
    {
     "name": "stderr",
     "output_type": "stream",
     "text": [
      "\u001b[1mRows: \u001b[22m\u001b[34m8\u001b[39m \u001b[1mColumns: \u001b[22m\u001b[34m2\u001b[39m\n",
      "\u001b[36m──\u001b[39m \u001b[1mColumn specification\u001b[22m \u001b[36m────────────────────────────────────────────────────────────────────────────────────────────────────────────────────────────\u001b[39m\n",
      "\u001b[1mDelimiter:\u001b[22m \",\"\n",
      "\u001b[31mchr\u001b[39m (2): sample, status\n",
      "\n",
      "\u001b[36mℹ\u001b[39m Use `spec()` to retrieve the full column specification for this data.\n",
      "\u001b[36mℹ\u001b[39m Specify the column types or set `show_col_types = FALSE` to quiet this message.\n"
     ]
    },
    {
     "data": {
      "text/html": [
       "<table class=\"dataframe\">\n",
       "<caption>A spec_tbl_df: 8 × 2</caption>\n",
       "<thead>\n",
       "\t<tr><th scope=col>sample</th><th scope=col>status</th></tr>\n",
       "\t<tr><th scope=col>&lt;chr&gt;</th><th scope=col>&lt;fct&gt;</th></tr>\n",
       "</thead>\n",
       "<tbody>\n",
       "\t<tr><td>Sample_1</td><td>IS</td></tr>\n",
       "\t<tr><td>Sample_2</td><td>IS</td></tr>\n",
       "\t<tr><td>Sample_3</td><td>IS</td></tr>\n",
       "\t<tr><td>Sample_4</td><td>IS</td></tr>\n",
       "\t<tr><td>Sample_5</td><td>C </td></tr>\n",
       "\t<tr><td>Sample_6</td><td>C </td></tr>\n",
       "\t<tr><td>Sample_7</td><td>C </td></tr>\n",
       "\t<tr><td>Sample_8</td><td>C </td></tr>\n",
       "</tbody>\n",
       "</table>\n"
      ],
      "text/latex": [
       "A spec\\_tbl\\_df: 8 × 2\n",
       "\\begin{tabular}{ll}\n",
       " sample & status\\\\\n",
       " <chr> & <fct>\\\\\n",
       "\\hline\n",
       "\t Sample\\_1 & IS\\\\\n",
       "\t Sample\\_2 & IS\\\\\n",
       "\t Sample\\_3 & IS\\\\\n",
       "\t Sample\\_4 & IS\\\\\n",
       "\t Sample\\_5 & C \\\\\n",
       "\t Sample\\_6 & C \\\\\n",
       "\t Sample\\_7 & C \\\\\n",
       "\t Sample\\_8 & C \\\\\n",
       "\\end{tabular}\n"
      ],
      "text/markdown": [
       "\n",
       "A spec_tbl_df: 8 × 2\n",
       "\n",
       "| sample &lt;chr&gt; | status &lt;fct&gt; |\n",
       "|---|---|\n",
       "| Sample_1 | IS |\n",
       "| Sample_2 | IS |\n",
       "| Sample_3 | IS |\n",
       "| Sample_4 | IS |\n",
       "| Sample_5 | C  |\n",
       "| Sample_6 | C  |\n",
       "| Sample_7 | C  |\n",
       "| Sample_8 | C  |\n",
       "\n"
      ],
      "text/plain": [
       "  sample   status\n",
       "1 Sample_1 IS    \n",
       "2 Sample_2 IS    \n",
       "3 Sample_3 IS    \n",
       "4 Sample_4 IS    \n",
       "5 Sample_5 C     \n",
       "6 Sample_6 C     \n",
       "7 Sample_7 C     \n",
       "8 Sample_8 C     "
      ]
     },
     "metadata": {},
     "output_type": "display_data"
    }
   ],
   "source": [
    "# meta data\n",
    "meta_data <- read_csv('../../result/deseq2/meta_data.csv')\n",
    "meta_data$status <- as.factor(meta_data$status)\n",
    "meta_data"
   ]
  },
  {
   "cell_type": "markdown",
   "id": "7494e03b",
   "metadata": {},
   "source": [
    "## DESeq2"
   ]
  },
  {
   "cell_type": "code",
   "execution_count": 6,
   "id": "9dcebaf8",
   "metadata": {},
   "outputs": [],
   "source": [
    "dds <- DESeqDataSetFromMatrix(countData = count_clean, \n",
    "                              colData = meta_data, \n",
    "                              design = ~status, \n",
    "                              tidy = TRUE)"
   ]
  },
  {
   "cell_type": "code",
   "execution_count": 7,
   "id": "a3ae26a5",
   "metadata": {},
   "outputs": [
    {
     "name": "stderr",
     "output_type": "stream",
     "text": [
      "estimating size factors\n",
      "\n",
      "estimating dispersions\n",
      "\n",
      "gene-wise dispersion estimates\n",
      "\n",
      "mean-dispersion relationship\n",
      "\n",
      "final dispersion estimates\n",
      "\n",
      "fitting model and testing\n",
      "\n"
     ]
    }
   ],
   "source": [
    "dds <- DESeq(dds)"
   ]
  },
  {
   "cell_type": "code",
   "execution_count": 8,
   "id": "bd35aa88",
   "metadata": {},
   "outputs": [],
   "source": [
    "res <- results(dds)"
   ]
  },
  {
   "cell_type": "code",
   "execution_count": 9,
   "id": "9c5f6cc0",
   "metadata": {
    "scrolled": false
   },
   "outputs": [
    {
     "data": {
      "text/html": [
       "<table class=\"dataframe\">\n",
       "<caption>A data.frame: 8300 × 7</caption>\n",
       "<thead>\n",
       "\t<tr><th scope=col>gene</th><th scope=col>baseMean</th><th scope=col>log2FoldChange</th><th scope=col>lfcSE</th><th scope=col>stat</th><th scope=col>pvalue</th><th scope=col>padj</th></tr>\n",
       "\t<tr><th scope=col>&lt;chr&gt;</th><th scope=col>&lt;dbl&gt;</th><th scope=col>&lt;dbl&gt;</th><th scope=col>&lt;dbl&gt;</th><th scope=col>&lt;dbl&gt;</th><th scope=col>&lt;dbl&gt;</th><th scope=col>&lt;dbl&gt;</th></tr>\n",
       "</thead>\n",
       "<tbody>\n",
       "\t<tr><td>ENSG00000227232</td><td> 420.856227</td><td> 1.877341</td><td>0.4063936</td><td> 4.619515</td><td>3.846377e-06</td><td>3.423083e-05</td></tr>\n",
       "\t<tr><td>ENSG00000278267</td><td>   8.613466</td><td> 2.615336</td><td>0.8545570</td><td> 3.060458</td><td>2.209988e-03</td><td>7.991285e-03</td></tr>\n",
       "\t<tr><td>ENSG00000268903</td><td>  18.716412</td><td> 5.774899</td><td>0.9753198</td><td> 5.921032</td><td>3.199285e-09</td><td>6.290752e-08</td></tr>\n",
       "\t<tr><td>ENSG00000269981</td><td>  12.547480</td><td> 5.752313</td><td>1.2084716</td><td> 4.759990</td><td>1.936023e-06</td><td>1.891486e-05</td></tr>\n",
       "\t<tr><td>ENSG00000239906</td><td>   3.579557</td><td> 3.791956</td><td>1.4671741</td><td> 2.584531</td><td>9.751165e-03</td><td>2.777531e-02</td></tr>\n",
       "\t<tr><td>ENSG00000279457</td><td> 551.484304</td><td> 2.532600</td><td>0.3827524</td><td> 6.616811</td><td>3.670306e-11</td><td>1.079563e-09</td></tr>\n",
       "\t<tr><td>ENSG00000250575</td><td>  53.860707</td><td> 5.050183</td><td>0.6465986</td><td> 7.810384</td><td>5.701423e-15</td><td>3.577285e-13</td></tr>\n",
       "\t<tr><td>ENSG00000225972</td><td>5794.202467</td><td> 2.717834</td><td>0.5158510</td><td> 5.268641</td><td>1.374375e-07</td><td>1.858197e-06</td></tr>\n",
       "\t<tr><td>ENSG00000229344</td><td>1565.304483</td><td> 2.235852</td><td>0.6209036</td><td> 3.600965</td><td>3.170388e-04</td><td>1.543895e-03</td></tr>\n",
       "\t<tr><td>ENSG00000230092</td><td>  18.129602</td><td>-2.704409</td><td>0.6059129</td><td>-4.463362</td><td>8.068343e-06</td><td>6.512045e-05</td></tr>\n",
       "\t<tr><td>ENSG00000225880</td><td>  20.472268</td><td> 1.258665</td><td>0.4842828</td><td> 2.599029</td><td>9.348794e-03</td><td>2.684098e-02</td></tr>\n",
       "\t<tr><td>ENSG00000188976</td><td>1669.458194</td><td> 2.215552</td><td>0.4661518</td><td> 4.752854</td><td>2.005650e-06</td><td>1.944297e-05</td></tr>\n",
       "\t<tr><td>ENSG00000187961</td><td> 122.344404</td><td> 4.472072</td><td>0.6209385</td><td> 7.202117</td><td>5.928457e-13</td><td>2.500767e-11</td></tr>\n",
       "\t<tr><td>ENSG00000187583</td><td>  20.898840</td><td> 3.961467</td><td>0.7004398</td><td> 5.655685</td><td>1.552255e-08</td><td>2.631562e-07</td></tr>\n",
       "\t<tr><td>ENSG00000187642</td><td>   4.799924</td><td> 5.178611</td><td>1.3523668</td><td> 3.829294</td><td>1.285112e-04</td><td>7.152178e-04</td></tr>\n",
       "\t<tr><td>ENSG00000188290</td><td>  44.552088</td><td> 5.900809</td><td>0.9147513</td><td> 6.450725</td><td>1.113166e-10</td><td>2.963536e-09</td></tr>\n",
       "\t<tr><td>ENSG00000187608</td><td> 159.276378</td><td> 4.757089</td><td>0.7536132</td><td> 6.312374</td><td>2.747866e-10</td><td>6.688082e-09</td></tr>\n",
       "\t<tr><td>ENSG00000188157</td><td>2087.439527</td><td> 3.499346</td><td>0.4626582</td><td> 7.563567</td><td>3.921648e-14</td><td>2.079223e-12</td></tr>\n",
       "\t<tr><td>ENSG00000217801</td><td>  15.564120</td><td> 3.414835</td><td>0.9482732</td><td> 3.601109</td><td>3.168626e-04</td><td>1.543401e-03</td></tr>\n",
       "\t<tr><td>ENSG00000131591</td><td> 131.759397</td><td> 3.640088</td><td>0.4177733</td><td> 8.713071</td><td>2.957518e-18</td><td>3.579602e-16</td></tr>\n",
       "\t<tr><td>ENSG00000186827</td><td>   4.245152</td><td> 3.038250</td><td>1.2194445</td><td> 2.491503</td><td>1.272038e-02</td><td>3.462161e-02</td></tr>\n",
       "\t<tr><td>ENSG00000078808</td><td>3620.721822</td><td> 3.373225</td><td>0.4949208</td><td> 6.815686</td><td>9.381516e-12</td><td>3.127840e-10</td></tr>\n",
       "\t<tr><td>ENSG00000176022</td><td> 444.546784</td><td> 1.496889</td><td>0.3764022</td><td> 3.976834</td><td>6.983895e-05</td><td>4.239227e-04</td></tr>\n",
       "\t<tr><td>ENSG00000184163</td><td>   2.893892</td><td> 5.195532</td><td>1.6950624</td><td> 3.065098</td><td>2.175989e-03</td><td>7.894637e-03</td></tr>\n",
       "\t<tr><td>ENSG00000160087</td><td> 962.164783</td><td> 1.500618</td><td>0.3438446</td><td> 4.364234</td><td>1.275690e-05</td><td>9.688727e-05</td></tr>\n",
       "\t<tr><td>ENSG00000162572</td><td>  29.098453</td><td> 3.384583</td><td>0.5600258</td><td> 6.043621</td><td>1.506935e-09</td><td>3.180996e-08</td></tr>\n",
       "\t<tr><td>ENSG00000131584</td><td> 259.077541</td><td> 3.363116</td><td>0.5119039</td><td> 6.569819</td><td>5.037638e-11</td><td>1.437713e-09</td></tr>\n",
       "\t<tr><td>ENSG00000169972</td><td> 129.551677</td><td> 4.995285</td><td>0.5053625</td><td> 9.884559</td><td>4.857169e-23</td><td>1.426979e-20</td></tr>\n",
       "\t<tr><td>ENSG00000127054</td><td>1455.046421</td><td> 2.190835</td><td>0.3287388</td><td> 6.664365</td><td>2.658129e-11</td><td>8.055679e-10</td></tr>\n",
       "\t<tr><td>ENSG00000224051</td><td> 360.864448</td><td> 2.834700</td><td>0.3671056</td><td> 7.721757</td><td>1.147372e-14</td><td>6.725860e-13</td></tr>\n",
       "\t<tr><td>⋮</td><td>⋮</td><td>⋮</td><td>⋮</td><td>⋮</td><td>⋮</td><td>⋮</td></tr>\n",
       "\t<tr><td>ENSG00000224747</td><td>     3.46859</td><td>-3.110887</td><td>1.1444715</td><td> -2.718187</td><td>6.564079e-03</td><td>1.991957e-02</td></tr>\n",
       "\t<tr><td>ENSG00000183250</td><td>    29.47465</td><td> 1.718245</td><td>0.5200451</td><td>  3.304031</td><td>9.530536e-04</td><td>3.935128e-03</td></tr>\n",
       "\t<tr><td>ENSG00000160256</td><td>   368.12782</td><td> 3.054209</td><td>0.5849579</td><td>  5.221246</td><td>1.777234e-07</td><td>2.338308e-06</td></tr>\n",
       "\t<tr><td>ENSG00000276529</td><td>    19.20132</td><td> 3.288911</td><td>0.6519181</td><td>  5.044975</td><td>4.535797e-07</td><td>5.360527e-06</td></tr>\n",
       "\t<tr><td>ENSG00000235374</td><td>    31.83771</td><td> 1.672657</td><td>0.4508163</td><td>  3.710284</td><td>2.070270e-04</td><td>1.070194e-03</td></tr>\n",
       "\t<tr><td>ENSG00000215447</td><td>   375.29885</td><td>-1.597961</td><td>0.3675194</td><td> -4.347964</td><td>1.374073e-05</td><td>1.034470e-04</td></tr>\n",
       "\t<tr><td>ENSG00000273796</td><td>    19.50656</td><td> 2.678288</td><td>0.7439840</td><td>  3.599926</td><td>3.183073e-04</td><td>1.549166e-03</td></tr>\n",
       "\t<tr><td>ENSG00000182871</td><td>  4949.70701</td><td> 3.963749</td><td>0.5313740</td><td>  7.459434</td><td>8.689500e-14</td><td>4.314000e-12</td></tr>\n",
       "\t<tr><td>ENSG00000173638</td><td>   463.07423</td><td> 2.592352</td><td>0.4721359</td><td>  5.490690</td><td>4.003663e-08</td><td>6.179201e-07</td></tr>\n",
       "\t<tr><td>ENSG00000142156</td><td>  1229.80650</td><td> 1.566137</td><td>0.6566986</td><td>  2.384865</td><td>1.708541e-02</td><td>4.427279e-02</td></tr>\n",
       "\t<tr><td>ENSG00000142173</td><td>   187.62531</td><td>-2.592745</td><td>0.8237193</td><td> -3.147608</td><td>1.646124e-03</td><td>6.261541e-03</td></tr>\n",
       "\t<tr><td>ENSG00000160285</td><td>  2393.22180</td><td> 2.454924</td><td>0.4540860</td><td>  5.406298</td><td>6.434060e-08</td><td>9.451256e-07</td></tr>\n",
       "\t<tr><td>ENSG00000160298</td><td>   163.82180</td><td> 3.005793</td><td>0.4503778</td><td>  6.673938</td><td>2.490294e-11</td><td>7.583856e-10</td></tr>\n",
       "\t<tr><td>ENSG00000230982</td><td>    45.69507</td><td>-1.347455</td><td>0.3902285</td><td> -3.452990</td><td>5.544094e-04</td><td>2.485585e-03</td></tr>\n",
       "\t<tr><td>ENSG00000212932</td><td>    77.05785</td><td> 1.457637</td><td>0.4337291</td><td>  3.360708</td><td>7.774307e-04</td><td>3.314100e-03</td></tr>\n",
       "\t<tr><td>ENSG00000211459</td><td>170110.39591</td><td>-4.205954</td><td>0.3739236</td><td>-11.248164</td><td>2.364642e-29</td><td>2.952492e-26</td></tr>\n",
       "\t<tr><td>ENSG00000210077</td><td>    77.69081</td><td>-2.410515</td><td>0.5907026</td><td> -4.080760</td><td>4.488876e-05</td><td>2.895795e-04</td></tr>\n",
       "\t<tr><td>ENSG00000210082</td><td>438110.94831</td><td>-2.245042</td><td>0.3373900</td><td> -6.654145</td><td>2.849522e-11</td><td>8.583628e-10</td></tr>\n",
       "\t<tr><td>ENSG00000209082</td><td>   161.58689</td><td>-1.643943</td><td>0.4025455</td><td> -4.083869</td><td>4.429205e-05</td><td>2.865443e-04</td></tr>\n",
       "\t<tr><td>ENSG00000210100</td><td>    58.66870</td><td>-2.980580</td><td>0.6465707</td><td> -4.609829</td><td>4.030007e-06</td><td>3.567435e-05</td></tr>\n",
       "\t<tr><td>ENSG00000210117</td><td>    76.13965</td><td>-2.885473</td><td>0.6597042</td><td> -4.373888</td><td>1.220528e-05</td><td>9.329361e-05</td></tr>\n",
       "\t<tr><td>ENSG00000210144</td><td>  1593.65367</td><td>-2.086375</td><td>0.3944385</td><td> -5.289480</td><td>1.226648e-07</td><td>1.681221e-06</td></tr>\n",
       "\t<tr><td>ENSG00000210154</td><td>    11.41673</td><td>-3.165036</td><td>1.0329754</td><td> -3.064000</td><td>2.183992e-03</td><td>7.919072e-03</td></tr>\n",
       "\t<tr><td>ENSG00000210156</td><td>    96.39139</td><td>-2.462599</td><td>0.5393741</td><td> -4.565660</td><td>4.979256e-06</td><td>4.299516e-05</td></tr>\n",
       "\t<tr><td>ENSG00000228253</td><td> 40187.88859</td><td>-1.481266</td><td>0.4260559</td><td> -3.476694</td><td>5.076361e-04</td><td>2.303596e-03</td></tr>\n",
       "\t<tr><td>ENSG00000210174</td><td>    81.48200</td><td>-1.622822</td><td>0.4006099</td><td> -4.050879</td><td>5.102561e-05</td><td>3.235682e-04</td></tr>\n",
       "\t<tr><td>ENSG00000210184</td><td>   193.41313</td><td>-1.553171</td><td>0.3764621</td><td> -4.125703</td><td>3.696039e-05</td><td>2.443672e-04</td></tr>\n",
       "\t<tr><td>ENSG00000198786</td><td>177695.67675</td><td>-1.039940</td><td>0.3344718</td><td> -3.109202</td><td>1.875935e-03</td><td>6.950421e-03</td></tr>\n",
       "\t<tr><td>ENSG00000210194</td><td>   167.46773</td><td>-2.019113</td><td>0.4969716</td><td> -4.062833</td><td>4.848078e-05</td><td>3.098700e-04</td></tr>\n",
       "\t<tr><td>ENSG00000210196</td><td>  4187.87044</td><td>-2.050223</td><td>0.4617745</td><td> -4.439878</td><td>9.000977e-06</td><td>7.178933e-05</td></tr>\n",
       "</tbody>\n",
       "</table>\n"
      ],
      "text/latex": [
       "A data.frame: 8300 × 7\n",
       "\\begin{tabular}{lllllll}\n",
       " gene & baseMean & log2FoldChange & lfcSE & stat & pvalue & padj\\\\\n",
       " <chr> & <dbl> & <dbl> & <dbl> & <dbl> & <dbl> & <dbl>\\\\\n",
       "\\hline\n",
       "\t ENSG00000227232 &  420.856227 &  1.877341 & 0.4063936 &  4.619515 & 3.846377e-06 & 3.423083e-05\\\\\n",
       "\t ENSG00000278267 &    8.613466 &  2.615336 & 0.8545570 &  3.060458 & 2.209988e-03 & 7.991285e-03\\\\\n",
       "\t ENSG00000268903 &   18.716412 &  5.774899 & 0.9753198 &  5.921032 & 3.199285e-09 & 6.290752e-08\\\\\n",
       "\t ENSG00000269981 &   12.547480 &  5.752313 & 1.2084716 &  4.759990 & 1.936023e-06 & 1.891486e-05\\\\\n",
       "\t ENSG00000239906 &    3.579557 &  3.791956 & 1.4671741 &  2.584531 & 9.751165e-03 & 2.777531e-02\\\\\n",
       "\t ENSG00000279457 &  551.484304 &  2.532600 & 0.3827524 &  6.616811 & 3.670306e-11 & 1.079563e-09\\\\\n",
       "\t ENSG00000250575 &   53.860707 &  5.050183 & 0.6465986 &  7.810384 & 5.701423e-15 & 3.577285e-13\\\\\n",
       "\t ENSG00000225972 & 5794.202467 &  2.717834 & 0.5158510 &  5.268641 & 1.374375e-07 & 1.858197e-06\\\\\n",
       "\t ENSG00000229344 & 1565.304483 &  2.235852 & 0.6209036 &  3.600965 & 3.170388e-04 & 1.543895e-03\\\\\n",
       "\t ENSG00000230092 &   18.129602 & -2.704409 & 0.6059129 & -4.463362 & 8.068343e-06 & 6.512045e-05\\\\\n",
       "\t ENSG00000225880 &   20.472268 &  1.258665 & 0.4842828 &  2.599029 & 9.348794e-03 & 2.684098e-02\\\\\n",
       "\t ENSG00000188976 & 1669.458194 &  2.215552 & 0.4661518 &  4.752854 & 2.005650e-06 & 1.944297e-05\\\\\n",
       "\t ENSG00000187961 &  122.344404 &  4.472072 & 0.6209385 &  7.202117 & 5.928457e-13 & 2.500767e-11\\\\\n",
       "\t ENSG00000187583 &   20.898840 &  3.961467 & 0.7004398 &  5.655685 & 1.552255e-08 & 2.631562e-07\\\\\n",
       "\t ENSG00000187642 &    4.799924 &  5.178611 & 1.3523668 &  3.829294 & 1.285112e-04 & 7.152178e-04\\\\\n",
       "\t ENSG00000188290 &   44.552088 &  5.900809 & 0.9147513 &  6.450725 & 1.113166e-10 & 2.963536e-09\\\\\n",
       "\t ENSG00000187608 &  159.276378 &  4.757089 & 0.7536132 &  6.312374 & 2.747866e-10 & 6.688082e-09\\\\\n",
       "\t ENSG00000188157 & 2087.439527 &  3.499346 & 0.4626582 &  7.563567 & 3.921648e-14 & 2.079223e-12\\\\\n",
       "\t ENSG00000217801 &   15.564120 &  3.414835 & 0.9482732 &  3.601109 & 3.168626e-04 & 1.543401e-03\\\\\n",
       "\t ENSG00000131591 &  131.759397 &  3.640088 & 0.4177733 &  8.713071 & 2.957518e-18 & 3.579602e-16\\\\\n",
       "\t ENSG00000186827 &    4.245152 &  3.038250 & 1.2194445 &  2.491503 & 1.272038e-02 & 3.462161e-02\\\\\n",
       "\t ENSG00000078808 & 3620.721822 &  3.373225 & 0.4949208 &  6.815686 & 9.381516e-12 & 3.127840e-10\\\\\n",
       "\t ENSG00000176022 &  444.546784 &  1.496889 & 0.3764022 &  3.976834 & 6.983895e-05 & 4.239227e-04\\\\\n",
       "\t ENSG00000184163 &    2.893892 &  5.195532 & 1.6950624 &  3.065098 & 2.175989e-03 & 7.894637e-03\\\\\n",
       "\t ENSG00000160087 &  962.164783 &  1.500618 & 0.3438446 &  4.364234 & 1.275690e-05 & 9.688727e-05\\\\\n",
       "\t ENSG00000162572 &   29.098453 &  3.384583 & 0.5600258 &  6.043621 & 1.506935e-09 & 3.180996e-08\\\\\n",
       "\t ENSG00000131584 &  259.077541 &  3.363116 & 0.5119039 &  6.569819 & 5.037638e-11 & 1.437713e-09\\\\\n",
       "\t ENSG00000169972 &  129.551677 &  4.995285 & 0.5053625 &  9.884559 & 4.857169e-23 & 1.426979e-20\\\\\n",
       "\t ENSG00000127054 & 1455.046421 &  2.190835 & 0.3287388 &  6.664365 & 2.658129e-11 & 8.055679e-10\\\\\n",
       "\t ENSG00000224051 &  360.864448 &  2.834700 & 0.3671056 &  7.721757 & 1.147372e-14 & 6.725860e-13\\\\\n",
       "\t ⋮ & ⋮ & ⋮ & ⋮ & ⋮ & ⋮ & ⋮\\\\\n",
       "\t ENSG00000224747 &      3.46859 & -3.110887 & 1.1444715 &  -2.718187 & 6.564079e-03 & 1.991957e-02\\\\\n",
       "\t ENSG00000183250 &     29.47465 &  1.718245 & 0.5200451 &   3.304031 & 9.530536e-04 & 3.935128e-03\\\\\n",
       "\t ENSG00000160256 &    368.12782 &  3.054209 & 0.5849579 &   5.221246 & 1.777234e-07 & 2.338308e-06\\\\\n",
       "\t ENSG00000276529 &     19.20132 &  3.288911 & 0.6519181 &   5.044975 & 4.535797e-07 & 5.360527e-06\\\\\n",
       "\t ENSG00000235374 &     31.83771 &  1.672657 & 0.4508163 &   3.710284 & 2.070270e-04 & 1.070194e-03\\\\\n",
       "\t ENSG00000215447 &    375.29885 & -1.597961 & 0.3675194 &  -4.347964 & 1.374073e-05 & 1.034470e-04\\\\\n",
       "\t ENSG00000273796 &     19.50656 &  2.678288 & 0.7439840 &   3.599926 & 3.183073e-04 & 1.549166e-03\\\\\n",
       "\t ENSG00000182871 &   4949.70701 &  3.963749 & 0.5313740 &   7.459434 & 8.689500e-14 & 4.314000e-12\\\\\n",
       "\t ENSG00000173638 &    463.07423 &  2.592352 & 0.4721359 &   5.490690 & 4.003663e-08 & 6.179201e-07\\\\\n",
       "\t ENSG00000142156 &   1229.80650 &  1.566137 & 0.6566986 &   2.384865 & 1.708541e-02 & 4.427279e-02\\\\\n",
       "\t ENSG00000142173 &    187.62531 & -2.592745 & 0.8237193 &  -3.147608 & 1.646124e-03 & 6.261541e-03\\\\\n",
       "\t ENSG00000160285 &   2393.22180 &  2.454924 & 0.4540860 &   5.406298 & 6.434060e-08 & 9.451256e-07\\\\\n",
       "\t ENSG00000160298 &    163.82180 &  3.005793 & 0.4503778 &   6.673938 & 2.490294e-11 & 7.583856e-10\\\\\n",
       "\t ENSG00000230982 &     45.69507 & -1.347455 & 0.3902285 &  -3.452990 & 5.544094e-04 & 2.485585e-03\\\\\n",
       "\t ENSG00000212932 &     77.05785 &  1.457637 & 0.4337291 &   3.360708 & 7.774307e-04 & 3.314100e-03\\\\\n",
       "\t ENSG00000211459 & 170110.39591 & -4.205954 & 0.3739236 & -11.248164 & 2.364642e-29 & 2.952492e-26\\\\\n",
       "\t ENSG00000210077 &     77.69081 & -2.410515 & 0.5907026 &  -4.080760 & 4.488876e-05 & 2.895795e-04\\\\\n",
       "\t ENSG00000210082 & 438110.94831 & -2.245042 & 0.3373900 &  -6.654145 & 2.849522e-11 & 8.583628e-10\\\\\n",
       "\t ENSG00000209082 &    161.58689 & -1.643943 & 0.4025455 &  -4.083869 & 4.429205e-05 & 2.865443e-04\\\\\n",
       "\t ENSG00000210100 &     58.66870 & -2.980580 & 0.6465707 &  -4.609829 & 4.030007e-06 & 3.567435e-05\\\\\n",
       "\t ENSG00000210117 &     76.13965 & -2.885473 & 0.6597042 &  -4.373888 & 1.220528e-05 & 9.329361e-05\\\\\n",
       "\t ENSG00000210144 &   1593.65367 & -2.086375 & 0.3944385 &  -5.289480 & 1.226648e-07 & 1.681221e-06\\\\\n",
       "\t ENSG00000210154 &     11.41673 & -3.165036 & 1.0329754 &  -3.064000 & 2.183992e-03 & 7.919072e-03\\\\\n",
       "\t ENSG00000210156 &     96.39139 & -2.462599 & 0.5393741 &  -4.565660 & 4.979256e-06 & 4.299516e-05\\\\\n",
       "\t ENSG00000228253 &  40187.88859 & -1.481266 & 0.4260559 &  -3.476694 & 5.076361e-04 & 2.303596e-03\\\\\n",
       "\t ENSG00000210174 &     81.48200 & -1.622822 & 0.4006099 &  -4.050879 & 5.102561e-05 & 3.235682e-04\\\\\n",
       "\t ENSG00000210184 &    193.41313 & -1.553171 & 0.3764621 &  -4.125703 & 3.696039e-05 & 2.443672e-04\\\\\n",
       "\t ENSG00000198786 & 177695.67675 & -1.039940 & 0.3344718 &  -3.109202 & 1.875935e-03 & 6.950421e-03\\\\\n",
       "\t ENSG00000210194 &    167.46773 & -2.019113 & 0.4969716 &  -4.062833 & 4.848078e-05 & 3.098700e-04\\\\\n",
       "\t ENSG00000210196 &   4187.87044 & -2.050223 & 0.4617745 &  -4.439878 & 9.000977e-06 & 7.178933e-05\\\\\n",
       "\\end{tabular}\n"
      ],
      "text/markdown": [
       "\n",
       "A data.frame: 8300 × 7\n",
       "\n",
       "| gene &lt;chr&gt; | baseMean &lt;dbl&gt; | log2FoldChange &lt;dbl&gt; | lfcSE &lt;dbl&gt; | stat &lt;dbl&gt; | pvalue &lt;dbl&gt; | padj &lt;dbl&gt; |\n",
       "|---|---|---|---|---|---|---|\n",
       "| ENSG00000227232 |  420.856227 |  1.877341 | 0.4063936 |  4.619515 | 3.846377e-06 | 3.423083e-05 |\n",
       "| ENSG00000278267 |    8.613466 |  2.615336 | 0.8545570 |  3.060458 | 2.209988e-03 | 7.991285e-03 |\n",
       "| ENSG00000268903 |   18.716412 |  5.774899 | 0.9753198 |  5.921032 | 3.199285e-09 | 6.290752e-08 |\n",
       "| ENSG00000269981 |   12.547480 |  5.752313 | 1.2084716 |  4.759990 | 1.936023e-06 | 1.891486e-05 |\n",
       "| ENSG00000239906 |    3.579557 |  3.791956 | 1.4671741 |  2.584531 | 9.751165e-03 | 2.777531e-02 |\n",
       "| ENSG00000279457 |  551.484304 |  2.532600 | 0.3827524 |  6.616811 | 3.670306e-11 | 1.079563e-09 |\n",
       "| ENSG00000250575 |   53.860707 |  5.050183 | 0.6465986 |  7.810384 | 5.701423e-15 | 3.577285e-13 |\n",
       "| ENSG00000225972 | 5794.202467 |  2.717834 | 0.5158510 |  5.268641 | 1.374375e-07 | 1.858197e-06 |\n",
       "| ENSG00000229344 | 1565.304483 |  2.235852 | 0.6209036 |  3.600965 | 3.170388e-04 | 1.543895e-03 |\n",
       "| ENSG00000230092 |   18.129602 | -2.704409 | 0.6059129 | -4.463362 | 8.068343e-06 | 6.512045e-05 |\n",
       "| ENSG00000225880 |   20.472268 |  1.258665 | 0.4842828 |  2.599029 | 9.348794e-03 | 2.684098e-02 |\n",
       "| ENSG00000188976 | 1669.458194 |  2.215552 | 0.4661518 |  4.752854 | 2.005650e-06 | 1.944297e-05 |\n",
       "| ENSG00000187961 |  122.344404 |  4.472072 | 0.6209385 |  7.202117 | 5.928457e-13 | 2.500767e-11 |\n",
       "| ENSG00000187583 |   20.898840 |  3.961467 | 0.7004398 |  5.655685 | 1.552255e-08 | 2.631562e-07 |\n",
       "| ENSG00000187642 |    4.799924 |  5.178611 | 1.3523668 |  3.829294 | 1.285112e-04 | 7.152178e-04 |\n",
       "| ENSG00000188290 |   44.552088 |  5.900809 | 0.9147513 |  6.450725 | 1.113166e-10 | 2.963536e-09 |\n",
       "| ENSG00000187608 |  159.276378 |  4.757089 | 0.7536132 |  6.312374 | 2.747866e-10 | 6.688082e-09 |\n",
       "| ENSG00000188157 | 2087.439527 |  3.499346 | 0.4626582 |  7.563567 | 3.921648e-14 | 2.079223e-12 |\n",
       "| ENSG00000217801 |   15.564120 |  3.414835 | 0.9482732 |  3.601109 | 3.168626e-04 | 1.543401e-03 |\n",
       "| ENSG00000131591 |  131.759397 |  3.640088 | 0.4177733 |  8.713071 | 2.957518e-18 | 3.579602e-16 |\n",
       "| ENSG00000186827 |    4.245152 |  3.038250 | 1.2194445 |  2.491503 | 1.272038e-02 | 3.462161e-02 |\n",
       "| ENSG00000078808 | 3620.721822 |  3.373225 | 0.4949208 |  6.815686 | 9.381516e-12 | 3.127840e-10 |\n",
       "| ENSG00000176022 |  444.546784 |  1.496889 | 0.3764022 |  3.976834 | 6.983895e-05 | 4.239227e-04 |\n",
       "| ENSG00000184163 |    2.893892 |  5.195532 | 1.6950624 |  3.065098 | 2.175989e-03 | 7.894637e-03 |\n",
       "| ENSG00000160087 |  962.164783 |  1.500618 | 0.3438446 |  4.364234 | 1.275690e-05 | 9.688727e-05 |\n",
       "| ENSG00000162572 |   29.098453 |  3.384583 | 0.5600258 |  6.043621 | 1.506935e-09 | 3.180996e-08 |\n",
       "| ENSG00000131584 |  259.077541 |  3.363116 | 0.5119039 |  6.569819 | 5.037638e-11 | 1.437713e-09 |\n",
       "| ENSG00000169972 |  129.551677 |  4.995285 | 0.5053625 |  9.884559 | 4.857169e-23 | 1.426979e-20 |\n",
       "| ENSG00000127054 | 1455.046421 |  2.190835 | 0.3287388 |  6.664365 | 2.658129e-11 | 8.055679e-10 |\n",
       "| ENSG00000224051 |  360.864448 |  2.834700 | 0.3671056 |  7.721757 | 1.147372e-14 | 6.725860e-13 |\n",
       "| ⋮ | ⋮ | ⋮ | ⋮ | ⋮ | ⋮ | ⋮ |\n",
       "| ENSG00000224747 |      3.46859 | -3.110887 | 1.1444715 |  -2.718187 | 6.564079e-03 | 1.991957e-02 |\n",
       "| ENSG00000183250 |     29.47465 |  1.718245 | 0.5200451 |   3.304031 | 9.530536e-04 | 3.935128e-03 |\n",
       "| ENSG00000160256 |    368.12782 |  3.054209 | 0.5849579 |   5.221246 | 1.777234e-07 | 2.338308e-06 |\n",
       "| ENSG00000276529 |     19.20132 |  3.288911 | 0.6519181 |   5.044975 | 4.535797e-07 | 5.360527e-06 |\n",
       "| ENSG00000235374 |     31.83771 |  1.672657 | 0.4508163 |   3.710284 | 2.070270e-04 | 1.070194e-03 |\n",
       "| ENSG00000215447 |    375.29885 | -1.597961 | 0.3675194 |  -4.347964 | 1.374073e-05 | 1.034470e-04 |\n",
       "| ENSG00000273796 |     19.50656 |  2.678288 | 0.7439840 |   3.599926 | 3.183073e-04 | 1.549166e-03 |\n",
       "| ENSG00000182871 |   4949.70701 |  3.963749 | 0.5313740 |   7.459434 | 8.689500e-14 | 4.314000e-12 |\n",
       "| ENSG00000173638 |    463.07423 |  2.592352 | 0.4721359 |   5.490690 | 4.003663e-08 | 6.179201e-07 |\n",
       "| ENSG00000142156 |   1229.80650 |  1.566137 | 0.6566986 |   2.384865 | 1.708541e-02 | 4.427279e-02 |\n",
       "| ENSG00000142173 |    187.62531 | -2.592745 | 0.8237193 |  -3.147608 | 1.646124e-03 | 6.261541e-03 |\n",
       "| ENSG00000160285 |   2393.22180 |  2.454924 | 0.4540860 |   5.406298 | 6.434060e-08 | 9.451256e-07 |\n",
       "| ENSG00000160298 |    163.82180 |  3.005793 | 0.4503778 |   6.673938 | 2.490294e-11 | 7.583856e-10 |\n",
       "| ENSG00000230982 |     45.69507 | -1.347455 | 0.3902285 |  -3.452990 | 5.544094e-04 | 2.485585e-03 |\n",
       "| ENSG00000212932 |     77.05785 |  1.457637 | 0.4337291 |   3.360708 | 7.774307e-04 | 3.314100e-03 |\n",
       "| ENSG00000211459 | 170110.39591 | -4.205954 | 0.3739236 | -11.248164 | 2.364642e-29 | 2.952492e-26 |\n",
       "| ENSG00000210077 |     77.69081 | -2.410515 | 0.5907026 |  -4.080760 | 4.488876e-05 | 2.895795e-04 |\n",
       "| ENSG00000210082 | 438110.94831 | -2.245042 | 0.3373900 |  -6.654145 | 2.849522e-11 | 8.583628e-10 |\n",
       "| ENSG00000209082 |    161.58689 | -1.643943 | 0.4025455 |  -4.083869 | 4.429205e-05 | 2.865443e-04 |\n",
       "| ENSG00000210100 |     58.66870 | -2.980580 | 0.6465707 |  -4.609829 | 4.030007e-06 | 3.567435e-05 |\n",
       "| ENSG00000210117 |     76.13965 | -2.885473 | 0.6597042 |  -4.373888 | 1.220528e-05 | 9.329361e-05 |\n",
       "| ENSG00000210144 |   1593.65367 | -2.086375 | 0.3944385 |  -5.289480 | 1.226648e-07 | 1.681221e-06 |\n",
       "| ENSG00000210154 |     11.41673 | -3.165036 | 1.0329754 |  -3.064000 | 2.183992e-03 | 7.919072e-03 |\n",
       "| ENSG00000210156 |     96.39139 | -2.462599 | 0.5393741 |  -4.565660 | 4.979256e-06 | 4.299516e-05 |\n",
       "| ENSG00000228253 |  40187.88859 | -1.481266 | 0.4260559 |  -3.476694 | 5.076361e-04 | 2.303596e-03 |\n",
       "| ENSG00000210174 |     81.48200 | -1.622822 | 0.4006099 |  -4.050879 | 5.102561e-05 | 3.235682e-04 |\n",
       "| ENSG00000210184 |    193.41313 | -1.553171 | 0.3764621 |  -4.125703 | 3.696039e-05 | 2.443672e-04 |\n",
       "| ENSG00000198786 | 177695.67675 | -1.039940 | 0.3344718 |  -3.109202 | 1.875935e-03 | 6.950421e-03 |\n",
       "| ENSG00000210194 |    167.46773 | -2.019113 | 0.4969716 |  -4.062833 | 4.848078e-05 | 3.098700e-04 |\n",
       "| ENSG00000210196 |   4187.87044 | -2.050223 | 0.4617745 |  -4.439878 | 9.000977e-06 | 7.178933e-05 |\n",
       "\n"
      ],
      "text/plain": [
       "     gene            baseMean     log2FoldChange lfcSE     stat      \n",
       "1    ENSG00000227232  420.856227   1.877341      0.4063936  4.619515 \n",
       "2    ENSG00000278267    8.613466   2.615336      0.8545570  3.060458 \n",
       "3    ENSG00000268903   18.716412   5.774899      0.9753198  5.921032 \n",
       "4    ENSG00000269981   12.547480   5.752313      1.2084716  4.759990 \n",
       "5    ENSG00000239906    3.579557   3.791956      1.4671741  2.584531 \n",
       "6    ENSG00000279457  551.484304   2.532600      0.3827524  6.616811 \n",
       "7    ENSG00000250575   53.860707   5.050183      0.6465986  7.810384 \n",
       "8    ENSG00000225972 5794.202467   2.717834      0.5158510  5.268641 \n",
       "9    ENSG00000229344 1565.304483   2.235852      0.6209036  3.600965 \n",
       "10   ENSG00000230092   18.129602  -2.704409      0.6059129 -4.463362 \n",
       "11   ENSG00000225880   20.472268   1.258665      0.4842828  2.599029 \n",
       "12   ENSG00000188976 1669.458194   2.215552      0.4661518  4.752854 \n",
       "13   ENSG00000187961  122.344404   4.472072      0.6209385  7.202117 \n",
       "14   ENSG00000187583   20.898840   3.961467      0.7004398  5.655685 \n",
       "15   ENSG00000187642    4.799924   5.178611      1.3523668  3.829294 \n",
       "16   ENSG00000188290   44.552088   5.900809      0.9147513  6.450725 \n",
       "17   ENSG00000187608  159.276378   4.757089      0.7536132  6.312374 \n",
       "18   ENSG00000188157 2087.439527   3.499346      0.4626582  7.563567 \n",
       "19   ENSG00000217801   15.564120   3.414835      0.9482732  3.601109 \n",
       "20   ENSG00000131591  131.759397   3.640088      0.4177733  8.713071 \n",
       "21   ENSG00000186827    4.245152   3.038250      1.2194445  2.491503 \n",
       "22   ENSG00000078808 3620.721822   3.373225      0.4949208  6.815686 \n",
       "23   ENSG00000176022  444.546784   1.496889      0.3764022  3.976834 \n",
       "24   ENSG00000184163    2.893892   5.195532      1.6950624  3.065098 \n",
       "25   ENSG00000160087  962.164783   1.500618      0.3438446  4.364234 \n",
       "26   ENSG00000162572   29.098453   3.384583      0.5600258  6.043621 \n",
       "27   ENSG00000131584  259.077541   3.363116      0.5119039  6.569819 \n",
       "28   ENSG00000169972  129.551677   4.995285      0.5053625  9.884559 \n",
       "29   ENSG00000127054 1455.046421   2.190835      0.3287388  6.664365 \n",
       "30   ENSG00000224051  360.864448   2.834700      0.3671056  7.721757 \n",
       "⋮    ⋮               ⋮            ⋮              ⋮         ⋮         \n",
       "8271 ENSG00000224747      3.46859 -3.110887      1.1444715  -2.718187\n",
       "8272 ENSG00000183250     29.47465  1.718245      0.5200451   3.304031\n",
       "8273 ENSG00000160256    368.12782  3.054209      0.5849579   5.221246\n",
       "8274 ENSG00000276529     19.20132  3.288911      0.6519181   5.044975\n",
       "8275 ENSG00000235374     31.83771  1.672657      0.4508163   3.710284\n",
       "8276 ENSG00000215447    375.29885 -1.597961      0.3675194  -4.347964\n",
       "8277 ENSG00000273796     19.50656  2.678288      0.7439840   3.599926\n",
       "8278 ENSG00000182871   4949.70701  3.963749      0.5313740   7.459434\n",
       "8279 ENSG00000173638    463.07423  2.592352      0.4721359   5.490690\n",
       "8280 ENSG00000142156   1229.80650  1.566137      0.6566986   2.384865\n",
       "8281 ENSG00000142173    187.62531 -2.592745      0.8237193  -3.147608\n",
       "8282 ENSG00000160285   2393.22180  2.454924      0.4540860   5.406298\n",
       "8283 ENSG00000160298    163.82180  3.005793      0.4503778   6.673938\n",
       "8284 ENSG00000230982     45.69507 -1.347455      0.3902285  -3.452990\n",
       "8285 ENSG00000212932     77.05785  1.457637      0.4337291   3.360708\n",
       "8286 ENSG00000211459 170110.39591 -4.205954      0.3739236 -11.248164\n",
       "8287 ENSG00000210077     77.69081 -2.410515      0.5907026  -4.080760\n",
       "8288 ENSG00000210082 438110.94831 -2.245042      0.3373900  -6.654145\n",
       "8289 ENSG00000209082    161.58689 -1.643943      0.4025455  -4.083869\n",
       "8290 ENSG00000210100     58.66870 -2.980580      0.6465707  -4.609829\n",
       "8291 ENSG00000210117     76.13965 -2.885473      0.6597042  -4.373888\n",
       "8292 ENSG00000210144   1593.65367 -2.086375      0.3944385  -5.289480\n",
       "8293 ENSG00000210154     11.41673 -3.165036      1.0329754  -3.064000\n",
       "8294 ENSG00000210156     96.39139 -2.462599      0.5393741  -4.565660\n",
       "8295 ENSG00000228253  40187.88859 -1.481266      0.4260559  -3.476694\n",
       "8296 ENSG00000210174     81.48200 -1.622822      0.4006099  -4.050879\n",
       "8297 ENSG00000210184    193.41313 -1.553171      0.3764621  -4.125703\n",
       "8298 ENSG00000198786 177695.67675 -1.039940      0.3344718  -3.109202\n",
       "8299 ENSG00000210194    167.46773 -2.019113      0.4969716  -4.062833\n",
       "8300 ENSG00000210196   4187.87044 -2.050223      0.4617745  -4.439878\n",
       "     pvalue       padj        \n",
       "1    3.846377e-06 3.423083e-05\n",
       "2    2.209988e-03 7.991285e-03\n",
       "3    3.199285e-09 6.290752e-08\n",
       "4    1.936023e-06 1.891486e-05\n",
       "5    9.751165e-03 2.777531e-02\n",
       "6    3.670306e-11 1.079563e-09\n",
       "7    5.701423e-15 3.577285e-13\n",
       "8    1.374375e-07 1.858197e-06\n",
       "9    3.170388e-04 1.543895e-03\n",
       "10   8.068343e-06 6.512045e-05\n",
       "11   9.348794e-03 2.684098e-02\n",
       "12   2.005650e-06 1.944297e-05\n",
       "13   5.928457e-13 2.500767e-11\n",
       "14   1.552255e-08 2.631562e-07\n",
       "15   1.285112e-04 7.152178e-04\n",
       "16   1.113166e-10 2.963536e-09\n",
       "17   2.747866e-10 6.688082e-09\n",
       "18   3.921648e-14 2.079223e-12\n",
       "19   3.168626e-04 1.543401e-03\n",
       "20   2.957518e-18 3.579602e-16\n",
       "21   1.272038e-02 3.462161e-02\n",
       "22   9.381516e-12 3.127840e-10\n",
       "23   6.983895e-05 4.239227e-04\n",
       "24   2.175989e-03 7.894637e-03\n",
       "25   1.275690e-05 9.688727e-05\n",
       "26   1.506935e-09 3.180996e-08\n",
       "27   5.037638e-11 1.437713e-09\n",
       "28   4.857169e-23 1.426979e-20\n",
       "29   2.658129e-11 8.055679e-10\n",
       "30   1.147372e-14 6.725860e-13\n",
       "⋮    ⋮            ⋮           \n",
       "8271 6.564079e-03 1.991957e-02\n",
       "8272 9.530536e-04 3.935128e-03\n",
       "8273 1.777234e-07 2.338308e-06\n",
       "8274 4.535797e-07 5.360527e-06\n",
       "8275 2.070270e-04 1.070194e-03\n",
       "8276 1.374073e-05 1.034470e-04\n",
       "8277 3.183073e-04 1.549166e-03\n",
       "8278 8.689500e-14 4.314000e-12\n",
       "8279 4.003663e-08 6.179201e-07\n",
       "8280 1.708541e-02 4.427279e-02\n",
       "8281 1.646124e-03 6.261541e-03\n",
       "8282 6.434060e-08 9.451256e-07\n",
       "8283 2.490294e-11 7.583856e-10\n",
       "8284 5.544094e-04 2.485585e-03\n",
       "8285 7.774307e-04 3.314100e-03\n",
       "8286 2.364642e-29 2.952492e-26\n",
       "8287 4.488876e-05 2.895795e-04\n",
       "8288 2.849522e-11 8.583628e-10\n",
       "8289 4.429205e-05 2.865443e-04\n",
       "8290 4.030007e-06 3.567435e-05\n",
       "8291 1.220528e-05 9.329361e-05\n",
       "8292 1.226648e-07 1.681221e-06\n",
       "8293 2.183992e-03 7.919072e-03\n",
       "8294 4.979256e-06 4.299516e-05\n",
       "8295 5.076361e-04 2.303596e-03\n",
       "8296 5.102561e-05 3.235682e-04\n",
       "8297 3.696039e-05 2.443672e-04\n",
       "8298 1.875935e-03 6.950421e-03\n",
       "8299 4.848078e-05 3.098700e-04\n",
       "8300 9.000977e-06 7.178933e-05"
      ]
     },
     "metadata": {},
     "output_type": "display_data"
    }
   ],
   "source": [
    "sig_gene <- res |>\n",
    "    as.data.frame() |>\n",
    "    filter(abs(log2FoldChange) > 1 & padj < 0.05) |>\n",
    "    rownames_to_column('gene')\n",
    "sig_gene"
   ]
  },
  {
   "cell_type": "code",
   "execution_count": 10,
   "id": "7598d8e2",
   "metadata": {},
   "outputs": [
    {
     "data": {
      "text/html": [
       "<style>\n",
       ".list-inline {list-style: none; margin:0; padding: 0}\n",
       ".list-inline>li {display: inline-block}\n",
       ".list-inline>li:not(:last-child)::after {content: \"\\00b7\"; padding: 0 .5ex}\n",
       "</style>\n",
       "<ol class=list-inline><li>8300</li><li>7</li></ol>\n"
      ],
      "text/latex": [
       "\\begin{enumerate*}\n",
       "\\item 8300\n",
       "\\item 7\n",
       "\\end{enumerate*}\n"
      ],
      "text/markdown": [
       "1. 8300\n",
       "2. 7\n",
       "\n",
       "\n"
      ],
      "text/plain": [
       "[1] 8300    7"
      ]
     },
     "metadata": {},
     "output_type": "display_data"
    }
   ],
   "source": [
    "dim(sig_gene)"
   ]
  },
  {
   "cell_type": "code",
   "execution_count": 11,
   "id": "506078ab",
   "metadata": {},
   "outputs": [
    {
     "data": {
      "text/html": [
       "0.142675422009833"
      ],
      "text/latex": [
       "0.142675422009833"
      ],
      "text/markdown": [
       "0.142675422009833"
      ],
      "text/plain": [
       "[1] 0.1426754"
      ]
     },
     "metadata": {},
     "output_type": "display_data"
    }
   ],
   "source": [
    "dim(sig_gene)[1] / dim(count_clean)[1]"
   ]
  },
  {
   "cell_type": "markdown",
   "id": "912f3643",
   "metadata": {},
   "source": [
    "14.27% of all genes were differentially expressed between IS and C."
   ]
  },
  {
   "cell_type": "markdown",
   "id": "e59713a3",
   "metadata": {},
   "source": [
    "## Save Data"
   ]
  },
  {
   "cell_type": "code",
   "execution_count": 12,
   "id": "35266a2c",
   "metadata": {},
   "outputs": [],
   "source": [
    "saveRDS(dds, file = \"../../result/deseq2/dds.rds\")\n",
    "write_csv(sig_gene, \"../../result/deseq2/sig_gene.csv\")"
   ]
  },
  {
   "cell_type": "markdown",
   "id": "37a46027",
   "metadata": {},
   "source": [
    "## Conclusion"
   ]
  },
  {
   "cell_type": "markdown",
   "id": "b6d6ca49",
   "metadata": {},
   "source": [
    "In this notebook, we used DESeq2 to perform differential gene expression analysis, identifying genes with adjusted p-values below 0.05 and an absolute log2 fold change greater than 1, indicating a two-fold expression change between IS and Control conditions. These genes were statistically significant."
   ]
  },
  {
   "cell_type": "code",
   "execution_count": 13,
   "id": "0177d087",
   "metadata": {},
   "outputs": [
    {
     "data": {
      "text/plain": [
       "R version 4.3.1 (2023-06-16)\n",
       "Platform: aarch64-apple-darwin20 (64-bit)\n",
       "Running under: macOS 15.1\n",
       "\n",
       "Matrix products: default\n",
       "BLAS:   /Library/Frameworks/R.framework/Versions/4.3-arm64/Resources/lib/libRblas.0.dylib \n",
       "LAPACK: /Library/Frameworks/R.framework/Versions/4.3-arm64/Resources/lib/libRlapack.dylib;  LAPACK version 3.11.0\n",
       "\n",
       "locale:\n",
       "[1] en_US.UTF-8/en_US.UTF-8/en_US.UTF-8/C/en_US.UTF-8/en_US.UTF-8\n",
       "\n",
       "time zone: America/Los_Angeles\n",
       "tzcode source: internal\n",
       "\n",
       "attached base packages:\n",
       "[1] stats4    stats     graphics  grDevices utils     datasets  methods  \n",
       "[8] base     \n",
       "\n",
       "other attached packages:\n",
       " [1] DESeq2_1.42.1               SummarizedExperiment_1.32.0\n",
       " [3] Biobase_2.62.0              MatrixGenerics_1.14.0      \n",
       " [5] matrixStats_1.3.0           GenomicRanges_1.54.1       \n",
       " [7] GenomeInfoDb_1.38.8         IRanges_2.36.0             \n",
       " [9] S4Vectors_0.40.2            BiocGenerics_0.48.1        \n",
       "[11] lubridate_1.9.3             forcats_1.0.0              \n",
       "[13] stringr_1.5.1               dplyr_1.1.4                \n",
       "[15] purrr_1.0.2                 readr_2.1.5                \n",
       "[17] tidyr_1.3.1                 tibble_3.2.1               \n",
       "[19] ggplot2_3.5.0               tidyverse_2.0.0            \n",
       "[21] jsonlite_1.8.8              formatR_1.14               \n",
       "\n",
       "loaded via a namespace (and not attached):\n",
       " [1] gtable_0.3.4            lattice_0.22-6          tzdb_0.4.0             \n",
       " [4] vctrs_0.6.5             tools_4.3.1             bitops_1.0-7           \n",
       " [7] generics_0.1.3          parallel_4.3.1          fansi_1.0.6            \n",
       "[10] pkgconfig_2.0.3         Matrix_1.6-5            uuid_1.2-0             \n",
       "[13] lifecycle_1.0.4         GenomeInfoDbData_1.2.11 compiler_4.3.1         \n",
       "[16] munsell_0.5.1           repr_1.1.7              codetools_0.2-20       \n",
       "[19] htmltools_0.5.8.1       RCurl_1.98-1.14         pillar_1.9.0           \n",
       "[22] crayon_1.5.2            BiocParallel_1.36.0     DelayedArray_0.28.0    \n",
       "[25] abind_1.4-5             locfit_1.5-9.9          tidyselect_1.2.1       \n",
       "[28] digest_0.6.35           stringi_1.8.3           fastmap_1.1.1          \n",
       "[31] grid_4.3.1              colorspace_2.1-0        cli_3.6.2              \n",
       "[34] SparseArray_1.2.4       magrittr_2.0.3          S4Arrays_1.2.1         \n",
       "[37] base64enc_0.1-3         utf8_1.2.4              IRdisplay_1.1          \n",
       "[40] withr_3.0.0             scales_1.3.0            bit64_4.0.5            \n",
       "[43] IRkernel_1.3.2          timechange_0.3.0        XVector_0.42.0         \n",
       "[46] bit_4.0.5               pbdZMQ_0.3-11           hms_1.1.3              \n",
       "[49] evaluate_0.23           rlang_1.1.3             Rcpp_1.0.12            \n",
       "[52] glue_1.7.0              vroom_1.6.5             R6_2.5.1               \n",
       "[55] zlibbioc_1.48.2        "
      ]
     },
     "metadata": {},
     "output_type": "display_data"
    }
   ],
   "source": [
    "sessionInfo()"
   ]
  }
 ],
 "metadata": {
  "kernelspec": {
   "display_name": "R",
   "language": "R",
   "name": "ir"
  },
  "language_info": {
   "codemirror_mode": "r",
   "file_extension": ".r",
   "mimetype": "text/x-r-source",
   "name": "R",
   "pygments_lexer": "r",
   "version": "4.3.1"
  }
 },
 "nbformat": 4,
 "nbformat_minor": 5
}

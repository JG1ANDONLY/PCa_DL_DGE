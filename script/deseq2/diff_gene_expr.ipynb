{
 "cells": [
  {
   "cell_type": "markdown",
   "id": "60c49766",
   "metadata": {},
   "source": [
    "This notebook uses an R kernel."
   ]
  },
  {
   "cell_type": "markdown",
   "id": "c47ca371",
   "metadata": {},
   "source": [
    "# Differential Gene Expression using DESeq2"
   ]
  },
  {
   "cell_type": "markdown",
   "id": "a99d9c5d",
   "metadata": {},
   "source": [
    "Author: Zhongyi (James) Guo <br>\n",
    "Date: 11/14/2024"
   ]
  },
  {
   "cell_type": "markdown",
   "id": "91fa7985",
   "metadata": {},
   "source": [
    "## Import Packages"
   ]
  },
  {
   "cell_type": "code",
   "execution_count": 1,
   "id": "2daec64a",
   "metadata": {
    "execution": {
     "iopub.execute_input": "2024-11-14T21:39:46.382170Z",
     "iopub.status.busy": "2024-11-14T21:39:46.379209Z",
     "iopub.status.idle": "2024-11-14T21:39:46.446734Z",
     "shell.execute_reply": "2024-11-14T21:39:46.444874Z"
    }
   },
   "outputs": [
    {
     "data": {
      "text/html": [
       "'/home/ubuntu/SCA-DL-DGE/script/deseq2'"
      ],
      "text/latex": [
       "'/home/ubuntu/SCA-DL-DGE/script/deseq2'"
      ],
      "text/markdown": [
       "'/home/ubuntu/SCA-DL-DGE/script/deseq2'"
      ],
      "text/plain": [
       "[1] \"/home/ubuntu/SCA-DL-DGE/script/deseq2\""
      ]
     },
     "metadata": {},
     "output_type": "display_data"
    }
   ],
   "source": [
    "getwd()"
   ]
  },
  {
   "cell_type": "code",
   "execution_count": 2,
   "id": "e9ccac0a",
   "metadata": {
    "execution": {
     "iopub.execute_input": "2024-11-14T21:39:46.481411Z",
     "iopub.status.busy": "2024-11-14T21:39:46.450186Z",
     "iopub.status.idle": "2024-11-14T21:39:46.497457Z",
     "shell.execute_reply": "2024-11-14T21:39:46.495749Z"
    }
   },
   "outputs": [
    {
     "data": {
      "text/html": [
       "'/home/ubuntu/miniconda3/lib/R/library'"
      ],
      "text/latex": [
       "'/home/ubuntu/miniconda3/lib/R/library'"
      ],
      "text/markdown": [
       "'/home/ubuntu/miniconda3/lib/R/library'"
      ],
      "text/plain": [
       "[1] \"/home/ubuntu/miniconda3/lib/R/library\""
      ]
     },
     "metadata": {},
     "output_type": "display_data"
    }
   ],
   "source": [
    ".libPaths()"
   ]
  },
  {
   "cell_type": "code",
   "execution_count": 3,
   "id": "603a668a",
   "metadata": {
    "execution": {
     "iopub.execute_input": "2024-11-14T21:39:46.502196Z",
     "iopub.status.busy": "2024-11-14T21:39:46.500763Z",
     "iopub.status.idle": "2024-11-14T21:39:53.683243Z",
     "shell.execute_reply": "2024-11-14T21:39:53.681360Z"
    }
   },
   "outputs": [
    {
     "name": "stderr",
     "output_type": "stream",
     "text": [
      "── \u001b[1mAttaching core tidyverse packages\u001b[22m ──────────────────────── tidyverse 2.0.0 ──\n",
      "\u001b[32m✔\u001b[39m \u001b[34mdplyr    \u001b[39m 1.1.4     \u001b[32m✔\u001b[39m \u001b[34mreadr    \u001b[39m 2.1.5\n",
      "\u001b[32m✔\u001b[39m \u001b[34mforcats  \u001b[39m 1.0.0     \u001b[32m✔\u001b[39m \u001b[34mstringr  \u001b[39m 1.5.1\n",
      "\u001b[32m✔\u001b[39m \u001b[34mggplot2  \u001b[39m 3.5.1     \u001b[32m✔\u001b[39m \u001b[34mtibble   \u001b[39m 3.2.1\n",
      "\u001b[32m✔\u001b[39m \u001b[34mlubridate\u001b[39m 1.9.3     \u001b[32m✔\u001b[39m \u001b[34mtidyr    \u001b[39m 1.3.1\n",
      "\u001b[32m✔\u001b[39m \u001b[34mpurrr    \u001b[39m 1.0.2     \n"
     ]
    },
    {
     "name": "stderr",
     "output_type": "stream",
     "text": [
      "── \u001b[1mConflicts\u001b[22m ────────────────────────────────────────── tidyverse_conflicts() ──\n",
      "\u001b[31m✖\u001b[39m \u001b[34mdplyr\u001b[39m::\u001b[32mfilter()\u001b[39m masks \u001b[34mstats\u001b[39m::filter()\n",
      "\u001b[31m✖\u001b[39m \u001b[34mdplyr\u001b[39m::\u001b[32mlag()\u001b[39m    masks \u001b[34mstats\u001b[39m::lag()\n",
      "\u001b[36mℹ\u001b[39m Use the conflicted package (\u001b[3m\u001b[34m<http://conflicted.r-lib.org/>\u001b[39m\u001b[23m) to force all conflicts to become errors\n"
     ]
    },
    {
     "name": "stderr",
     "output_type": "stream",
     "text": [
      "Loading required package: S4Vectors\n",
      "\n"
     ]
    },
    {
     "name": "stderr",
     "output_type": "stream",
     "text": [
      "Loading required package: stats4\n",
      "\n"
     ]
    },
    {
     "name": "stderr",
     "output_type": "stream",
     "text": [
      "Loading required package: BiocGenerics\n",
      "\n"
     ]
    },
    {
     "name": "stderr",
     "output_type": "stream",
     "text": [
      "\n",
      "Attaching package: ‘BiocGenerics’\n",
      "\n",
      "\n"
     ]
    },
    {
     "name": "stderr",
     "output_type": "stream",
     "text": [
      "The following objects are masked from ‘package:lubridate’:\n",
      "\n",
      "    intersect, setdiff, union\n",
      "\n",
      "\n"
     ]
    },
    {
     "name": "stderr",
     "output_type": "stream",
     "text": [
      "The following objects are masked from ‘package:dplyr’:\n",
      "\n",
      "    combine, intersect, setdiff, union\n",
      "\n",
      "\n"
     ]
    },
    {
     "name": "stderr",
     "output_type": "stream",
     "text": [
      "The following objects are masked from ‘package:stats’:\n",
      "\n",
      "    IQR, mad, sd, var, xtabs\n",
      "\n",
      "\n"
     ]
    },
    {
     "name": "stderr",
     "output_type": "stream",
     "text": [
      "The following objects are masked from ‘package:base’:\n",
      "\n",
      "    anyDuplicated, aperm, append, as.data.frame, basename, cbind,\n",
      "    colnames, dirname, do.call, duplicated, eval, evalq, Filter, Find,\n",
      "    get, grep, grepl, intersect, is.unsorted, lapply, Map, mapply,\n",
      "    match, mget, order, paste, pmax, pmax.int, pmin, pmin.int,\n",
      "    Position, rank, rbind, Reduce, rownames, sapply, setdiff, sort,\n",
      "    table, tapply, union, unique, unsplit, which.max, which.min\n",
      "\n",
      "\n"
     ]
    },
    {
     "name": "stderr",
     "output_type": "stream",
     "text": [
      "\n",
      "Attaching package: ‘S4Vectors’\n",
      "\n",
      "\n"
     ]
    },
    {
     "name": "stderr",
     "output_type": "stream",
     "text": [
      "The following objects are masked from ‘package:lubridate’:\n",
      "\n",
      "    second, second<-\n",
      "\n",
      "\n"
     ]
    },
    {
     "name": "stderr",
     "output_type": "stream",
     "text": [
      "The following objects are masked from ‘package:dplyr’:\n",
      "\n",
      "    first, rename\n",
      "\n",
      "\n"
     ]
    },
    {
     "name": "stderr",
     "output_type": "stream",
     "text": [
      "The following object is masked from ‘package:tidyr’:\n",
      "\n",
      "    expand\n",
      "\n",
      "\n"
     ]
    },
    {
     "name": "stderr",
     "output_type": "stream",
     "text": [
      "The following object is masked from ‘package:utils’:\n",
      "\n",
      "    findMatches\n",
      "\n",
      "\n"
     ]
    },
    {
     "name": "stderr",
     "output_type": "stream",
     "text": [
      "The following objects are masked from ‘package:base’:\n",
      "\n",
      "    expand.grid, I, unname\n",
      "\n",
      "\n"
     ]
    },
    {
     "name": "stderr",
     "output_type": "stream",
     "text": [
      "Loading required package: IRanges\n",
      "\n"
     ]
    },
    {
     "name": "stderr",
     "output_type": "stream",
     "text": [
      "\n",
      "Attaching package: ‘IRanges’\n",
      "\n",
      "\n"
     ]
    },
    {
     "name": "stderr",
     "output_type": "stream",
     "text": [
      "The following object is masked from ‘package:lubridate’:\n",
      "\n",
      "    %within%\n",
      "\n",
      "\n"
     ]
    },
    {
     "name": "stderr",
     "output_type": "stream",
     "text": [
      "The following objects are masked from ‘package:dplyr’:\n",
      "\n",
      "    collapse, desc, slice\n",
      "\n",
      "\n"
     ]
    },
    {
     "name": "stderr",
     "output_type": "stream",
     "text": [
      "The following object is masked from ‘package:purrr’:\n",
      "\n",
      "    reduce\n",
      "\n",
      "\n"
     ]
    },
    {
     "name": "stderr",
     "output_type": "stream",
     "text": [
      "Loading required package: GenomicRanges\n",
      "\n"
     ]
    },
    {
     "name": "stderr",
     "output_type": "stream",
     "text": [
      "Loading required package: GenomeInfoDb\n",
      "\n"
     ]
    },
    {
     "name": "stderr",
     "output_type": "stream",
     "text": [
      "Loading required package: SummarizedExperiment\n",
      "\n"
     ]
    },
    {
     "name": "stderr",
     "output_type": "stream",
     "text": [
      "Loading required package: MatrixGenerics\n",
      "\n"
     ]
    },
    {
     "name": "stderr",
     "output_type": "stream",
     "text": [
      "Loading required package: matrixStats\n",
      "\n"
     ]
    },
    {
     "name": "stderr",
     "output_type": "stream",
     "text": [
      "\n",
      "Attaching package: ‘matrixStats’\n",
      "\n",
      "\n"
     ]
    },
    {
     "name": "stderr",
     "output_type": "stream",
     "text": [
      "The following object is masked from ‘package:dplyr’:\n",
      "\n",
      "    count\n",
      "\n",
      "\n"
     ]
    },
    {
     "name": "stderr",
     "output_type": "stream",
     "text": [
      "\n",
      "Attaching package: ‘MatrixGenerics’\n",
      "\n",
      "\n"
     ]
    },
    {
     "name": "stderr",
     "output_type": "stream",
     "text": [
      "The following objects are masked from ‘package:matrixStats’:\n",
      "\n",
      "    colAlls, colAnyNAs, colAnys, colAvgsPerRowSet, colCollapse,\n",
      "    colCounts, colCummaxs, colCummins, colCumprods, colCumsums,\n",
      "    colDiffs, colIQRDiffs, colIQRs, colLogSumExps, colMadDiffs,\n",
      "    colMads, colMaxs, colMeans2, colMedians, colMins, colOrderStats,\n",
      "    colProds, colQuantiles, colRanges, colRanks, colSdDiffs, colSds,\n",
      "    colSums2, colTabulates, colVarDiffs, colVars, colWeightedMads,\n",
      "    colWeightedMeans, colWeightedMedians, colWeightedSds,\n",
      "    colWeightedVars, rowAlls, rowAnyNAs, rowAnys, rowAvgsPerColSet,\n",
      "    rowCollapse, rowCounts, rowCummaxs, rowCummins, rowCumprods,\n",
      "    rowCumsums, rowDiffs, rowIQRDiffs, rowIQRs, rowLogSumExps,\n",
      "    rowMadDiffs, rowMads, rowMaxs, rowMeans2, rowMedians, rowMins,\n",
      "    rowOrderStats, rowProds, rowQuantiles, rowRanges, rowRanks,\n",
      "    rowSdDiffs, rowSds, rowSums2, rowTabulates, rowVarDiffs, rowVars,\n",
      "    rowWeightedMads, rowWeightedMeans, rowWeightedMedians,\n",
      "    rowWeightedSds, rowWeightedVars\n",
      "\n",
      "\n"
     ]
    },
    {
     "name": "stderr",
     "output_type": "stream",
     "text": [
      "Loading required package: Biobase\n",
      "\n"
     ]
    },
    {
     "name": "stderr",
     "output_type": "stream",
     "text": [
      "Welcome to Bioconductor\n",
      "\n",
      "    Vignettes contain introductory material; view with\n",
      "    'browseVignettes()'. To cite Bioconductor, see\n",
      "    'citation(\"Biobase\")', and for packages 'citation(\"pkgname\")'.\n",
      "\n",
      "\n"
     ]
    },
    {
     "name": "stderr",
     "output_type": "stream",
     "text": [
      "\n",
      "Attaching package: ‘Biobase’\n",
      "\n",
      "\n"
     ]
    },
    {
     "name": "stderr",
     "output_type": "stream",
     "text": [
      "The following object is masked from ‘package:MatrixGenerics’:\n",
      "\n",
      "    rowMedians\n",
      "\n",
      "\n"
     ]
    },
    {
     "name": "stderr",
     "output_type": "stream",
     "text": [
      "The following objects are masked from ‘package:matrixStats’:\n",
      "\n",
      "    anyMissing, rowMedians\n",
      "\n",
      "\n"
     ]
    }
   ],
   "source": [
    "library(tidyverse)\n",
    "library(DESeq2)"
   ]
  },
  {
   "cell_type": "markdown",
   "id": "bc68ec6f",
   "metadata": {},
   "source": [
    "## Import Data"
   ]
  },
  {
   "cell_type": "code",
   "execution_count": 4,
   "id": "01ddf611",
   "metadata": {
    "execution": {
     "iopub.execute_input": "2024-11-14T21:39:53.688673Z",
     "iopub.status.busy": "2024-11-14T21:39:53.686833Z",
     "iopub.status.idle": "2024-11-14T21:39:54.010132Z",
     "shell.execute_reply": "2024-11-14T21:39:54.008732Z"
    }
   },
   "outputs": [
    {
     "name": "stderr",
     "output_type": "stream",
     "text": [
      "\u001b[1mRows: \u001b[22m\u001b[34m58174\u001b[39m \u001b[1mColumns: \u001b[22m\u001b[34m9\u001b[39m\n"
     ]
    },
    {
     "name": "stderr",
     "output_type": "stream",
     "text": [
      "\u001b[36m──\u001b[39m \u001b[1mColumn specification\u001b[22m \u001b[36m────────────────────────────────────────────────────────\u001b[39m\n",
      "\u001b[1mDelimiter:\u001b[22m \"\\t\"\n",
      "\u001b[31mchr\u001b[39m (1): NAME\n",
      "\u001b[32mdbl\u001b[39m (8): Sample_1, Sample_2, Sample_3, Sample_4, Sample_5, Sample_6, Sample_...\n"
     ]
    },
    {
     "name": "stderr",
     "output_type": "stream",
     "text": [
      "\n",
      "\u001b[36mℹ\u001b[39m Use `spec()` to retrieve the full column specification for this data.\n",
      "\u001b[36mℹ\u001b[39m Specify the column types or set `show_col_types = FALSE` to quiet this message.\n"
     ]
    },
    {
     "data": {
      "text/html": [
       "<table class=\"dataframe\">\n",
       "<caption>A data.frame: 6 × 9</caption>\n",
       "<thead>\n",
       "\t<tr><th></th><th scope=col>NAME</th><th scope=col>Sample_1</th><th scope=col>Sample_2</th><th scope=col>Sample_3</th><th scope=col>Sample_4</th><th scope=col>Sample_5</th><th scope=col>Sample_6</th><th scope=col>Sample_7</th><th scope=col>Sample_8</th></tr>\n",
       "\t<tr><th></th><th scope=col>&lt;chr&gt;</th><th scope=col>&lt;int&gt;</th><th scope=col>&lt;int&gt;</th><th scope=col>&lt;int&gt;</th><th scope=col>&lt;int&gt;</th><th scope=col>&lt;int&gt;</th><th scope=col>&lt;int&gt;</th><th scope=col>&lt;int&gt;</th><th scope=col>&lt;int&gt;</th></tr>\n",
       "</thead>\n",
       "<tbody>\n",
       "\t<tr><th scope=row>1</th><td>ENSG00000223972</td><td>  13</td><td>  18</td><td>  3</td><td>  1</td><td>  5</td><td> 11</td><td> 17</td><td> 10</td></tr>\n",
       "\t<tr><th scope=row>2</th><td>ENSG00000227232</td><td>1087</td><td>1002</td><td>182</td><td>531</td><td>200</td><td>114</td><td>319</td><td>172</td></tr>\n",
       "\t<tr><th scope=row>3</th><td>ENSG00000278267</td><td>  23</td><td>  33</td><td>  1</td><td> 12</td><td>  6</td><td>  1</td><td>  4</td><td>  1</td></tr>\n",
       "\t<tr><th scope=row>4</th><td>ENSG00000243485</td><td>   0</td><td>   3</td><td>  0</td><td>  1</td><td>  2</td><td>  2</td><td>  0</td><td>  2</td></tr>\n",
       "\t<tr><th scope=row>5</th><td>ENSG00000284332</td><td>   0</td><td>   0</td><td>  0</td><td>  0</td><td>  0</td><td>  0</td><td>  0</td><td>  0</td></tr>\n",
       "\t<tr><th scope=row>6</th><td>ENSG00000237613</td><td>   0</td><td>   0</td><td>  0</td><td>  0</td><td>  0</td><td>  0</td><td>  2</td><td>  0</td></tr>\n",
       "</tbody>\n",
       "</table>\n"
      ],
      "text/latex": [
       "A data.frame: 6 × 9\n",
       "\\begin{tabular}{r|lllllllll}\n",
       "  & NAME & Sample\\_1 & Sample\\_2 & Sample\\_3 & Sample\\_4 & Sample\\_5 & Sample\\_6 & Sample\\_7 & Sample\\_8\\\\\n",
       "  & <chr> & <int> & <int> & <int> & <int> & <int> & <int> & <int> & <int>\\\\\n",
       "\\hline\n",
       "\t1 & ENSG00000223972 &   13 &   18 &   3 &   1 &   5 &  11 &  17 &  10\\\\\n",
       "\t2 & ENSG00000227232 & 1087 & 1002 & 182 & 531 & 200 & 114 & 319 & 172\\\\\n",
       "\t3 & ENSG00000278267 &   23 &   33 &   1 &  12 &   6 &   1 &   4 &   1\\\\\n",
       "\t4 & ENSG00000243485 &    0 &    3 &   0 &   1 &   2 &   2 &   0 &   2\\\\\n",
       "\t5 & ENSG00000284332 &    0 &    0 &   0 &   0 &   0 &   0 &   0 &   0\\\\\n",
       "\t6 & ENSG00000237613 &    0 &    0 &   0 &   0 &   0 &   0 &   2 &   0\\\\\n",
       "\\end{tabular}\n"
      ],
      "text/markdown": [
       "\n",
       "A data.frame: 6 × 9\n",
       "\n",
       "| <!--/--> | NAME &lt;chr&gt; | Sample_1 &lt;int&gt; | Sample_2 &lt;int&gt; | Sample_3 &lt;int&gt; | Sample_4 &lt;int&gt; | Sample_5 &lt;int&gt; | Sample_6 &lt;int&gt; | Sample_7 &lt;int&gt; | Sample_8 &lt;int&gt; |\n",
       "|---|---|---|---|---|---|---|---|---|---|\n",
       "| 1 | ENSG00000223972 |   13 |   18 |   3 |   1 |   5 |  11 |  17 |  10 |\n",
       "| 2 | ENSG00000227232 | 1087 | 1002 | 182 | 531 | 200 | 114 | 319 | 172 |\n",
       "| 3 | ENSG00000278267 |   23 |   33 |   1 |  12 |   6 |   1 |   4 |   1 |\n",
       "| 4 | ENSG00000243485 |    0 |    3 |   0 |   1 |   2 |   2 |   0 |   2 |\n",
       "| 5 | ENSG00000284332 |    0 |    0 |   0 |   0 |   0 |   0 |   0 |   0 |\n",
       "| 6 | ENSG00000237613 |    0 |    0 |   0 |   0 |   0 |   0 |   2 |   0 |\n",
       "\n"
      ],
      "text/plain": [
       "  NAME            Sample_1 Sample_2 Sample_3 Sample_4 Sample_5 Sample_6\n",
       "1 ENSG00000223972   13       18       3        1        5       11     \n",
       "2 ENSG00000227232 1087     1002     182      531      200      114     \n",
       "3 ENSG00000278267   23       33       1       12        6        1     \n",
       "4 ENSG00000243485    0        3       0        1        2        2     \n",
       "5 ENSG00000284332    0        0       0        0        0        0     \n",
       "6 ENSG00000237613    0        0       0        0        0        0     \n",
       "  Sample_7 Sample_8\n",
       "1  17       10     \n",
       "2 319      172     \n",
       "3   4        1     \n",
       "4   0        2     \n",
       "5   0        0     \n",
       "6   2        0     "
      ]
     },
     "metadata": {},
     "output_type": "display_data"
    }
   ],
   "source": [
    "# count matrix\n",
    "count_clean <- read_tsv('../../result/deseq2//count_clean.tsv') |> \n",
    "    as.data.frame() |>\n",
    "    mutate(across(where(is.double), as.integer))\n",
    "head(count_clean)"
   ]
  },
  {
   "cell_type": "code",
   "execution_count": 5,
   "id": "6bfa5d10",
   "metadata": {
    "execution": {
     "iopub.execute_input": "2024-11-14T21:39:54.014158Z",
     "iopub.status.busy": "2024-11-14T21:39:54.013011Z",
     "iopub.status.idle": "2024-11-14T21:39:54.078935Z",
     "shell.execute_reply": "2024-11-14T21:39:54.077614Z"
    }
   },
   "outputs": [
    {
     "name": "stderr",
     "output_type": "stream",
     "text": [
      "\u001b[1mRows: \u001b[22m\u001b[34m8\u001b[39m \u001b[1mColumns: \u001b[22m\u001b[34m2\u001b[39m\n"
     ]
    },
    {
     "name": "stderr",
     "output_type": "stream",
     "text": [
      "\u001b[36m──\u001b[39m \u001b[1mColumn specification\u001b[22m \u001b[36m────────────────────────────────────────────────────────\u001b[39m\n",
      "\u001b[1mDelimiter:\u001b[22m \",\"\n",
      "\u001b[31mchr\u001b[39m (2): sample, status\n"
     ]
    },
    {
     "name": "stderr",
     "output_type": "stream",
     "text": [
      "\n",
      "\u001b[36mℹ\u001b[39m Use `spec()` to retrieve the full column specification for this data.\n",
      "\u001b[36mℹ\u001b[39m Specify the column types or set `show_col_types = FALSE` to quiet this message.\n"
     ]
    },
    {
     "data": {
      "text/html": [
       "<table class=\"dataframe\">\n",
       "<caption>A spec_tbl_df: 8 × 2</caption>\n",
       "<thead>\n",
       "\t<tr><th scope=col>sample</th><th scope=col>status</th></tr>\n",
       "\t<tr><th scope=col>&lt;chr&gt;</th><th scope=col>&lt;fct&gt;</th></tr>\n",
       "</thead>\n",
       "<tbody>\n",
       "\t<tr><td>Sample_1</td><td>IS</td></tr>\n",
       "\t<tr><td>Sample_2</td><td>IS</td></tr>\n",
       "\t<tr><td>Sample_3</td><td>IS</td></tr>\n",
       "\t<tr><td>Sample_4</td><td>IS</td></tr>\n",
       "\t<tr><td>Sample_5</td><td>C </td></tr>\n",
       "\t<tr><td>Sample_6</td><td>C </td></tr>\n",
       "\t<tr><td>Sample_7</td><td>C </td></tr>\n",
       "\t<tr><td>Sample_8</td><td>C </td></tr>\n",
       "</tbody>\n",
       "</table>\n"
      ],
      "text/latex": [
       "A spec\\_tbl\\_df: 8 × 2\n",
       "\\begin{tabular}{ll}\n",
       " sample & status\\\\\n",
       " <chr> & <fct>\\\\\n",
       "\\hline\n",
       "\t Sample\\_1 & IS\\\\\n",
       "\t Sample\\_2 & IS\\\\\n",
       "\t Sample\\_3 & IS\\\\\n",
       "\t Sample\\_4 & IS\\\\\n",
       "\t Sample\\_5 & C \\\\\n",
       "\t Sample\\_6 & C \\\\\n",
       "\t Sample\\_7 & C \\\\\n",
       "\t Sample\\_8 & C \\\\\n",
       "\\end{tabular}\n"
      ],
      "text/markdown": [
       "\n",
       "A spec_tbl_df: 8 × 2\n",
       "\n",
       "| sample &lt;chr&gt; | status &lt;fct&gt; |\n",
       "|---|---|\n",
       "| Sample_1 | IS |\n",
       "| Sample_2 | IS |\n",
       "| Sample_3 | IS |\n",
       "| Sample_4 | IS |\n",
       "| Sample_5 | C  |\n",
       "| Sample_6 | C  |\n",
       "| Sample_7 | C  |\n",
       "| Sample_8 | C  |\n",
       "\n"
      ],
      "text/plain": [
       "  sample   status\n",
       "1 Sample_1 IS    \n",
       "2 Sample_2 IS    \n",
       "3 Sample_3 IS    \n",
       "4 Sample_4 IS    \n",
       "5 Sample_5 C     \n",
       "6 Sample_6 C     \n",
       "7 Sample_7 C     \n",
       "8 Sample_8 C     "
      ]
     },
     "metadata": {},
     "output_type": "display_data"
    }
   ],
   "source": [
    "# meta data\n",
    "meta_data <- read_csv('../../result/deseq2/meta_data.csv')\n",
    "meta_data$status <- as.factor(meta_data$status)\n",
    "meta_data"
   ]
  },
  {
   "cell_type": "markdown",
   "id": "7494e03b",
   "metadata": {},
   "source": [
    "## DESeq2"
   ]
  },
  {
   "cell_type": "code",
   "execution_count": 6,
   "id": "9dcebaf8",
   "metadata": {
    "execution": {
     "iopub.execute_input": "2024-11-14T21:39:54.082951Z",
     "iopub.status.busy": "2024-11-14T21:39:54.081808Z",
     "iopub.status.idle": "2024-11-14T21:39:54.385752Z",
     "shell.execute_reply": "2024-11-14T21:39:54.384299Z"
    }
   },
   "outputs": [],
   "source": [
    "dds <- DESeqDataSetFromMatrix(countData = count_clean, \n",
    "                              colData = meta_data, \n",
    "                              design = ~status, \n",
    "                              tidy = TRUE)"
   ]
  },
  {
   "cell_type": "code",
   "execution_count": 7,
   "id": "a3ae26a5",
   "metadata": {
    "execution": {
     "iopub.execute_input": "2024-11-14T21:39:54.389771Z",
     "iopub.status.busy": "2024-11-14T21:39:54.388650Z",
     "iopub.status.idle": "2024-11-14T21:40:08.395457Z",
     "shell.execute_reply": "2024-11-14T21:40:08.393980Z"
    }
   },
   "outputs": [
    {
     "name": "stderr",
     "output_type": "stream",
     "text": [
      "estimating size factors\n",
      "\n"
     ]
    },
    {
     "name": "stderr",
     "output_type": "stream",
     "text": [
      "estimating dispersions\n",
      "\n"
     ]
    },
    {
     "name": "stderr",
     "output_type": "stream",
     "text": [
      "gene-wise dispersion estimates\n",
      "\n"
     ]
    },
    {
     "name": "stderr",
     "output_type": "stream",
     "text": [
      "mean-dispersion relationship\n",
      "\n"
     ]
    },
    {
     "name": "stderr",
     "output_type": "stream",
     "text": [
      "final dispersion estimates\n",
      "\n"
     ]
    },
    {
     "name": "stderr",
     "output_type": "stream",
     "text": [
      "fitting model and testing\n",
      "\n"
     ]
    }
   ],
   "source": [
    "dds <- DESeq(dds)"
   ]
  },
  {
   "cell_type": "code",
   "execution_count": 8,
   "id": "bd35aa88",
   "metadata": {
    "execution": {
     "iopub.execute_input": "2024-11-14T21:40:08.399549Z",
     "iopub.status.busy": "2024-11-14T21:40:08.398445Z",
     "iopub.status.idle": "2024-11-14T21:40:15.688262Z",
     "shell.execute_reply": "2024-11-14T21:40:15.686784Z"
    }
   },
   "outputs": [],
   "source": [
    "res <- results(dds)"
   ]
  },
  {
   "cell_type": "code",
   "execution_count": 9,
   "id": "9c5f6cc0",
   "metadata": {
    "execution": {
     "iopub.execute_input": "2024-11-14T21:40:15.692353Z",
     "iopub.status.busy": "2024-11-14T21:40:15.691251Z",
     "iopub.status.idle": "2024-11-14T21:40:15.801273Z",
     "shell.execute_reply": "2024-11-14T21:40:15.799894Z"
    }
   },
   "outputs": [
    {
     "data": {
      "text/html": [
       "<table class=\"dataframe\">\n",
       "<caption>A data.frame: 4324 × 7</caption>\n",
       "<thead>\n",
       "\t<tr><th scope=col>gene</th><th scope=col>baseMean</th><th scope=col>log2FoldChange</th><th scope=col>lfcSE</th><th scope=col>stat</th><th scope=col>pvalue</th><th scope=col>padj</th></tr>\n",
       "\t<tr><th scope=col>&lt;chr&gt;</th><th scope=col>&lt;dbl&gt;</th><th scope=col>&lt;dbl&gt;</th><th scope=col>&lt;dbl&gt;</th><th scope=col>&lt;dbl&gt;</th><th scope=col>&lt;dbl&gt;</th><th scope=col>&lt;dbl&gt;</th></tr>\n",
       "</thead>\n",
       "<tbody>\n",
       "\t<tr><td>ENSG00000278267</td><td>   8.613466</td><td> 2.615336</td><td>0.8545570</td><td> 3.060458</td><td>2.209988e-03</td><td>7.991285e-03</td></tr>\n",
       "\t<tr><td>ENSG00000268903</td><td>  18.716412</td><td> 5.774899</td><td>0.9753198</td><td> 5.921032</td><td>3.199285e-09</td><td>6.290752e-08</td></tr>\n",
       "\t<tr><td>ENSG00000269981</td><td>  12.547480</td><td> 5.752313</td><td>1.2084716</td><td> 4.759990</td><td>1.936023e-06</td><td>1.891486e-05</td></tr>\n",
       "\t<tr><td>ENSG00000239906</td><td>   3.579557</td><td> 3.791956</td><td>1.4671741</td><td> 2.584531</td><td>9.751165e-03</td><td>2.777531e-02</td></tr>\n",
       "\t<tr><td>ENSG00000279457</td><td> 551.484304</td><td> 2.532600</td><td>0.3827524</td><td> 6.616811</td><td>3.670306e-11</td><td>1.079563e-09</td></tr>\n",
       "\t<tr><td>ENSG00000250575</td><td>  53.860707</td><td> 5.050183</td><td>0.6465986</td><td> 7.810384</td><td>5.701423e-15</td><td>3.577285e-13</td></tr>\n",
       "\t<tr><td>ENSG00000225972</td><td>5794.202467</td><td> 2.717834</td><td>0.5158510</td><td> 5.268641</td><td>1.374375e-07</td><td>1.858197e-06</td></tr>\n",
       "\t<tr><td>ENSG00000229344</td><td>1565.304483</td><td> 2.235852</td><td>0.6209036</td><td> 3.600965</td><td>3.170388e-04</td><td>1.543895e-03</td></tr>\n",
       "\t<tr><td>ENSG00000230092</td><td>  18.129602</td><td>-2.704409</td><td>0.6059129</td><td>-4.463362</td><td>8.068343e-06</td><td>6.512045e-05</td></tr>\n",
       "\t<tr><td>ENSG00000188976</td><td>1669.458194</td><td> 2.215552</td><td>0.4661518</td><td> 4.752854</td><td>2.005650e-06</td><td>1.944297e-05</td></tr>\n",
       "\t<tr><td>ENSG00000187961</td><td> 122.344404</td><td> 4.472072</td><td>0.6209385</td><td> 7.202117</td><td>5.928457e-13</td><td>2.500767e-11</td></tr>\n",
       "\t<tr><td>ENSG00000187583</td><td>  20.898840</td><td> 3.961467</td><td>0.7004398</td><td> 5.655685</td><td>1.552255e-08</td><td>2.631562e-07</td></tr>\n",
       "\t<tr><td>ENSG00000187642</td><td>   4.799924</td><td> 5.178611</td><td>1.3523668</td><td> 3.829294</td><td>1.285112e-04</td><td>7.152178e-04</td></tr>\n",
       "\t<tr><td>ENSG00000188290</td><td>  44.552088</td><td> 5.900809</td><td>0.9147513</td><td> 6.450725</td><td>1.113166e-10</td><td>2.963536e-09</td></tr>\n",
       "\t<tr><td>ENSG00000187608</td><td> 159.276378</td><td> 4.757089</td><td>0.7536132</td><td> 6.312374</td><td>2.747866e-10</td><td>6.688082e-09</td></tr>\n",
       "\t<tr><td>ENSG00000188157</td><td>2087.439527</td><td> 3.499346</td><td>0.4626582</td><td> 7.563567</td><td>3.921648e-14</td><td>2.079223e-12</td></tr>\n",
       "\t<tr><td>ENSG00000217801</td><td>  15.564120</td><td> 3.414835</td><td>0.9482732</td><td> 3.601109</td><td>3.168626e-04</td><td>1.543401e-03</td></tr>\n",
       "\t<tr><td>ENSG00000131591</td><td> 131.759397</td><td> 3.640088</td><td>0.4177733</td><td> 8.713071</td><td>2.957518e-18</td><td>3.579602e-16</td></tr>\n",
       "\t<tr><td>ENSG00000186827</td><td>   4.245152</td><td> 3.038250</td><td>1.2194445</td><td> 2.491503</td><td>1.272038e-02</td><td>3.462161e-02</td></tr>\n",
       "\t<tr><td>ENSG00000078808</td><td>3620.721822</td><td> 3.373225</td><td>0.4949208</td><td> 6.815686</td><td>9.381516e-12</td><td>3.127840e-10</td></tr>\n",
       "\t<tr><td>ENSG00000184163</td><td>   2.893892</td><td> 5.195532</td><td>1.6950624</td><td> 3.065098</td><td>2.175989e-03</td><td>7.894637e-03</td></tr>\n",
       "\t<tr><td>ENSG00000162572</td><td>  29.098453</td><td> 3.384583</td><td>0.5600258</td><td> 6.043621</td><td>1.506935e-09</td><td>3.180996e-08</td></tr>\n",
       "\t<tr><td>ENSG00000131584</td><td> 259.077541</td><td> 3.363116</td><td>0.5119039</td><td> 6.569819</td><td>5.037638e-11</td><td>1.437713e-09</td></tr>\n",
       "\t<tr><td>ENSG00000169972</td><td> 129.551677</td><td> 4.995285</td><td>0.5053625</td><td> 9.884559</td><td>4.857169e-23</td><td>1.426979e-20</td></tr>\n",
       "\t<tr><td>ENSG00000127054</td><td>1455.046421</td><td> 2.190835</td><td>0.3287388</td><td> 6.664365</td><td>2.658129e-11</td><td>8.055679e-10</td></tr>\n",
       "\t<tr><td>ENSG00000224051</td><td> 360.864448</td><td> 2.834700</td><td>0.3671056</td><td> 7.721757</td><td>1.147372e-14</td><td>6.725860e-13</td></tr>\n",
       "\t<tr><td>ENSG00000107404</td><td> 502.844505</td><td> 4.309187</td><td>0.5192086</td><td> 8.299529</td><td>1.045252e-16</td><td>9.256037e-15</td></tr>\n",
       "\t<tr><td>ENSG00000175756</td><td> 908.386968</td><td> 4.677766</td><td>0.5457695</td><td> 8.570956</td><td>1.026297e-17</td><td>1.109467e-15</td></tr>\n",
       "\t<tr><td>ENSG00000224870</td><td> 194.379764</td><td> 2.013310</td><td>0.3107471</td><td> 6.478934</td><td>9.237262e-11</td><td>2.521015e-09</td></tr>\n",
       "\t<tr><td>ENSG00000235098</td><td>   5.865766</td><td> 3.431368</td><td>1.3050322</td><td> 2.629336</td><td>8.555176e-03</td><td>2.492590e-02</td></tr>\n",
       "\t<tr><td>⋮</td><td>⋮</td><td>⋮</td><td>⋮</td><td>⋮</td><td>⋮</td><td>⋮</td></tr>\n",
       "\t<tr><td>ENSG00000183486</td><td>6.706870e+01</td><td>-3.933216</td><td>0.8894120</td><td> -4.422266</td><td>9.767117e-06</td><td>7.689601e-05</td></tr>\n",
       "\t<tr><td>ENSG00000160191</td><td>3.939459e+01</td><td>-5.031420</td><td>1.2367561</td><td> -4.068240</td><td>4.736963e-05</td><td>3.037008e-04</td></tr>\n",
       "\t<tr><td>ENSG00000160193</td><td>3.910671e+02</td><td> 2.073973</td><td>0.5943756</td><td>  3.489331</td><td>4.842315e-04</td><td>2.212668e-03</td></tr>\n",
       "\t<tr><td>ENSG00000233056</td><td>5.005529e+01</td><td>-7.556444</td><td>1.2728092</td><td> -5.936824</td><td>2.905961e-09</td><td>5.782283e-08</td></tr>\n",
       "\t<tr><td>ENSG00000160200</td><td>3.288177e+02</td><td> 2.701138</td><td>0.6981577</td><td>  3.868952</td><td>1.093042e-04</td><td>6.211984e-04</td></tr>\n",
       "\t<tr><td>ENSG00000234289</td><td>7.481458e+00</td><td> 3.145076</td><td>0.8719899</td><td>  3.606780</td><td>3.100205e-04</td><td>1.514090e-03</td></tr>\n",
       "\t<tr><td>ENSG00000160213</td><td>3.424238e+03</td><td> 2.368002</td><td>0.3856585</td><td>  6.140153</td><td>8.244198e-10</td><td>1.854722e-08</td></tr>\n",
       "\t<tr><td>ENSG00000160214</td><td>6.461080e+02</td><td> 2.508641</td><td>0.4262438</td><td>  5.885461</td><td>3.969459e-09</td><td>7.642662e-08</td></tr>\n",
       "\t<tr><td>ENSG00000241945</td><td>6.671987e+02</td><td> 2.002565</td><td>0.3638907</td><td>  5.503205</td><td>3.729481e-08</td><td>5.784634e-07</td></tr>\n",
       "\t<tr><td>ENSG00000141959</td><td>2.722792e+03</td><td> 3.405519</td><td>0.4080442</td><td>  8.345957</td><td>7.063966e-17</td><td>6.533383e-15</td></tr>\n",
       "\t<tr><td>ENSG00000160226</td><td>3.775703e+01</td><td> 2.701964</td><td>0.5234693</td><td>  5.161647</td><td>2.447867e-07</td><td>3.120374e-06</td></tr>\n",
       "\t<tr><td>ENSG00000224747</td><td>3.468590e+00</td><td>-3.110887</td><td>1.1444715</td><td> -2.718187</td><td>6.564079e-03</td><td>1.991957e-02</td></tr>\n",
       "\t<tr><td>ENSG00000160256</td><td>3.681278e+02</td><td> 3.054209</td><td>0.5849579</td><td>  5.221246</td><td>1.777234e-07</td><td>2.338308e-06</td></tr>\n",
       "\t<tr><td>ENSG00000276529</td><td>1.920132e+01</td><td> 3.288911</td><td>0.6519181</td><td>  5.044975</td><td>4.535797e-07</td><td>5.360527e-06</td></tr>\n",
       "\t<tr><td>ENSG00000273796</td><td>1.950656e+01</td><td> 2.678288</td><td>0.7439840</td><td>  3.599926</td><td>3.183073e-04</td><td>1.549166e-03</td></tr>\n",
       "\t<tr><td>ENSG00000182871</td><td>4.949707e+03</td><td> 3.963749</td><td>0.5313740</td><td>  7.459434</td><td>8.689500e-14</td><td>4.314000e-12</td></tr>\n",
       "\t<tr><td>ENSG00000173638</td><td>4.630742e+02</td><td> 2.592352</td><td>0.4721359</td><td>  5.490690</td><td>4.003663e-08</td><td>6.179201e-07</td></tr>\n",
       "\t<tr><td>ENSG00000142173</td><td>1.876253e+02</td><td>-2.592745</td><td>0.8237193</td><td> -3.147608</td><td>1.646124e-03</td><td>6.261541e-03</td></tr>\n",
       "\t<tr><td>ENSG00000160285</td><td>2.393222e+03</td><td> 2.454924</td><td>0.4540860</td><td>  5.406298</td><td>6.434060e-08</td><td>9.451256e-07</td></tr>\n",
       "\t<tr><td>ENSG00000160298</td><td>1.638218e+02</td><td> 3.005793</td><td>0.4503778</td><td>  6.673938</td><td>2.490294e-11</td><td>7.583856e-10</td></tr>\n",
       "\t<tr><td>ENSG00000211459</td><td>1.701104e+05</td><td>-4.205954</td><td>0.3739236</td><td>-11.248164</td><td>2.364642e-29</td><td>2.952492e-26</td></tr>\n",
       "\t<tr><td>ENSG00000210077</td><td>7.769081e+01</td><td>-2.410515</td><td>0.5907026</td><td> -4.080760</td><td>4.488876e-05</td><td>2.895795e-04</td></tr>\n",
       "\t<tr><td>ENSG00000210082</td><td>4.381109e+05</td><td>-2.245042</td><td>0.3373900</td><td> -6.654145</td><td>2.849522e-11</td><td>8.583628e-10</td></tr>\n",
       "\t<tr><td>ENSG00000210100</td><td>5.866870e+01</td><td>-2.980580</td><td>0.6465707</td><td> -4.609829</td><td>4.030007e-06</td><td>3.567435e-05</td></tr>\n",
       "\t<tr><td>ENSG00000210117</td><td>7.613965e+01</td><td>-2.885473</td><td>0.6597042</td><td> -4.373888</td><td>1.220528e-05</td><td>9.329361e-05</td></tr>\n",
       "\t<tr><td>ENSG00000210144</td><td>1.593654e+03</td><td>-2.086375</td><td>0.3944385</td><td> -5.289480</td><td>1.226648e-07</td><td>1.681221e-06</td></tr>\n",
       "\t<tr><td>ENSG00000210154</td><td>1.141673e+01</td><td>-3.165036</td><td>1.0329754</td><td> -3.064000</td><td>2.183992e-03</td><td>7.919072e-03</td></tr>\n",
       "\t<tr><td>ENSG00000210156</td><td>9.639139e+01</td><td>-2.462599</td><td>0.5393741</td><td> -4.565660</td><td>4.979256e-06</td><td>4.299516e-05</td></tr>\n",
       "\t<tr><td>ENSG00000210194</td><td>1.674677e+02</td><td>-2.019113</td><td>0.4969716</td><td> -4.062833</td><td>4.848078e-05</td><td>3.098700e-04</td></tr>\n",
       "\t<tr><td>ENSG00000210196</td><td>4.187870e+03</td><td>-2.050223</td><td>0.4617745</td><td> -4.439878</td><td>9.000977e-06</td><td>7.178933e-05</td></tr>\n",
       "</tbody>\n",
       "</table>\n"
      ],
      "text/latex": [
       "A data.frame: 4324 × 7\n",
       "\\begin{tabular}{lllllll}\n",
       " gene & baseMean & log2FoldChange & lfcSE & stat & pvalue & padj\\\\\n",
       " <chr> & <dbl> & <dbl> & <dbl> & <dbl> & <dbl> & <dbl>\\\\\n",
       "\\hline\n",
       "\t ENSG00000278267 &    8.613466 &  2.615336 & 0.8545570 &  3.060458 & 2.209988e-03 & 7.991285e-03\\\\\n",
       "\t ENSG00000268903 &   18.716412 &  5.774899 & 0.9753198 &  5.921032 & 3.199285e-09 & 6.290752e-08\\\\\n",
       "\t ENSG00000269981 &   12.547480 &  5.752313 & 1.2084716 &  4.759990 & 1.936023e-06 & 1.891486e-05\\\\\n",
       "\t ENSG00000239906 &    3.579557 &  3.791956 & 1.4671741 &  2.584531 & 9.751165e-03 & 2.777531e-02\\\\\n",
       "\t ENSG00000279457 &  551.484304 &  2.532600 & 0.3827524 &  6.616811 & 3.670306e-11 & 1.079563e-09\\\\\n",
       "\t ENSG00000250575 &   53.860707 &  5.050183 & 0.6465986 &  7.810384 & 5.701423e-15 & 3.577285e-13\\\\\n",
       "\t ENSG00000225972 & 5794.202467 &  2.717834 & 0.5158510 &  5.268641 & 1.374375e-07 & 1.858197e-06\\\\\n",
       "\t ENSG00000229344 & 1565.304483 &  2.235852 & 0.6209036 &  3.600965 & 3.170388e-04 & 1.543895e-03\\\\\n",
       "\t ENSG00000230092 &   18.129602 & -2.704409 & 0.6059129 & -4.463362 & 8.068343e-06 & 6.512045e-05\\\\\n",
       "\t ENSG00000188976 & 1669.458194 &  2.215552 & 0.4661518 &  4.752854 & 2.005650e-06 & 1.944297e-05\\\\\n",
       "\t ENSG00000187961 &  122.344404 &  4.472072 & 0.6209385 &  7.202117 & 5.928457e-13 & 2.500767e-11\\\\\n",
       "\t ENSG00000187583 &   20.898840 &  3.961467 & 0.7004398 &  5.655685 & 1.552255e-08 & 2.631562e-07\\\\\n",
       "\t ENSG00000187642 &    4.799924 &  5.178611 & 1.3523668 &  3.829294 & 1.285112e-04 & 7.152178e-04\\\\\n",
       "\t ENSG00000188290 &   44.552088 &  5.900809 & 0.9147513 &  6.450725 & 1.113166e-10 & 2.963536e-09\\\\\n",
       "\t ENSG00000187608 &  159.276378 &  4.757089 & 0.7536132 &  6.312374 & 2.747866e-10 & 6.688082e-09\\\\\n",
       "\t ENSG00000188157 & 2087.439527 &  3.499346 & 0.4626582 &  7.563567 & 3.921648e-14 & 2.079223e-12\\\\\n",
       "\t ENSG00000217801 &   15.564120 &  3.414835 & 0.9482732 &  3.601109 & 3.168626e-04 & 1.543401e-03\\\\\n",
       "\t ENSG00000131591 &  131.759397 &  3.640088 & 0.4177733 &  8.713071 & 2.957518e-18 & 3.579602e-16\\\\\n",
       "\t ENSG00000186827 &    4.245152 &  3.038250 & 1.2194445 &  2.491503 & 1.272038e-02 & 3.462161e-02\\\\\n",
       "\t ENSG00000078808 & 3620.721822 &  3.373225 & 0.4949208 &  6.815686 & 9.381516e-12 & 3.127840e-10\\\\\n",
       "\t ENSG00000184163 &    2.893892 &  5.195532 & 1.6950624 &  3.065098 & 2.175989e-03 & 7.894637e-03\\\\\n",
       "\t ENSG00000162572 &   29.098453 &  3.384583 & 0.5600258 &  6.043621 & 1.506935e-09 & 3.180996e-08\\\\\n",
       "\t ENSG00000131584 &  259.077541 &  3.363116 & 0.5119039 &  6.569819 & 5.037638e-11 & 1.437713e-09\\\\\n",
       "\t ENSG00000169972 &  129.551677 &  4.995285 & 0.5053625 &  9.884559 & 4.857169e-23 & 1.426979e-20\\\\\n",
       "\t ENSG00000127054 & 1455.046421 &  2.190835 & 0.3287388 &  6.664365 & 2.658129e-11 & 8.055679e-10\\\\\n",
       "\t ENSG00000224051 &  360.864448 &  2.834700 & 0.3671056 &  7.721757 & 1.147372e-14 & 6.725860e-13\\\\\n",
       "\t ENSG00000107404 &  502.844505 &  4.309187 & 0.5192086 &  8.299529 & 1.045252e-16 & 9.256037e-15\\\\\n",
       "\t ENSG00000175756 &  908.386968 &  4.677766 & 0.5457695 &  8.570956 & 1.026297e-17 & 1.109467e-15\\\\\n",
       "\t ENSG00000224870 &  194.379764 &  2.013310 & 0.3107471 &  6.478934 & 9.237262e-11 & 2.521015e-09\\\\\n",
       "\t ENSG00000235098 &    5.865766 &  3.431368 & 1.3050322 &  2.629336 & 8.555176e-03 & 2.492590e-02\\\\\n",
       "\t ⋮ & ⋮ & ⋮ & ⋮ & ⋮ & ⋮ & ⋮\\\\\n",
       "\t ENSG00000183486 & 6.706870e+01 & -3.933216 & 0.8894120 &  -4.422266 & 9.767117e-06 & 7.689601e-05\\\\\n",
       "\t ENSG00000160191 & 3.939459e+01 & -5.031420 & 1.2367561 &  -4.068240 & 4.736963e-05 & 3.037008e-04\\\\\n",
       "\t ENSG00000160193 & 3.910671e+02 &  2.073973 & 0.5943756 &   3.489331 & 4.842315e-04 & 2.212668e-03\\\\\n",
       "\t ENSG00000233056 & 5.005529e+01 & -7.556444 & 1.2728092 &  -5.936824 & 2.905961e-09 & 5.782283e-08\\\\\n",
       "\t ENSG00000160200 & 3.288177e+02 &  2.701138 & 0.6981577 &   3.868952 & 1.093042e-04 & 6.211984e-04\\\\\n",
       "\t ENSG00000234289 & 7.481458e+00 &  3.145076 & 0.8719899 &   3.606780 & 3.100205e-04 & 1.514090e-03\\\\\n",
       "\t ENSG00000160213 & 3.424238e+03 &  2.368002 & 0.3856585 &   6.140153 & 8.244198e-10 & 1.854722e-08\\\\\n",
       "\t ENSG00000160214 & 6.461080e+02 &  2.508641 & 0.4262438 &   5.885461 & 3.969459e-09 & 7.642662e-08\\\\\n",
       "\t ENSG00000241945 & 6.671987e+02 &  2.002565 & 0.3638907 &   5.503205 & 3.729481e-08 & 5.784634e-07\\\\\n",
       "\t ENSG00000141959 & 2.722792e+03 &  3.405519 & 0.4080442 &   8.345957 & 7.063966e-17 & 6.533383e-15\\\\\n",
       "\t ENSG00000160226 & 3.775703e+01 &  2.701964 & 0.5234693 &   5.161647 & 2.447867e-07 & 3.120374e-06\\\\\n",
       "\t ENSG00000224747 & 3.468590e+00 & -3.110887 & 1.1444715 &  -2.718187 & 6.564079e-03 & 1.991957e-02\\\\\n",
       "\t ENSG00000160256 & 3.681278e+02 &  3.054209 & 0.5849579 &   5.221246 & 1.777234e-07 & 2.338308e-06\\\\\n",
       "\t ENSG00000276529 & 1.920132e+01 &  3.288911 & 0.6519181 &   5.044975 & 4.535797e-07 & 5.360527e-06\\\\\n",
       "\t ENSG00000273796 & 1.950656e+01 &  2.678288 & 0.7439840 &   3.599926 & 3.183073e-04 & 1.549166e-03\\\\\n",
       "\t ENSG00000182871 & 4.949707e+03 &  3.963749 & 0.5313740 &   7.459434 & 8.689500e-14 & 4.314000e-12\\\\\n",
       "\t ENSG00000173638 & 4.630742e+02 &  2.592352 & 0.4721359 &   5.490690 & 4.003663e-08 & 6.179201e-07\\\\\n",
       "\t ENSG00000142173 & 1.876253e+02 & -2.592745 & 0.8237193 &  -3.147608 & 1.646124e-03 & 6.261541e-03\\\\\n",
       "\t ENSG00000160285 & 2.393222e+03 &  2.454924 & 0.4540860 &   5.406298 & 6.434060e-08 & 9.451256e-07\\\\\n",
       "\t ENSG00000160298 & 1.638218e+02 &  3.005793 & 0.4503778 &   6.673938 & 2.490294e-11 & 7.583856e-10\\\\\n",
       "\t ENSG00000211459 & 1.701104e+05 & -4.205954 & 0.3739236 & -11.248164 & 2.364642e-29 & 2.952492e-26\\\\\n",
       "\t ENSG00000210077 & 7.769081e+01 & -2.410515 & 0.5907026 &  -4.080760 & 4.488876e-05 & 2.895795e-04\\\\\n",
       "\t ENSG00000210082 & 4.381109e+05 & -2.245042 & 0.3373900 &  -6.654145 & 2.849522e-11 & 8.583628e-10\\\\\n",
       "\t ENSG00000210100 & 5.866870e+01 & -2.980580 & 0.6465707 &  -4.609829 & 4.030007e-06 & 3.567435e-05\\\\\n",
       "\t ENSG00000210117 & 7.613965e+01 & -2.885473 & 0.6597042 &  -4.373888 & 1.220528e-05 & 9.329361e-05\\\\\n",
       "\t ENSG00000210144 & 1.593654e+03 & -2.086375 & 0.3944385 &  -5.289480 & 1.226648e-07 & 1.681221e-06\\\\\n",
       "\t ENSG00000210154 & 1.141673e+01 & -3.165036 & 1.0329754 &  -3.064000 & 2.183992e-03 & 7.919072e-03\\\\\n",
       "\t ENSG00000210156 & 9.639139e+01 & -2.462599 & 0.5393741 &  -4.565660 & 4.979256e-06 & 4.299516e-05\\\\\n",
       "\t ENSG00000210194 & 1.674677e+02 & -2.019113 & 0.4969716 &  -4.062833 & 4.848078e-05 & 3.098700e-04\\\\\n",
       "\t ENSG00000210196 & 4.187870e+03 & -2.050223 & 0.4617745 &  -4.439878 & 9.000977e-06 & 7.178933e-05\\\\\n",
       "\\end{tabular}\n"
      ],
      "text/markdown": [
       "\n",
       "A data.frame: 4324 × 7\n",
       "\n",
       "| gene &lt;chr&gt; | baseMean &lt;dbl&gt; | log2FoldChange &lt;dbl&gt; | lfcSE &lt;dbl&gt; | stat &lt;dbl&gt; | pvalue &lt;dbl&gt; | padj &lt;dbl&gt; |\n",
       "|---|---|---|---|---|---|---|\n",
       "| ENSG00000278267 |    8.613466 |  2.615336 | 0.8545570 |  3.060458 | 2.209988e-03 | 7.991285e-03 |\n",
       "| ENSG00000268903 |   18.716412 |  5.774899 | 0.9753198 |  5.921032 | 3.199285e-09 | 6.290752e-08 |\n",
       "| ENSG00000269981 |   12.547480 |  5.752313 | 1.2084716 |  4.759990 | 1.936023e-06 | 1.891486e-05 |\n",
       "| ENSG00000239906 |    3.579557 |  3.791956 | 1.4671741 |  2.584531 | 9.751165e-03 | 2.777531e-02 |\n",
       "| ENSG00000279457 |  551.484304 |  2.532600 | 0.3827524 |  6.616811 | 3.670306e-11 | 1.079563e-09 |\n",
       "| ENSG00000250575 |   53.860707 |  5.050183 | 0.6465986 |  7.810384 | 5.701423e-15 | 3.577285e-13 |\n",
       "| ENSG00000225972 | 5794.202467 |  2.717834 | 0.5158510 |  5.268641 | 1.374375e-07 | 1.858197e-06 |\n",
       "| ENSG00000229344 | 1565.304483 |  2.235852 | 0.6209036 |  3.600965 | 3.170388e-04 | 1.543895e-03 |\n",
       "| ENSG00000230092 |   18.129602 | -2.704409 | 0.6059129 | -4.463362 | 8.068343e-06 | 6.512045e-05 |\n",
       "| ENSG00000188976 | 1669.458194 |  2.215552 | 0.4661518 |  4.752854 | 2.005650e-06 | 1.944297e-05 |\n",
       "| ENSG00000187961 |  122.344404 |  4.472072 | 0.6209385 |  7.202117 | 5.928457e-13 | 2.500767e-11 |\n",
       "| ENSG00000187583 |   20.898840 |  3.961467 | 0.7004398 |  5.655685 | 1.552255e-08 | 2.631562e-07 |\n",
       "| ENSG00000187642 |    4.799924 |  5.178611 | 1.3523668 |  3.829294 | 1.285112e-04 | 7.152178e-04 |\n",
       "| ENSG00000188290 |   44.552088 |  5.900809 | 0.9147513 |  6.450725 | 1.113166e-10 | 2.963536e-09 |\n",
       "| ENSG00000187608 |  159.276378 |  4.757089 | 0.7536132 |  6.312374 | 2.747866e-10 | 6.688082e-09 |\n",
       "| ENSG00000188157 | 2087.439527 |  3.499346 | 0.4626582 |  7.563567 | 3.921648e-14 | 2.079223e-12 |\n",
       "| ENSG00000217801 |   15.564120 |  3.414835 | 0.9482732 |  3.601109 | 3.168626e-04 | 1.543401e-03 |\n",
       "| ENSG00000131591 |  131.759397 |  3.640088 | 0.4177733 |  8.713071 | 2.957518e-18 | 3.579602e-16 |\n",
       "| ENSG00000186827 |    4.245152 |  3.038250 | 1.2194445 |  2.491503 | 1.272038e-02 | 3.462161e-02 |\n",
       "| ENSG00000078808 | 3620.721822 |  3.373225 | 0.4949208 |  6.815686 | 9.381516e-12 | 3.127840e-10 |\n",
       "| ENSG00000184163 |    2.893892 |  5.195532 | 1.6950624 |  3.065098 | 2.175989e-03 | 7.894637e-03 |\n",
       "| ENSG00000162572 |   29.098453 |  3.384583 | 0.5600258 |  6.043621 | 1.506935e-09 | 3.180996e-08 |\n",
       "| ENSG00000131584 |  259.077541 |  3.363116 | 0.5119039 |  6.569819 | 5.037638e-11 | 1.437713e-09 |\n",
       "| ENSG00000169972 |  129.551677 |  4.995285 | 0.5053625 |  9.884559 | 4.857169e-23 | 1.426979e-20 |\n",
       "| ENSG00000127054 | 1455.046421 |  2.190835 | 0.3287388 |  6.664365 | 2.658129e-11 | 8.055679e-10 |\n",
       "| ENSG00000224051 |  360.864448 |  2.834700 | 0.3671056 |  7.721757 | 1.147372e-14 | 6.725860e-13 |\n",
       "| ENSG00000107404 |  502.844505 |  4.309187 | 0.5192086 |  8.299529 | 1.045252e-16 | 9.256037e-15 |\n",
       "| ENSG00000175756 |  908.386968 |  4.677766 | 0.5457695 |  8.570956 | 1.026297e-17 | 1.109467e-15 |\n",
       "| ENSG00000224870 |  194.379764 |  2.013310 | 0.3107471 |  6.478934 | 9.237262e-11 | 2.521015e-09 |\n",
       "| ENSG00000235098 |    5.865766 |  3.431368 | 1.3050322 |  2.629336 | 8.555176e-03 | 2.492590e-02 |\n",
       "| ⋮ | ⋮ | ⋮ | ⋮ | ⋮ | ⋮ | ⋮ |\n",
       "| ENSG00000183486 | 6.706870e+01 | -3.933216 | 0.8894120 |  -4.422266 | 9.767117e-06 | 7.689601e-05 |\n",
       "| ENSG00000160191 | 3.939459e+01 | -5.031420 | 1.2367561 |  -4.068240 | 4.736963e-05 | 3.037008e-04 |\n",
       "| ENSG00000160193 | 3.910671e+02 |  2.073973 | 0.5943756 |   3.489331 | 4.842315e-04 | 2.212668e-03 |\n",
       "| ENSG00000233056 | 5.005529e+01 | -7.556444 | 1.2728092 |  -5.936824 | 2.905961e-09 | 5.782283e-08 |\n",
       "| ENSG00000160200 | 3.288177e+02 |  2.701138 | 0.6981577 |   3.868952 | 1.093042e-04 | 6.211984e-04 |\n",
       "| ENSG00000234289 | 7.481458e+00 |  3.145076 | 0.8719899 |   3.606780 | 3.100205e-04 | 1.514090e-03 |\n",
       "| ENSG00000160213 | 3.424238e+03 |  2.368002 | 0.3856585 |   6.140153 | 8.244198e-10 | 1.854722e-08 |\n",
       "| ENSG00000160214 | 6.461080e+02 |  2.508641 | 0.4262438 |   5.885461 | 3.969459e-09 | 7.642662e-08 |\n",
       "| ENSG00000241945 | 6.671987e+02 |  2.002565 | 0.3638907 |   5.503205 | 3.729481e-08 | 5.784634e-07 |\n",
       "| ENSG00000141959 | 2.722792e+03 |  3.405519 | 0.4080442 |   8.345957 | 7.063966e-17 | 6.533383e-15 |\n",
       "| ENSG00000160226 | 3.775703e+01 |  2.701964 | 0.5234693 |   5.161647 | 2.447867e-07 | 3.120374e-06 |\n",
       "| ENSG00000224747 | 3.468590e+00 | -3.110887 | 1.1444715 |  -2.718187 | 6.564079e-03 | 1.991957e-02 |\n",
       "| ENSG00000160256 | 3.681278e+02 |  3.054209 | 0.5849579 |   5.221246 | 1.777234e-07 | 2.338308e-06 |\n",
       "| ENSG00000276529 | 1.920132e+01 |  3.288911 | 0.6519181 |   5.044975 | 4.535797e-07 | 5.360527e-06 |\n",
       "| ENSG00000273796 | 1.950656e+01 |  2.678288 | 0.7439840 |   3.599926 | 3.183073e-04 | 1.549166e-03 |\n",
       "| ENSG00000182871 | 4.949707e+03 |  3.963749 | 0.5313740 |   7.459434 | 8.689500e-14 | 4.314000e-12 |\n",
       "| ENSG00000173638 | 4.630742e+02 |  2.592352 | 0.4721359 |   5.490690 | 4.003663e-08 | 6.179201e-07 |\n",
       "| ENSG00000142173 | 1.876253e+02 | -2.592745 | 0.8237193 |  -3.147608 | 1.646124e-03 | 6.261541e-03 |\n",
       "| ENSG00000160285 | 2.393222e+03 |  2.454924 | 0.4540860 |   5.406298 | 6.434060e-08 | 9.451256e-07 |\n",
       "| ENSG00000160298 | 1.638218e+02 |  3.005793 | 0.4503778 |   6.673938 | 2.490294e-11 | 7.583856e-10 |\n",
       "| ENSG00000211459 | 1.701104e+05 | -4.205954 | 0.3739236 | -11.248164 | 2.364642e-29 | 2.952492e-26 |\n",
       "| ENSG00000210077 | 7.769081e+01 | -2.410515 | 0.5907026 |  -4.080760 | 4.488876e-05 | 2.895795e-04 |\n",
       "| ENSG00000210082 | 4.381109e+05 | -2.245042 | 0.3373900 |  -6.654145 | 2.849522e-11 | 8.583628e-10 |\n",
       "| ENSG00000210100 | 5.866870e+01 | -2.980580 | 0.6465707 |  -4.609829 | 4.030007e-06 | 3.567435e-05 |\n",
       "| ENSG00000210117 | 7.613965e+01 | -2.885473 | 0.6597042 |  -4.373888 | 1.220528e-05 | 9.329361e-05 |\n",
       "| ENSG00000210144 | 1.593654e+03 | -2.086375 | 0.3944385 |  -5.289480 | 1.226648e-07 | 1.681221e-06 |\n",
       "| ENSG00000210154 | 1.141673e+01 | -3.165036 | 1.0329754 |  -3.064000 | 2.183992e-03 | 7.919072e-03 |\n",
       "| ENSG00000210156 | 9.639139e+01 | -2.462599 | 0.5393741 |  -4.565660 | 4.979256e-06 | 4.299516e-05 |\n",
       "| ENSG00000210194 | 1.674677e+02 | -2.019113 | 0.4969716 |  -4.062833 | 4.848078e-05 | 3.098700e-04 |\n",
       "| ENSG00000210196 | 4.187870e+03 | -2.050223 | 0.4617745 |  -4.439878 | 9.000977e-06 | 7.178933e-05 |\n",
       "\n"
      ],
      "text/plain": [
       "     gene            baseMean     log2FoldChange lfcSE     stat      \n",
       "1    ENSG00000278267    8.613466   2.615336      0.8545570  3.060458 \n",
       "2    ENSG00000268903   18.716412   5.774899      0.9753198  5.921032 \n",
       "3    ENSG00000269981   12.547480   5.752313      1.2084716  4.759990 \n",
       "4    ENSG00000239906    3.579557   3.791956      1.4671741  2.584531 \n",
       "5    ENSG00000279457  551.484304   2.532600      0.3827524  6.616811 \n",
       "6    ENSG00000250575   53.860707   5.050183      0.6465986  7.810384 \n",
       "7    ENSG00000225972 5794.202467   2.717834      0.5158510  5.268641 \n",
       "8    ENSG00000229344 1565.304483   2.235852      0.6209036  3.600965 \n",
       "9    ENSG00000230092   18.129602  -2.704409      0.6059129 -4.463362 \n",
       "10   ENSG00000188976 1669.458194   2.215552      0.4661518  4.752854 \n",
       "11   ENSG00000187961  122.344404   4.472072      0.6209385  7.202117 \n",
       "12   ENSG00000187583   20.898840   3.961467      0.7004398  5.655685 \n",
       "13   ENSG00000187642    4.799924   5.178611      1.3523668  3.829294 \n",
       "14   ENSG00000188290   44.552088   5.900809      0.9147513  6.450725 \n",
       "15   ENSG00000187608  159.276378   4.757089      0.7536132  6.312374 \n",
       "16   ENSG00000188157 2087.439527   3.499346      0.4626582  7.563567 \n",
       "17   ENSG00000217801   15.564120   3.414835      0.9482732  3.601109 \n",
       "18   ENSG00000131591  131.759397   3.640088      0.4177733  8.713071 \n",
       "19   ENSG00000186827    4.245152   3.038250      1.2194445  2.491503 \n",
       "20   ENSG00000078808 3620.721822   3.373225      0.4949208  6.815686 \n",
       "21   ENSG00000184163    2.893892   5.195532      1.6950624  3.065098 \n",
       "22   ENSG00000162572   29.098453   3.384583      0.5600258  6.043621 \n",
       "23   ENSG00000131584  259.077541   3.363116      0.5119039  6.569819 \n",
       "24   ENSG00000169972  129.551677   4.995285      0.5053625  9.884559 \n",
       "25   ENSG00000127054 1455.046421   2.190835      0.3287388  6.664365 \n",
       "26   ENSG00000224051  360.864448   2.834700      0.3671056  7.721757 \n",
       "27   ENSG00000107404  502.844505   4.309187      0.5192086  8.299529 \n",
       "28   ENSG00000175756  908.386968   4.677766      0.5457695  8.570956 \n",
       "29   ENSG00000224870  194.379764   2.013310      0.3107471  6.478934 \n",
       "30   ENSG00000235098    5.865766   3.431368      1.3050322  2.629336 \n",
       "⋮    ⋮               ⋮            ⋮              ⋮         ⋮         \n",
       "4295 ENSG00000183486 6.706870e+01 -3.933216      0.8894120  -4.422266\n",
       "4296 ENSG00000160191 3.939459e+01 -5.031420      1.2367561  -4.068240\n",
       "4297 ENSG00000160193 3.910671e+02  2.073973      0.5943756   3.489331\n",
       "4298 ENSG00000233056 5.005529e+01 -7.556444      1.2728092  -5.936824\n",
       "4299 ENSG00000160200 3.288177e+02  2.701138      0.6981577   3.868952\n",
       "4300 ENSG00000234289 7.481458e+00  3.145076      0.8719899   3.606780\n",
       "4301 ENSG00000160213 3.424238e+03  2.368002      0.3856585   6.140153\n",
       "4302 ENSG00000160214 6.461080e+02  2.508641      0.4262438   5.885461\n",
       "4303 ENSG00000241945 6.671987e+02  2.002565      0.3638907   5.503205\n",
       "4304 ENSG00000141959 2.722792e+03  3.405519      0.4080442   8.345957\n",
       "4305 ENSG00000160226 3.775703e+01  2.701964      0.5234693   5.161647\n",
       "4306 ENSG00000224747 3.468590e+00 -3.110887      1.1444715  -2.718187\n",
       "4307 ENSG00000160256 3.681278e+02  3.054209      0.5849579   5.221246\n",
       "4308 ENSG00000276529 1.920132e+01  3.288911      0.6519181   5.044975\n",
       "4309 ENSG00000273796 1.950656e+01  2.678288      0.7439840   3.599926\n",
       "4310 ENSG00000182871 4.949707e+03  3.963749      0.5313740   7.459434\n",
       "4311 ENSG00000173638 4.630742e+02  2.592352      0.4721359   5.490690\n",
       "4312 ENSG00000142173 1.876253e+02 -2.592745      0.8237193  -3.147608\n",
       "4313 ENSG00000160285 2.393222e+03  2.454924      0.4540860   5.406298\n",
       "4314 ENSG00000160298 1.638218e+02  3.005793      0.4503778   6.673938\n",
       "4315 ENSG00000211459 1.701104e+05 -4.205954      0.3739236 -11.248164\n",
       "4316 ENSG00000210077 7.769081e+01 -2.410515      0.5907026  -4.080760\n",
       "4317 ENSG00000210082 4.381109e+05 -2.245042      0.3373900  -6.654145\n",
       "4318 ENSG00000210100 5.866870e+01 -2.980580      0.6465707  -4.609829\n",
       "4319 ENSG00000210117 7.613965e+01 -2.885473      0.6597042  -4.373888\n",
       "4320 ENSG00000210144 1.593654e+03 -2.086375      0.3944385  -5.289480\n",
       "4321 ENSG00000210154 1.141673e+01 -3.165036      1.0329754  -3.064000\n",
       "4322 ENSG00000210156 9.639139e+01 -2.462599      0.5393741  -4.565660\n",
       "4323 ENSG00000210194 1.674677e+02 -2.019113      0.4969716  -4.062833\n",
       "4324 ENSG00000210196 4.187870e+03 -2.050223      0.4617745  -4.439878\n",
       "     pvalue       padj        \n",
       "1    2.209988e-03 7.991285e-03\n",
       "2    3.199285e-09 6.290752e-08\n",
       "3    1.936023e-06 1.891486e-05\n",
       "4    9.751165e-03 2.777531e-02\n",
       "5    3.670306e-11 1.079563e-09\n",
       "6    5.701423e-15 3.577285e-13\n",
       "7    1.374375e-07 1.858197e-06\n",
       "8    3.170388e-04 1.543895e-03\n",
       "9    8.068343e-06 6.512045e-05\n",
       "10   2.005650e-06 1.944297e-05\n",
       "11   5.928457e-13 2.500767e-11\n",
       "12   1.552255e-08 2.631562e-07\n",
       "13   1.285112e-04 7.152178e-04\n",
       "14   1.113166e-10 2.963536e-09\n",
       "15   2.747866e-10 6.688082e-09\n",
       "16   3.921648e-14 2.079223e-12\n",
       "17   3.168626e-04 1.543401e-03\n",
       "18   2.957518e-18 3.579602e-16\n",
       "19   1.272038e-02 3.462161e-02\n",
       "20   9.381516e-12 3.127840e-10\n",
       "21   2.175989e-03 7.894637e-03\n",
       "22   1.506935e-09 3.180996e-08\n",
       "23   5.037638e-11 1.437713e-09\n",
       "24   4.857169e-23 1.426979e-20\n",
       "25   2.658129e-11 8.055679e-10\n",
       "26   1.147372e-14 6.725860e-13\n",
       "27   1.045252e-16 9.256037e-15\n",
       "28   1.026297e-17 1.109467e-15\n",
       "29   9.237262e-11 2.521015e-09\n",
       "30   8.555176e-03 2.492590e-02\n",
       "⋮    ⋮            ⋮           \n",
       "4295 9.767117e-06 7.689601e-05\n",
       "4296 4.736963e-05 3.037008e-04\n",
       "4297 4.842315e-04 2.212668e-03\n",
       "4298 2.905961e-09 5.782283e-08\n",
       "4299 1.093042e-04 6.211984e-04\n",
       "4300 3.100205e-04 1.514090e-03\n",
       "4301 8.244198e-10 1.854722e-08\n",
       "4302 3.969459e-09 7.642662e-08\n",
       "4303 3.729481e-08 5.784634e-07\n",
       "4304 7.063966e-17 6.533383e-15\n",
       "4305 2.447867e-07 3.120374e-06\n",
       "4306 6.564079e-03 1.991957e-02\n",
       "4307 1.777234e-07 2.338308e-06\n",
       "4308 4.535797e-07 5.360527e-06\n",
       "4309 3.183073e-04 1.549166e-03\n",
       "4310 8.689500e-14 4.314000e-12\n",
       "4311 4.003663e-08 6.179201e-07\n",
       "4312 1.646124e-03 6.261541e-03\n",
       "4313 6.434060e-08 9.451256e-07\n",
       "4314 2.490294e-11 7.583856e-10\n",
       "4315 2.364642e-29 2.952492e-26\n",
       "4316 4.488876e-05 2.895795e-04\n",
       "4317 2.849522e-11 8.583628e-10\n",
       "4318 4.030007e-06 3.567435e-05\n",
       "4319 1.220528e-05 9.329361e-05\n",
       "4320 1.226648e-07 1.681221e-06\n",
       "4321 2.183992e-03 7.919072e-03\n",
       "4322 4.979256e-06 4.299516e-05\n",
       "4323 4.848078e-05 3.098700e-04\n",
       "4324 9.000977e-06 7.178933e-05"
      ]
     },
     "metadata": {},
     "output_type": "display_data"
    }
   ],
   "source": [
    "sig_gene <- res |>\n",
    "    as.data.frame() |>\n",
    "    filter(abs(log2FoldChange) > 2 & padj < 0.05) |>\n",
    "    rownames_to_column('gene')\n",
    "sig_gene"
   ]
  },
  {
   "cell_type": "code",
   "execution_count": 10,
   "id": "7598d8e2",
   "metadata": {
    "execution": {
     "iopub.execute_input": "2024-11-14T21:40:15.805186Z",
     "iopub.status.busy": "2024-11-14T21:40:15.804101Z",
     "iopub.status.idle": "2024-11-14T21:40:15.817485Z",
     "shell.execute_reply": "2024-11-14T21:40:15.816240Z"
    }
   },
   "outputs": [
    {
     "data": {
      "text/html": [
       "<style>\n",
       ".list-inline {list-style: none; margin:0; padding: 0}\n",
       ".list-inline>li {display: inline-block}\n",
       ".list-inline>li:not(:last-child)::after {content: \"\\00b7\"; padding: 0 .5ex}\n",
       "</style>\n",
       "<ol class=list-inline><li>4324</li><li>7</li></ol>\n"
      ],
      "text/latex": [
       "\\begin{enumerate*}\n",
       "\\item 4324\n",
       "\\item 7\n",
       "\\end{enumerate*}\n"
      ],
      "text/markdown": [
       "1. 4324\n",
       "2. 7\n",
       "\n",
       "\n"
      ],
      "text/plain": [
       "[1] 4324    7"
      ]
     },
     "metadata": {},
     "output_type": "display_data"
    }
   ],
   "source": [
    "dim(sig_gene)"
   ]
  },
  {
   "cell_type": "code",
   "execution_count": 11,
   "id": "506078ab",
   "metadata": {
    "execution": {
     "iopub.execute_input": "2024-11-14T21:40:15.821326Z",
     "iopub.status.busy": "2024-11-14T21:40:15.820264Z",
     "iopub.status.idle": "2024-11-14T21:40:15.833084Z",
     "shell.execute_reply": "2024-11-14T21:40:15.831826Z"
    }
   },
   "outputs": [
    {
     "data": {
      "text/html": [
       "0.0743287379241586"
      ],
      "text/latex": [
       "0.0743287379241586"
      ],
      "text/markdown": [
       "0.0743287379241586"
      ],
      "text/plain": [
       "[1] 0.07432874"
      ]
     },
     "metadata": {},
     "output_type": "display_data"
    }
   ],
   "source": [
    "dim(sig_gene)[1] / dim(count_clean)[1]"
   ]
  },
  {
   "cell_type": "markdown",
   "id": "912f3643",
   "metadata": {},
   "source": [
    "14.27% of all genes were differentially expressed between IS and C."
   ]
  },
  {
   "cell_type": "markdown",
   "id": "e59713a3",
   "metadata": {},
   "source": [
    "## Save Data"
   ]
  },
  {
   "cell_type": "code",
   "execution_count": 12,
   "id": "35266a2c",
   "metadata": {
    "execution": {
     "iopub.execute_input": "2024-11-14T21:40:15.836926Z",
     "iopub.status.busy": "2024-11-14T21:40:15.835862Z",
     "iopub.status.idle": "2024-11-14T21:40:17.192356Z",
     "shell.execute_reply": "2024-11-14T21:40:17.190841Z"
    }
   },
   "outputs": [],
   "source": [
    "saveRDS(dds, file = \"../../result/deseq2/dds.rds\")\n",
    "write_csv(sig_gene, \"../../result/deseq2/sig_gene.csv\")"
   ]
  },
  {
   "cell_type": "markdown",
   "id": "37a46027",
   "metadata": {},
   "source": [
    "## Conclusion"
   ]
  },
  {
   "cell_type": "markdown",
   "id": "b6d6ca49",
   "metadata": {},
   "source": [
    "In this notebook, we used DESeq2 to perform differential gene expression analysis, identifying genes with adjusted p-values below 0.05 and an absolute log2 fold change greater than 1, indicating a two-fold expression change between IS and Control conditions. These genes were statistically significant."
   ]
  },
  {
   "cell_type": "code",
   "execution_count": 13,
   "id": "0177d087",
   "metadata": {
    "execution": {
     "iopub.execute_input": "2024-11-14T21:40:17.196574Z",
     "iopub.status.busy": "2024-11-14T21:40:17.195460Z",
     "iopub.status.idle": "2024-11-14T21:40:17.225270Z",
     "shell.execute_reply": "2024-11-14T21:40:17.223964Z"
    }
   },
   "outputs": [
    {
     "data": {
      "text/plain": [
       "R version 4.3.1 (2023-06-16)\n",
       "Platform: x86_64-conda-linux-gnu (64-bit)\n",
       "Running under: Ubuntu 22.04.5 LTS\n",
       "\n",
       "Matrix products: default\n",
       "BLAS/LAPACK: /home/ubuntu/miniconda3/lib/libopenblasp-r0.3.28.so;  LAPACK version 3.12.0\n",
       "\n",
       "locale:\n",
       " [1] LC_CTYPE=C.UTF-8       LC_NUMERIC=C           LC_TIME=C.UTF-8       \n",
       " [4] LC_COLLATE=C.UTF-8     LC_MONETARY=C.UTF-8    LC_MESSAGES=C.UTF-8   \n",
       " [7] LC_PAPER=C.UTF-8       LC_NAME=C              LC_ADDRESS=C          \n",
       "[10] LC_TELEPHONE=C         LC_MEASUREMENT=C.UTF-8 LC_IDENTIFICATION=C   \n",
       "\n",
       "time zone: Etc/UTC\n",
       "tzcode source: system (glibc)\n",
       "\n",
       "attached base packages:\n",
       "[1] stats4    stats     graphics  grDevices utils     datasets  methods  \n",
       "[8] base     \n",
       "\n",
       "other attached packages:\n",
       " [1] DESeq2_1.42.1               SummarizedExperiment_1.32.0\n",
       " [3] Biobase_2.62.0              MatrixGenerics_1.14.0      \n",
       " [5] matrixStats_1.4.1           GenomicRanges_1.54.1       \n",
       " [7] GenomeInfoDb_1.38.8         IRanges_2.36.0             \n",
       " [9] S4Vectors_0.40.2            BiocGenerics_0.48.1        \n",
       "[11] lubridate_1.9.3             forcats_1.0.0              \n",
       "[13] stringr_1.5.1               dplyr_1.1.4                \n",
       "[15] purrr_1.0.2                 readr_2.1.5                \n",
       "[17] tidyr_1.3.1                 tibble_3.2.1               \n",
       "[19] ggplot2_3.5.1               tidyverse_2.0.0            \n",
       "\n",
       "loaded via a namespace (and not attached):\n",
       " [1] gtable_0.3.6            lattice_0.22-6          tzdb_0.4.0             \n",
       " [4] vctrs_0.6.5             tools_4.3.1             bitops_1.0-9           \n",
       " [7] generics_0.1.3          parallel_4.3.1          fansi_1.0.6            \n",
       "[10] pkgconfig_2.0.3         Matrix_1.6-1.1          uuid_1.2-1             \n",
       "[13] lifecycle_1.0.4         GenomeInfoDbData_1.2.11 compiler_4.3.1         \n",
       "[16] munsell_0.5.1           repr_1.1.7              codetools_0.2-20       \n",
       "[19] htmltools_0.5.8.1       RCurl_1.98-1.16         pillar_1.9.0           \n",
       "[22] crayon_1.5.3            BiocParallel_1.36.0     DelayedArray_0.28.0    \n",
       "[25] abind_1.4-8             locfit_1.5-9.10         tidyselect_1.2.1       \n",
       "[28] digest_0.6.37           stringi_1.8.4           fastmap_1.2.0          \n",
       "[31] grid_4.3.1              colorspace_2.1-1        cli_3.6.3              \n",
       "[34] SparseArray_1.2.4       magrittr_2.0.3          S4Arrays_1.2.1         \n",
       "[37] base64enc_0.1-3         utf8_1.2.4              IRdisplay_1.1          \n",
       "[40] withr_3.0.2             scales_1.3.0            bit64_4.5.2            \n",
       "[43] IRkernel_1.3.2          timechange_0.3.0        XVector_0.42.0         \n",
       "[46] bit_4.5.0               pbdZMQ_0.3-13           hms_1.1.3              \n",
       "[49] evaluate_1.0.1          rlang_1.1.4             Rcpp_1.0.13-1          \n",
       "[52] glue_1.8.0              vroom_1.6.5             jsonlite_1.8.9         \n",
       "[55] R6_2.5.1                zlibbioc_1.48.2        "
      ]
     },
     "metadata": {},
     "output_type": "display_data"
    }
   ],
   "source": [
    "sessionInfo()"
   ]
  }
 ],
 "metadata": {
  "kernelspec": {
   "display_name": "R",
   "language": "R",
   "name": "ir"
  },
  "language_info": {
   "codemirror_mode": "r",
   "file_extension": ".r",
   "mimetype": "text/x-r-source",
   "name": "R",
   "pygments_lexer": "r",
   "version": "4.3.1"
  }
 },
 "nbformat": 4,
 "nbformat_minor": 5
}

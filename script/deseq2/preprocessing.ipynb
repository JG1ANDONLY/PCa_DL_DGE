{
 "cells": [
  {
   "cell_type": "markdown",
   "id": "c3f4dc88",
   "metadata": {},
   "source": [
    "This notebook uses an R kernel."
   ]
  },
  {
   "cell_type": "markdown",
   "id": "1c64cbe6",
   "metadata": {},
   "source": [
    "# RNA-seq Raw Count Matrix Preprocessing"
   ]
  },
  {
   "cell_type": "markdown",
   "id": "bfb96504",
   "metadata": {},
   "source": [
    "Author: Zhongyi (James) Guo <br>\n",
    "Date: 10/28/2024"
   ]
  },
  {
   "cell_type": "markdown",
   "id": "8e55455d",
   "metadata": {},
   "source": [
    "## Import Packages"
   ]
  },
  {
   "cell_type": "code",
   "execution_count": 1,
   "id": "d208aff6",
   "metadata": {},
   "outputs": [
    {
     "data": {
      "text/html": [
       "'/Users/zhongyiguo/Desktop/SCA-DL-DGE/script/deseq2'"
      ],
      "text/latex": [
       "'/Users/zhongyiguo/Desktop/SCA-DL-DGE/script/deseq2'"
      ],
      "text/markdown": [
       "'/Users/zhongyiguo/Desktop/SCA-DL-DGE/script/deseq2'"
      ],
      "text/plain": [
       "[1] \"/Users/zhongyiguo/Desktop/SCA-DL-DGE/script/deseq2\""
      ]
     },
     "metadata": {},
     "output_type": "display_data"
    }
   ],
   "source": [
    "getwd()"
   ]
  },
  {
   "cell_type": "code",
   "execution_count": 2,
   "id": "d24060df",
   "metadata": {},
   "outputs": [
    {
     "data": {
      "text/html": [
       "'/Library/Frameworks/R.framework/Versions/4.3-arm64/Resources/library'"
      ],
      "text/latex": [
       "'/Library/Frameworks/R.framework/Versions/4.3-arm64/Resources/library'"
      ],
      "text/markdown": [
       "'/Library/Frameworks/R.framework/Versions/4.3-arm64/Resources/library'"
      ],
      "text/plain": [
       "[1] \"/Library/Frameworks/R.framework/Versions/4.3-arm64/Resources/library\""
      ]
     },
     "metadata": {},
     "output_type": "display_data"
    }
   ],
   "source": [
    ".libPaths()"
   ]
  },
  {
   "cell_type": "code",
   "execution_count": 3,
   "id": "56c98057",
   "metadata": {},
   "outputs": [
    {
     "name": "stderr",
     "output_type": "stream",
     "text": [
      "── \u001b[1mAttaching core tidyverse packages\u001b[22m ──────────────────────────────────────────────────────────────────────────────────────────── tidyverse 2.0.0 ──\n",
      "\u001b[32m✔\u001b[39m \u001b[34mdplyr    \u001b[39m 1.1.4     \u001b[32m✔\u001b[39m \u001b[34mreadr    \u001b[39m 2.1.5\n",
      "\u001b[32m✔\u001b[39m \u001b[34mforcats  \u001b[39m 1.0.0     \u001b[32m✔\u001b[39m \u001b[34mstringr  \u001b[39m 1.5.1\n",
      "\u001b[32m✔\u001b[39m \u001b[34mggplot2  \u001b[39m 3.5.0     \u001b[32m✔\u001b[39m \u001b[34mtibble   \u001b[39m 3.2.1\n",
      "\u001b[32m✔\u001b[39m \u001b[34mlubridate\u001b[39m 1.9.3     \u001b[32m✔\u001b[39m \u001b[34mtidyr    \u001b[39m 1.3.1\n",
      "\u001b[32m✔\u001b[39m \u001b[34mpurrr    \u001b[39m 1.0.2     \n",
      "── \u001b[1mConflicts\u001b[22m ────────────────────────────────────────────────────────────────────────────────────────────────────────────── tidyverse_conflicts() ──\n",
      "\u001b[31m✖\u001b[39m \u001b[34mdplyr\u001b[39m::\u001b[32mfilter()\u001b[39m  masks \u001b[34mstats\u001b[39m::filter()\n",
      "\u001b[31m✖\u001b[39m \u001b[34mpurrr\u001b[39m::\u001b[32mflatten()\u001b[39m masks \u001b[34mjsonlite\u001b[39m::flatten()\n",
      "\u001b[31m✖\u001b[39m \u001b[34mdplyr\u001b[39m::\u001b[32mlag()\u001b[39m     masks \u001b[34mstats\u001b[39m::lag()\n",
      "\u001b[36mℹ\u001b[39m Use the conflicted package (\u001b[3m\u001b[34m<http://conflicted.r-lib.org/>\u001b[39m\u001b[23m) to force all conflicts to become errors\n",
      "Loading required package: Biobase\n",
      "\n",
      "Loading required package: BiocGenerics\n",
      "\n",
      "\n",
      "Attaching package: ‘BiocGenerics’\n",
      "\n",
      "\n",
      "The following objects are masked from ‘package:lubridate’:\n",
      "\n",
      "    intersect, setdiff, union\n",
      "\n",
      "\n",
      "The following objects are masked from ‘package:dplyr’:\n",
      "\n",
      "    combine, intersect, setdiff, union\n",
      "\n",
      "\n",
      "The following objects are masked from ‘package:stats’:\n",
      "\n",
      "    IQR, mad, sd, var, xtabs\n",
      "\n",
      "\n",
      "The following objects are masked from ‘package:base’:\n",
      "\n",
      "    anyDuplicated, aperm, append, as.data.frame, basename, cbind,\n",
      "    colnames, dirname, do.call, duplicated, eval, evalq, Filter, Find,\n",
      "    get, grep, grepl, intersect, is.unsorted, lapply, Map, mapply,\n",
      "    match, mget, order, paste, pmax, pmax.int, pmin, pmin.int,\n",
      "    Position, rank, rbind, Reduce, rownames, sapply, setdiff, sort,\n",
      "    table, tapply, union, unique, unsplit, which.max, which.min\n",
      "\n",
      "\n",
      "Welcome to Bioconductor\n",
      "\n",
      "    Vignettes contain introductory material; view with\n",
      "    'browseVignettes()'. To cite Bioconductor, see\n",
      "    'citation(\"Biobase\")', and for packages 'citation(\"pkgname\")'.\n",
      "\n",
      "\n",
      "Setting options('download.file.method.GEOquery'='auto')\n",
      "\n",
      "Setting options('GEOquery.inmemory.gpl'=FALSE)\n",
      "\n",
      "AnnoProbe v 0.1.7  welcome to use AnnoProbe!\n",
      "If you use AnnoProbe in published research, please acknowledgements:\n",
      "We thank Dr.Jianming Zeng(University of Macau), and all the members of his bioinformatics team, biotrainee, for generously sharing their experience and codes.\n",
      "\n"
     ]
    }
   ],
   "source": [
    "library(tidyverse)\n",
    "library(GEOquery)\n",
    "library(AnnoProbe)"
   ]
  },
  {
   "cell_type": "markdown",
   "id": "db6f456f",
   "metadata": {},
   "source": [
    "## Data Wrangling"
   ]
  },
  {
   "cell_type": "markdown",
   "id": "47f9faa6",
   "metadata": {},
   "source": [
    "### Meta Data"
   ]
  },
  {
   "cell_type": "code",
   "execution_count": 4,
   "id": "48b1e1b8",
   "metadata": {},
   "outputs": [
    {
     "name": "stderr",
     "output_type": "stream",
     "text": [
      "Found 1 file(s)\n",
      "\n",
      "GSE248760_series_matrix.txt.gz\n",
      "\n"
     ]
    }
   ],
   "source": [
    "eSet <- getGEO(\"GSE248760\", destdir = '.', getGPL = F)"
   ]
  },
  {
   "cell_type": "code",
   "execution_count": 5,
   "id": "26736075",
   "metadata": {},
   "outputs": [
    {
     "data": {
      "text/html": [
       "<style>\n",
       ".list-inline {list-style: none; margin:0; padding: 0}\n",
       ".list-inline>li {display: inline-block}\n",
       ".list-inline>li:not(:last-child)::after {content: \"\\00b7\"; padding: 0 .5ex}\n",
       "</style>\n",
       "<ol class=list-inline><li>'Sample_1, IS'</li><li>'Sample_2, IS'</li><li>'Sample_3, IS'</li><li>'Sample_4, IS'</li><li>'Sample_5, C'</li><li>'Sample_6, C'</li><li>'Sample_7, C'</li><li>'Sample_8, C'</li></ol>\n"
      ],
      "text/latex": [
       "\\begin{enumerate*}\n",
       "\\item 'Sample\\_1, IS'\n",
       "\\item 'Sample\\_2, IS'\n",
       "\\item 'Sample\\_3, IS'\n",
       "\\item 'Sample\\_4, IS'\n",
       "\\item 'Sample\\_5, C'\n",
       "\\item 'Sample\\_6, C'\n",
       "\\item 'Sample\\_7, C'\n",
       "\\item 'Sample\\_8, C'\n",
       "\\end{enumerate*}\n"
      ],
      "text/markdown": [
       "1. 'Sample_1, IS'\n",
       "2. 'Sample_2, IS'\n",
       "3. 'Sample_3, IS'\n",
       "4. 'Sample_4, IS'\n",
       "5. 'Sample_5, C'\n",
       "6. 'Sample_6, C'\n",
       "7. 'Sample_7, C'\n",
       "8. 'Sample_8, C'\n",
       "\n",
       "\n"
      ],
      "text/plain": [
       "[1] \"Sample_1, IS\" \"Sample_2, IS\" \"Sample_3, IS\" \"Sample_4, IS\" \"Sample_5, C\" \n",
       "[6] \"Sample_6, C\"  \"Sample_7, C\"  \"Sample_8, C\" "
      ]
     },
     "metadata": {},
     "output_type": "display_data"
    }
   ],
   "source": [
    "title <- eSet$GSE248760_series_matrix.txt.gz@phenoData$title\n",
    "title"
   ]
  },
  {
   "cell_type": "code",
   "execution_count": 6,
   "id": "8a25ca64",
   "metadata": {},
   "outputs": [
    {
     "data": {
      "text/html": [
       "<table class=\"dataframe\">\n",
       "<caption>A data.frame: 8 × 2</caption>\n",
       "<thead>\n",
       "\t<tr><th scope=col>sample</th><th scope=col>status</th></tr>\n",
       "\t<tr><th scope=col>&lt;chr&gt;</th><th scope=col>&lt;chr&gt;</th></tr>\n",
       "</thead>\n",
       "<tbody>\n",
       "\t<tr><td>Sample_1</td><td>IS</td></tr>\n",
       "\t<tr><td>Sample_2</td><td>IS</td></tr>\n",
       "\t<tr><td>Sample_3</td><td>IS</td></tr>\n",
       "\t<tr><td>Sample_4</td><td>IS</td></tr>\n",
       "\t<tr><td>Sample_5</td><td>C </td></tr>\n",
       "\t<tr><td>Sample_6</td><td>C </td></tr>\n",
       "\t<tr><td>Sample_7</td><td>C </td></tr>\n",
       "\t<tr><td>Sample_8</td><td>C </td></tr>\n",
       "</tbody>\n",
       "</table>\n"
      ],
      "text/latex": [
       "A data.frame: 8 × 2\n",
       "\\begin{tabular}{ll}\n",
       " sample & status\\\\\n",
       " <chr> & <chr>\\\\\n",
       "\\hline\n",
       "\t Sample\\_1 & IS\\\\\n",
       "\t Sample\\_2 & IS\\\\\n",
       "\t Sample\\_3 & IS\\\\\n",
       "\t Sample\\_4 & IS\\\\\n",
       "\t Sample\\_5 & C \\\\\n",
       "\t Sample\\_6 & C \\\\\n",
       "\t Sample\\_7 & C \\\\\n",
       "\t Sample\\_8 & C \\\\\n",
       "\\end{tabular}\n"
      ],
      "text/markdown": [
       "\n",
       "A data.frame: 8 × 2\n",
       "\n",
       "| sample &lt;chr&gt; | status &lt;chr&gt; |\n",
       "|---|---|\n",
       "| Sample_1 | IS |\n",
       "| Sample_2 | IS |\n",
       "| Sample_3 | IS |\n",
       "| Sample_4 | IS |\n",
       "| Sample_5 | C  |\n",
       "| Sample_6 | C  |\n",
       "| Sample_7 | C  |\n",
       "| Sample_8 | C  |\n",
       "\n"
      ],
      "text/plain": [
       "  sample   status\n",
       "1 Sample_1 IS    \n",
       "2 Sample_2 IS    \n",
       "3 Sample_3 IS    \n",
       "4 Sample_4 IS    \n",
       "5 Sample_5 C     \n",
       "6 Sample_6 C     \n",
       "7 Sample_7 C     \n",
       "8 Sample_8 C     "
      ]
     },
     "metadata": {},
     "output_type": "display_data"
    }
   ],
   "source": [
    "meta_data <- title |>\n",
    "    as.data.frame() |>\n",
    "    separate(title, into = c(\"sample\", \"status\"), sep = \", \")\n",
    "meta_data"
   ]
  },
  {
   "cell_type": "code",
   "execution_count": 7,
   "id": "3aa9ecba",
   "metadata": {},
   "outputs": [],
   "source": [
    "write_csv(meta_data, '../../result/deseq2/meta_data.csv')"
   ]
  },
  {
   "cell_type": "markdown",
   "id": "3571485e",
   "metadata": {},
   "source": [
    "## Count Matrix"
   ]
  },
  {
   "cell_type": "markdown",
   "id": "60a0f110",
   "metadata": {},
   "source": [
    "The RNA-seq raw count matrix was downloaded from GEO using `http`: https://www.ncbi.nlm.nih.gov/geo/query/acc.cgi?acc=GSE248760"
   ]
  },
  {
   "cell_type": "code",
   "execution_count": 8,
   "id": "760928c3",
   "metadata": {
    "scrolled": false
   },
   "outputs": [
    {
     "data": {
      "text/html": [
       "<table class=\"dataframe\">\n",
       "<caption>A data.frame: 6 × 9</caption>\n",
       "<thead>\n",
       "\t<tr><th></th><th scope=col>NAME</th><th scope=col>Sample_1</th><th scope=col>Sample_2</th><th scope=col>Sample_3</th><th scope=col>Sample_4</th><th scope=col>Sample_5</th><th scope=col>Sample_6</th><th scope=col>Sample_7</th><th scope=col>Sample_8</th></tr>\n",
       "\t<tr><th></th><th scope=col>&lt;chr&gt;</th><th scope=col>&lt;chr&gt;</th><th scope=col>&lt;chr&gt;</th><th scope=col>&lt;chr&gt;</th><th scope=col>&lt;chr&gt;</th><th scope=col>&lt;chr&gt;</th><th scope=col>&lt;chr&gt;</th><th scope=col>&lt;chr&gt;</th><th scope=col>&lt;chr&gt;</th></tr>\n",
       "</thead>\n",
       "<tbody>\n",
       "\t<tr><th scope=row>1</th><td>CLASS:DOSE     </td><td>IS  </td><td>IS  </td><td>IS </td><td>IS </td><td>C  </td><td>C  </td><td>C  </td><td>C  </td></tr>\n",
       "\t<tr><th scope=row>2</th><td>ENSG00000223972</td><td>13  </td><td>18  </td><td>3  </td><td>1  </td><td>5  </td><td>11 </td><td>17 </td><td>10 </td></tr>\n",
       "\t<tr><th scope=row>3</th><td>ENSG00000227232</td><td>1087</td><td>1002</td><td>182</td><td>531</td><td>200</td><td>114</td><td>319</td><td>172</td></tr>\n",
       "\t<tr><th scope=row>4</th><td>ENSG00000278267</td><td>23  </td><td>33  </td><td>1  </td><td>12 </td><td>6  </td><td>1  </td><td>4  </td><td>1  </td></tr>\n",
       "\t<tr><th scope=row>5</th><td>ENSG00000243485</td><td>0   </td><td>3   </td><td>0  </td><td>1  </td><td>2  </td><td>2  </td><td>0  </td><td>2  </td></tr>\n",
       "\t<tr><th scope=row>6</th><td>ENSG00000284332</td><td>0   </td><td>0   </td><td>0  </td><td>0  </td><td>0  </td><td>0  </td><td>0  </td><td>0  </td></tr>\n",
       "</tbody>\n",
       "</table>\n"
      ],
      "text/latex": [
       "A data.frame: 6 × 9\n",
       "\\begin{tabular}{r|lllllllll}\n",
       "  & NAME & Sample\\_1 & Sample\\_2 & Sample\\_3 & Sample\\_4 & Sample\\_5 & Sample\\_6 & Sample\\_7 & Sample\\_8\\\\\n",
       "  & <chr> & <chr> & <chr> & <chr> & <chr> & <chr> & <chr> & <chr> & <chr>\\\\\n",
       "\\hline\n",
       "\t1 & CLASS:DOSE      & IS   & IS   & IS  & IS  & C   & C   & C   & C  \\\\\n",
       "\t2 & ENSG00000223972 & 13   & 18   & 3   & 1   & 5   & 11  & 17  & 10 \\\\\n",
       "\t3 & ENSG00000227232 & 1087 & 1002 & 182 & 531 & 200 & 114 & 319 & 172\\\\\n",
       "\t4 & ENSG00000278267 & 23   & 33   & 1   & 12  & 6   & 1   & 4   & 1  \\\\\n",
       "\t5 & ENSG00000243485 & 0    & 3    & 0   & 1   & 2   & 2   & 0   & 2  \\\\\n",
       "\t6 & ENSG00000284332 & 0    & 0    & 0   & 0   & 0   & 0   & 0   & 0  \\\\\n",
       "\\end{tabular}\n"
      ],
      "text/markdown": [
       "\n",
       "A data.frame: 6 × 9\n",
       "\n",
       "| <!--/--> | NAME &lt;chr&gt; | Sample_1 &lt;chr&gt; | Sample_2 &lt;chr&gt; | Sample_3 &lt;chr&gt; | Sample_4 &lt;chr&gt; | Sample_5 &lt;chr&gt; | Sample_6 &lt;chr&gt; | Sample_7 &lt;chr&gt; | Sample_8 &lt;chr&gt; |\n",
       "|---|---|---|---|---|---|---|---|---|---|\n",
       "| 1 | CLASS:DOSE      | IS   | IS   | IS  | IS  | C   | C   | C   | C   |\n",
       "| 2 | ENSG00000223972 | 13   | 18   | 3   | 1   | 5   | 11  | 17  | 10  |\n",
       "| 3 | ENSG00000227232 | 1087 | 1002 | 182 | 531 | 200 | 114 | 319 | 172 |\n",
       "| 4 | ENSG00000278267 | 23   | 33   | 1   | 12  | 6   | 1   | 4   | 1   |\n",
       "| 5 | ENSG00000243485 | 0    | 3    | 0   | 1   | 2   | 2   | 0   | 2   |\n",
       "| 6 | ENSG00000284332 | 0    | 0    | 0   | 0   | 0   | 0   | 0   | 0   |\n",
       "\n"
      ],
      "text/plain": [
       "  NAME            Sample_1 Sample_2 Sample_3 Sample_4 Sample_5 Sample_6\n",
       "1 CLASS:DOSE      IS       IS       IS       IS       C        C       \n",
       "2 ENSG00000223972 13       18       3        1        5        11      \n",
       "3 ENSG00000227232 1087     1002     182      531      200      114     \n",
       "4 ENSG00000278267 23       33       1        12       6        1       \n",
       "5 ENSG00000243485 0        3        0        1        2        2       \n",
       "6 ENSG00000284332 0        0        0        0        0        0       \n",
       "  Sample_7 Sample_8\n",
       "1 C        C       \n",
       "2 17       10      \n",
       "3 319      172     \n",
       "4 4        1       \n",
       "5 0        2       \n",
       "6 0        0       "
      ]
     },
     "metadata": {},
     "output_type": "display_data"
    }
   ],
   "source": [
    "count <- read.table('../../data/GSE248760_raw_counts.txt', header = TRUE)\n",
    "head(count)"
   ]
  },
  {
   "cell_type": "markdown",
   "id": "661f847f",
   "metadata": {},
   "source": [
    "The first row indicates the sample status for ischemic stroke (IS) or not (C, control). This piece of information has already been included in meta data, so we will remove it."
   ]
  },
  {
   "cell_type": "code",
   "execution_count": 9,
   "id": "e347fab1",
   "metadata": {
    "scrolled": false
   },
   "outputs": [
    {
     "data": {
      "text/html": [
       "<table class=\"dataframe\">\n",
       "<caption>A data.frame: 58174 × 9</caption>\n",
       "<thead>\n",
       "\t<tr><th scope=col>NAME</th><th scope=col>Sample_1</th><th scope=col>Sample_2</th><th scope=col>Sample_3</th><th scope=col>Sample_4</th><th scope=col>Sample_5</th><th scope=col>Sample_6</th><th scope=col>Sample_7</th><th scope=col>Sample_8</th></tr>\n",
       "\t<tr><th scope=col>&lt;chr&gt;</th><th scope=col>&lt;chr&gt;</th><th scope=col>&lt;chr&gt;</th><th scope=col>&lt;chr&gt;</th><th scope=col>&lt;chr&gt;</th><th scope=col>&lt;chr&gt;</th><th scope=col>&lt;chr&gt;</th><th scope=col>&lt;chr&gt;</th><th scope=col>&lt;chr&gt;</th></tr>\n",
       "</thead>\n",
       "<tbody>\n",
       "\t<tr><td>ENSG00000223972</td><td>13  </td><td>18  </td><td>3  </td><td>1  </td><td>5  </td><td>11 </td><td>17 </td><td>10 </td></tr>\n",
       "\t<tr><td>ENSG00000227232</td><td>1087</td><td>1002</td><td>182</td><td>531</td><td>200</td><td>114</td><td>319</td><td>172</td></tr>\n",
       "\t<tr><td>ENSG00000278267</td><td>23  </td><td>33  </td><td>1  </td><td>12 </td><td>6  </td><td>1  </td><td>4  </td><td>1  </td></tr>\n",
       "\t<tr><td>ENSG00000243485</td><td>0   </td><td>3   </td><td>0  </td><td>1  </td><td>2  </td><td>2  </td><td>0  </td><td>2  </td></tr>\n",
       "\t<tr><td>ENSG00000284332</td><td>0   </td><td>0   </td><td>0  </td><td>0  </td><td>0  </td><td>0  </td><td>0  </td><td>0  </td></tr>\n",
       "\t<tr><td>ENSG00000237613</td><td>0   </td><td>0   </td><td>0  </td><td>0  </td><td>0  </td><td>0  </td><td>2  </td><td>0  </td></tr>\n",
       "\t<tr><td>ENSG00000268020</td><td>0   </td><td>0   </td><td>0  </td><td>0  </td><td>0  </td><td>0  </td><td>0  </td><td>0  </td></tr>\n",
       "\t<tr><td>ENSG00000240361</td><td>0   </td><td>0   </td><td>0  </td><td>0  </td><td>0  </td><td>0  </td><td>0  </td><td>0  </td></tr>\n",
       "\t<tr><td>ENSG00000186092</td><td>0   </td><td>0   </td><td>0  </td><td>0  </td><td>0  </td><td>0  </td><td>0  </td><td>0  </td></tr>\n",
       "\t<tr><td>ENSG00000238009</td><td>29  </td><td>8   </td><td>4  </td><td>11 </td><td>57 </td><td>38 </td><td>28 </td><td>13 </td></tr>\n",
       "\t<tr><td>ENSG00000239945</td><td>0   </td><td>0   </td><td>0  </td><td>0  </td><td>0  </td><td>0  </td><td>0  </td><td>0  </td></tr>\n",
       "\t<tr><td>ENSG00000233750</td><td>24  </td><td>4   </td><td>5  </td><td>20 </td><td>17 </td><td>13 </td><td>19 </td><td>5  </td></tr>\n",
       "\t<tr><td>ENSG00000268903</td><td>32  </td><td>43  </td><td>17 </td><td>40 </td><td>0  </td><td>0  </td><td>2  </td><td>1  </td></tr>\n",
       "\t<tr><td>ENSG00000269981</td><td>19  </td><td>16  </td><td>16 </td><td>27 </td><td>0  </td><td>0  </td><td>0  </td><td>2  </td></tr>\n",
       "\t<tr><td>ENSG00000239906</td><td>4   </td><td>3   </td><td>8  </td><td>2  </td><td>0  </td><td>1  </td><td>1  </td><td>0  </td></tr>\n",
       "\t<tr><td>ENSG00000241860</td><td>37  </td><td>11  </td><td>59 </td><td>34 </td><td>102</td><td>185</td><td>124</td><td>60 </td></tr>\n",
       "\t<tr><td>ENSG00000222623</td><td>0   </td><td>0   </td><td>0  </td><td>0  </td><td>0  </td><td>0  </td><td>0  </td><td>0  </td></tr>\n",
       "\t<tr><td>ENSG00000241599</td><td>0   </td><td>0   </td><td>0  </td><td>0  </td><td>0  </td><td>2  </td><td>0  </td><td>0  </td></tr>\n",
       "\t<tr><td>ENSG00000279928</td><td>6   </td><td>9   </td><td>0  </td><td>0  </td><td>1  </td><td>5  </td><td>3  </td><td>5  </td></tr>\n",
       "\t<tr><td>ENSG00000279457</td><td>1416</td><td>1658</td><td>249</td><td>703</td><td>201</td><td>112</td><td>252</td><td>165</td></tr>\n",
       "\t<tr><td>ENSG00000273874</td><td>16  </td><td>10  </td><td>2  </td><td>9  </td><td>6  </td><td>1  </td><td>7  </td><td>2  </td></tr>\n",
       "\t<tr><td>ENSG00000228463</td><td>89  </td><td>63  </td><td>6  </td><td>17 </td><td>69 </td><td>79 </td><td>189</td><td>62 </td></tr>\n",
       "\t<tr><td>ENSG00000241670</td><td>0   </td><td>0   </td><td>0  </td><td>0  </td><td>0  </td><td>0  </td><td>0  </td><td>0  </td></tr>\n",
       "\t<tr><td>ENSG00000236679</td><td>30  </td><td>14  </td><td>10 </td><td>7  </td><td>44 </td><td>15 </td><td>8  </td><td>11 </td></tr>\n",
       "\t<tr><td>ENSG00000236743</td><td>3   </td><td>5   </td><td>1  </td><td>2  </td><td>2  </td><td>11 </td><td>7  </td><td>5  </td></tr>\n",
       "\t<tr><td>ENSG00000236601</td><td>0   </td><td>1   </td><td>0  </td><td>0  </td><td>3  </td><td>2  </td><td>1  </td><td>0  </td></tr>\n",
       "\t<tr><td>ENSG00000237094</td><td>205 </td><td>93  </td><td>82 </td><td>149</td><td>156</td><td>135</td><td>230</td><td>105</td></tr>\n",
       "\t<tr><td>ENSG00000269732</td><td>0   </td><td>0   </td><td>0  </td><td>0  </td><td>0  </td><td>0  </td><td>0  </td><td>0  </td></tr>\n",
       "\t<tr><td>ENSG00000278566</td><td>0   </td><td>1   </td><td>0  </td><td>0  </td><td>4  </td><td>0  </td><td>2  </td><td>0  </td></tr>\n",
       "\t<tr><td>ENSG00000224813</td><td>0   </td><td>0   </td><td>0  </td><td>0  </td><td>0  </td><td>0  </td><td>0  </td><td>0  </td></tr>\n",
       "\t<tr><td>⋮</td><td>⋮</td><td>⋮</td><td>⋮</td><td>⋮</td><td>⋮</td><td>⋮</td><td>⋮</td><td>⋮</td></tr>\n",
       "\t<tr><td>ENSG00000210107</td><td>62    </td><td>61    </td><td>10   </td><td>27    </td><td>127   </td><td>46    </td><td>28    </td><td>39    </td></tr>\n",
       "\t<tr><td>ENSG00000210112</td><td>19    </td><td>9     </td><td>6    </td><td>4     </td><td>21    </td><td>12    </td><td>7     </td><td>24    </td></tr>\n",
       "\t<tr><td>ENSG00000198763</td><td>109267</td><td>99821 </td><td>20172</td><td>42667 </td><td>191829</td><td>59466 </td><td>55254 </td><td>92376 </td></tr>\n",
       "\t<tr><td>ENSG00000210117</td><td>18    </td><td>9     </td><td>12   </td><td>21    </td><td>260   </td><td>304   </td><td>65    </td><td>40    </td></tr>\n",
       "\t<tr><td>ENSG00000210127</td><td>90    </td><td>227   </td><td>3    </td><td>8     </td><td>113   </td><td>57    </td><td>20    </td><td>12    </td></tr>\n",
       "\t<tr><td>ENSG00000210135</td><td>455   </td><td>2926  </td><td>629  </td><td>2570  </td><td>3596  </td><td>3437  </td><td>1655  </td><td>1139  </td></tr>\n",
       "\t<tr><td>ENSG00000210140</td><td>1131  </td><td>5158  </td><td>362  </td><td>1631  </td><td>9353  </td><td>3184  </td><td>2278  </td><td>2848  </td></tr>\n",
       "\t<tr><td>ENSG00000210144</td><td>521   </td><td>905   </td><td>189  </td><td>726   </td><td>5074  </td><td>3787  </td><td>1889  </td><td>1722  </td></tr>\n",
       "\t<tr><td>ENSG00000198804</td><td>479069</td><td>338832</td><td>70669</td><td>86583 </td><td>668791</td><td>356781</td><td>306026</td><td>335626</td></tr>\n",
       "\t<tr><td>ENSG00000210151</td><td>23    </td><td>13    </td><td>0    </td><td>1     </td><td>25    </td><td>10    </td><td>9     </td><td>10    </td></tr>\n",
       "\t<tr><td>ENSG00000210154</td><td>8     </td><td>3     </td><td>0    </td><td>0     </td><td>74    </td><td>17    </td><td>14    </td><td>5     </td></tr>\n",
       "\t<tr><td>ENSG00000198712</td><td>376617</td><td>292371</td><td>60523</td><td>115459</td><td>520672</td><td>225007</td><td>217361</td><td>265843</td></tr>\n",
       "\t<tr><td>ENSG00000210156</td><td>42    </td><td>36    </td><td>13   </td><td>24    </td><td>278   </td><td>379   </td><td>103   </td><td>48    </td></tr>\n",
       "\t<tr><td>ENSG00000228253</td><td>36336 </td><td>32170 </td><td>7792 </td><td>12368 </td><td>138592</td><td>55232 </td><td>28436 </td><td>60508 </td></tr>\n",
       "\t<tr><td>ENSG00000198899</td><td>180326</td><td>173886</td><td>19642</td><td>42057 </td><td>300237</td><td>85883 </td><td>58542 </td><td>118829</td></tr>\n",
       "\t<tr><td>ENSG00000198938</td><td>242849</td><td>233627</td><td>32426</td><td>60227 </td><td>298040</td><td>104033</td><td>126213</td><td>190816</td></tr>\n",
       "\t<tr><td>ENSG00000210164</td><td>143   </td><td>75    </td><td>35   </td><td>53    </td><td>233   </td><td>306   </td><td>100   </td><td>54    </td></tr>\n",
       "\t<tr><td>ENSG00000198840</td><td>26170 </td><td>34701 </td><td>3257 </td><td>7514  </td><td>24768 </td><td>13634 </td><td>10387 </td><td>10996 </td></tr>\n",
       "\t<tr><td>ENSG00000210174</td><td>41    </td><td>52    </td><td>25   </td><td>27    </td><td>267   </td><td>156   </td><td>95    </td><td>78    </td></tr>\n",
       "\t<tr><td>ENSG00000212907</td><td>37860 </td><td>22379 </td><td>12453</td><td>23876 </td><td>109131</td><td>46241 </td><td>35511 </td><td>49106 </td></tr>\n",
       "\t<tr><td>ENSG00000198886</td><td>306441</td><td>294593</td><td>49838</td><td>136656</td><td>495286</td><td>173170</td><td>156989</td><td>202016</td></tr>\n",
       "\t<tr><td>ENSG00000210176</td><td>141   </td><td>84    </td><td>53   </td><td>70    </td><td>184   </td><td>310   </td><td>177   </td><td>123   </td></tr>\n",
       "\t<tr><td>ENSG00000210184</td><td>136   </td><td>105   </td><td>56   </td><td>67    </td><td>284   </td><td>570   </td><td>271   </td><td>207   </td></tr>\n",
       "\t<tr><td>ENSG00000210191</td><td>234   </td><td>111   </td><td>40   </td><td>56    </td><td>168   </td><td>286   </td><td>159   </td><td>79    </td></tr>\n",
       "\t<tr><td>ENSG00000198786</td><td>186625</td><td>153111</td><td>41245</td><td>92393 </td><td>523347</td><td>238560</td><td>155414</td><td>223337</td></tr>\n",
       "\t<tr><td>ENSG00000198695</td><td>62588 </td><td>89228 </td><td>9233 </td><td>26631 </td><td>120450</td><td>57746 </td><td>41429 </td><td>49814 </td></tr>\n",
       "\t<tr><td>ENSG00000210194</td><td>95    </td><td>133   </td><td>13   </td><td>49    </td><td>673   </td><td>220   </td><td>148   </td><td>258   </td></tr>\n",
       "\t<tr><td>ENSG00000198727</td><td>170451</td><td>149993</td><td>32980</td><td>81611 </td><td>332722</td><td>94570 </td><td>95405 </td><td>140854</td></tr>\n",
       "\t<tr><td>ENSG00000210195</td><td>22    </td><td>53    </td><td>12   </td><td>1     </td><td>38    </td><td>26    </td><td>16    </td><td>35    </td></tr>\n",
       "\t<tr><td>ENSG00000210196</td><td>2077  </td><td>2743  </td><td>573  </td><td>1239  </td><td>16601 </td><td>10294 </td><td>5005  </td><td>2205  </td></tr>\n",
       "</tbody>\n",
       "</table>\n"
      ],
      "text/latex": [
       "A data.frame: 58174 × 9\n",
       "\\begin{tabular}{lllllllll}\n",
       " NAME & Sample\\_1 & Sample\\_2 & Sample\\_3 & Sample\\_4 & Sample\\_5 & Sample\\_6 & Sample\\_7 & Sample\\_8\\\\\n",
       " <chr> & <chr> & <chr> & <chr> & <chr> & <chr> & <chr> & <chr> & <chr>\\\\\n",
       "\\hline\n",
       "\t ENSG00000223972 & 13   & 18   & 3   & 1   & 5   & 11  & 17  & 10 \\\\\n",
       "\t ENSG00000227232 & 1087 & 1002 & 182 & 531 & 200 & 114 & 319 & 172\\\\\n",
       "\t ENSG00000278267 & 23   & 33   & 1   & 12  & 6   & 1   & 4   & 1  \\\\\n",
       "\t ENSG00000243485 & 0    & 3    & 0   & 1   & 2   & 2   & 0   & 2  \\\\\n",
       "\t ENSG00000284332 & 0    & 0    & 0   & 0   & 0   & 0   & 0   & 0  \\\\\n",
       "\t ENSG00000237613 & 0    & 0    & 0   & 0   & 0   & 0   & 2   & 0  \\\\\n",
       "\t ENSG00000268020 & 0    & 0    & 0   & 0   & 0   & 0   & 0   & 0  \\\\\n",
       "\t ENSG00000240361 & 0    & 0    & 0   & 0   & 0   & 0   & 0   & 0  \\\\\n",
       "\t ENSG00000186092 & 0    & 0    & 0   & 0   & 0   & 0   & 0   & 0  \\\\\n",
       "\t ENSG00000238009 & 29   & 8    & 4   & 11  & 57  & 38  & 28  & 13 \\\\\n",
       "\t ENSG00000239945 & 0    & 0    & 0   & 0   & 0   & 0   & 0   & 0  \\\\\n",
       "\t ENSG00000233750 & 24   & 4    & 5   & 20  & 17  & 13  & 19  & 5  \\\\\n",
       "\t ENSG00000268903 & 32   & 43   & 17  & 40  & 0   & 0   & 2   & 1  \\\\\n",
       "\t ENSG00000269981 & 19   & 16   & 16  & 27  & 0   & 0   & 0   & 2  \\\\\n",
       "\t ENSG00000239906 & 4    & 3    & 8   & 2   & 0   & 1   & 1   & 0  \\\\\n",
       "\t ENSG00000241860 & 37   & 11   & 59  & 34  & 102 & 185 & 124 & 60 \\\\\n",
       "\t ENSG00000222623 & 0    & 0    & 0   & 0   & 0   & 0   & 0   & 0  \\\\\n",
       "\t ENSG00000241599 & 0    & 0    & 0   & 0   & 0   & 2   & 0   & 0  \\\\\n",
       "\t ENSG00000279928 & 6    & 9    & 0   & 0   & 1   & 5   & 3   & 5  \\\\\n",
       "\t ENSG00000279457 & 1416 & 1658 & 249 & 703 & 201 & 112 & 252 & 165\\\\\n",
       "\t ENSG00000273874 & 16   & 10   & 2   & 9   & 6   & 1   & 7   & 2  \\\\\n",
       "\t ENSG00000228463 & 89   & 63   & 6   & 17  & 69  & 79  & 189 & 62 \\\\\n",
       "\t ENSG00000241670 & 0    & 0    & 0   & 0   & 0   & 0   & 0   & 0  \\\\\n",
       "\t ENSG00000236679 & 30   & 14   & 10  & 7   & 44  & 15  & 8   & 11 \\\\\n",
       "\t ENSG00000236743 & 3    & 5    & 1   & 2   & 2   & 11  & 7   & 5  \\\\\n",
       "\t ENSG00000236601 & 0    & 1    & 0   & 0   & 3   & 2   & 1   & 0  \\\\\n",
       "\t ENSG00000237094 & 205  & 93   & 82  & 149 & 156 & 135 & 230 & 105\\\\\n",
       "\t ENSG00000269732 & 0    & 0    & 0   & 0   & 0   & 0   & 0   & 0  \\\\\n",
       "\t ENSG00000278566 & 0    & 1    & 0   & 0   & 4   & 0   & 2   & 0  \\\\\n",
       "\t ENSG00000224813 & 0    & 0    & 0   & 0   & 0   & 0   & 0   & 0  \\\\\n",
       "\t ⋮ & ⋮ & ⋮ & ⋮ & ⋮ & ⋮ & ⋮ & ⋮ & ⋮\\\\\n",
       "\t ENSG00000210107 & 62     & 61     & 10    & 27     & 127    & 46     & 28     & 39    \\\\\n",
       "\t ENSG00000210112 & 19     & 9      & 6     & 4      & 21     & 12     & 7      & 24    \\\\\n",
       "\t ENSG00000198763 & 109267 & 99821  & 20172 & 42667  & 191829 & 59466  & 55254  & 92376 \\\\\n",
       "\t ENSG00000210117 & 18     & 9      & 12    & 21     & 260    & 304    & 65     & 40    \\\\\n",
       "\t ENSG00000210127 & 90     & 227    & 3     & 8      & 113    & 57     & 20     & 12    \\\\\n",
       "\t ENSG00000210135 & 455    & 2926   & 629   & 2570   & 3596   & 3437   & 1655   & 1139  \\\\\n",
       "\t ENSG00000210140 & 1131   & 5158   & 362   & 1631   & 9353   & 3184   & 2278   & 2848  \\\\\n",
       "\t ENSG00000210144 & 521    & 905    & 189   & 726    & 5074   & 3787   & 1889   & 1722  \\\\\n",
       "\t ENSG00000198804 & 479069 & 338832 & 70669 & 86583  & 668791 & 356781 & 306026 & 335626\\\\\n",
       "\t ENSG00000210151 & 23     & 13     & 0     & 1      & 25     & 10     & 9      & 10    \\\\\n",
       "\t ENSG00000210154 & 8      & 3      & 0     & 0      & 74     & 17     & 14     & 5     \\\\\n",
       "\t ENSG00000198712 & 376617 & 292371 & 60523 & 115459 & 520672 & 225007 & 217361 & 265843\\\\\n",
       "\t ENSG00000210156 & 42     & 36     & 13    & 24     & 278    & 379    & 103    & 48    \\\\\n",
       "\t ENSG00000228253 & 36336  & 32170  & 7792  & 12368  & 138592 & 55232  & 28436  & 60508 \\\\\n",
       "\t ENSG00000198899 & 180326 & 173886 & 19642 & 42057  & 300237 & 85883  & 58542  & 118829\\\\\n",
       "\t ENSG00000198938 & 242849 & 233627 & 32426 & 60227  & 298040 & 104033 & 126213 & 190816\\\\\n",
       "\t ENSG00000210164 & 143    & 75     & 35    & 53     & 233    & 306    & 100    & 54    \\\\\n",
       "\t ENSG00000198840 & 26170  & 34701  & 3257  & 7514   & 24768  & 13634  & 10387  & 10996 \\\\\n",
       "\t ENSG00000210174 & 41     & 52     & 25    & 27     & 267    & 156    & 95     & 78    \\\\\n",
       "\t ENSG00000212907 & 37860  & 22379  & 12453 & 23876  & 109131 & 46241  & 35511  & 49106 \\\\\n",
       "\t ENSG00000198886 & 306441 & 294593 & 49838 & 136656 & 495286 & 173170 & 156989 & 202016\\\\\n",
       "\t ENSG00000210176 & 141    & 84     & 53    & 70     & 184    & 310    & 177    & 123   \\\\\n",
       "\t ENSG00000210184 & 136    & 105    & 56    & 67     & 284    & 570    & 271    & 207   \\\\\n",
       "\t ENSG00000210191 & 234    & 111    & 40    & 56     & 168    & 286    & 159    & 79    \\\\\n",
       "\t ENSG00000198786 & 186625 & 153111 & 41245 & 92393  & 523347 & 238560 & 155414 & 223337\\\\\n",
       "\t ENSG00000198695 & 62588  & 89228  & 9233  & 26631  & 120450 & 57746  & 41429  & 49814 \\\\\n",
       "\t ENSG00000210194 & 95     & 133    & 13    & 49     & 673    & 220    & 148    & 258   \\\\\n",
       "\t ENSG00000198727 & 170451 & 149993 & 32980 & 81611  & 332722 & 94570  & 95405  & 140854\\\\\n",
       "\t ENSG00000210195 & 22     & 53     & 12    & 1      & 38     & 26     & 16     & 35    \\\\\n",
       "\t ENSG00000210196 & 2077   & 2743   & 573   & 1239   & 16601  & 10294  & 5005   & 2205  \\\\\n",
       "\\end{tabular}\n"
      ],
      "text/markdown": [
       "\n",
       "A data.frame: 58174 × 9\n",
       "\n",
       "| NAME &lt;chr&gt; | Sample_1 &lt;chr&gt; | Sample_2 &lt;chr&gt; | Sample_3 &lt;chr&gt; | Sample_4 &lt;chr&gt; | Sample_5 &lt;chr&gt; | Sample_6 &lt;chr&gt; | Sample_7 &lt;chr&gt; | Sample_8 &lt;chr&gt; |\n",
       "|---|---|---|---|---|---|---|---|---|\n",
       "| ENSG00000223972 | 13   | 18   | 3   | 1   | 5   | 11  | 17  | 10  |\n",
       "| ENSG00000227232 | 1087 | 1002 | 182 | 531 | 200 | 114 | 319 | 172 |\n",
       "| ENSG00000278267 | 23   | 33   | 1   | 12  | 6   | 1   | 4   | 1   |\n",
       "| ENSG00000243485 | 0    | 3    | 0   | 1   | 2   | 2   | 0   | 2   |\n",
       "| ENSG00000284332 | 0    | 0    | 0   | 0   | 0   | 0   | 0   | 0   |\n",
       "| ENSG00000237613 | 0    | 0    | 0   | 0   | 0   | 0   | 2   | 0   |\n",
       "| ENSG00000268020 | 0    | 0    | 0   | 0   | 0   | 0   | 0   | 0   |\n",
       "| ENSG00000240361 | 0    | 0    | 0   | 0   | 0   | 0   | 0   | 0   |\n",
       "| ENSG00000186092 | 0    | 0    | 0   | 0   | 0   | 0   | 0   | 0   |\n",
       "| ENSG00000238009 | 29   | 8    | 4   | 11  | 57  | 38  | 28  | 13  |\n",
       "| ENSG00000239945 | 0    | 0    | 0   | 0   | 0   | 0   | 0   | 0   |\n",
       "| ENSG00000233750 | 24   | 4    | 5   | 20  | 17  | 13  | 19  | 5   |\n",
       "| ENSG00000268903 | 32   | 43   | 17  | 40  | 0   | 0   | 2   | 1   |\n",
       "| ENSG00000269981 | 19   | 16   | 16  | 27  | 0   | 0   | 0   | 2   |\n",
       "| ENSG00000239906 | 4    | 3    | 8   | 2   | 0   | 1   | 1   | 0   |\n",
       "| ENSG00000241860 | 37   | 11   | 59  | 34  | 102 | 185 | 124 | 60  |\n",
       "| ENSG00000222623 | 0    | 0    | 0   | 0   | 0   | 0   | 0   | 0   |\n",
       "| ENSG00000241599 | 0    | 0    | 0   | 0   | 0   | 2   | 0   | 0   |\n",
       "| ENSG00000279928 | 6    | 9    | 0   | 0   | 1   | 5   | 3   | 5   |\n",
       "| ENSG00000279457 | 1416 | 1658 | 249 | 703 | 201 | 112 | 252 | 165 |\n",
       "| ENSG00000273874 | 16   | 10   | 2   | 9   | 6   | 1   | 7   | 2   |\n",
       "| ENSG00000228463 | 89   | 63   | 6   | 17  | 69  | 79  | 189 | 62  |\n",
       "| ENSG00000241670 | 0    | 0    | 0   | 0   | 0   | 0   | 0   | 0   |\n",
       "| ENSG00000236679 | 30   | 14   | 10  | 7   | 44  | 15  | 8   | 11  |\n",
       "| ENSG00000236743 | 3    | 5    | 1   | 2   | 2   | 11  | 7   | 5   |\n",
       "| ENSG00000236601 | 0    | 1    | 0   | 0   | 3   | 2   | 1   | 0   |\n",
       "| ENSG00000237094 | 205  | 93   | 82  | 149 | 156 | 135 | 230 | 105 |\n",
       "| ENSG00000269732 | 0    | 0    | 0   | 0   | 0   | 0   | 0   | 0   |\n",
       "| ENSG00000278566 | 0    | 1    | 0   | 0   | 4   | 0   | 2   | 0   |\n",
       "| ENSG00000224813 | 0    | 0    | 0   | 0   | 0   | 0   | 0   | 0   |\n",
       "| ⋮ | ⋮ | ⋮ | ⋮ | ⋮ | ⋮ | ⋮ | ⋮ | ⋮ |\n",
       "| ENSG00000210107 | 62     | 61     | 10    | 27     | 127    | 46     | 28     | 39     |\n",
       "| ENSG00000210112 | 19     | 9      | 6     | 4      | 21     | 12     | 7      | 24     |\n",
       "| ENSG00000198763 | 109267 | 99821  | 20172 | 42667  | 191829 | 59466  | 55254  | 92376  |\n",
       "| ENSG00000210117 | 18     | 9      | 12    | 21     | 260    | 304    | 65     | 40     |\n",
       "| ENSG00000210127 | 90     | 227    | 3     | 8      | 113    | 57     | 20     | 12     |\n",
       "| ENSG00000210135 | 455    | 2926   | 629   | 2570   | 3596   | 3437   | 1655   | 1139   |\n",
       "| ENSG00000210140 | 1131   | 5158   | 362   | 1631   | 9353   | 3184   | 2278   | 2848   |\n",
       "| ENSG00000210144 | 521    | 905    | 189   | 726    | 5074   | 3787   | 1889   | 1722   |\n",
       "| ENSG00000198804 | 479069 | 338832 | 70669 | 86583  | 668791 | 356781 | 306026 | 335626 |\n",
       "| ENSG00000210151 | 23     | 13     | 0     | 1      | 25     | 10     | 9      | 10     |\n",
       "| ENSG00000210154 | 8      | 3      | 0     | 0      | 74     | 17     | 14     | 5      |\n",
       "| ENSG00000198712 | 376617 | 292371 | 60523 | 115459 | 520672 | 225007 | 217361 | 265843 |\n",
       "| ENSG00000210156 | 42     | 36     | 13    | 24     | 278    | 379    | 103    | 48     |\n",
       "| ENSG00000228253 | 36336  | 32170  | 7792  | 12368  | 138592 | 55232  | 28436  | 60508  |\n",
       "| ENSG00000198899 | 180326 | 173886 | 19642 | 42057  | 300237 | 85883  | 58542  | 118829 |\n",
       "| ENSG00000198938 | 242849 | 233627 | 32426 | 60227  | 298040 | 104033 | 126213 | 190816 |\n",
       "| ENSG00000210164 | 143    | 75     | 35    | 53     | 233    | 306    | 100    | 54     |\n",
       "| ENSG00000198840 | 26170  | 34701  | 3257  | 7514   | 24768  | 13634  | 10387  | 10996  |\n",
       "| ENSG00000210174 | 41     | 52     | 25    | 27     | 267    | 156    | 95     | 78     |\n",
       "| ENSG00000212907 | 37860  | 22379  | 12453 | 23876  | 109131 | 46241  | 35511  | 49106  |\n",
       "| ENSG00000198886 | 306441 | 294593 | 49838 | 136656 | 495286 | 173170 | 156989 | 202016 |\n",
       "| ENSG00000210176 | 141    | 84     | 53    | 70     | 184    | 310    | 177    | 123    |\n",
       "| ENSG00000210184 | 136    | 105    | 56    | 67     | 284    | 570    | 271    | 207    |\n",
       "| ENSG00000210191 | 234    | 111    | 40    | 56     | 168    | 286    | 159    | 79     |\n",
       "| ENSG00000198786 | 186625 | 153111 | 41245 | 92393  | 523347 | 238560 | 155414 | 223337 |\n",
       "| ENSG00000198695 | 62588  | 89228  | 9233  | 26631  | 120450 | 57746  | 41429  | 49814  |\n",
       "| ENSG00000210194 | 95     | 133    | 13    | 49     | 673    | 220    | 148    | 258    |\n",
       "| ENSG00000198727 | 170451 | 149993 | 32980 | 81611  | 332722 | 94570  | 95405  | 140854 |\n",
       "| ENSG00000210195 | 22     | 53     | 12    | 1      | 38     | 26     | 16     | 35     |\n",
       "| ENSG00000210196 | 2077   | 2743   | 573   | 1239   | 16601  | 10294  | 5005   | 2205   |\n",
       "\n"
      ],
      "text/plain": [
       "      NAME            Sample_1 Sample_2 Sample_3 Sample_4 Sample_5 Sample_6\n",
       "1     ENSG00000223972 13       18       3        1        5        11      \n",
       "2     ENSG00000227232 1087     1002     182      531      200      114     \n",
       "3     ENSG00000278267 23       33       1        12       6        1       \n",
       "4     ENSG00000243485 0        3        0        1        2        2       \n",
       "5     ENSG00000284332 0        0        0        0        0        0       \n",
       "6     ENSG00000237613 0        0        0        0        0        0       \n",
       "7     ENSG00000268020 0        0        0        0        0        0       \n",
       "8     ENSG00000240361 0        0        0        0        0        0       \n",
       "9     ENSG00000186092 0        0        0        0        0        0       \n",
       "10    ENSG00000238009 29       8        4        11       57       38      \n",
       "11    ENSG00000239945 0        0        0        0        0        0       \n",
       "12    ENSG00000233750 24       4        5        20       17       13      \n",
       "13    ENSG00000268903 32       43       17       40       0        0       \n",
       "14    ENSG00000269981 19       16       16       27       0        0       \n",
       "15    ENSG00000239906 4        3        8        2        0        1       \n",
       "16    ENSG00000241860 37       11       59       34       102      185     \n",
       "17    ENSG00000222623 0        0        0        0        0        0       \n",
       "18    ENSG00000241599 0        0        0        0        0        2       \n",
       "19    ENSG00000279928 6        9        0        0        1        5       \n",
       "20    ENSG00000279457 1416     1658     249      703      201      112     \n",
       "21    ENSG00000273874 16       10       2        9        6        1       \n",
       "22    ENSG00000228463 89       63       6        17       69       79      \n",
       "23    ENSG00000241670 0        0        0        0        0        0       \n",
       "24    ENSG00000236679 30       14       10       7        44       15      \n",
       "25    ENSG00000236743 3        5        1        2        2        11      \n",
       "26    ENSG00000236601 0        1        0        0        3        2       \n",
       "27    ENSG00000237094 205      93       82       149      156      135     \n",
       "28    ENSG00000269732 0        0        0        0        0        0       \n",
       "29    ENSG00000278566 0        1        0        0        4        0       \n",
       "30    ENSG00000224813 0        0        0        0        0        0       \n",
       "⋮     ⋮               ⋮        ⋮        ⋮        ⋮        ⋮        ⋮       \n",
       "58145 ENSG00000210107 62       61       10       27       127      46      \n",
       "58146 ENSG00000210112 19       9        6        4        21       12      \n",
       "58147 ENSG00000198763 109267   99821    20172    42667    191829   59466   \n",
       "58148 ENSG00000210117 18       9        12       21       260      304     \n",
       "58149 ENSG00000210127 90       227      3        8        113      57      \n",
       "58150 ENSG00000210135 455      2926     629      2570     3596     3437    \n",
       "58151 ENSG00000210140 1131     5158     362      1631     9353     3184    \n",
       "58152 ENSG00000210144 521      905      189      726      5074     3787    \n",
       "58153 ENSG00000198804 479069   338832   70669    86583    668791   356781  \n",
       "58154 ENSG00000210151 23       13       0        1        25       10      \n",
       "58155 ENSG00000210154 8        3        0        0        74       17      \n",
       "58156 ENSG00000198712 376617   292371   60523    115459   520672   225007  \n",
       "58157 ENSG00000210156 42       36       13       24       278      379     \n",
       "58158 ENSG00000228253 36336    32170    7792     12368    138592   55232   \n",
       "58159 ENSG00000198899 180326   173886   19642    42057    300237   85883   \n",
       "58160 ENSG00000198938 242849   233627   32426    60227    298040   104033  \n",
       "58161 ENSG00000210164 143      75       35       53       233      306     \n",
       "58162 ENSG00000198840 26170    34701    3257     7514     24768    13634   \n",
       "58163 ENSG00000210174 41       52       25       27       267      156     \n",
       "58164 ENSG00000212907 37860    22379    12453    23876    109131   46241   \n",
       "58165 ENSG00000198886 306441   294593   49838    136656   495286   173170  \n",
       "58166 ENSG00000210176 141      84       53       70       184      310     \n",
       "58167 ENSG00000210184 136      105      56       67       284      570     \n",
       "58168 ENSG00000210191 234      111      40       56       168      286     \n",
       "58169 ENSG00000198786 186625   153111   41245    92393    523347   238560  \n",
       "58170 ENSG00000198695 62588    89228    9233     26631    120450   57746   \n",
       "58171 ENSG00000210194 95       133      13       49       673      220     \n",
       "58172 ENSG00000198727 170451   149993   32980    81611    332722   94570   \n",
       "58173 ENSG00000210195 22       53       12       1        38       26      \n",
       "58174 ENSG00000210196 2077     2743     573      1239     16601    10294   \n",
       "      Sample_7 Sample_8\n",
       "1     17       10      \n",
       "2     319      172     \n",
       "3     4        1       \n",
       "4     0        2       \n",
       "5     0        0       \n",
       "6     2        0       \n",
       "7     0        0       \n",
       "8     0        0       \n",
       "9     0        0       \n",
       "10    28       13      \n",
       "11    0        0       \n",
       "12    19       5       \n",
       "13    2        1       \n",
       "14    0        2       \n",
       "15    1        0       \n",
       "16    124      60      \n",
       "17    0        0       \n",
       "18    0        0       \n",
       "19    3        5       \n",
       "20    252      165     \n",
       "21    7        2       \n",
       "22    189      62      \n",
       "23    0        0       \n",
       "24    8        11      \n",
       "25    7        5       \n",
       "26    1        0       \n",
       "27    230      105     \n",
       "28    0        0       \n",
       "29    2        0       \n",
       "30    0        0       \n",
       "⋮     ⋮        ⋮       \n",
       "58145 28       39      \n",
       "58146 7        24      \n",
       "58147 55254    92376   \n",
       "58148 65       40      \n",
       "58149 20       12      \n",
       "58150 1655     1139    \n",
       "58151 2278     2848    \n",
       "58152 1889     1722    \n",
       "58153 306026   335626  \n",
       "58154 9        10      \n",
       "58155 14       5       \n",
       "58156 217361   265843  \n",
       "58157 103      48      \n",
       "58158 28436    60508   \n",
       "58159 58542    118829  \n",
       "58160 126213   190816  \n",
       "58161 100      54      \n",
       "58162 10387    10996   \n",
       "58163 95       78      \n",
       "58164 35511    49106   \n",
       "58165 156989   202016  \n",
       "58166 177      123     \n",
       "58167 271      207     \n",
       "58168 159      79      \n",
       "58169 155414   223337  \n",
       "58170 41429    49814   \n",
       "58171 148      258     \n",
       "58172 95405    140854  \n",
       "58173 16       35      \n",
       "58174 5005     2205    "
      ]
     },
     "metadata": {},
     "output_type": "display_data"
    }
   ],
   "source": [
    "count <- count |> slice(-1)\n",
    "count"
   ]
  },
  {
   "cell_type": "code",
   "execution_count": 10,
   "id": "99b5902a",
   "metadata": {},
   "outputs": [],
   "source": [
    "write_tsv(count, '../../result/deseq2/count_clean.tsv')"
   ]
  },
  {
   "cell_type": "markdown",
   "id": "91f63480",
   "metadata": {},
   "source": [
    "## Conclusion"
   ]
  },
  {
   "cell_type": "markdown",
   "id": "69e578bc",
   "metadata": {},
   "source": [
    "In this notebook, we extracted and cleaned the metadata and RNA-seq data for downstream differential gene expression analysis."
   ]
  },
  {
   "cell_type": "code",
   "execution_count": 11,
   "id": "6df17bee",
   "metadata": {},
   "outputs": [
    {
     "data": {
      "text/plain": [
       "R version 4.3.1 (2023-06-16)\n",
       "Platform: aarch64-apple-darwin20 (64-bit)\n",
       "Running under: macOS 15.1\n",
       "\n",
       "Matrix products: default\n",
       "BLAS:   /Library/Frameworks/R.framework/Versions/4.3-arm64/Resources/lib/libRblas.0.dylib \n",
       "LAPACK: /Library/Frameworks/R.framework/Versions/4.3-arm64/Resources/lib/libRlapack.dylib;  LAPACK version 3.11.0\n",
       "\n",
       "locale:\n",
       "[1] en_US.UTF-8/en_US.UTF-8/en_US.UTF-8/C/en_US.UTF-8/en_US.UTF-8\n",
       "\n",
       "time zone: America/Los_Angeles\n",
       "tzcode source: internal\n",
       "\n",
       "attached base packages:\n",
       "[1] stats     graphics  grDevices utils     datasets  methods   base     \n",
       "\n",
       "other attached packages:\n",
       " [1] AnnoProbe_0.1.7     GEOquery_2.70.0     Biobase_2.62.0     \n",
       " [4] BiocGenerics_0.48.1 lubridate_1.9.3     forcats_1.0.0      \n",
       " [7] stringr_1.5.1       dplyr_1.1.4         purrr_1.0.2        \n",
       "[10] readr_2.1.5         tidyr_1.3.1         tibble_3.2.1       \n",
       "[13] ggplot2_3.5.0       tidyverse_2.0.0     jsonlite_1.8.8     \n",
       "[16] formatR_1.14       \n",
       "\n",
       "loaded via a namespace (and not attached):\n",
       " [1] gtable_0.3.4       htmlwidgets_1.6.4  rstatix_0.7.2      tzdb_0.4.0        \n",
       " [5] vctrs_0.6.5        tools_4.3.1        generics_0.1.3     parallel_4.3.1    \n",
       " [9] curl_5.2.1         fansi_1.0.6        R.oo_1.26.0        pkgconfig_2.0.3   \n",
       "[13] pheatmap_1.0.12    data.table_1.15.4  RColorBrewer_1.1-3 uuid_1.2-0        \n",
       "[17] lifecycle_1.0.4    compiler_4.3.1     statmod_1.5.0      munsell_0.5.1     \n",
       "[21] repr_1.1.7         carData_3.0-5      htmltools_0.5.8.1  pillar_1.9.0      \n",
       "[25] car_3.1-2          ggpubr_0.6.0       crayon_1.5.2       R.utils_2.12.3    \n",
       "[29] DT_0.33            limma_3.58.1       abind_1.4-5        tidyselect_1.2.1  \n",
       "[33] digest_0.6.35      stringi_1.8.3      fastmap_1.1.1      grid_4.3.1        \n",
       "[37] colorspace_2.1-0   cli_3.6.2          magrittr_2.0.3     base64enc_0.1-3   \n",
       "[41] utf8_1.2.4         IRdisplay_1.1      broom_1.0.5        withr_3.0.0       \n",
       "[45] scales_1.3.0       backports_1.4.1    bit64_4.0.5        IRkernel_1.3.2    \n",
       "[49] timechange_0.3.0   bit_4.0.5          pbdZMQ_0.3-11      ggsignif_0.6.4    \n",
       "[53] R.methodsS3_1.8.2  hms_1.1.3          evaluate_0.23      rlang_1.1.3       \n",
       "[57] glue_1.7.0         xml2_1.3.6         vroom_1.6.5        R6_2.5.1          "
      ]
     },
     "metadata": {},
     "output_type": "display_data"
    }
   ],
   "source": [
    "sessionInfo()"
   ]
  }
 ],
 "metadata": {
  "kernelspec": {
   "display_name": "R",
   "language": "R",
   "name": "ir"
  },
  "language_info": {
   "codemirror_mode": "r",
   "file_extension": ".r",
   "mimetype": "text/x-r-source",
   "name": "R",
   "pygments_lexer": "r",
   "version": "4.3.1"
  }
 },
 "nbformat": 4,
 "nbformat_minor": 5
}

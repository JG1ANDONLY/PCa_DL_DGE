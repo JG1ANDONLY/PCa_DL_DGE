{
 "cells": [
  {
   "cell_type": "markdown",
   "id": "54f31bfe",
   "metadata": {},
   "source": [
    "This notebook uses an R kernel."
   ]
  },
  {
   "cell_type": "markdown",
   "id": "87b0d5eb",
   "metadata": {},
   "source": [
    "# Sequence Fetch"
   ]
  },
  {
   "cell_type": "markdown",
   "id": "c6ff978e",
   "metadata": {},
   "source": [
    "Author: Zhongyi (James) Guo <br>\n",
    "Date: 10/29/2024"
   ]
  },
  {
   "cell_type": "markdown",
   "id": "edbebcd6",
   "metadata": {},
   "source": [
    "## Import Packages"
   ]
  },
  {
   "cell_type": "code",
   "execution_count": null,
   "id": "dca2246e",
   "metadata": {},
   "outputs": [],
   "source": [
    "getwd()"
   ]
  },
  {
   "cell_type": "code",
   "execution_count": null,
   "id": "75726dc4",
   "metadata": {},
   "outputs": [],
   "source": [
    ".libPaths()"
   ]
  },
  {
   "cell_type": "code",
   "execution_count": null,
   "id": "011bbf37",
   "metadata": {},
   "outputs": [],
   "source": [
    "library(tidyverse)\n",
    "library(biomaRt)\n",
    "library(httr)\n",
    "library(jsonlite)\n",
    "library(xml2)\n",
    "library(stringi)"
   ]
  },
  {
   "cell_type": "code",
   "execution_count": null,
   "id": "3ac6a343",
   "metadata": {},
   "outputs": [],
   "source": [
    "mart <- useMart(\"ensembl\", dataset = \"hsapiens_gene_ensembl\")"
   ]
  },
  {
   "cell_type": "markdown",
   "id": "7ea64d3a",
   "metadata": {},
   "source": [
    "## Import Data"
   ]
  },
  {
   "cell_type": "markdown",
   "id": "fdd9e4c7",
   "metadata": {},
   "source": [
    "### All Genes"
   ]
  },
  {
   "cell_type": "code",
   "execution_count": null,
   "id": "b3b084c5",
   "metadata": {},
   "outputs": [],
   "source": [
    "count_clean <- read_tsv('../../result/deseq2//count_clean.tsv')\n",
    "head(count_clean)"
   ]
  },
  {
   "cell_type": "code",
   "execution_count": null,
   "id": "1b2ddb3c",
   "metadata": {},
   "outputs": [],
   "source": [
    "gene_info <- getBM(\n",
    "    attributes = c(\"ensembl_gene_id\", \"hgnc_symbol\", \"chromosome_name\", \n",
    "                   \"start_position\", \"end_position\", \"strand\"),\n",
    "    filters = \"ensembl_gene_id\", \n",
    "    values = count_clean$NAME, \n",
    "    mart = mart\n",
    ")\n",
    "head(gene_info)"
   ]
  },
  {
   "cell_type": "code",
   "execution_count": null,
   "id": "52b39880",
   "metadata": {},
   "outputs": [],
   "source": [
    "gene_info <- gene_info |> \n",
    "    mutate(\n",
    "        upstream_start = ifelse(strand == 1, start_position - 2001, end_position + 2001),\n",
    "        upstream_end = ifelse(strand == 1, start_position - 1, end_position + 1),\n",
    "        temp_upstream_start = upstream_start,\n",
    "        temp_upstream_end = upstream_end) |>\n",
    "    mutate(\n",
    "        upstream_start = ifelse(strand == -1, temp_upstream_end, temp_upstream_start),\n",
    "        upstream_end = ifelse(strand == -1, temp_upstream_start, temp_upstream_end)) |>\n",
    "    dplyr::select(-c(temp_upstream_start, temp_upstream_end))"
   ]
  },
  {
   "cell_type": "code",
   "execution_count": null,
   "id": "32a2e91a",
   "metadata": {},
   "outputs": [],
   "source": [
    "head(gene_info)"
   ]
  },
  {
   "cell_type": "code",
   "execution_count": null,
   "id": "5a2880fc",
   "metadata": {},
   "outputs": [],
   "source": [
    "dim(gene_info)"
   ]
  },
  {
   "cell_type": "code",
   "execution_count": null,
   "id": "a05f57ec",
   "metadata": {},
   "outputs": [],
   "source": [
    "dim(count_clean)"
   ]
  },
  {
   "cell_type": "markdown",
   "id": "af1c4146",
   "metadata": {},
   "source": [
    "565238 genes had chromosome coordinates, compared to 581749 total genes present."
   ]
  },
  {
   "cell_type": "markdown",
   "id": "9bc52367",
   "metadata": {},
   "source": [
    "Sequence fetching inspired by a post here: https://www.biostars.org/p/354170/"
   ]
  },
  {
   "cell_type": "code",
   "execution_count": null,
   "id": "d4835264",
   "metadata": {},
   "outputs": [],
   "source": [
    "fetch_sequence <- function(chr, start, end, strand) {\n",
    "    server <- \"http://grch37.rest.ensembl.org\"\n",
    "    ext <- paste0(\"/sequence/region/human/\", chr, \":\", start, \"..\", end, \":\", strand)\n",
    "    r <- GET(paste0(server, ext), content_type(\"text/plain\"))\n",
    "    sequence <- content(r)\n",
    "    \n",
    "    # get the reverse complement if on the negative strand\n",
    "    if (strand == -1) {\n",
    "        sequence <- chartr(old=\"ATGC\", new=\"TACG\", sequence) |> stri_reverse()\n",
    "    }\n",
    "    \n",
    "    return(sequence)\n",
    "}"
   ]
  },
  {
   "cell_type": "code",
   "execution_count": null,
   "id": "fadecc94",
   "metadata": {},
   "outputs": [],
   "source": [
    "system.time({\n",
    "  gene_info <- gene_info %>%\n",
    "    mutate(upstream_region = pmap_chr(\n",
    "      list(chromosome_name, upstream_start, upstream_end, strand), \n",
    "      fetch_sequence\n",
    "    ))\n",
    "})"
   ]
  },
  {
   "cell_type": "code",
   "execution_count": null,
   "id": "c5c8fc9a",
   "metadata": {},
   "outputs": [],
   "source": [
    "head(gene_info)"
   ]
  },
  {
   "cell_type": "code",
   "execution_count": null,
   "id": "d4e27471",
   "metadata": {},
   "outputs": [],
   "source": [
    "write_tsv(gene_info, '../../result/deseq2/all_gene_sequence.tsv')"
   ]
  },
  {
   "cell_type": "markdown",
   "id": "9a8e56c3",
   "metadata": {},
   "source": [
    "### Significant Genes"
   ]
  },
  {
   "cell_type": "code",
   "execution_count": null,
   "id": "d2f26dc3",
   "metadata": {},
   "outputs": [],
   "source": [
    "sig_gene <- read_csv('../../result/deseq2/sig_gene.csv')\n",
    "head(sig_gene)"
   ]
  },
  {
   "cell_type": "code",
   "execution_count": null,
   "id": "a4cd77fe",
   "metadata": {},
   "outputs": [],
   "source": [
    "# only keep the gene names\n",
    "sig_gene <- sig_gene[, 1]"
   ]
  },
  {
   "cell_type": "code",
   "execution_count": null,
   "id": "bb7c8faf",
   "metadata": {},
   "outputs": [],
   "source": [
    "sig_gene_info <- getBM(\n",
    "    attributes = c(\"ensembl_gene_id\", \"hgnc_symbol\", \"chromosome_name\", \"start_position\", \"end_position\", \"strand\"),\n",
    "    filters = \"ensembl_gene_id\", \n",
    "    values = sig_gene$gene, \n",
    "    mart = mart\n",
    ")\n",
    "head(sig_gene_info)"
   ]
  },
  {
   "cell_type": "code",
   "execution_count": null,
   "id": "6afa7012",
   "metadata": {},
   "outputs": [],
   "source": [
    "sig_gene_info <- sig_gene_info |> \n",
    "    mutate(\n",
    "        upstream_start = ifelse(strand == 1, start_position - 2001, end_position + 2001),\n",
    "        upstream_end = ifelse(strand == 1, start_position - 1, end_position + 1),\n",
    "        temp_upstream_start = upstream_start,\n",
    "        temp_upstream_end = upstream_end) |>\n",
    "    mutate(\n",
    "        upstream_start = ifelse(strand == -1, temp_upstream_end, temp_upstream_start),\n",
    "        upstream_end = ifelse(strand == -1, temp_upstream_start, temp_upstream_end)) |>\n",
    "    dplyr::select(-c(temp_upstream_start, temp_upstream_end))"
   ]
  },
  {
   "cell_type": "code",
   "execution_count": null,
   "id": "ef9edffd",
   "metadata": {},
   "outputs": [],
   "source": [
    "head(sig_gene_info)"
   ]
  },
  {
   "cell_type": "code",
   "execution_count": null,
   "id": "679c67e9",
   "metadata": {},
   "outputs": [],
   "source": [
    "dim(sig_gene_info)"
   ]
  },
  {
   "cell_type": "code",
   "execution_count": null,
   "id": "d7db87d2",
   "metadata": {},
   "outputs": [],
   "source": [
    "dim(sig_gene)"
   ]
  },
  {
   "cell_type": "markdown",
   "id": "94f1c81a",
   "metadata": {},
   "source": [
    "8195 significant genes had chromosome coordinates, compared to 8300 total significant genes present."
   ]
  },
  {
   "cell_type": "code",
   "execution_count": null,
   "id": "faa2197e",
   "metadata": {},
   "outputs": [],
   "source": [
    "system.time({\n",
    "    sig_gene_info <- sig_gene_info %>%\n",
    "        mutate(upstream_region <-  pmap_chr(\n",
    "          list(chromosome_name, upstream_start, upstream_end, strand), \n",
    "          fetch_sequence\n",
    "      ))\n",
    "    })"
   ]
  },
  {
   "cell_type": "code",
   "execution_count": null,
   "id": "2c52e1e6",
   "metadata": {},
   "outputs": [],
   "source": [
    "write_tsv(sig_gene_info, '../../result/deseq2/sig_gene_sequence.tsv')"
   ]
  },
  {
   "cell_type": "markdown",
   "id": "84420d9b",
   "metadata": {},
   "source": [
    "## Conclusion"
   ]
  },
  {
   "cell_type": "markdown",
   "id": "ff5962e8",
   "metadata": {},
   "source": [
    "We extracted upstream 2000 bp sequences for all genes in the RNA-seq count matrix and significant genes identified by DESeq2."
   ]
  },
  {
   "cell_type": "code",
   "execution_count": null,
   "id": "be3bfb7f",
   "metadata": {},
   "outputs": [],
   "source": [
    "sessionInfo()"
   ]
  }
 ],
 "metadata": {
  "kernelspec": {
   "display_name": "R",
   "language": "R",
   "name": "ir"
  },
  "language_info": {
   "codemirror_mode": "r",
   "file_extension": ".r",
   "mimetype": "text/x-r-source",
   "name": "R",
   "pygments_lexer": "r",
   "version": "4.3.1"
  }
 },
 "nbformat": 4,
 "nbformat_minor": 5
}

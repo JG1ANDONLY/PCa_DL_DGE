{
 "cells": [
  {
   "cell_type": "markdown",
   "id": "54f31bfe",
   "metadata": {},
   "source": [
    "This notebook uses an R kernel."
   ]
  },
  {
   "cell_type": "markdown",
   "id": "87b0d5eb",
   "metadata": {},
   "source": [
    "# Sequence Fetch"
   ]
  },
  {
   "cell_type": "markdown",
   "id": "c6ff978e",
   "metadata": {},
   "source": [
    "Author: Zhongyi (James) Guo <br>\n",
    "Date: 10/29/2024"
   ]
  },
  {
   "cell_type": "markdown",
   "id": "edbebcd6",
   "metadata": {},
   "source": [
    "## Import Packages"
   ]
  },
  {
   "cell_type": "code",
   "execution_count": 1,
   "id": "dca2246e",
   "metadata": {
    "execution": {
     "iopub.execute_input": "2024-10-29T20:43:31.158519Z",
     "iopub.status.busy": "2024-10-29T20:43:31.154631Z",
     "iopub.status.idle": "2024-10-29T20:43:31.235894Z",
     "shell.execute_reply": "2024-10-29T20:43:31.233628Z"
    }
   },
   "outputs": [
    {
     "data": {
      "text/html": [
       "'/home/ubuntu/SCA-DL-DGE/script/deseq2'"
      ],
      "text/latex": [
       "'/home/ubuntu/SCA-DL-DGE/script/deseq2'"
      ],
      "text/markdown": [
       "'/home/ubuntu/SCA-DL-DGE/script/deseq2'"
      ],
      "text/plain": [
       "[1] \"/home/ubuntu/SCA-DL-DGE/script/deseq2\""
      ]
     },
     "metadata": {},
     "output_type": "display_data"
    }
   ],
   "source": [
    "getwd()"
   ]
  },
  {
   "cell_type": "code",
   "execution_count": 2,
   "id": "75726dc4",
   "metadata": {
    "execution": {
     "iopub.execute_input": "2024-10-29T20:43:31.280591Z",
     "iopub.status.busy": "2024-10-29T20:43:31.240415Z",
     "iopub.status.idle": "2024-10-29T20:43:31.300594Z",
     "shell.execute_reply": "2024-10-29T20:43:31.298446Z"
    }
   },
   "outputs": [
    {
     "data": {
      "text/html": [
       "'/home/ubuntu/miniconda3/lib/R/library'"
      ],
      "text/latex": [
       "'/home/ubuntu/miniconda3/lib/R/library'"
      ],
      "text/markdown": [
       "'/home/ubuntu/miniconda3/lib/R/library'"
      ],
      "text/plain": [
       "[1] \"/home/ubuntu/miniconda3/lib/R/library\""
      ]
     },
     "metadata": {},
     "output_type": "display_data"
    }
   ],
   "source": [
    ".libPaths()"
   ]
  },
  {
   "cell_type": "code",
   "execution_count": 3,
   "id": "011bbf37",
   "metadata": {
    "execution": {
     "iopub.execute_input": "2024-10-29T20:43:31.306719Z",
     "iopub.status.busy": "2024-10-29T20:43:31.304872Z",
     "iopub.status.idle": "2024-10-29T20:43:36.378129Z",
     "shell.execute_reply": "2024-10-29T20:43:36.376178Z"
    }
   },
   "outputs": [
    {
     "name": "stderr",
     "output_type": "stream",
     "text": [
      "── \u001b[1mAttaching core tidyverse packages\u001b[22m ──────────────────────── tidyverse 2.0.0 ──\n",
      "\u001b[32m✔\u001b[39m \u001b[34mdplyr    \u001b[39m 1.1.4     \u001b[32m✔\u001b[39m \u001b[34mreadr    \u001b[39m 2.1.5\n",
      "\u001b[32m✔\u001b[39m \u001b[34mforcats  \u001b[39m 1.0.0     \u001b[32m✔\u001b[39m \u001b[34mstringr  \u001b[39m 1.5.1\n",
      "\u001b[32m✔\u001b[39m \u001b[34mggplot2  \u001b[39m 3.5.1     \u001b[32m✔\u001b[39m \u001b[34mtibble   \u001b[39m 3.2.1\n",
      "\u001b[32m✔\u001b[39m \u001b[34mlubridate\u001b[39m 1.9.3     \u001b[32m✔\u001b[39m \u001b[34mtidyr    \u001b[39m 1.3.1\n",
      "\u001b[32m✔\u001b[39m \u001b[34mpurrr    \u001b[39m 1.0.2     \n"
     ]
    },
    {
     "name": "stderr",
     "output_type": "stream",
     "text": [
      "── \u001b[1mConflicts\u001b[22m ────────────────────────────────────────── tidyverse_conflicts() ──\n",
      "\u001b[31m✖\u001b[39m \u001b[34mdplyr\u001b[39m::\u001b[32mfilter()\u001b[39m masks \u001b[34mstats\u001b[39m::filter()\n",
      "\u001b[31m✖\u001b[39m \u001b[34mdplyr\u001b[39m::\u001b[32mlag()\u001b[39m    masks \u001b[34mstats\u001b[39m::lag()\n",
      "\u001b[36mℹ\u001b[39m Use the conflicted package (\u001b[3m\u001b[34m<http://conflicted.r-lib.org/>\u001b[39m\u001b[23m) to force all conflicts to become errors\n"
     ]
    },
    {
     "name": "stderr",
     "output_type": "stream",
     "text": [
      "Warning message:\n",
      "“package ‘httr’ was built under R version 4.3.3”\n"
     ]
    },
    {
     "name": "stderr",
     "output_type": "stream",
     "text": [
      "\n",
      "Attaching package: ‘jsonlite’\n",
      "\n",
      "\n"
     ]
    },
    {
     "name": "stderr",
     "output_type": "stream",
     "text": [
      "The following object is masked from ‘package:purrr’:\n",
      "\n",
      "    flatten\n",
      "\n",
      "\n"
     ]
    },
    {
     "name": "stderr",
     "output_type": "stream",
     "text": [
      "Warning message:\n",
      "“package ‘xml2’ was built under R version 4.3.3”\n"
     ]
    }
   ],
   "source": [
    "library(tidyverse)\n",
    "library(biomaRt)\n",
    "library(httr)\n",
    "library(jsonlite)\n",
    "library(xml2)\n",
    "library(stringi)"
   ]
  },
  {
   "cell_type": "code",
   "execution_count": 4,
   "id": "3ac6a343",
   "metadata": {
    "execution": {
     "iopub.execute_input": "2024-10-29T20:43:36.384192Z",
     "iopub.status.busy": "2024-10-29T20:43:36.382209Z",
     "iopub.status.idle": "2024-10-29T20:43:40.700857Z",
     "shell.execute_reply": "2024-10-29T20:43:40.698814Z"
    }
   },
   "outputs": [],
   "source": [
    "mart <- useMart(\"ensembl\", dataset = \"hsapiens_gene_ensembl\")"
   ]
  },
  {
   "cell_type": "markdown",
   "id": "7ea64d3a",
   "metadata": {},
   "source": [
    "## Import Data"
   ]
  },
  {
   "cell_type": "markdown",
   "id": "fdd9e4c7",
   "metadata": {},
   "source": [
    "### All Genes"
   ]
  },
  {
   "cell_type": "code",
   "execution_count": 5,
   "id": "b3b084c5",
   "metadata": {
    "execution": {
     "iopub.execute_input": "2024-10-29T20:43:40.706527Z",
     "iopub.status.busy": "2024-10-29T20:43:40.704979Z",
     "iopub.status.idle": "2024-10-29T20:43:41.495796Z",
     "shell.execute_reply": "2024-10-29T20:43:41.493839Z"
    }
   },
   "outputs": [
    {
     "name": "stderr",
     "output_type": "stream",
     "text": [
      "\u001b[1mRows: \u001b[22m\u001b[34m58174\u001b[39m \u001b[1mColumns: \u001b[22m\u001b[34m9\u001b[39m\n"
     ]
    },
    {
     "name": "stderr",
     "output_type": "stream",
     "text": [
      "\u001b[36m──\u001b[39m \u001b[1mColumn specification\u001b[22m \u001b[36m────────────────────────────────────────────────────────\u001b[39m\n",
      "\u001b[1mDelimiter:\u001b[22m \"\\t\"\n",
      "\u001b[31mchr\u001b[39m (1): NAME\n",
      "\u001b[32mdbl\u001b[39m (8): Sample_1, Sample_2, Sample_3, Sample_4, Sample_5, Sample_6, Sample_...\n"
     ]
    },
    {
     "name": "stderr",
     "output_type": "stream",
     "text": [
      "\n",
      "\u001b[36mℹ\u001b[39m Use `spec()` to retrieve the full column specification for this data.\n",
      "\u001b[36mℹ\u001b[39m Specify the column types or set `show_col_types = FALSE` to quiet this message.\n"
     ]
    },
    {
     "data": {
      "text/html": [
       "<table class=\"dataframe\">\n",
       "<caption>A tibble: 6 × 9</caption>\n",
       "<thead>\n",
       "\t<tr><th scope=col>NAME</th><th scope=col>Sample_1</th><th scope=col>Sample_2</th><th scope=col>Sample_3</th><th scope=col>Sample_4</th><th scope=col>Sample_5</th><th scope=col>Sample_6</th><th scope=col>Sample_7</th><th scope=col>Sample_8</th></tr>\n",
       "\t<tr><th scope=col>&lt;chr&gt;</th><th scope=col>&lt;dbl&gt;</th><th scope=col>&lt;dbl&gt;</th><th scope=col>&lt;dbl&gt;</th><th scope=col>&lt;dbl&gt;</th><th scope=col>&lt;dbl&gt;</th><th scope=col>&lt;dbl&gt;</th><th scope=col>&lt;dbl&gt;</th><th scope=col>&lt;dbl&gt;</th></tr>\n",
       "</thead>\n",
       "<tbody>\n",
       "\t<tr><td>ENSG00000223972</td><td>  13</td><td>  18</td><td>  3</td><td>  1</td><td>  5</td><td> 11</td><td> 17</td><td> 10</td></tr>\n",
       "\t<tr><td>ENSG00000227232</td><td>1087</td><td>1002</td><td>182</td><td>531</td><td>200</td><td>114</td><td>319</td><td>172</td></tr>\n",
       "\t<tr><td>ENSG00000278267</td><td>  23</td><td>  33</td><td>  1</td><td> 12</td><td>  6</td><td>  1</td><td>  4</td><td>  1</td></tr>\n",
       "\t<tr><td>ENSG00000243485</td><td>   0</td><td>   3</td><td>  0</td><td>  1</td><td>  2</td><td>  2</td><td>  0</td><td>  2</td></tr>\n",
       "\t<tr><td>ENSG00000284332</td><td>   0</td><td>   0</td><td>  0</td><td>  0</td><td>  0</td><td>  0</td><td>  0</td><td>  0</td></tr>\n",
       "\t<tr><td>ENSG00000237613</td><td>   0</td><td>   0</td><td>  0</td><td>  0</td><td>  0</td><td>  0</td><td>  2</td><td>  0</td></tr>\n",
       "</tbody>\n",
       "</table>\n"
      ],
      "text/latex": [
       "A tibble: 6 × 9\n",
       "\\begin{tabular}{lllllllll}\n",
       " NAME & Sample\\_1 & Sample\\_2 & Sample\\_3 & Sample\\_4 & Sample\\_5 & Sample\\_6 & Sample\\_7 & Sample\\_8\\\\\n",
       " <chr> & <dbl> & <dbl> & <dbl> & <dbl> & <dbl> & <dbl> & <dbl> & <dbl>\\\\\n",
       "\\hline\n",
       "\t ENSG00000223972 &   13 &   18 &   3 &   1 &   5 &  11 &  17 &  10\\\\\n",
       "\t ENSG00000227232 & 1087 & 1002 & 182 & 531 & 200 & 114 & 319 & 172\\\\\n",
       "\t ENSG00000278267 &   23 &   33 &   1 &  12 &   6 &   1 &   4 &   1\\\\\n",
       "\t ENSG00000243485 &    0 &    3 &   0 &   1 &   2 &   2 &   0 &   2\\\\\n",
       "\t ENSG00000284332 &    0 &    0 &   0 &   0 &   0 &   0 &   0 &   0\\\\\n",
       "\t ENSG00000237613 &    0 &    0 &   0 &   0 &   0 &   0 &   2 &   0\\\\\n",
       "\\end{tabular}\n"
      ],
      "text/markdown": [
       "\n",
       "A tibble: 6 × 9\n",
       "\n",
       "| NAME &lt;chr&gt; | Sample_1 &lt;dbl&gt; | Sample_2 &lt;dbl&gt; | Sample_3 &lt;dbl&gt; | Sample_4 &lt;dbl&gt; | Sample_5 &lt;dbl&gt; | Sample_6 &lt;dbl&gt; | Sample_7 &lt;dbl&gt; | Sample_8 &lt;dbl&gt; |\n",
       "|---|---|---|---|---|---|---|---|---|\n",
       "| ENSG00000223972 |   13 |   18 |   3 |   1 |   5 |  11 |  17 |  10 |\n",
       "| ENSG00000227232 | 1087 | 1002 | 182 | 531 | 200 | 114 | 319 | 172 |\n",
       "| ENSG00000278267 |   23 |   33 |   1 |  12 |   6 |   1 |   4 |   1 |\n",
       "| ENSG00000243485 |    0 |    3 |   0 |   1 |   2 |   2 |   0 |   2 |\n",
       "| ENSG00000284332 |    0 |    0 |   0 |   0 |   0 |   0 |   0 |   0 |\n",
       "| ENSG00000237613 |    0 |    0 |   0 |   0 |   0 |   0 |   2 |   0 |\n",
       "\n"
      ],
      "text/plain": [
       "  NAME            Sample_1 Sample_2 Sample_3 Sample_4 Sample_5 Sample_6\n",
       "1 ENSG00000223972   13       18       3        1        5       11     \n",
       "2 ENSG00000227232 1087     1002     182      531      200      114     \n",
       "3 ENSG00000278267   23       33       1       12        6        1     \n",
       "4 ENSG00000243485    0        3       0        1        2        2     \n",
       "5 ENSG00000284332    0        0       0        0        0        0     \n",
       "6 ENSG00000237613    0        0       0        0        0        0     \n",
       "  Sample_7 Sample_8\n",
       "1  17       10     \n",
       "2 319      172     \n",
       "3   4        1     \n",
       "4   0        2     \n",
       "5   0        0     \n",
       "6   2        0     "
      ]
     },
     "metadata": {},
     "output_type": "display_data"
    }
   ],
   "source": [
    "count_clean <- read_tsv('../../result/deseq2//count_clean.tsv')\n",
    "head(count_clean)"
   ]
  },
  {
   "cell_type": "code",
   "execution_count": 6,
   "id": "1b2ddb3c",
   "metadata": {
    "execution": {
     "iopub.execute_input": "2024-10-29T20:43:41.501576Z",
     "iopub.status.busy": "2024-10-29T20:43:41.500141Z",
     "iopub.status.idle": "2024-10-29T20:44:00.265112Z",
     "shell.execute_reply": "2024-10-29T20:44:00.263154Z"
    }
   },
   "outputs": [
    {
     "data": {
      "text/html": [
       "<table class=\"dataframe\">\n",
       "<caption>A data.frame: 6 × 6</caption>\n",
       "<thead>\n",
       "\t<tr><th></th><th scope=col>ensembl_gene_id</th><th scope=col>hgnc_symbol</th><th scope=col>chromosome_name</th><th scope=col>start_position</th><th scope=col>end_position</th><th scope=col>strand</th></tr>\n",
       "\t<tr><th></th><th scope=col>&lt;chr&gt;</th><th scope=col>&lt;chr&gt;</th><th scope=col>&lt;chr&gt;</th><th scope=col>&lt;int&gt;</th><th scope=col>&lt;int&gt;</th><th scope=col>&lt;int&gt;</th></tr>\n",
       "</thead>\n",
       "<tbody>\n",
       "\t<tr><th scope=row>1</th><td>ENSG00000000457</td><td>SCYL3 </td><td>1</td><td>169849631</td><td>169894267</td><td>-1</td></tr>\n",
       "\t<tr><th scope=row>2</th><td>ENSG00000000460</td><td>FIRRM </td><td>1</td><td>169662007</td><td>169854080</td><td> 1</td></tr>\n",
       "\t<tr><th scope=row>3</th><td>ENSG00000000938</td><td>FGR   </td><td>1</td><td> 27612064</td><td> 27635185</td><td>-1</td></tr>\n",
       "\t<tr><th scope=row>4</th><td>ENSG00000000971</td><td>CFH   </td><td>1</td><td>196651754</td><td>196752476</td><td> 1</td></tr>\n",
       "\t<tr><th scope=row>5</th><td>ENSG00000001460</td><td>STPG1 </td><td>1</td><td> 24356999</td><td> 24416934</td><td>-1</td></tr>\n",
       "\t<tr><th scope=row>6</th><td>ENSG00000001461</td><td>NIPAL3</td><td>1</td><td> 24415802</td><td> 24475252</td><td> 1</td></tr>\n",
       "</tbody>\n",
       "</table>\n"
      ],
      "text/latex": [
       "A data.frame: 6 × 6\n",
       "\\begin{tabular}{r|llllll}\n",
       "  & ensembl\\_gene\\_id & hgnc\\_symbol & chromosome\\_name & start\\_position & end\\_position & strand\\\\\n",
       "  & <chr> & <chr> & <chr> & <int> & <int> & <int>\\\\\n",
       "\\hline\n",
       "\t1 & ENSG00000000457 & SCYL3  & 1 & 169849631 & 169894267 & -1\\\\\n",
       "\t2 & ENSG00000000460 & FIRRM  & 1 & 169662007 & 169854080 &  1\\\\\n",
       "\t3 & ENSG00000000938 & FGR    & 1 &  27612064 &  27635185 & -1\\\\\n",
       "\t4 & ENSG00000000971 & CFH    & 1 & 196651754 & 196752476 &  1\\\\\n",
       "\t5 & ENSG00000001460 & STPG1  & 1 &  24356999 &  24416934 & -1\\\\\n",
       "\t6 & ENSG00000001461 & NIPAL3 & 1 &  24415802 &  24475252 &  1\\\\\n",
       "\\end{tabular}\n"
      ],
      "text/markdown": [
       "\n",
       "A data.frame: 6 × 6\n",
       "\n",
       "| <!--/--> | ensembl_gene_id &lt;chr&gt; | hgnc_symbol &lt;chr&gt; | chromosome_name &lt;chr&gt; | start_position &lt;int&gt; | end_position &lt;int&gt; | strand &lt;int&gt; |\n",
       "|---|---|---|---|---|---|---|\n",
       "| 1 | ENSG00000000457 | SCYL3  | 1 | 169849631 | 169894267 | -1 |\n",
       "| 2 | ENSG00000000460 | FIRRM  | 1 | 169662007 | 169854080 |  1 |\n",
       "| 3 | ENSG00000000938 | FGR    | 1 |  27612064 |  27635185 | -1 |\n",
       "| 4 | ENSG00000000971 | CFH    | 1 | 196651754 | 196752476 |  1 |\n",
       "| 5 | ENSG00000001460 | STPG1  | 1 |  24356999 |  24416934 | -1 |\n",
       "| 6 | ENSG00000001461 | NIPAL3 | 1 |  24415802 |  24475252 |  1 |\n",
       "\n"
      ],
      "text/plain": [
       "  ensembl_gene_id hgnc_symbol chromosome_name start_position end_position\n",
       "1 ENSG00000000457 SCYL3       1               169849631      169894267   \n",
       "2 ENSG00000000460 FIRRM       1               169662007      169854080   \n",
       "3 ENSG00000000938 FGR         1                27612064       27635185   \n",
       "4 ENSG00000000971 CFH         1               196651754      196752476   \n",
       "5 ENSG00000001460 STPG1       1                24356999       24416934   \n",
       "6 ENSG00000001461 NIPAL3      1                24415802       24475252   \n",
       "  strand\n",
       "1 -1    \n",
       "2  1    \n",
       "3 -1    \n",
       "4  1    \n",
       "5 -1    \n",
       "6  1    "
      ]
     },
     "metadata": {},
     "output_type": "display_data"
    }
   ],
   "source": [
    "gene_info <- getBM(\n",
    "    attributes = c(\"ensembl_gene_id\", \"hgnc_symbol\", \"chromosome_name\", \n",
    "                   \"start_position\", \"end_position\", \"strand\"),\n",
    "    filters = \"ensembl_gene_id\", \n",
    "    values = count_clean$NAME, \n",
    "    mart = mart\n",
    ")\n",
    "head(gene_info)"
   ]
  },
  {
   "cell_type": "code",
   "execution_count": 7,
   "id": "52b39880",
   "metadata": {
    "execution": {
     "iopub.execute_input": "2024-10-29T20:44:00.272479Z",
     "iopub.status.busy": "2024-10-29T20:44:00.271009Z",
     "iopub.status.idle": "2024-10-29T20:44:00.303131Z",
     "shell.execute_reply": "2024-10-29T20:44:00.301210Z"
    }
   },
   "outputs": [],
   "source": [
    "gene_info <- gene_info |> \n",
    "    mutate(\n",
    "        upstream_start = ifelse(strand == 1, start_position - 2001, end_position + 2001),\n",
    "        upstream_end = ifelse(strand == 1, start_position - 1, end_position + 1),\n",
    "        temp_upstream_start = upstream_start,\n",
    "        temp_upstream_end = upstream_end) |>\n",
    "    mutate(\n",
    "        upstream_start = ifelse(strand == -1, temp_upstream_end, temp_upstream_start),\n",
    "        upstream_end = ifelse(strand == -1, temp_upstream_start, temp_upstream_end)) |>\n",
    "    dplyr::select(-c(temp_upstream_start, temp_upstream_end))"
   ]
  },
  {
   "cell_type": "code",
   "execution_count": 8,
   "id": "32a2e91a",
   "metadata": {
    "execution": {
     "iopub.execute_input": "2024-10-29T20:44:00.308813Z",
     "iopub.status.busy": "2024-10-29T20:44:00.307292Z",
     "iopub.status.idle": "2024-10-29T20:44:00.338476Z",
     "shell.execute_reply": "2024-10-29T20:44:00.336678Z"
    }
   },
   "outputs": [
    {
     "data": {
      "text/html": [
       "<table class=\"dataframe\">\n",
       "<caption>A data.frame: 6 × 8</caption>\n",
       "<thead>\n",
       "\t<tr><th></th><th scope=col>ensembl_gene_id</th><th scope=col>hgnc_symbol</th><th scope=col>chromosome_name</th><th scope=col>start_position</th><th scope=col>end_position</th><th scope=col>strand</th><th scope=col>upstream_start</th><th scope=col>upstream_end</th></tr>\n",
       "\t<tr><th></th><th scope=col>&lt;chr&gt;</th><th scope=col>&lt;chr&gt;</th><th scope=col>&lt;chr&gt;</th><th scope=col>&lt;int&gt;</th><th scope=col>&lt;int&gt;</th><th scope=col>&lt;int&gt;</th><th scope=col>&lt;dbl&gt;</th><th scope=col>&lt;dbl&gt;</th></tr>\n",
       "</thead>\n",
       "<tbody>\n",
       "\t<tr><th scope=row>1</th><td>ENSG00000000457</td><td>SCYL3 </td><td>1</td><td>169849631</td><td>169894267</td><td>-1</td><td>169894268</td><td>169896268</td></tr>\n",
       "\t<tr><th scope=row>2</th><td>ENSG00000000460</td><td>FIRRM </td><td>1</td><td>169662007</td><td>169854080</td><td> 1</td><td>169660006</td><td>169662006</td></tr>\n",
       "\t<tr><th scope=row>3</th><td>ENSG00000000938</td><td>FGR   </td><td>1</td><td> 27612064</td><td> 27635185</td><td>-1</td><td> 27635186</td><td> 27637186</td></tr>\n",
       "\t<tr><th scope=row>4</th><td>ENSG00000000971</td><td>CFH   </td><td>1</td><td>196651754</td><td>196752476</td><td> 1</td><td>196649753</td><td>196651753</td></tr>\n",
       "\t<tr><th scope=row>5</th><td>ENSG00000001460</td><td>STPG1 </td><td>1</td><td> 24356999</td><td> 24416934</td><td>-1</td><td> 24416935</td><td> 24418935</td></tr>\n",
       "\t<tr><th scope=row>6</th><td>ENSG00000001461</td><td>NIPAL3</td><td>1</td><td> 24415802</td><td> 24475252</td><td> 1</td><td> 24413801</td><td> 24415801</td></tr>\n",
       "</tbody>\n",
       "</table>\n"
      ],
      "text/latex": [
       "A data.frame: 6 × 8\n",
       "\\begin{tabular}{r|llllllll}\n",
       "  & ensembl\\_gene\\_id & hgnc\\_symbol & chromosome\\_name & start\\_position & end\\_position & strand & upstream\\_start & upstream\\_end\\\\\n",
       "  & <chr> & <chr> & <chr> & <int> & <int> & <int> & <dbl> & <dbl>\\\\\n",
       "\\hline\n",
       "\t1 & ENSG00000000457 & SCYL3  & 1 & 169849631 & 169894267 & -1 & 169894268 & 169896268\\\\\n",
       "\t2 & ENSG00000000460 & FIRRM  & 1 & 169662007 & 169854080 &  1 & 169660006 & 169662006\\\\\n",
       "\t3 & ENSG00000000938 & FGR    & 1 &  27612064 &  27635185 & -1 &  27635186 &  27637186\\\\\n",
       "\t4 & ENSG00000000971 & CFH    & 1 & 196651754 & 196752476 &  1 & 196649753 & 196651753\\\\\n",
       "\t5 & ENSG00000001460 & STPG1  & 1 &  24356999 &  24416934 & -1 &  24416935 &  24418935\\\\\n",
       "\t6 & ENSG00000001461 & NIPAL3 & 1 &  24415802 &  24475252 &  1 &  24413801 &  24415801\\\\\n",
       "\\end{tabular}\n"
      ],
      "text/markdown": [
       "\n",
       "A data.frame: 6 × 8\n",
       "\n",
       "| <!--/--> | ensembl_gene_id &lt;chr&gt; | hgnc_symbol &lt;chr&gt; | chromosome_name &lt;chr&gt; | start_position &lt;int&gt; | end_position &lt;int&gt; | strand &lt;int&gt; | upstream_start &lt;dbl&gt; | upstream_end &lt;dbl&gt; |\n",
       "|---|---|---|---|---|---|---|---|---|\n",
       "| 1 | ENSG00000000457 | SCYL3  | 1 | 169849631 | 169894267 | -1 | 169894268 | 169896268 |\n",
       "| 2 | ENSG00000000460 | FIRRM  | 1 | 169662007 | 169854080 |  1 | 169660006 | 169662006 |\n",
       "| 3 | ENSG00000000938 | FGR    | 1 |  27612064 |  27635185 | -1 |  27635186 |  27637186 |\n",
       "| 4 | ENSG00000000971 | CFH    | 1 | 196651754 | 196752476 |  1 | 196649753 | 196651753 |\n",
       "| 5 | ENSG00000001460 | STPG1  | 1 |  24356999 |  24416934 | -1 |  24416935 |  24418935 |\n",
       "| 6 | ENSG00000001461 | NIPAL3 | 1 |  24415802 |  24475252 |  1 |  24413801 |  24415801 |\n",
       "\n"
      ],
      "text/plain": [
       "  ensembl_gene_id hgnc_symbol chromosome_name start_position end_position\n",
       "1 ENSG00000000457 SCYL3       1               169849631      169894267   \n",
       "2 ENSG00000000460 FIRRM       1               169662007      169854080   \n",
       "3 ENSG00000000938 FGR         1                27612064       27635185   \n",
       "4 ENSG00000000971 CFH         1               196651754      196752476   \n",
       "5 ENSG00000001460 STPG1       1                24356999       24416934   \n",
       "6 ENSG00000001461 NIPAL3      1                24415802       24475252   \n",
       "  strand upstream_start upstream_end\n",
       "1 -1     169894268      169896268   \n",
       "2  1     169660006      169662006   \n",
       "3 -1      27635186       27637186   \n",
       "4  1     196649753      196651753   \n",
       "5 -1      24416935       24418935   \n",
       "6  1      24413801       24415801   "
      ]
     },
     "metadata": {},
     "output_type": "display_data"
    }
   ],
   "source": [
    "head(gene_info)"
   ]
  },
  {
   "cell_type": "code",
   "execution_count": 9,
   "id": "5a2880fc",
   "metadata": {
    "execution": {
     "iopub.execute_input": "2024-10-29T20:44:00.343876Z",
     "iopub.status.busy": "2024-10-29T20:44:00.342418Z",
     "iopub.status.idle": "2024-10-29T20:44:00.360937Z",
     "shell.execute_reply": "2024-10-29T20:44:00.359155Z"
    }
   },
   "outputs": [
    {
     "data": {
      "text/html": [
       "<style>\n",
       ".list-inline {list-style: none; margin:0; padding: 0}\n",
       ".list-inline>li {display: inline-block}\n",
       ".list-inline>li:not(:last-child)::after {content: \"\\00b7\"; padding: 0 .5ex}\n",
       "</style>\n",
       "<ol class=list-inline><li>56523</li><li>8</li></ol>\n"
      ],
      "text/latex": [
       "\\begin{enumerate*}\n",
       "\\item 56523\n",
       "\\item 8\n",
       "\\end{enumerate*}\n"
      ],
      "text/markdown": [
       "1. 56523\n",
       "2. 8\n",
       "\n",
       "\n"
      ],
      "text/plain": [
       "[1] 56523     8"
      ]
     },
     "metadata": {},
     "output_type": "display_data"
    }
   ],
   "source": [
    "dim(gene_info)"
   ]
  },
  {
   "cell_type": "code",
   "execution_count": 10,
   "id": "a05f57ec",
   "metadata": {
    "execution": {
     "iopub.execute_input": "2024-10-29T20:44:00.366384Z",
     "iopub.status.busy": "2024-10-29T20:44:00.364917Z",
     "iopub.status.idle": "2024-10-29T20:44:00.382839Z",
     "shell.execute_reply": "2024-10-29T20:44:00.381066Z"
    }
   },
   "outputs": [
    {
     "data": {
      "text/html": [
       "<style>\n",
       ".list-inline {list-style: none; margin:0; padding: 0}\n",
       ".list-inline>li {display: inline-block}\n",
       ".list-inline>li:not(:last-child)::after {content: \"\\00b7\"; padding: 0 .5ex}\n",
       "</style>\n",
       "<ol class=list-inline><li>58174</li><li>9</li></ol>\n"
      ],
      "text/latex": [
       "\\begin{enumerate*}\n",
       "\\item 58174\n",
       "\\item 9\n",
       "\\end{enumerate*}\n"
      ],
      "text/markdown": [
       "1. 58174\n",
       "2. 9\n",
       "\n",
       "\n"
      ],
      "text/plain": [
       "[1] 58174     9"
      ]
     },
     "metadata": {},
     "output_type": "display_data"
    }
   ],
   "source": [
    "dim(count_clean)"
   ]
  },
  {
   "cell_type": "markdown",
   "id": "af1c4146",
   "metadata": {},
   "source": [
    "565238 genes had chromosome coordinates, compared to 581749 total genes present."
   ]
  },
  {
   "cell_type": "markdown",
   "id": "9bc52367",
   "metadata": {},
   "source": [
    "Sequence fetching inspired by a post here: https://www.biostars.org/p/354170/"
   ]
  },
  {
   "cell_type": "code",
   "execution_count": 11,
   "id": "d4835264",
   "metadata": {
    "execution": {
     "iopub.execute_input": "2024-10-29T20:44:00.388305Z",
     "iopub.status.busy": "2024-10-29T20:44:00.386787Z",
     "iopub.status.idle": "2024-10-29T20:44:00.402626Z",
     "shell.execute_reply": "2024-10-29T20:44:00.400748Z"
    }
   },
   "outputs": [],
   "source": [
    "fetch_sequence <- function(chr, start, end, strand) {\n",
    "    server <- \"http://grch37.rest.ensembl.org\"\n",
    "    ext <- paste0(\"/sequence/region/human/\", chr, \":\", start, \"..\", end, \":\", strand)\n",
    "    r <- GET(paste0(server, ext), content_type(\"text/plain\"))\n",
    "    sequence <- content(r)\n",
    "    \n",
    "    # get the reverse complement if on the negative strand\n",
    "    if (strand == -1) {\n",
    "        sequence <- chartr(old=\"ATGC\", new=\"TACG\", sequence) |> stri_reverse()\n",
    "    }\n",
    "    \n",
    "    return(sequence)\n",
    "}"
   ]
  },
  {
   "cell_type": "code",
   "execution_count": 12,
   "id": "fadecc94",
   "metadata": {
    "execution": {
     "iopub.execute_input": "2024-10-29T20:44:00.407988Z",
     "iopub.status.busy": "2024-10-29T20:44:00.406532Z",
     "iopub.status.idle": "2024-10-29T23:56:31.038440Z",
     "shell.execute_reply": "2024-10-29T23:56:31.036342Z"
    }
   },
   "outputs": [
    {
     "data": {
      "text/plain": [
       "     user    system   elapsed \n",
       "  429.225     5.852 11550.221 "
      ]
     },
     "metadata": {},
     "output_type": "display_data"
    }
   ],
   "source": [
    "system.time({\n",
    "  gene_info <- gene_info %>%\n",
    "    mutate(upstream_region = pmap_chr(\n",
    "      list(chromosome_name, upstream_start, upstream_end, strand), \n",
    "      fetch_sequence\n",
    "    ))\n",
    "})"
   ]
  },
  {
   "cell_type": "code",
   "execution_count": 13,
   "id": "c5c8fc9a",
   "metadata": {
    "execution": {
     "iopub.execute_input": "2024-10-29T23:56:32.246406Z",
     "iopub.status.busy": "2024-10-29T23:56:32.244672Z",
     "iopub.status.idle": "2024-10-29T23:56:32.285767Z",
     "shell.execute_reply": "2024-10-29T23:56:32.283706Z"
    }
   },
   "outputs": [
    {
     "data": {
      "text/html": [
       "<table class=\"dataframe\">\n",
       "<caption>A data.frame: 6 × 9</caption>\n",
       "<thead>\n",
       "\t<tr><th></th><th scope=col>ensembl_gene_id</th><th scope=col>hgnc_symbol</th><th scope=col>chromosome_name</th><th scope=col>start_position</th><th scope=col>end_position</th><th scope=col>strand</th><th scope=col>upstream_start</th><th scope=col>upstream_end</th><th scope=col>upstream_region</th></tr>\n",
       "\t<tr><th></th><th scope=col>&lt;chr&gt;</th><th scope=col>&lt;chr&gt;</th><th scope=col>&lt;chr&gt;</th><th scope=col>&lt;int&gt;</th><th scope=col>&lt;int&gt;</th><th scope=col>&lt;int&gt;</th><th scope=col>&lt;dbl&gt;</th><th scope=col>&lt;dbl&gt;</th><th scope=col>&lt;chr&gt;</th></tr>\n",
       "</thead>\n",
       "<tbody>\n",
       "\t<tr><th scope=row>1</th><td>ENSG00000000457</td><td>SCYL3 </td><td>1</td><td>169849631</td><td>169894267</td><td>-1</td><td>169894268</td><td>169896268</td><td>ACATAAAATGTGGTGTATCCCTCTAGACTAGTATATGCAACTATTATAGTACTTTTTCTTTATAGGATTACTTATTTAGTGCCATTTCACCTTTTTCCTTCGTATTCAGATAACATATTTTGGACCTTTGAATCACCAAAATAGTGTCTCTTCCTGAAAATACATAATTCTGGTCCAAAGAAAATGGTTATTGTTTATTGTGAAAAGATAACTAGGAATGATAAGGCCAAAAAGTCAATCTGCCATTAAGTTTTATCTCCCAAGAACAATTATTTCTGGGTACCTAGAAAGAAAAATGACAAATTCTTTAAAAGAGAAAAATTATATTTAAAACCCAACAACAAATAGAAAACCATATCTAGAGTGTGTTTTTTTAAATAAACAAATTTAGAAATCTAATTAGCATTCAGCAAGCAGAAGACTGAATTTTTGCTAATATTTGCAAGACTTCAAACACATTTGTAATAGCAATCATTAGAATTCTAAACTTGATATGATTCAGAGCAGGAACAAAGAAATCTGGAAATGACAAGTGATGCTTCACATGCAGCACATTACAAGGGAATGGCAGCCAGTAAAGAATCTCAGGCACTCACAGGCTCTTATTAAATTTCTGGGCCAGAGTTGACATTCCTGTAGAAAGAGAAGAAAACCACCTACCTCTGGCTGTTTGTGAGGCTTAATTAGTGCGTATTTGTAAAGCACTTTGAAATCCTTGGATGAAAAGTGCTGCATAAGTGAAAAGTATCATTATTTTATTAAAACGAGATAAAAGCAACACAAGCCTTTTTCTTCTTTTAAATTCCTAGGTCAGCAATATCAATGTAGAGCAAGTAATGAATTTATTAATAAATGGCTACAAAAAGAATAAATGCAGGCCAAATTATTTTTTCAAAGGCTCATGGAAGTCTTTGACTTGGGAACATTTTAAGAAATAATATTGGCTACACTTTTATTCACAACATCCTTGACAGGGTCTATCCAGCTCTCTTCTGAACACCTCCAGAAGGAAGTGCTCACTACTTTGTCAAGGCAGTTCATTCCATTTATGGATATGTAAAACTGTTGGAAAGTTCTTTATTACACAGCTCTAAAATCCAGTTCAACTAGTCTTAGAATTACCCTCTGAAACCACACAAGGAGTCCAATTCTTCTTTGATATGACTGCTTCACAACCCTTGTTTATTCAAGCCTCATTACATGGTCTCTAATCTTTACCATCTCAGTTGCTCTCTAAAACCACTTCCATTTTCTAGTGTTTGTCTTCAAATGAAGAAGCTAAAATTAACGTGATACTTATGATGTGATCTGAAACCAGTACAGAATAAAAGATCCTATATCTGACTTTACACTATTGTAGGCTAAAACTGTATTAATCTTAAACAAAAATTTTAAGAAGACATTATCACAAAGTTGCCTAATATTGACTGCTTATAATTGACTGTGTATATATGTGTATATATATATAACATTGAGTTATATATAGTTATATAATATTGAGTTATAGTTACATGTAACATTAAGTTTTTTCTGTATATATGTACAGTTGTGTGTGTACACACACACACACACACACACATTCAAAATTTTACTTATAACTACCATGCTAAATTTCATCTTTTTAGTCTGAGTCTGTCTTTAGGAATTCTATTCTTCCCAAGACAAAATCATTTATGACTACATATTTATAAATAGGCAGCAGTGATTTTTCTTAACAAACCAGTCTTTGTGATCCATCAGGTAATATTGAAGGCTGGAATTCTTTTGGAATTGTCAAGTGAAAGAATTTAACATGAGCTGTTATAGGAAGAAACTTTCCAGGATATTATAAAACTGTATGAAATTACTTCTTCATAATTTTTTGGAATAGTTCATTCTTTTTATCAATTTCTCTAATATATTGATTATAGAATCAAAATCAGTATGTTTATCTTTCTAAGTAGATTGTTAATTGATCATCAGGGTAATTTCAGCTTAAGTATGATTTGTCATGGGAAATTT</td></tr>\n",
       "\t<tr><th scope=row>2</th><td>ENSG00000000460</td><td>FIRRM </td><td>1</td><td>169662007</td><td>169854080</td><td> 1</td><td>169660006</td><td>169662006</td><td>GGGGGCAGGGGAAAGGAGAGCATTTCATTGTGAATCAAGGAATTTCTCCACCTGTTTTAACTCTTCCATATGACATCAAAGAGATGTCACTTGCAGCTAGCATTTCAGTGATGTTTTCTTACTAATAATATCGTGATAAAAGAAACATTGACTATAAGAAATAGGAATGGGTCTCATAAAAGGAAACAGCAAAACCCCCAAACTAAAAAACAGCGCAGGCTATTTCTCTCTTCTCTCCTTTTGCTTGGCACTCATGAGATGCTAGGTGTGGAAGTCAGCCAACTGAAAAAGAGAGGTGGCTGAAGAAGGTGGGGAGGCTGAAGCCAGTTAAATAGGATGGTCCAATTCACAGACGGCGAGGCTACAGTGCAAATAGGACTCTTTCAACTTGAGCAGGACCCCATTACTTCACTGGAGTTAGAAAGAAAGGAGAGCGTAGACTTTTTGAACTTTCTATAAGAGTGTACCTCCACAGTATACAGAAGACGACGTGAAATTTGATCTGCAAGAAAACTGAGTCCATATTCACATATGTATCAAATTTGCACTTCATTTAGAAGTGTCTGTCATCAAGTACAGCACTGAATTGAAACTGAAAACAAGAGTCAAGAAAGAGCAAAGTCAGCCATCTTTATATTCCACATGAATCCTTTCCCTTTATGGTCTTATTTGTTTCTCCTCAGAAAAGACAAAAAGCTGAGCTGTATAAACACCTGTGGGCTGGGGGTTGAGGGATAAATGAGGGGCGAAATGGAAGCTGAAGGAACTGTTGGTCAGGTAGAAATCTTCCCAGATGCACTGAAGGAAACACACTTCATGTTTGACGTAGGAGGTGCCACCACACAAAACGTTTCATGGAAGGATTTAAAGGATCTCATGATTTTTAGTATTCCAAGAATTTTCTTTCACCAAGGGCGATTTAATATGGGTCATTCATACTGAAAGAAAAACAAAAGATAATAAGAGTTTAAAAATTGCAAAACTTGGAGTGTTAGTAGTAAAGGTAAATATTCATTAGAGATGAGAAGAGGAGCAAGGAAATGCTTTCAGCTGGAAATCTCAGACAAGAGGCCAGGCTTTAGGAACCTCTGAAGATGAACAAATGTAAGCAAACCCTAGTAGCAGCACTTCTCAGATTTTCATGTGCTTACCACTCAGAGATGGTGTTAAAATGCAGACTCTGATTCAGTAGGTCTGAGTGGAGCCTGAGATTCTGCACCCCTAACAAGCTCTTTAGTGATGCTTATGCCACTGGCGCACAGACCCCACTTGGAGAAATTTTTGTGGTGCATACGGTCTTTGTCTCCAGATCTAATGAGTCTGAAGGACAGTGTAGATTGATTTTTTAAATTTATGTTTATTTTAATTTAATTTAATTTAATTTATTTATTTATTTATTTTTGAGATGGAGTCTCACTCTGTTGCCCAGTCCGGAGTGCAGTGGCACGGAGGCAGCTCATGCAACCACGGCCTCCTGGGTTCAAGCGATTCTTCCGCCTCAACTTCCTGAGTAGCTGGGAATACAGGCACGTGCCAGCACACCCAGCTAATTTTTGTATTTTTAGTAGAGATGGGGTTTCACCACATTGGCCAAGCTAATCTCAAACTCCTGACCTCATGATCCACCTGCCACGGCCTCCGAAAGTGCTGGGATTACAGGCGTGAGCCACCGAGCCCAGCTGTAGATTGATTTTGAGCAGTGGAAAGTCAAGGAATTAGAAGGCATGCTTAAATGGAAAGTGAAATTGGAGAAAATTTAAACTCATGAAATAGTGGTGGTTATAAACTCGTGATAAATTATATCCTGGGATATAATTTAATGAGATGGTAACACATTTAGTTTAAAGAAATAAGTGACACTTTTTTTGTGTGACACAACTGTCTTATTCTTGGAAAGGACAAGGAGAGAATGAAATATGGTATGTCTTCACAGCACCTTTCAAAGGGAGAACCAGATTCTGAGGAGCTGGTCTCATGATGAACTGTCAGGGTAAACCACAG</td></tr>\n",
       "\t<tr><th scope=row>3</th><td>ENSG00000000938</td><td>FGR   </td><td>1</td><td> 27612064</td><td> 27635185</td><td>-1</td><td> 27635186</td><td> 27637186</td><td>ACTAAATTGATTTCACATATGCAAGTTTTTGAAGTGCCCTGGATTAGATAATCTCTTAGACTATAGGTTCCTGAACTTTCTTAGCTCACAGCACCATTACCATCTCAGTAATTTTTTCATGGAGCCTCTAAGCCAAAAGAAATAACAGTTCAATTTATTAAGTAGTTAAGTCCAAATCACTTAAAAAGTATTTATGTCCTAACAAGTTAGTTGCCATTTAAAAAATAATACACCTGAATTGGAAGAAACAATATTTATTTCATTCTTTTTTTTTTTTTTTTTTTTTGAGACGGAGTCTTGCTCTGTTGCCCAGGCTGGAGTGCAGTGGCATGATCTCAGCTCACTGCAACCACCGCCTCCCGGGTTCAAGTGATTCTCCTACCTCAGCCTCCCAAGTAGCTGGGATTACAGGCATGTGCCACCATGCCCAGCTATTTTTTTTTTTTTGCATTTTTATTTATTTTTTATTTTTTATTTTTTTTTTGAGACAGTTTCGTTTTTGTCGCCCAGGCTGGAGTGCAATTGTGCAATTGCGGCTCACTGCAACCTCCGCCTCCTGGGTTCAAGCGATTCTCCTGCCTCAGCCTCCCAAGTAGCTGGGATTACAGGTGCCCGCCACCACACCCAGCTAATTTTTTGTATTTTTAGCAGAGATGGGGTTTCACCACCTTGGCCAGGCTGGTCTCAAACTCCTGACCTCAGGTGATCTGCCCGCCTCAACCTCCCAAAGTGCTGGGATTACAGGTGTGAGCCACCGCGCCCAGCCTTCATTCTTAAACAACTGCAATTACTAATGGGATCTATGCTGCCCATTGGGCACTGAACAACTTGTTAAATTTTCTAATCAAAGCAAACACTGCTGCCTTCATTTCCTGTCCCACATTGATTTTCATTTGCTTTTTATCACAGCAACCACTAAAGACCCAGCTTCTTTTTTTTTTTTTTTTTTTTTTTTGAGGCGGAGTCTTGCTCTGTTGCCCAGGCTGGAGTGCAGTGGTGCGATTTCGGCTCACCGCAAGCTCCACCTTCTGAGTTCATGCCATTCTCCTGCCTCAGCCTCCTGAGTAGCTGGGACTACAGGCAGCTGCCACCAGACCTGGCTTATTTTTTATGTTTTTAGTAGAGATGGGGTTTCACCACGTTAGCCAAGATGGTCTCGCTCTCCTGACCTTGTGGTCCACCCGCCTCGGCCTCCCAAAGTGCTGGGATTACAGGCATGAGCCACTGCGCCCGGCCAAGACCCAGCTTCTTAAAGATGACATCATCAAAAGGATTGTGGCATAATGTAATAATGGAACTGTGAACTACCTTGAGCTAATAGTTCTCTCATTAGCCAAAGATGTTGAATATCTTTCAAAATATCCTACTTTGCCCCCTGTGAATTTGCTGTGGGTGCCCTCAGGCACCTTGATGCACAGTTGGGGAACTATGGTTTAGTCTGTGGGAATAGCAGTTCCACTACTGAAACTACTGAGAGGTCCTGCCGGAAACACAATAGGTGGTATTATAAAACAGATACTGTGGGCTGGTATCATTCCTCTGTGTACCCAAATTAACGTCTGCAGAAGCTTCTTGAAGGCATTTCCAGACCAGACAAAGGAAGGACAATGTTCCAGACCAGGGAGTAGTGCAGAGTCTCAGGTTCCTTCATGAACCCTGAGTGACTCCATCTGGCTGGATTGTAGAGGGTAGACTGGAGGAGCAGTCAAACTGAAGGACTTCCTATGGCTGGTGAGAGACCACAGACTCAATCCTGTAGGCAAGGGAGGCATTGGAAGACTTCACGAGGGTCTCCATTTCATTTGGAGTTGGTACTCCATTTTTTAAAAAATTAATAGCCTTTACTTTCTAGAGCAGTTTTAGGCTTACAGAAAATTGAGCAGATAGTATAATGAGTTTCATATAACCCTCTTTCCCCAGCTCAATTTTCCCAATTATTAACATCTTGCATTAGTGTGTTGTTGTAATTAATGAACCAATATTGATACATTATGATAACTG</td></tr>\n",
       "\t<tr><th scope=row>4</th><td>ENSG00000000971</td><td>CFH   </td><td>1</td><td>196651754</td><td>196752476</td><td> 1</td><td>196649753</td><td>196651753</td><td>TCTGCTGCAATTAGTGAAACAAGGAACAGTGTTACCACATATGGTCCAGAAATCTAAAAGGGTGATACTGCCATACTGTGAGAGAAAGAAGAGTTGAACTCTTAAGAGCCCTCTGAACTTTAAATCCCATGATTCATAAATACATGTTTAAACTGTGCTTTAGTAATCCTCTTTTACAAAAGAATAGTTAATTTTGGGTTAATTTTATACACTAAAAAAATTTTGGTTTGAGCCCACAAGTGTCTCCTTGGAAAACATATTTTTCTTCACAATTGCGTGATCTCTACTTTTAGGCACTGTTAAGAGAATATTTTAGAAAGAAATTAATGAACATGAGACAGTAATAACCCACATCAGATCCATGTTTGGCTAATGGTGTGTGGGGTCCAACTATTTGTCTTCATGGCATTCGTAGTTCCTAAGCAAAGGAAGTGCATGCACAAGTCCTTTGGCATTAACTTCTACCTGAAGTATATTATTTCCAGAGCCCCTCTCAAATCTATAGTGAATTTATCCATGCAGTAATCAAAATGTAACTTATAAACCACTTATTTTACATCAGGACCTTGCTGTGTATTGAAGATAAACATTGCAATAAACCATCATTCCAGCTTTCAATGAATTCAAAATAAGACTCTGGGAATTTAGTTTTATTTGAATATGTGACTCTGTAGCATTACTACCTCATTGTAGTCATCTGATTTTTTCGTCTCTTTTACTTCTTCACTTTGATACCTACTTAAAACTCTTCCTTAGCACATATTTGTTTTCACAATGAGAGATCCATCTGTTTTTCCCAAATGTATTACTGCATTTCTATTCTTGCTTCTCTTGAACACTAATTGATTCACACACACACACACACACACACACACCCCTCAAAGACTCTACATTTATAAAACATTTTTCTTTTATAATTTTTTTCCATTTCTCAGTCACAAGTACAAGTAAAACCTGAATATTCAATACTATGCTTGCAGGTCCTGCTTTCTTTAGGAAAAGAGATACCAAGAGAAGGCACTGGGATTGGGTACTCCTTTTCAGAAGACAGTTCACTAATAATCGATATAAATAAAGGAGGATTTATCCCAAATTAGTTAAGCATACACTCTCTCACCACGTTTTATTTTATTGAAATATACTTTACGCTGATTAGATATAGAGAAGTCTTTCTTAATAAAAGAATTCCACTCTTTGTATGCCAACTAATATAGCATAAATATGACTATTTTCTTGGTACAAAGCAAGGATCTACTTGCTGATATAAGATGAATTCAAAATCTATACACATCATTTTCTCTGAAATCAGGTAACTTCAAACTCTCTTTGTTGCTTCTAAATCTATAAGAAGTTTGGAATTAAATAATAAGATAATATTAAAGTGAAATAATCTACTTAAATTTTAAATACTTTAATTTTCTTCAATCTGGTCTATGGCACACACATGTCAGAGGACTGATTTAAAGGTGAATTGTCAAAACTTTGGTCTCTGTGTCCAATAGGGACAATCTGTAACAGAAAGTTATTTATAGAAACAATCAAAGGTACGAAGAACTGCTAAAGGAAAGCTATCTTTGATCCGAATCTATCTCTTCCCTGTACAGATTGGATTTTCTATTGGTTCAAAGCATAGAGTGCTAACCTTGAATTAGTATTCTAACTTCAAATGACCAATGGTTGTTTCCAATAGTAGGAAAATATGGATAGTCTCAAGTATTGTTTTGGATAAAGGTACAGGTTCGGGCAATGTTTTAATAACATGATGTATTTTTAAAAAGATTATGAGTGTAGGAAATTAAGGTTTATCACAGGATTTATGTCTACTGCTTGAGCATAATCACCAGAAGTCTTTCTATTCTTAATTAACAAAATTGTTCCATATTATTTTATTGATTTCTTAGTTAAACTCTTGTTTTTTGCATCTCATAGCTTTTGACTTCAAAAATTGGTATTAAATTGAGCTATATCATAAGGAAAAATAATTGAAGATACATAAACTGA</td></tr>\n",
       "\t<tr><th scope=row>5</th><td>ENSG00000001460</td><td>STPG1 </td><td>1</td><td> 24356999</td><td> 24416934</td><td>-1</td><td> 24416935</td><td> 24418935</td><td>GGAGGCCGTGTCCCCGCACTCGAGCTTAAGGACATCTGACAGGTGCTGGGGTAGGGTGCTCCCTCAGACTGGTCTCTCCCATGGACAGGTTTGGTTTCTCCCATTAGACTAGCTGTATCTTCCTTCTCAGGCTAGGGGTTCCTAAGGACCGGATTGTGTCTCCTCCATCAGACTGGAAGTTCTCGAGGGCTGGCCTTTGTCTCCTTCATCAGACTAGTGTTTACTGAGGGCTGGGCTGTGCTTCCTCCACCAGACTCGGGGCTCCTGAGGGCTGGATTGTCTCCTGTGTGAGACAGTCCTGAGGGTTCCCTGACTGATGTTCTAGAAAGTCGCTTAGGACCTCTGTACCCACCTGTCTTCCTCCGGGCTGCATCATGGTCACCCATGACAACCAACTCTGAGGCCTTGGAGGGGACGCTGCTGCCTACCCTGCTGATGGCTCTCACCCGGAACCGATAGCTCTGACCTTCGACGAGGCCTTGGATTGGGCACCGACAAGTCCCTCCGGGGGCCTCATGGCAGGCGATCCATTCCCCAGACTCGCCCTGGCACCTGTTGGAGACAGGCCCCCCCTTTCAGCCCCTGCCCACAATGCACACCTTCCCAATGTGAGCCTCTACAAGGGCCTTTCTCTGACTGGGGGAGCCTGCCCAGCTCATCTCTGCCAATTAAAGTTCTTCTCTCCAATGGAAGAGCCTGGCTCCAACCTCGGGCCCCCGGGAGACCTTTTCACCATCCCTGACACTGACCAGCAGCAGTGCCTTTCATGGGGCATCATCGTGAGCCTGTGACTGTGCTGTGCCCTCCACACCCAGCCCTCGTTTTATCTCCCTGGCAGTCCTAGGGGGCACGTGTGGTCACCTTCACTGCACACATGGAGGATCTGTGGCTCAGAGAGTGACAAGACCTGCCCAAGGTCACACAGTTAGGATTTACCTGAGCTTGTCCCCTCCCTAAGTTGGCATGCATTCCAGGTTGACCCTCCAAGCCTGGGCTCTCTGTACCCTCTTGGTACCATTGTTCCAGGCAGTACGACAGTGCACGTTACCCTTATTGTTACCAGCTGGTTGAGGTAGTCGTCACATGTGGGTCCAAGTCTTGTCTCCACCACTAATGACAAATGTGTCTTTGAGCAAAGTCATCTCCCCACATACTTTGGTTTCCCCATCTATAGAAGAGGGCATTAGATAGTCCCCCTCCCCTTTAGAGACGGGTCATTGGAAGGATGGAAAGAGATGAGGCATGCCCTTAGCACGGTCATGAGCCTGTCCGTGGCAGCATTAGCTATTTTCTCAAGCTGGGCCTTCAGAGCCGGCCACACTGGAAAAAGGCCGGAGGTTCTGGCCTCTCTACCTGTTTGCCTCCTCCCTTGGGGTCAGTGCTATTCCATCTCTCTCTGTCATTAGGAAGGAAACTAGCCCACGAATTCACTGTGCTCAGGGTTCAAGCACTCCCCGTTTTGCCCCTCTGGGTCAGCTCTAGAGGGTCCACAGGGCAGTGGCCGACTCCAGCATAGAATTCCAGTTATCAGCATGACAAAGACTTGGAGGTGTGGATGCCCCTCCATTGCCCCTAAATGACACAGCACAGCCTGTCTCCTGTCCTTTTCTGAGGAGCGGGGGTGTGAGGGTTCTCTGAGGTCAGACATGGGGCCTCCTCTTTGCTGTGGCTCCCACCACCAGACAGAATTCTACCCCTAGGGCCTCTGCCACTCACGAGGTCGACTCACCGCTCAATGGTGTAGGCAGTGATGGGGTTGCCCCGGGTGTCACTGGGCGGGGCCCAAGTCAGGATGAGGCAGTCTCTGTTCACATCCAGGCATCGGACGTTCAGTGGGGAGCCTGGGGCCCCGGGGTTCTCGGCCTCGGCATCTGAAACCCGGGGGTGAGAGGGAGGCCCTTCTAGTCAGTGGCCATTTGGTGACAGGCCCTTCCCACTCCCGCCCAGCATCCTCTTCTCATCCATCCTCCAGGGGCTCAGTTTTGATCTTGAGGACTGGGG</td></tr>\n",
       "\t<tr><th scope=row>6</th><td>ENSG00000001461</td><td>NIPAL3</td><td>1</td><td> 24415802</td><td> 24475252</td><td> 1</td><td> 24413801</td><td> 24415801</td><td>TCCATTTCTACCTATAACCCCCTTCCGTCTTGTCTCAAATGGCCATCAGGGGGATCCTTTTATAGCACGTGTCAGACCAGGTCCCTGTCTGCCCAGAACCCTCCCACGTCCCGCATCTCCCTCAGAGCAAAAGCTTCCCCATCGCCTGACCCCTCGGCCTGTCTGGCCACCGTTCCCTCTGCCCTTAGTCTCTGTGCCTCTCTGCTGTTTCCTGAGGGTCCAAGTCCCACCTCTGGGCCTTTGCACTTGCTGGTCCCTCAGCCTGGAATGTTCTTCTCCGAGAAATCTCTTGGCTTCCTGTAGGCCTTTAATAAAAATCCACCTTCCTGGGCAGTGGGGAGGCCATCCCAGCCACTCCATCTAAAAATGTCAGCAGCTCCTCTCCCCACACTTCAAGTTCCCCTCCCTGCTCAATGTCTTTCTCCTTAGCGCCTACCACTCACTACTGTGCTTAATATTCTACTGATTTACTCCATTTATCATTGGCACCCCCTCCCCTGACTGCCGTGTCCCTAGGGCCAAGAACAGGACTGGCACATAGCAGGTGCTCCATCTATGTTTCTGGGACAAATGAATGAACAAATGAATGAATTCTCACAATAACCCTGCAGGAAGGTGTTAATTTCTCTGCCGATGAGGAAAGTCAGGTTCAGAGAGTTTCGGTAACTTGGCCAAAAGTCCTGCATCTAATAACTGGTGGATATAGTATTAAACTTCACTCAGGTGTGGTTGGCTGCGAACCTGTTTACTCTCCACAGCATCAGGGACCCAGAAGGCAGCCAGAAACCCCGAGTCTCTGGGCAGATGGAGGGTGGAGAGCCCAGGGTGAGACAGATGAGTGAGGTACCCAGAGACCCTTTCTGCTGAGTCTGGGCAAGAGAGTTAAGACCTAGAAGCACAAGGGGACCCACTGATTCCACGCTCTGTGGTTTTCCCCCCACAAGCCCATCTGGCTGTCAGTGGCCTAGACCAGGTAGGACAAGAAATTGCCATAAGAAACCATGAACACTGCTGAGCTCCTACTGTGTGCCAGGCTCCATTCTAAGTCTTTATGTGCGCTAATTAATTTGATCCTCACATTAACCCTACAAGCTGTGTATGATTATTATCATTTTATGGAAGAAGAAACAGAGGCACAGAGAAACTAAGTAACTTGCCCAAGGTCACGCAGCTGGTAAGTAGCAGAGATAGAATTTGAACCCAAGCAGTCTGACGCCAACATCTTCACCATGATACACTACCACCTTGTGAAACAAATCCTCAATTATCTACAGCTTTCCTATGTCGGAGAAAAAGGATTACCCATGAGTGTGAAAAGAGAGGCCTGTTTGGATAATCAGAGCCAGAGATTCCTCCCTGGAAATTTTAAATTCATTTATTCCCTAAACATTTTCTGTCCACCTAGTTTGTGCCAGGCATTGTGCTGGGCACAGAAAGTAATGAGAAGATAAACTTAGTCTCTGACTTCAGGGAGATAGTCAAGAACACCTCCTTGGGAAGCACTGACAGATCCCAGGGGTTGCTGGCTTTGGCTGTGGGCTGTGTTTTATTTCATCTTCACAGGGCAGGTTCTCTATTCTATGCTGGAGGAAACTGAGGCTCAGAGAGTTTAGGACACTCACTCAGGATCACACAGCACAAGGAAGGATTTGAATAGATTTTGACACCATGCTGTCTTCTACTCTGCCATACTGCCCCCCCTCCACTGTGAAGTTCACTCCACAAGACCTGCCTCATCCCCGCCGGGGTCTCCCCTGCCCCCACTCCCCAGTGAGAGCCACCTCCTAGTGCTAATCACACCATAGGCTCTGCAAGTGCTGCTGGTGCCTGTCCCTGGCTGGAGGGTACCAGCCTTGTTTCCCTCCCAACATAGTCCCACCAAGAAGTGCTTGGCCCCAATGTGTGGTCTGATGCCATCTGGCTTGGGGGCAGGGAGGTACCCAGGAAGTGGTGGATCGTATTGTCATTGTTGTCTGTGTCTTGTATTTTGTGTATTTCCAC</td></tr>\n",
       "</tbody>\n",
       "</table>\n"
      ],
      "text/latex": [
       "A data.frame: 6 × 9\n",
       "\\begin{tabular}{r|lllllllll}\n",
       "  & ensembl\\_gene\\_id & hgnc\\_symbol & chromosome\\_name & start\\_position & end\\_position & strand & upstream\\_start & upstream\\_end & upstream\\_region\\\\\n",
       "  & <chr> & <chr> & <chr> & <int> & <int> & <int> & <dbl> & <dbl> & <chr>\\\\\n",
       "\\hline\n",
       "\t1 & ENSG00000000457 & SCYL3  & 1 & 169849631 & 169894267 & -1 & 169894268 & 169896268 & ACATAAAATGTGGTGTATCCCTCTAGACTAGTATATGCAACTATTATAGTACTTTTTCTTTATAGGATTACTTATTTAGTGCCATTTCACCTTTTTCCTTCGTATTCAGATAACATATTTTGGACCTTTGAATCACCAAAATAGTGTCTCTTCCTGAAAATACATAATTCTGGTCCAAAGAAAATGGTTATTGTTTATTGTGAAAAGATAACTAGGAATGATAAGGCCAAAAAGTCAATCTGCCATTAAGTTTTATCTCCCAAGAACAATTATTTCTGGGTACCTAGAAAGAAAAATGACAAATTCTTTAAAAGAGAAAAATTATATTTAAAACCCAACAACAAATAGAAAACCATATCTAGAGTGTGTTTTTTTAAATAAACAAATTTAGAAATCTAATTAGCATTCAGCAAGCAGAAGACTGAATTTTTGCTAATATTTGCAAGACTTCAAACACATTTGTAATAGCAATCATTAGAATTCTAAACTTGATATGATTCAGAGCAGGAACAAAGAAATCTGGAAATGACAAGTGATGCTTCACATGCAGCACATTACAAGGGAATGGCAGCCAGTAAAGAATCTCAGGCACTCACAGGCTCTTATTAAATTTCTGGGCCAGAGTTGACATTCCTGTAGAAAGAGAAGAAAACCACCTACCTCTGGCTGTTTGTGAGGCTTAATTAGTGCGTATTTGTAAAGCACTTTGAAATCCTTGGATGAAAAGTGCTGCATAAGTGAAAAGTATCATTATTTTATTAAAACGAGATAAAAGCAACACAAGCCTTTTTCTTCTTTTAAATTCCTAGGTCAGCAATATCAATGTAGAGCAAGTAATGAATTTATTAATAAATGGCTACAAAAAGAATAAATGCAGGCCAAATTATTTTTTCAAAGGCTCATGGAAGTCTTTGACTTGGGAACATTTTAAGAAATAATATTGGCTACACTTTTATTCACAACATCCTTGACAGGGTCTATCCAGCTCTCTTCTGAACACCTCCAGAAGGAAGTGCTCACTACTTTGTCAAGGCAGTTCATTCCATTTATGGATATGTAAAACTGTTGGAAAGTTCTTTATTACACAGCTCTAAAATCCAGTTCAACTAGTCTTAGAATTACCCTCTGAAACCACACAAGGAGTCCAATTCTTCTTTGATATGACTGCTTCACAACCCTTGTTTATTCAAGCCTCATTACATGGTCTCTAATCTTTACCATCTCAGTTGCTCTCTAAAACCACTTCCATTTTCTAGTGTTTGTCTTCAAATGAAGAAGCTAAAATTAACGTGATACTTATGATGTGATCTGAAACCAGTACAGAATAAAAGATCCTATATCTGACTTTACACTATTGTAGGCTAAAACTGTATTAATCTTAAACAAAAATTTTAAGAAGACATTATCACAAAGTTGCCTAATATTGACTGCTTATAATTGACTGTGTATATATGTGTATATATATATAACATTGAGTTATATATAGTTATATAATATTGAGTTATAGTTACATGTAACATTAAGTTTTTTCTGTATATATGTACAGTTGTGTGTGTACACACACACACACACACACACATTCAAAATTTTACTTATAACTACCATGCTAAATTTCATCTTTTTAGTCTGAGTCTGTCTTTAGGAATTCTATTCTTCCCAAGACAAAATCATTTATGACTACATATTTATAAATAGGCAGCAGTGATTTTTCTTAACAAACCAGTCTTTGTGATCCATCAGGTAATATTGAAGGCTGGAATTCTTTTGGAATTGTCAAGTGAAAGAATTTAACATGAGCTGTTATAGGAAGAAACTTTCCAGGATATTATAAAACTGTATGAAATTACTTCTTCATAATTTTTTGGAATAGTTCATTCTTTTTATCAATTTCTCTAATATATTGATTATAGAATCAAAATCAGTATGTTTATCTTTCTAAGTAGATTGTTAATTGATCATCAGGGTAATTTCAGCTTAAGTATGATTTGTCATGGGAAATTT\\\\\n",
       "\t2 & ENSG00000000460 & FIRRM  & 1 & 169662007 & 169854080 &  1 & 169660006 & 169662006 & GGGGGCAGGGGAAAGGAGAGCATTTCATTGTGAATCAAGGAATTTCTCCACCTGTTTTAACTCTTCCATATGACATCAAAGAGATGTCACTTGCAGCTAGCATTTCAGTGATGTTTTCTTACTAATAATATCGTGATAAAAGAAACATTGACTATAAGAAATAGGAATGGGTCTCATAAAAGGAAACAGCAAAACCCCCAAACTAAAAAACAGCGCAGGCTATTTCTCTCTTCTCTCCTTTTGCTTGGCACTCATGAGATGCTAGGTGTGGAAGTCAGCCAACTGAAAAAGAGAGGTGGCTGAAGAAGGTGGGGAGGCTGAAGCCAGTTAAATAGGATGGTCCAATTCACAGACGGCGAGGCTACAGTGCAAATAGGACTCTTTCAACTTGAGCAGGACCCCATTACTTCACTGGAGTTAGAAAGAAAGGAGAGCGTAGACTTTTTGAACTTTCTATAAGAGTGTACCTCCACAGTATACAGAAGACGACGTGAAATTTGATCTGCAAGAAAACTGAGTCCATATTCACATATGTATCAAATTTGCACTTCATTTAGAAGTGTCTGTCATCAAGTACAGCACTGAATTGAAACTGAAAACAAGAGTCAAGAAAGAGCAAAGTCAGCCATCTTTATATTCCACATGAATCCTTTCCCTTTATGGTCTTATTTGTTTCTCCTCAGAAAAGACAAAAAGCTGAGCTGTATAAACACCTGTGGGCTGGGGGTTGAGGGATAAATGAGGGGCGAAATGGAAGCTGAAGGAACTGTTGGTCAGGTAGAAATCTTCCCAGATGCACTGAAGGAAACACACTTCATGTTTGACGTAGGAGGTGCCACCACACAAAACGTTTCATGGAAGGATTTAAAGGATCTCATGATTTTTAGTATTCCAAGAATTTTCTTTCACCAAGGGCGATTTAATATGGGTCATTCATACTGAAAGAAAAACAAAAGATAATAAGAGTTTAAAAATTGCAAAACTTGGAGTGTTAGTAGTAAAGGTAAATATTCATTAGAGATGAGAAGAGGAGCAAGGAAATGCTTTCAGCTGGAAATCTCAGACAAGAGGCCAGGCTTTAGGAACCTCTGAAGATGAACAAATGTAAGCAAACCCTAGTAGCAGCACTTCTCAGATTTTCATGTGCTTACCACTCAGAGATGGTGTTAAAATGCAGACTCTGATTCAGTAGGTCTGAGTGGAGCCTGAGATTCTGCACCCCTAACAAGCTCTTTAGTGATGCTTATGCCACTGGCGCACAGACCCCACTTGGAGAAATTTTTGTGGTGCATACGGTCTTTGTCTCCAGATCTAATGAGTCTGAAGGACAGTGTAGATTGATTTTTTAAATTTATGTTTATTTTAATTTAATTTAATTTAATTTATTTATTTATTTATTTTTGAGATGGAGTCTCACTCTGTTGCCCAGTCCGGAGTGCAGTGGCACGGAGGCAGCTCATGCAACCACGGCCTCCTGGGTTCAAGCGATTCTTCCGCCTCAACTTCCTGAGTAGCTGGGAATACAGGCACGTGCCAGCACACCCAGCTAATTTTTGTATTTTTAGTAGAGATGGGGTTTCACCACATTGGCCAAGCTAATCTCAAACTCCTGACCTCATGATCCACCTGCCACGGCCTCCGAAAGTGCTGGGATTACAGGCGTGAGCCACCGAGCCCAGCTGTAGATTGATTTTGAGCAGTGGAAAGTCAAGGAATTAGAAGGCATGCTTAAATGGAAAGTGAAATTGGAGAAAATTTAAACTCATGAAATAGTGGTGGTTATAAACTCGTGATAAATTATATCCTGGGATATAATTTAATGAGATGGTAACACATTTAGTTTAAAGAAATAAGTGACACTTTTTTTGTGTGACACAACTGTCTTATTCTTGGAAAGGACAAGGAGAGAATGAAATATGGTATGTCTTCACAGCACCTTTCAAAGGGAGAACCAGATTCTGAGGAGCTGGTCTCATGATGAACTGTCAGGGTAAACCACAG\\\\\n",
       "\t3 & ENSG00000000938 & FGR    & 1 &  27612064 &  27635185 & -1 &  27635186 &  27637186 & ACTAAATTGATTTCACATATGCAAGTTTTTGAAGTGCCCTGGATTAGATAATCTCTTAGACTATAGGTTCCTGAACTTTCTTAGCTCACAGCACCATTACCATCTCAGTAATTTTTTCATGGAGCCTCTAAGCCAAAAGAAATAACAGTTCAATTTATTAAGTAGTTAAGTCCAAATCACTTAAAAAGTATTTATGTCCTAACAAGTTAGTTGCCATTTAAAAAATAATACACCTGAATTGGAAGAAACAATATTTATTTCATTCTTTTTTTTTTTTTTTTTTTTTGAGACGGAGTCTTGCTCTGTTGCCCAGGCTGGAGTGCAGTGGCATGATCTCAGCTCACTGCAACCACCGCCTCCCGGGTTCAAGTGATTCTCCTACCTCAGCCTCCCAAGTAGCTGGGATTACAGGCATGTGCCACCATGCCCAGCTATTTTTTTTTTTTTGCATTTTTATTTATTTTTTATTTTTTATTTTTTTTTTGAGACAGTTTCGTTTTTGTCGCCCAGGCTGGAGTGCAATTGTGCAATTGCGGCTCACTGCAACCTCCGCCTCCTGGGTTCAAGCGATTCTCCTGCCTCAGCCTCCCAAGTAGCTGGGATTACAGGTGCCCGCCACCACACCCAGCTAATTTTTTGTATTTTTAGCAGAGATGGGGTTTCACCACCTTGGCCAGGCTGGTCTCAAACTCCTGACCTCAGGTGATCTGCCCGCCTCAACCTCCCAAAGTGCTGGGATTACAGGTGTGAGCCACCGCGCCCAGCCTTCATTCTTAAACAACTGCAATTACTAATGGGATCTATGCTGCCCATTGGGCACTGAACAACTTGTTAAATTTTCTAATCAAAGCAAACACTGCTGCCTTCATTTCCTGTCCCACATTGATTTTCATTTGCTTTTTATCACAGCAACCACTAAAGACCCAGCTTCTTTTTTTTTTTTTTTTTTTTTTTTGAGGCGGAGTCTTGCTCTGTTGCCCAGGCTGGAGTGCAGTGGTGCGATTTCGGCTCACCGCAAGCTCCACCTTCTGAGTTCATGCCATTCTCCTGCCTCAGCCTCCTGAGTAGCTGGGACTACAGGCAGCTGCCACCAGACCTGGCTTATTTTTTATGTTTTTAGTAGAGATGGGGTTTCACCACGTTAGCCAAGATGGTCTCGCTCTCCTGACCTTGTGGTCCACCCGCCTCGGCCTCCCAAAGTGCTGGGATTACAGGCATGAGCCACTGCGCCCGGCCAAGACCCAGCTTCTTAAAGATGACATCATCAAAAGGATTGTGGCATAATGTAATAATGGAACTGTGAACTACCTTGAGCTAATAGTTCTCTCATTAGCCAAAGATGTTGAATATCTTTCAAAATATCCTACTTTGCCCCCTGTGAATTTGCTGTGGGTGCCCTCAGGCACCTTGATGCACAGTTGGGGAACTATGGTTTAGTCTGTGGGAATAGCAGTTCCACTACTGAAACTACTGAGAGGTCCTGCCGGAAACACAATAGGTGGTATTATAAAACAGATACTGTGGGCTGGTATCATTCCTCTGTGTACCCAAATTAACGTCTGCAGAAGCTTCTTGAAGGCATTTCCAGACCAGACAAAGGAAGGACAATGTTCCAGACCAGGGAGTAGTGCAGAGTCTCAGGTTCCTTCATGAACCCTGAGTGACTCCATCTGGCTGGATTGTAGAGGGTAGACTGGAGGAGCAGTCAAACTGAAGGACTTCCTATGGCTGGTGAGAGACCACAGACTCAATCCTGTAGGCAAGGGAGGCATTGGAAGACTTCACGAGGGTCTCCATTTCATTTGGAGTTGGTACTCCATTTTTTAAAAAATTAATAGCCTTTACTTTCTAGAGCAGTTTTAGGCTTACAGAAAATTGAGCAGATAGTATAATGAGTTTCATATAACCCTCTTTCCCCAGCTCAATTTTCCCAATTATTAACATCTTGCATTAGTGTGTTGTTGTAATTAATGAACCAATATTGATACATTATGATAACTG\\\\\n",
       "\t4 & ENSG00000000971 & CFH    & 1 & 196651754 & 196752476 &  1 & 196649753 & 196651753 & TCTGCTGCAATTAGTGAAACAAGGAACAGTGTTACCACATATGGTCCAGAAATCTAAAAGGGTGATACTGCCATACTGTGAGAGAAAGAAGAGTTGAACTCTTAAGAGCCCTCTGAACTTTAAATCCCATGATTCATAAATACATGTTTAAACTGTGCTTTAGTAATCCTCTTTTACAAAAGAATAGTTAATTTTGGGTTAATTTTATACACTAAAAAAATTTTGGTTTGAGCCCACAAGTGTCTCCTTGGAAAACATATTTTTCTTCACAATTGCGTGATCTCTACTTTTAGGCACTGTTAAGAGAATATTTTAGAAAGAAATTAATGAACATGAGACAGTAATAACCCACATCAGATCCATGTTTGGCTAATGGTGTGTGGGGTCCAACTATTTGTCTTCATGGCATTCGTAGTTCCTAAGCAAAGGAAGTGCATGCACAAGTCCTTTGGCATTAACTTCTACCTGAAGTATATTATTTCCAGAGCCCCTCTCAAATCTATAGTGAATTTATCCATGCAGTAATCAAAATGTAACTTATAAACCACTTATTTTACATCAGGACCTTGCTGTGTATTGAAGATAAACATTGCAATAAACCATCATTCCAGCTTTCAATGAATTCAAAATAAGACTCTGGGAATTTAGTTTTATTTGAATATGTGACTCTGTAGCATTACTACCTCATTGTAGTCATCTGATTTTTTCGTCTCTTTTACTTCTTCACTTTGATACCTACTTAAAACTCTTCCTTAGCACATATTTGTTTTCACAATGAGAGATCCATCTGTTTTTCCCAAATGTATTACTGCATTTCTATTCTTGCTTCTCTTGAACACTAATTGATTCACACACACACACACACACACACACACCCCTCAAAGACTCTACATTTATAAAACATTTTTCTTTTATAATTTTTTTCCATTTCTCAGTCACAAGTACAAGTAAAACCTGAATATTCAATACTATGCTTGCAGGTCCTGCTTTCTTTAGGAAAAGAGATACCAAGAGAAGGCACTGGGATTGGGTACTCCTTTTCAGAAGACAGTTCACTAATAATCGATATAAATAAAGGAGGATTTATCCCAAATTAGTTAAGCATACACTCTCTCACCACGTTTTATTTTATTGAAATATACTTTACGCTGATTAGATATAGAGAAGTCTTTCTTAATAAAAGAATTCCACTCTTTGTATGCCAACTAATATAGCATAAATATGACTATTTTCTTGGTACAAAGCAAGGATCTACTTGCTGATATAAGATGAATTCAAAATCTATACACATCATTTTCTCTGAAATCAGGTAACTTCAAACTCTCTTTGTTGCTTCTAAATCTATAAGAAGTTTGGAATTAAATAATAAGATAATATTAAAGTGAAATAATCTACTTAAATTTTAAATACTTTAATTTTCTTCAATCTGGTCTATGGCACACACATGTCAGAGGACTGATTTAAAGGTGAATTGTCAAAACTTTGGTCTCTGTGTCCAATAGGGACAATCTGTAACAGAAAGTTATTTATAGAAACAATCAAAGGTACGAAGAACTGCTAAAGGAAAGCTATCTTTGATCCGAATCTATCTCTTCCCTGTACAGATTGGATTTTCTATTGGTTCAAAGCATAGAGTGCTAACCTTGAATTAGTATTCTAACTTCAAATGACCAATGGTTGTTTCCAATAGTAGGAAAATATGGATAGTCTCAAGTATTGTTTTGGATAAAGGTACAGGTTCGGGCAATGTTTTAATAACATGATGTATTTTTAAAAAGATTATGAGTGTAGGAAATTAAGGTTTATCACAGGATTTATGTCTACTGCTTGAGCATAATCACCAGAAGTCTTTCTATTCTTAATTAACAAAATTGTTCCATATTATTTTATTGATTTCTTAGTTAAACTCTTGTTTTTTGCATCTCATAGCTTTTGACTTCAAAAATTGGTATTAAATTGAGCTATATCATAAGGAAAAATAATTGAAGATACATAAACTGA\\\\\n",
       "\t5 & ENSG00000001460 & STPG1  & 1 &  24356999 &  24416934 & -1 &  24416935 &  24418935 & GGAGGCCGTGTCCCCGCACTCGAGCTTAAGGACATCTGACAGGTGCTGGGGTAGGGTGCTCCCTCAGACTGGTCTCTCCCATGGACAGGTTTGGTTTCTCCCATTAGACTAGCTGTATCTTCCTTCTCAGGCTAGGGGTTCCTAAGGACCGGATTGTGTCTCCTCCATCAGACTGGAAGTTCTCGAGGGCTGGCCTTTGTCTCCTTCATCAGACTAGTGTTTACTGAGGGCTGGGCTGTGCTTCCTCCACCAGACTCGGGGCTCCTGAGGGCTGGATTGTCTCCTGTGTGAGACAGTCCTGAGGGTTCCCTGACTGATGTTCTAGAAAGTCGCTTAGGACCTCTGTACCCACCTGTCTTCCTCCGGGCTGCATCATGGTCACCCATGACAACCAACTCTGAGGCCTTGGAGGGGACGCTGCTGCCTACCCTGCTGATGGCTCTCACCCGGAACCGATAGCTCTGACCTTCGACGAGGCCTTGGATTGGGCACCGACAAGTCCCTCCGGGGGCCTCATGGCAGGCGATCCATTCCCCAGACTCGCCCTGGCACCTGTTGGAGACAGGCCCCCCCTTTCAGCCCCTGCCCACAATGCACACCTTCCCAATGTGAGCCTCTACAAGGGCCTTTCTCTGACTGGGGGAGCCTGCCCAGCTCATCTCTGCCAATTAAAGTTCTTCTCTCCAATGGAAGAGCCTGGCTCCAACCTCGGGCCCCCGGGAGACCTTTTCACCATCCCTGACACTGACCAGCAGCAGTGCCTTTCATGGGGCATCATCGTGAGCCTGTGACTGTGCTGTGCCCTCCACACCCAGCCCTCGTTTTATCTCCCTGGCAGTCCTAGGGGGCACGTGTGGTCACCTTCACTGCACACATGGAGGATCTGTGGCTCAGAGAGTGACAAGACCTGCCCAAGGTCACACAGTTAGGATTTACCTGAGCTTGTCCCCTCCCTAAGTTGGCATGCATTCCAGGTTGACCCTCCAAGCCTGGGCTCTCTGTACCCTCTTGGTACCATTGTTCCAGGCAGTACGACAGTGCACGTTACCCTTATTGTTACCAGCTGGTTGAGGTAGTCGTCACATGTGGGTCCAAGTCTTGTCTCCACCACTAATGACAAATGTGTCTTTGAGCAAAGTCATCTCCCCACATACTTTGGTTTCCCCATCTATAGAAGAGGGCATTAGATAGTCCCCCTCCCCTTTAGAGACGGGTCATTGGAAGGATGGAAAGAGATGAGGCATGCCCTTAGCACGGTCATGAGCCTGTCCGTGGCAGCATTAGCTATTTTCTCAAGCTGGGCCTTCAGAGCCGGCCACACTGGAAAAAGGCCGGAGGTTCTGGCCTCTCTACCTGTTTGCCTCCTCCCTTGGGGTCAGTGCTATTCCATCTCTCTCTGTCATTAGGAAGGAAACTAGCCCACGAATTCACTGTGCTCAGGGTTCAAGCACTCCCCGTTTTGCCCCTCTGGGTCAGCTCTAGAGGGTCCACAGGGCAGTGGCCGACTCCAGCATAGAATTCCAGTTATCAGCATGACAAAGACTTGGAGGTGTGGATGCCCCTCCATTGCCCCTAAATGACACAGCACAGCCTGTCTCCTGTCCTTTTCTGAGGAGCGGGGGTGTGAGGGTTCTCTGAGGTCAGACATGGGGCCTCCTCTTTGCTGTGGCTCCCACCACCAGACAGAATTCTACCCCTAGGGCCTCTGCCACTCACGAGGTCGACTCACCGCTCAATGGTGTAGGCAGTGATGGGGTTGCCCCGGGTGTCACTGGGCGGGGCCCAAGTCAGGATGAGGCAGTCTCTGTTCACATCCAGGCATCGGACGTTCAGTGGGGAGCCTGGGGCCCCGGGGTTCTCGGCCTCGGCATCTGAAACCCGGGGGTGAGAGGGAGGCCCTTCTAGTCAGTGGCCATTTGGTGACAGGCCCTTCCCACTCCCGCCCAGCATCCTCTTCTCATCCATCCTCCAGGGGCTCAGTTTTGATCTTGAGGACTGGGG\\\\\n",
       "\t6 & ENSG00000001461 & NIPAL3 & 1 &  24415802 &  24475252 &  1 &  24413801 &  24415801 & TCCATTTCTACCTATAACCCCCTTCCGTCTTGTCTCAAATGGCCATCAGGGGGATCCTTTTATAGCACGTGTCAGACCAGGTCCCTGTCTGCCCAGAACCCTCCCACGTCCCGCATCTCCCTCAGAGCAAAAGCTTCCCCATCGCCTGACCCCTCGGCCTGTCTGGCCACCGTTCCCTCTGCCCTTAGTCTCTGTGCCTCTCTGCTGTTTCCTGAGGGTCCAAGTCCCACCTCTGGGCCTTTGCACTTGCTGGTCCCTCAGCCTGGAATGTTCTTCTCCGAGAAATCTCTTGGCTTCCTGTAGGCCTTTAATAAAAATCCACCTTCCTGGGCAGTGGGGAGGCCATCCCAGCCACTCCATCTAAAAATGTCAGCAGCTCCTCTCCCCACACTTCAAGTTCCCCTCCCTGCTCAATGTCTTTCTCCTTAGCGCCTACCACTCACTACTGTGCTTAATATTCTACTGATTTACTCCATTTATCATTGGCACCCCCTCCCCTGACTGCCGTGTCCCTAGGGCCAAGAACAGGACTGGCACATAGCAGGTGCTCCATCTATGTTTCTGGGACAAATGAATGAACAAATGAATGAATTCTCACAATAACCCTGCAGGAAGGTGTTAATTTCTCTGCCGATGAGGAAAGTCAGGTTCAGAGAGTTTCGGTAACTTGGCCAAAAGTCCTGCATCTAATAACTGGTGGATATAGTATTAAACTTCACTCAGGTGTGGTTGGCTGCGAACCTGTTTACTCTCCACAGCATCAGGGACCCAGAAGGCAGCCAGAAACCCCGAGTCTCTGGGCAGATGGAGGGTGGAGAGCCCAGGGTGAGACAGATGAGTGAGGTACCCAGAGACCCTTTCTGCTGAGTCTGGGCAAGAGAGTTAAGACCTAGAAGCACAAGGGGACCCACTGATTCCACGCTCTGTGGTTTTCCCCCCACAAGCCCATCTGGCTGTCAGTGGCCTAGACCAGGTAGGACAAGAAATTGCCATAAGAAACCATGAACACTGCTGAGCTCCTACTGTGTGCCAGGCTCCATTCTAAGTCTTTATGTGCGCTAATTAATTTGATCCTCACATTAACCCTACAAGCTGTGTATGATTATTATCATTTTATGGAAGAAGAAACAGAGGCACAGAGAAACTAAGTAACTTGCCCAAGGTCACGCAGCTGGTAAGTAGCAGAGATAGAATTTGAACCCAAGCAGTCTGACGCCAACATCTTCACCATGATACACTACCACCTTGTGAAACAAATCCTCAATTATCTACAGCTTTCCTATGTCGGAGAAAAAGGATTACCCATGAGTGTGAAAAGAGAGGCCTGTTTGGATAATCAGAGCCAGAGATTCCTCCCTGGAAATTTTAAATTCATTTATTCCCTAAACATTTTCTGTCCACCTAGTTTGTGCCAGGCATTGTGCTGGGCACAGAAAGTAATGAGAAGATAAACTTAGTCTCTGACTTCAGGGAGATAGTCAAGAACACCTCCTTGGGAAGCACTGACAGATCCCAGGGGTTGCTGGCTTTGGCTGTGGGCTGTGTTTTATTTCATCTTCACAGGGCAGGTTCTCTATTCTATGCTGGAGGAAACTGAGGCTCAGAGAGTTTAGGACACTCACTCAGGATCACACAGCACAAGGAAGGATTTGAATAGATTTTGACACCATGCTGTCTTCTACTCTGCCATACTGCCCCCCCTCCACTGTGAAGTTCACTCCACAAGACCTGCCTCATCCCCGCCGGGGTCTCCCCTGCCCCCACTCCCCAGTGAGAGCCACCTCCTAGTGCTAATCACACCATAGGCTCTGCAAGTGCTGCTGGTGCCTGTCCCTGGCTGGAGGGTACCAGCCTTGTTTCCCTCCCAACATAGTCCCACCAAGAAGTGCTTGGCCCCAATGTGTGGTCTGATGCCATCTGGCTTGGGGGCAGGGAGGTACCCAGGAAGTGGTGGATCGTATTGTCATTGTTGTCTGTGTCTTGTATTTTGTGTATTTCCAC\\\\\n",
       "\\end{tabular}\n"
      ],
      "text/markdown": [
       "\n",
       "A data.frame: 6 × 9\n",
       "\n",
       "| <!--/--> | ensembl_gene_id &lt;chr&gt; | hgnc_symbol &lt;chr&gt; | chromosome_name &lt;chr&gt; | start_position &lt;int&gt; | end_position &lt;int&gt; | strand &lt;int&gt; | upstream_start &lt;dbl&gt; | upstream_end &lt;dbl&gt; | upstream_region &lt;chr&gt; |\n",
       "|---|---|---|---|---|---|---|---|---|---|\n",
       "| 1 | ENSG00000000457 | SCYL3  | 1 | 169849631 | 169894267 | -1 | 169894268 | 169896268 | ACATAAAATGTGGTGTATCCCTCTAGACTAGTATATGCAACTATTATAGTACTTTTTCTTTATAGGATTACTTATTTAGTGCCATTTCACCTTTTTCCTTCGTATTCAGATAACATATTTTGGACCTTTGAATCACCAAAATAGTGTCTCTTCCTGAAAATACATAATTCTGGTCCAAAGAAAATGGTTATTGTTTATTGTGAAAAGATAACTAGGAATGATAAGGCCAAAAAGTCAATCTGCCATTAAGTTTTATCTCCCAAGAACAATTATTTCTGGGTACCTAGAAAGAAAAATGACAAATTCTTTAAAAGAGAAAAATTATATTTAAAACCCAACAACAAATAGAAAACCATATCTAGAGTGTGTTTTTTTAAATAAACAAATTTAGAAATCTAATTAGCATTCAGCAAGCAGAAGACTGAATTTTTGCTAATATTTGCAAGACTTCAAACACATTTGTAATAGCAATCATTAGAATTCTAAACTTGATATGATTCAGAGCAGGAACAAAGAAATCTGGAAATGACAAGTGATGCTTCACATGCAGCACATTACAAGGGAATGGCAGCCAGTAAAGAATCTCAGGCACTCACAGGCTCTTATTAAATTTCTGGGCCAGAGTTGACATTCCTGTAGAAAGAGAAGAAAACCACCTACCTCTGGCTGTTTGTGAGGCTTAATTAGTGCGTATTTGTAAAGCACTTTGAAATCCTTGGATGAAAAGTGCTGCATAAGTGAAAAGTATCATTATTTTATTAAAACGAGATAAAAGCAACACAAGCCTTTTTCTTCTTTTAAATTCCTAGGTCAGCAATATCAATGTAGAGCAAGTAATGAATTTATTAATAAATGGCTACAAAAAGAATAAATGCAGGCCAAATTATTTTTTCAAAGGCTCATGGAAGTCTTTGACTTGGGAACATTTTAAGAAATAATATTGGCTACACTTTTATTCACAACATCCTTGACAGGGTCTATCCAGCTCTCTTCTGAACACCTCCAGAAGGAAGTGCTCACTACTTTGTCAAGGCAGTTCATTCCATTTATGGATATGTAAAACTGTTGGAAAGTTCTTTATTACACAGCTCTAAAATCCAGTTCAACTAGTCTTAGAATTACCCTCTGAAACCACACAAGGAGTCCAATTCTTCTTTGATATGACTGCTTCACAACCCTTGTTTATTCAAGCCTCATTACATGGTCTCTAATCTTTACCATCTCAGTTGCTCTCTAAAACCACTTCCATTTTCTAGTGTTTGTCTTCAAATGAAGAAGCTAAAATTAACGTGATACTTATGATGTGATCTGAAACCAGTACAGAATAAAAGATCCTATATCTGACTTTACACTATTGTAGGCTAAAACTGTATTAATCTTAAACAAAAATTTTAAGAAGACATTATCACAAAGTTGCCTAATATTGACTGCTTATAATTGACTGTGTATATATGTGTATATATATATAACATTGAGTTATATATAGTTATATAATATTGAGTTATAGTTACATGTAACATTAAGTTTTTTCTGTATATATGTACAGTTGTGTGTGTACACACACACACACACACACACATTCAAAATTTTACTTATAACTACCATGCTAAATTTCATCTTTTTAGTCTGAGTCTGTCTTTAGGAATTCTATTCTTCCCAAGACAAAATCATTTATGACTACATATTTATAAATAGGCAGCAGTGATTTTTCTTAACAAACCAGTCTTTGTGATCCATCAGGTAATATTGAAGGCTGGAATTCTTTTGGAATTGTCAAGTGAAAGAATTTAACATGAGCTGTTATAGGAAGAAACTTTCCAGGATATTATAAAACTGTATGAAATTACTTCTTCATAATTTTTTGGAATAGTTCATTCTTTTTATCAATTTCTCTAATATATTGATTATAGAATCAAAATCAGTATGTTTATCTTTCTAAGTAGATTGTTAATTGATCATCAGGGTAATTTCAGCTTAAGTATGATTTGTCATGGGAAATTT |\n",
       "| 2 | ENSG00000000460 | FIRRM  | 1 | 169662007 | 169854080 |  1 | 169660006 | 169662006 | GGGGGCAGGGGAAAGGAGAGCATTTCATTGTGAATCAAGGAATTTCTCCACCTGTTTTAACTCTTCCATATGACATCAAAGAGATGTCACTTGCAGCTAGCATTTCAGTGATGTTTTCTTACTAATAATATCGTGATAAAAGAAACATTGACTATAAGAAATAGGAATGGGTCTCATAAAAGGAAACAGCAAAACCCCCAAACTAAAAAACAGCGCAGGCTATTTCTCTCTTCTCTCCTTTTGCTTGGCACTCATGAGATGCTAGGTGTGGAAGTCAGCCAACTGAAAAAGAGAGGTGGCTGAAGAAGGTGGGGAGGCTGAAGCCAGTTAAATAGGATGGTCCAATTCACAGACGGCGAGGCTACAGTGCAAATAGGACTCTTTCAACTTGAGCAGGACCCCATTACTTCACTGGAGTTAGAAAGAAAGGAGAGCGTAGACTTTTTGAACTTTCTATAAGAGTGTACCTCCACAGTATACAGAAGACGACGTGAAATTTGATCTGCAAGAAAACTGAGTCCATATTCACATATGTATCAAATTTGCACTTCATTTAGAAGTGTCTGTCATCAAGTACAGCACTGAATTGAAACTGAAAACAAGAGTCAAGAAAGAGCAAAGTCAGCCATCTTTATATTCCACATGAATCCTTTCCCTTTATGGTCTTATTTGTTTCTCCTCAGAAAAGACAAAAAGCTGAGCTGTATAAACACCTGTGGGCTGGGGGTTGAGGGATAAATGAGGGGCGAAATGGAAGCTGAAGGAACTGTTGGTCAGGTAGAAATCTTCCCAGATGCACTGAAGGAAACACACTTCATGTTTGACGTAGGAGGTGCCACCACACAAAACGTTTCATGGAAGGATTTAAAGGATCTCATGATTTTTAGTATTCCAAGAATTTTCTTTCACCAAGGGCGATTTAATATGGGTCATTCATACTGAAAGAAAAACAAAAGATAATAAGAGTTTAAAAATTGCAAAACTTGGAGTGTTAGTAGTAAAGGTAAATATTCATTAGAGATGAGAAGAGGAGCAAGGAAATGCTTTCAGCTGGAAATCTCAGACAAGAGGCCAGGCTTTAGGAACCTCTGAAGATGAACAAATGTAAGCAAACCCTAGTAGCAGCACTTCTCAGATTTTCATGTGCTTACCACTCAGAGATGGTGTTAAAATGCAGACTCTGATTCAGTAGGTCTGAGTGGAGCCTGAGATTCTGCACCCCTAACAAGCTCTTTAGTGATGCTTATGCCACTGGCGCACAGACCCCACTTGGAGAAATTTTTGTGGTGCATACGGTCTTTGTCTCCAGATCTAATGAGTCTGAAGGACAGTGTAGATTGATTTTTTAAATTTATGTTTATTTTAATTTAATTTAATTTAATTTATTTATTTATTTATTTTTGAGATGGAGTCTCACTCTGTTGCCCAGTCCGGAGTGCAGTGGCACGGAGGCAGCTCATGCAACCACGGCCTCCTGGGTTCAAGCGATTCTTCCGCCTCAACTTCCTGAGTAGCTGGGAATACAGGCACGTGCCAGCACACCCAGCTAATTTTTGTATTTTTAGTAGAGATGGGGTTTCACCACATTGGCCAAGCTAATCTCAAACTCCTGACCTCATGATCCACCTGCCACGGCCTCCGAAAGTGCTGGGATTACAGGCGTGAGCCACCGAGCCCAGCTGTAGATTGATTTTGAGCAGTGGAAAGTCAAGGAATTAGAAGGCATGCTTAAATGGAAAGTGAAATTGGAGAAAATTTAAACTCATGAAATAGTGGTGGTTATAAACTCGTGATAAATTATATCCTGGGATATAATTTAATGAGATGGTAACACATTTAGTTTAAAGAAATAAGTGACACTTTTTTTGTGTGACACAACTGTCTTATTCTTGGAAAGGACAAGGAGAGAATGAAATATGGTATGTCTTCACAGCACCTTTCAAAGGGAGAACCAGATTCTGAGGAGCTGGTCTCATGATGAACTGTCAGGGTAAACCACAG |\n",
       "| 3 | ENSG00000000938 | FGR    | 1 |  27612064 |  27635185 | -1 |  27635186 |  27637186 | ACTAAATTGATTTCACATATGCAAGTTTTTGAAGTGCCCTGGATTAGATAATCTCTTAGACTATAGGTTCCTGAACTTTCTTAGCTCACAGCACCATTACCATCTCAGTAATTTTTTCATGGAGCCTCTAAGCCAAAAGAAATAACAGTTCAATTTATTAAGTAGTTAAGTCCAAATCACTTAAAAAGTATTTATGTCCTAACAAGTTAGTTGCCATTTAAAAAATAATACACCTGAATTGGAAGAAACAATATTTATTTCATTCTTTTTTTTTTTTTTTTTTTTTGAGACGGAGTCTTGCTCTGTTGCCCAGGCTGGAGTGCAGTGGCATGATCTCAGCTCACTGCAACCACCGCCTCCCGGGTTCAAGTGATTCTCCTACCTCAGCCTCCCAAGTAGCTGGGATTACAGGCATGTGCCACCATGCCCAGCTATTTTTTTTTTTTTGCATTTTTATTTATTTTTTATTTTTTATTTTTTTTTTGAGACAGTTTCGTTTTTGTCGCCCAGGCTGGAGTGCAATTGTGCAATTGCGGCTCACTGCAACCTCCGCCTCCTGGGTTCAAGCGATTCTCCTGCCTCAGCCTCCCAAGTAGCTGGGATTACAGGTGCCCGCCACCACACCCAGCTAATTTTTTGTATTTTTAGCAGAGATGGGGTTTCACCACCTTGGCCAGGCTGGTCTCAAACTCCTGACCTCAGGTGATCTGCCCGCCTCAACCTCCCAAAGTGCTGGGATTACAGGTGTGAGCCACCGCGCCCAGCCTTCATTCTTAAACAACTGCAATTACTAATGGGATCTATGCTGCCCATTGGGCACTGAACAACTTGTTAAATTTTCTAATCAAAGCAAACACTGCTGCCTTCATTTCCTGTCCCACATTGATTTTCATTTGCTTTTTATCACAGCAACCACTAAAGACCCAGCTTCTTTTTTTTTTTTTTTTTTTTTTTTGAGGCGGAGTCTTGCTCTGTTGCCCAGGCTGGAGTGCAGTGGTGCGATTTCGGCTCACCGCAAGCTCCACCTTCTGAGTTCATGCCATTCTCCTGCCTCAGCCTCCTGAGTAGCTGGGACTACAGGCAGCTGCCACCAGACCTGGCTTATTTTTTATGTTTTTAGTAGAGATGGGGTTTCACCACGTTAGCCAAGATGGTCTCGCTCTCCTGACCTTGTGGTCCACCCGCCTCGGCCTCCCAAAGTGCTGGGATTACAGGCATGAGCCACTGCGCCCGGCCAAGACCCAGCTTCTTAAAGATGACATCATCAAAAGGATTGTGGCATAATGTAATAATGGAACTGTGAACTACCTTGAGCTAATAGTTCTCTCATTAGCCAAAGATGTTGAATATCTTTCAAAATATCCTACTTTGCCCCCTGTGAATTTGCTGTGGGTGCCCTCAGGCACCTTGATGCACAGTTGGGGAACTATGGTTTAGTCTGTGGGAATAGCAGTTCCACTACTGAAACTACTGAGAGGTCCTGCCGGAAACACAATAGGTGGTATTATAAAACAGATACTGTGGGCTGGTATCATTCCTCTGTGTACCCAAATTAACGTCTGCAGAAGCTTCTTGAAGGCATTTCCAGACCAGACAAAGGAAGGACAATGTTCCAGACCAGGGAGTAGTGCAGAGTCTCAGGTTCCTTCATGAACCCTGAGTGACTCCATCTGGCTGGATTGTAGAGGGTAGACTGGAGGAGCAGTCAAACTGAAGGACTTCCTATGGCTGGTGAGAGACCACAGACTCAATCCTGTAGGCAAGGGAGGCATTGGAAGACTTCACGAGGGTCTCCATTTCATTTGGAGTTGGTACTCCATTTTTTAAAAAATTAATAGCCTTTACTTTCTAGAGCAGTTTTAGGCTTACAGAAAATTGAGCAGATAGTATAATGAGTTTCATATAACCCTCTTTCCCCAGCTCAATTTTCCCAATTATTAACATCTTGCATTAGTGTGTTGTTGTAATTAATGAACCAATATTGATACATTATGATAACTG |\n",
       "| 4 | ENSG00000000971 | CFH    | 1 | 196651754 | 196752476 |  1 | 196649753 | 196651753 | TCTGCTGCAATTAGTGAAACAAGGAACAGTGTTACCACATATGGTCCAGAAATCTAAAAGGGTGATACTGCCATACTGTGAGAGAAAGAAGAGTTGAACTCTTAAGAGCCCTCTGAACTTTAAATCCCATGATTCATAAATACATGTTTAAACTGTGCTTTAGTAATCCTCTTTTACAAAAGAATAGTTAATTTTGGGTTAATTTTATACACTAAAAAAATTTTGGTTTGAGCCCACAAGTGTCTCCTTGGAAAACATATTTTTCTTCACAATTGCGTGATCTCTACTTTTAGGCACTGTTAAGAGAATATTTTAGAAAGAAATTAATGAACATGAGACAGTAATAACCCACATCAGATCCATGTTTGGCTAATGGTGTGTGGGGTCCAACTATTTGTCTTCATGGCATTCGTAGTTCCTAAGCAAAGGAAGTGCATGCACAAGTCCTTTGGCATTAACTTCTACCTGAAGTATATTATTTCCAGAGCCCCTCTCAAATCTATAGTGAATTTATCCATGCAGTAATCAAAATGTAACTTATAAACCACTTATTTTACATCAGGACCTTGCTGTGTATTGAAGATAAACATTGCAATAAACCATCATTCCAGCTTTCAATGAATTCAAAATAAGACTCTGGGAATTTAGTTTTATTTGAATATGTGACTCTGTAGCATTACTACCTCATTGTAGTCATCTGATTTTTTCGTCTCTTTTACTTCTTCACTTTGATACCTACTTAAAACTCTTCCTTAGCACATATTTGTTTTCACAATGAGAGATCCATCTGTTTTTCCCAAATGTATTACTGCATTTCTATTCTTGCTTCTCTTGAACACTAATTGATTCACACACACACACACACACACACACACCCCTCAAAGACTCTACATTTATAAAACATTTTTCTTTTATAATTTTTTTCCATTTCTCAGTCACAAGTACAAGTAAAACCTGAATATTCAATACTATGCTTGCAGGTCCTGCTTTCTTTAGGAAAAGAGATACCAAGAGAAGGCACTGGGATTGGGTACTCCTTTTCAGAAGACAGTTCACTAATAATCGATATAAATAAAGGAGGATTTATCCCAAATTAGTTAAGCATACACTCTCTCACCACGTTTTATTTTATTGAAATATACTTTACGCTGATTAGATATAGAGAAGTCTTTCTTAATAAAAGAATTCCACTCTTTGTATGCCAACTAATATAGCATAAATATGACTATTTTCTTGGTACAAAGCAAGGATCTACTTGCTGATATAAGATGAATTCAAAATCTATACACATCATTTTCTCTGAAATCAGGTAACTTCAAACTCTCTTTGTTGCTTCTAAATCTATAAGAAGTTTGGAATTAAATAATAAGATAATATTAAAGTGAAATAATCTACTTAAATTTTAAATACTTTAATTTTCTTCAATCTGGTCTATGGCACACACATGTCAGAGGACTGATTTAAAGGTGAATTGTCAAAACTTTGGTCTCTGTGTCCAATAGGGACAATCTGTAACAGAAAGTTATTTATAGAAACAATCAAAGGTACGAAGAACTGCTAAAGGAAAGCTATCTTTGATCCGAATCTATCTCTTCCCTGTACAGATTGGATTTTCTATTGGTTCAAAGCATAGAGTGCTAACCTTGAATTAGTATTCTAACTTCAAATGACCAATGGTTGTTTCCAATAGTAGGAAAATATGGATAGTCTCAAGTATTGTTTTGGATAAAGGTACAGGTTCGGGCAATGTTTTAATAACATGATGTATTTTTAAAAAGATTATGAGTGTAGGAAATTAAGGTTTATCACAGGATTTATGTCTACTGCTTGAGCATAATCACCAGAAGTCTTTCTATTCTTAATTAACAAAATTGTTCCATATTATTTTATTGATTTCTTAGTTAAACTCTTGTTTTTTGCATCTCATAGCTTTTGACTTCAAAAATTGGTATTAAATTGAGCTATATCATAAGGAAAAATAATTGAAGATACATAAACTGA |\n",
       "| 5 | ENSG00000001460 | STPG1  | 1 |  24356999 |  24416934 | -1 |  24416935 |  24418935 | GGAGGCCGTGTCCCCGCACTCGAGCTTAAGGACATCTGACAGGTGCTGGGGTAGGGTGCTCCCTCAGACTGGTCTCTCCCATGGACAGGTTTGGTTTCTCCCATTAGACTAGCTGTATCTTCCTTCTCAGGCTAGGGGTTCCTAAGGACCGGATTGTGTCTCCTCCATCAGACTGGAAGTTCTCGAGGGCTGGCCTTTGTCTCCTTCATCAGACTAGTGTTTACTGAGGGCTGGGCTGTGCTTCCTCCACCAGACTCGGGGCTCCTGAGGGCTGGATTGTCTCCTGTGTGAGACAGTCCTGAGGGTTCCCTGACTGATGTTCTAGAAAGTCGCTTAGGACCTCTGTACCCACCTGTCTTCCTCCGGGCTGCATCATGGTCACCCATGACAACCAACTCTGAGGCCTTGGAGGGGACGCTGCTGCCTACCCTGCTGATGGCTCTCACCCGGAACCGATAGCTCTGACCTTCGACGAGGCCTTGGATTGGGCACCGACAAGTCCCTCCGGGGGCCTCATGGCAGGCGATCCATTCCCCAGACTCGCCCTGGCACCTGTTGGAGACAGGCCCCCCCTTTCAGCCCCTGCCCACAATGCACACCTTCCCAATGTGAGCCTCTACAAGGGCCTTTCTCTGACTGGGGGAGCCTGCCCAGCTCATCTCTGCCAATTAAAGTTCTTCTCTCCAATGGAAGAGCCTGGCTCCAACCTCGGGCCCCCGGGAGACCTTTTCACCATCCCTGACACTGACCAGCAGCAGTGCCTTTCATGGGGCATCATCGTGAGCCTGTGACTGTGCTGTGCCCTCCACACCCAGCCCTCGTTTTATCTCCCTGGCAGTCCTAGGGGGCACGTGTGGTCACCTTCACTGCACACATGGAGGATCTGTGGCTCAGAGAGTGACAAGACCTGCCCAAGGTCACACAGTTAGGATTTACCTGAGCTTGTCCCCTCCCTAAGTTGGCATGCATTCCAGGTTGACCCTCCAAGCCTGGGCTCTCTGTACCCTCTTGGTACCATTGTTCCAGGCAGTACGACAGTGCACGTTACCCTTATTGTTACCAGCTGGTTGAGGTAGTCGTCACATGTGGGTCCAAGTCTTGTCTCCACCACTAATGACAAATGTGTCTTTGAGCAAAGTCATCTCCCCACATACTTTGGTTTCCCCATCTATAGAAGAGGGCATTAGATAGTCCCCCTCCCCTTTAGAGACGGGTCATTGGAAGGATGGAAAGAGATGAGGCATGCCCTTAGCACGGTCATGAGCCTGTCCGTGGCAGCATTAGCTATTTTCTCAAGCTGGGCCTTCAGAGCCGGCCACACTGGAAAAAGGCCGGAGGTTCTGGCCTCTCTACCTGTTTGCCTCCTCCCTTGGGGTCAGTGCTATTCCATCTCTCTCTGTCATTAGGAAGGAAACTAGCCCACGAATTCACTGTGCTCAGGGTTCAAGCACTCCCCGTTTTGCCCCTCTGGGTCAGCTCTAGAGGGTCCACAGGGCAGTGGCCGACTCCAGCATAGAATTCCAGTTATCAGCATGACAAAGACTTGGAGGTGTGGATGCCCCTCCATTGCCCCTAAATGACACAGCACAGCCTGTCTCCTGTCCTTTTCTGAGGAGCGGGGGTGTGAGGGTTCTCTGAGGTCAGACATGGGGCCTCCTCTTTGCTGTGGCTCCCACCACCAGACAGAATTCTACCCCTAGGGCCTCTGCCACTCACGAGGTCGACTCACCGCTCAATGGTGTAGGCAGTGATGGGGTTGCCCCGGGTGTCACTGGGCGGGGCCCAAGTCAGGATGAGGCAGTCTCTGTTCACATCCAGGCATCGGACGTTCAGTGGGGAGCCTGGGGCCCCGGGGTTCTCGGCCTCGGCATCTGAAACCCGGGGGTGAGAGGGAGGCCCTTCTAGTCAGTGGCCATTTGGTGACAGGCCCTTCCCACTCCCGCCCAGCATCCTCTTCTCATCCATCCTCCAGGGGCTCAGTTTTGATCTTGAGGACTGGGG |\n",
       "| 6 | ENSG00000001461 | NIPAL3 | 1 |  24415802 |  24475252 |  1 |  24413801 |  24415801 | TCCATTTCTACCTATAACCCCCTTCCGTCTTGTCTCAAATGGCCATCAGGGGGATCCTTTTATAGCACGTGTCAGACCAGGTCCCTGTCTGCCCAGAACCCTCCCACGTCCCGCATCTCCCTCAGAGCAAAAGCTTCCCCATCGCCTGACCCCTCGGCCTGTCTGGCCACCGTTCCCTCTGCCCTTAGTCTCTGTGCCTCTCTGCTGTTTCCTGAGGGTCCAAGTCCCACCTCTGGGCCTTTGCACTTGCTGGTCCCTCAGCCTGGAATGTTCTTCTCCGAGAAATCTCTTGGCTTCCTGTAGGCCTTTAATAAAAATCCACCTTCCTGGGCAGTGGGGAGGCCATCCCAGCCACTCCATCTAAAAATGTCAGCAGCTCCTCTCCCCACACTTCAAGTTCCCCTCCCTGCTCAATGTCTTTCTCCTTAGCGCCTACCACTCACTACTGTGCTTAATATTCTACTGATTTACTCCATTTATCATTGGCACCCCCTCCCCTGACTGCCGTGTCCCTAGGGCCAAGAACAGGACTGGCACATAGCAGGTGCTCCATCTATGTTTCTGGGACAAATGAATGAACAAATGAATGAATTCTCACAATAACCCTGCAGGAAGGTGTTAATTTCTCTGCCGATGAGGAAAGTCAGGTTCAGAGAGTTTCGGTAACTTGGCCAAAAGTCCTGCATCTAATAACTGGTGGATATAGTATTAAACTTCACTCAGGTGTGGTTGGCTGCGAACCTGTTTACTCTCCACAGCATCAGGGACCCAGAAGGCAGCCAGAAACCCCGAGTCTCTGGGCAGATGGAGGGTGGAGAGCCCAGGGTGAGACAGATGAGTGAGGTACCCAGAGACCCTTTCTGCTGAGTCTGGGCAAGAGAGTTAAGACCTAGAAGCACAAGGGGACCCACTGATTCCACGCTCTGTGGTTTTCCCCCCACAAGCCCATCTGGCTGTCAGTGGCCTAGACCAGGTAGGACAAGAAATTGCCATAAGAAACCATGAACACTGCTGAGCTCCTACTGTGTGCCAGGCTCCATTCTAAGTCTTTATGTGCGCTAATTAATTTGATCCTCACATTAACCCTACAAGCTGTGTATGATTATTATCATTTTATGGAAGAAGAAACAGAGGCACAGAGAAACTAAGTAACTTGCCCAAGGTCACGCAGCTGGTAAGTAGCAGAGATAGAATTTGAACCCAAGCAGTCTGACGCCAACATCTTCACCATGATACACTACCACCTTGTGAAACAAATCCTCAATTATCTACAGCTTTCCTATGTCGGAGAAAAAGGATTACCCATGAGTGTGAAAAGAGAGGCCTGTTTGGATAATCAGAGCCAGAGATTCCTCCCTGGAAATTTTAAATTCATTTATTCCCTAAACATTTTCTGTCCACCTAGTTTGTGCCAGGCATTGTGCTGGGCACAGAAAGTAATGAGAAGATAAACTTAGTCTCTGACTTCAGGGAGATAGTCAAGAACACCTCCTTGGGAAGCACTGACAGATCCCAGGGGTTGCTGGCTTTGGCTGTGGGCTGTGTTTTATTTCATCTTCACAGGGCAGGTTCTCTATTCTATGCTGGAGGAAACTGAGGCTCAGAGAGTTTAGGACACTCACTCAGGATCACACAGCACAAGGAAGGATTTGAATAGATTTTGACACCATGCTGTCTTCTACTCTGCCATACTGCCCCCCCTCCACTGTGAAGTTCACTCCACAAGACCTGCCTCATCCCCGCCGGGGTCTCCCCTGCCCCCACTCCCCAGTGAGAGCCACCTCCTAGTGCTAATCACACCATAGGCTCTGCAAGTGCTGCTGGTGCCTGTCCCTGGCTGGAGGGTACCAGCCTTGTTTCCCTCCCAACATAGTCCCACCAAGAAGTGCTTGGCCCCAATGTGTGGTCTGATGCCATCTGGCTTGGGGGCAGGGAGGTACCCAGGAAGTGGTGGATCGTATTGTCATTGTTGTCTGTGTCTTGTATTTTGTGTATTTCCAC |\n",
       "\n"
      ],
      "text/plain": [
       "  ensembl_gene_id hgnc_symbol chromosome_name start_position end_position\n",
       "1 ENSG00000000457 SCYL3       1               169849631      169894267   \n",
       "2 ENSG00000000460 FIRRM       1               169662007      169854080   \n",
       "3 ENSG00000000938 FGR         1                27612064       27635185   \n",
       "4 ENSG00000000971 CFH         1               196651754      196752476   \n",
       "5 ENSG00000001460 STPG1       1                24356999       24416934   \n",
       "6 ENSG00000001461 NIPAL3      1                24415802       24475252   \n",
       "  strand upstream_start upstream_end\n",
       "1 -1     169894268      169896268   \n",
       "2  1     169660006      169662006   \n",
       "3 -1      27635186       27637186   \n",
       "4  1     196649753      196651753   \n",
       "5 -1      24416935       24418935   \n",
       "6  1      24413801       24415801   \n",
       "  upstream_region                                                                                                                                                                                                                                                                                                                                                                                                                                                                                                                                                                                                                                                                                                                                                                                                                                                                                                                                                                                                                                                                                                                                                                                                                                                                                                                                                                                                                                                                                                                                                                                                                                                                                                                                                                                                                                                                                                                                                                                                                                                                  \n",
       "1 ACATAAAATGTGGTGTATCCCTCTAGACTAGTATATGCAACTATTATAGTACTTTTTCTTTATAGGATTACTTATTTAGTGCCATTTCACCTTTTTCCTTCGTATTCAGATAACATATTTTGGACCTTTGAATCACCAAAATAGTGTCTCTTCCTGAAAATACATAATTCTGGTCCAAAGAAAATGGTTATTGTTTATTGTGAAAAGATAACTAGGAATGATAAGGCCAAAAAGTCAATCTGCCATTAAGTTTTATCTCCCAAGAACAATTATTTCTGGGTACCTAGAAAGAAAAATGACAAATTCTTTAAAAGAGAAAAATTATATTTAAAACCCAACAACAAATAGAAAACCATATCTAGAGTGTGTTTTTTTAAATAAACAAATTTAGAAATCTAATTAGCATTCAGCAAGCAGAAGACTGAATTTTTGCTAATATTTGCAAGACTTCAAACACATTTGTAATAGCAATCATTAGAATTCTAAACTTGATATGATTCAGAGCAGGAACAAAGAAATCTGGAAATGACAAGTGATGCTTCACATGCAGCACATTACAAGGGAATGGCAGCCAGTAAAGAATCTCAGGCACTCACAGGCTCTTATTAAATTTCTGGGCCAGAGTTGACATTCCTGTAGAAAGAGAAGAAAACCACCTACCTCTGGCTGTTTGTGAGGCTTAATTAGTGCGTATTTGTAAAGCACTTTGAAATCCTTGGATGAAAAGTGCTGCATAAGTGAAAAGTATCATTATTTTATTAAAACGAGATAAAAGCAACACAAGCCTTTTTCTTCTTTTAAATTCCTAGGTCAGCAATATCAATGTAGAGCAAGTAATGAATTTATTAATAAATGGCTACAAAAAGAATAAATGCAGGCCAAATTATTTTTTCAAAGGCTCATGGAAGTCTTTGACTTGGGAACATTTTAAGAAATAATATTGGCTACACTTTTATTCACAACATCCTTGACAGGGTCTATCCAGCTCTCTTCTGAACACCTCCAGAAGGAAGTGCTCACTACTTTGTCAAGGCAGTTCATTCCATTTATGGATATGTAAAACTGTTGGAAAGTTCTTTATTACACAGCTCTAAAATCCAGTTCAACTAGTCTTAGAATTACCCTCTGAAACCACACAAGGAGTCCAATTCTTCTTTGATATGACTGCTTCACAACCCTTGTTTATTCAAGCCTCATTACATGGTCTCTAATCTTTACCATCTCAGTTGCTCTCTAAAACCACTTCCATTTTCTAGTGTTTGTCTTCAAATGAAGAAGCTAAAATTAACGTGATACTTATGATGTGATCTGAAACCAGTACAGAATAAAAGATCCTATATCTGACTTTACACTATTGTAGGCTAAAACTGTATTAATCTTAAACAAAAATTTTAAGAAGACATTATCACAAAGTTGCCTAATATTGACTGCTTATAATTGACTGTGTATATATGTGTATATATATATAACATTGAGTTATATATAGTTATATAATATTGAGTTATAGTTACATGTAACATTAAGTTTTTTCTGTATATATGTACAGTTGTGTGTGTACACACACACACACACACACACATTCAAAATTTTACTTATAACTACCATGCTAAATTTCATCTTTTTAGTCTGAGTCTGTCTTTAGGAATTCTATTCTTCCCAAGACAAAATCATTTATGACTACATATTTATAAATAGGCAGCAGTGATTTTTCTTAACAAACCAGTCTTTGTGATCCATCAGGTAATATTGAAGGCTGGAATTCTTTTGGAATTGTCAAGTGAAAGAATTTAACATGAGCTGTTATAGGAAGAAACTTTCCAGGATATTATAAAACTGTATGAAATTACTTCTTCATAATTTTTTGGAATAGTTCATTCTTTTTATCAATTTCTCTAATATATTGATTATAGAATCAAAATCAGTATGTTTATCTTTCTAAGTAGATTGTTAATTGATCATCAGGGTAATTTCAGCTTAAGTATGATTTGTCATGGGAAATTT\n",
       "2 GGGGGCAGGGGAAAGGAGAGCATTTCATTGTGAATCAAGGAATTTCTCCACCTGTTTTAACTCTTCCATATGACATCAAAGAGATGTCACTTGCAGCTAGCATTTCAGTGATGTTTTCTTACTAATAATATCGTGATAAAAGAAACATTGACTATAAGAAATAGGAATGGGTCTCATAAAAGGAAACAGCAAAACCCCCAAACTAAAAAACAGCGCAGGCTATTTCTCTCTTCTCTCCTTTTGCTTGGCACTCATGAGATGCTAGGTGTGGAAGTCAGCCAACTGAAAAAGAGAGGTGGCTGAAGAAGGTGGGGAGGCTGAAGCCAGTTAAATAGGATGGTCCAATTCACAGACGGCGAGGCTACAGTGCAAATAGGACTCTTTCAACTTGAGCAGGACCCCATTACTTCACTGGAGTTAGAAAGAAAGGAGAGCGTAGACTTTTTGAACTTTCTATAAGAGTGTACCTCCACAGTATACAGAAGACGACGTGAAATTTGATCTGCAAGAAAACTGAGTCCATATTCACATATGTATCAAATTTGCACTTCATTTAGAAGTGTCTGTCATCAAGTACAGCACTGAATTGAAACTGAAAACAAGAGTCAAGAAAGAGCAAAGTCAGCCATCTTTATATTCCACATGAATCCTTTCCCTTTATGGTCTTATTTGTTTCTCCTCAGAAAAGACAAAAAGCTGAGCTGTATAAACACCTGTGGGCTGGGGGTTGAGGGATAAATGAGGGGCGAAATGGAAGCTGAAGGAACTGTTGGTCAGGTAGAAATCTTCCCAGATGCACTGAAGGAAACACACTTCATGTTTGACGTAGGAGGTGCCACCACACAAAACGTTTCATGGAAGGATTTAAAGGATCTCATGATTTTTAGTATTCCAAGAATTTTCTTTCACCAAGGGCGATTTAATATGGGTCATTCATACTGAAAGAAAAACAAAAGATAATAAGAGTTTAAAAATTGCAAAACTTGGAGTGTTAGTAGTAAAGGTAAATATTCATTAGAGATGAGAAGAGGAGCAAGGAAATGCTTTCAGCTGGAAATCTCAGACAAGAGGCCAGGCTTTAGGAACCTCTGAAGATGAACAAATGTAAGCAAACCCTAGTAGCAGCACTTCTCAGATTTTCATGTGCTTACCACTCAGAGATGGTGTTAAAATGCAGACTCTGATTCAGTAGGTCTGAGTGGAGCCTGAGATTCTGCACCCCTAACAAGCTCTTTAGTGATGCTTATGCCACTGGCGCACAGACCCCACTTGGAGAAATTTTTGTGGTGCATACGGTCTTTGTCTCCAGATCTAATGAGTCTGAAGGACAGTGTAGATTGATTTTTTAAATTTATGTTTATTTTAATTTAATTTAATTTAATTTATTTATTTATTTATTTTTGAGATGGAGTCTCACTCTGTTGCCCAGTCCGGAGTGCAGTGGCACGGAGGCAGCTCATGCAACCACGGCCTCCTGGGTTCAAGCGATTCTTCCGCCTCAACTTCCTGAGTAGCTGGGAATACAGGCACGTGCCAGCACACCCAGCTAATTTTTGTATTTTTAGTAGAGATGGGGTTTCACCACATTGGCCAAGCTAATCTCAAACTCCTGACCTCATGATCCACCTGCCACGGCCTCCGAAAGTGCTGGGATTACAGGCGTGAGCCACCGAGCCCAGCTGTAGATTGATTTTGAGCAGTGGAAAGTCAAGGAATTAGAAGGCATGCTTAAATGGAAAGTGAAATTGGAGAAAATTTAAACTCATGAAATAGTGGTGGTTATAAACTCGTGATAAATTATATCCTGGGATATAATTTAATGAGATGGTAACACATTTAGTTTAAAGAAATAAGTGACACTTTTTTTGTGTGACACAACTGTCTTATTCTTGGAAAGGACAAGGAGAGAATGAAATATGGTATGTCTTCACAGCACCTTTCAAAGGGAGAACCAGATTCTGAGGAGCTGGTCTCATGATGAACTGTCAGGGTAAACCACAG\n",
       "3 ACTAAATTGATTTCACATATGCAAGTTTTTGAAGTGCCCTGGATTAGATAATCTCTTAGACTATAGGTTCCTGAACTTTCTTAGCTCACAGCACCATTACCATCTCAGTAATTTTTTCATGGAGCCTCTAAGCCAAAAGAAATAACAGTTCAATTTATTAAGTAGTTAAGTCCAAATCACTTAAAAAGTATTTATGTCCTAACAAGTTAGTTGCCATTTAAAAAATAATACACCTGAATTGGAAGAAACAATATTTATTTCATTCTTTTTTTTTTTTTTTTTTTTTGAGACGGAGTCTTGCTCTGTTGCCCAGGCTGGAGTGCAGTGGCATGATCTCAGCTCACTGCAACCACCGCCTCCCGGGTTCAAGTGATTCTCCTACCTCAGCCTCCCAAGTAGCTGGGATTACAGGCATGTGCCACCATGCCCAGCTATTTTTTTTTTTTTGCATTTTTATTTATTTTTTATTTTTTATTTTTTTTTTGAGACAGTTTCGTTTTTGTCGCCCAGGCTGGAGTGCAATTGTGCAATTGCGGCTCACTGCAACCTCCGCCTCCTGGGTTCAAGCGATTCTCCTGCCTCAGCCTCCCAAGTAGCTGGGATTACAGGTGCCCGCCACCACACCCAGCTAATTTTTTGTATTTTTAGCAGAGATGGGGTTTCACCACCTTGGCCAGGCTGGTCTCAAACTCCTGACCTCAGGTGATCTGCCCGCCTCAACCTCCCAAAGTGCTGGGATTACAGGTGTGAGCCACCGCGCCCAGCCTTCATTCTTAAACAACTGCAATTACTAATGGGATCTATGCTGCCCATTGGGCACTGAACAACTTGTTAAATTTTCTAATCAAAGCAAACACTGCTGCCTTCATTTCCTGTCCCACATTGATTTTCATTTGCTTTTTATCACAGCAACCACTAAAGACCCAGCTTCTTTTTTTTTTTTTTTTTTTTTTTTGAGGCGGAGTCTTGCTCTGTTGCCCAGGCTGGAGTGCAGTGGTGCGATTTCGGCTCACCGCAAGCTCCACCTTCTGAGTTCATGCCATTCTCCTGCCTCAGCCTCCTGAGTAGCTGGGACTACAGGCAGCTGCCACCAGACCTGGCTTATTTTTTATGTTTTTAGTAGAGATGGGGTTTCACCACGTTAGCCAAGATGGTCTCGCTCTCCTGACCTTGTGGTCCACCCGCCTCGGCCTCCCAAAGTGCTGGGATTACAGGCATGAGCCACTGCGCCCGGCCAAGACCCAGCTTCTTAAAGATGACATCATCAAAAGGATTGTGGCATAATGTAATAATGGAACTGTGAACTACCTTGAGCTAATAGTTCTCTCATTAGCCAAAGATGTTGAATATCTTTCAAAATATCCTACTTTGCCCCCTGTGAATTTGCTGTGGGTGCCCTCAGGCACCTTGATGCACAGTTGGGGAACTATGGTTTAGTCTGTGGGAATAGCAGTTCCACTACTGAAACTACTGAGAGGTCCTGCCGGAAACACAATAGGTGGTATTATAAAACAGATACTGTGGGCTGGTATCATTCCTCTGTGTACCCAAATTAACGTCTGCAGAAGCTTCTTGAAGGCATTTCCAGACCAGACAAAGGAAGGACAATGTTCCAGACCAGGGAGTAGTGCAGAGTCTCAGGTTCCTTCATGAACCCTGAGTGACTCCATCTGGCTGGATTGTAGAGGGTAGACTGGAGGAGCAGTCAAACTGAAGGACTTCCTATGGCTGGTGAGAGACCACAGACTCAATCCTGTAGGCAAGGGAGGCATTGGAAGACTTCACGAGGGTCTCCATTTCATTTGGAGTTGGTACTCCATTTTTTAAAAAATTAATAGCCTTTACTTTCTAGAGCAGTTTTAGGCTTACAGAAAATTGAGCAGATAGTATAATGAGTTTCATATAACCCTCTTTCCCCAGCTCAATTTTCCCAATTATTAACATCTTGCATTAGTGTGTTGTTGTAATTAATGAACCAATATTGATACATTATGATAACTG\n",
       "4 TCTGCTGCAATTAGTGAAACAAGGAACAGTGTTACCACATATGGTCCAGAAATCTAAAAGGGTGATACTGCCATACTGTGAGAGAAAGAAGAGTTGAACTCTTAAGAGCCCTCTGAACTTTAAATCCCATGATTCATAAATACATGTTTAAACTGTGCTTTAGTAATCCTCTTTTACAAAAGAATAGTTAATTTTGGGTTAATTTTATACACTAAAAAAATTTTGGTTTGAGCCCACAAGTGTCTCCTTGGAAAACATATTTTTCTTCACAATTGCGTGATCTCTACTTTTAGGCACTGTTAAGAGAATATTTTAGAAAGAAATTAATGAACATGAGACAGTAATAACCCACATCAGATCCATGTTTGGCTAATGGTGTGTGGGGTCCAACTATTTGTCTTCATGGCATTCGTAGTTCCTAAGCAAAGGAAGTGCATGCACAAGTCCTTTGGCATTAACTTCTACCTGAAGTATATTATTTCCAGAGCCCCTCTCAAATCTATAGTGAATTTATCCATGCAGTAATCAAAATGTAACTTATAAACCACTTATTTTACATCAGGACCTTGCTGTGTATTGAAGATAAACATTGCAATAAACCATCATTCCAGCTTTCAATGAATTCAAAATAAGACTCTGGGAATTTAGTTTTATTTGAATATGTGACTCTGTAGCATTACTACCTCATTGTAGTCATCTGATTTTTTCGTCTCTTTTACTTCTTCACTTTGATACCTACTTAAAACTCTTCCTTAGCACATATTTGTTTTCACAATGAGAGATCCATCTGTTTTTCCCAAATGTATTACTGCATTTCTATTCTTGCTTCTCTTGAACACTAATTGATTCACACACACACACACACACACACACACCCCTCAAAGACTCTACATTTATAAAACATTTTTCTTTTATAATTTTTTTCCATTTCTCAGTCACAAGTACAAGTAAAACCTGAATATTCAATACTATGCTTGCAGGTCCTGCTTTCTTTAGGAAAAGAGATACCAAGAGAAGGCACTGGGATTGGGTACTCCTTTTCAGAAGACAGTTCACTAATAATCGATATAAATAAAGGAGGATTTATCCCAAATTAGTTAAGCATACACTCTCTCACCACGTTTTATTTTATTGAAATATACTTTACGCTGATTAGATATAGAGAAGTCTTTCTTAATAAAAGAATTCCACTCTTTGTATGCCAACTAATATAGCATAAATATGACTATTTTCTTGGTACAAAGCAAGGATCTACTTGCTGATATAAGATGAATTCAAAATCTATACACATCATTTTCTCTGAAATCAGGTAACTTCAAACTCTCTTTGTTGCTTCTAAATCTATAAGAAGTTTGGAATTAAATAATAAGATAATATTAAAGTGAAATAATCTACTTAAATTTTAAATACTTTAATTTTCTTCAATCTGGTCTATGGCACACACATGTCAGAGGACTGATTTAAAGGTGAATTGTCAAAACTTTGGTCTCTGTGTCCAATAGGGACAATCTGTAACAGAAAGTTATTTATAGAAACAATCAAAGGTACGAAGAACTGCTAAAGGAAAGCTATCTTTGATCCGAATCTATCTCTTCCCTGTACAGATTGGATTTTCTATTGGTTCAAAGCATAGAGTGCTAACCTTGAATTAGTATTCTAACTTCAAATGACCAATGGTTGTTTCCAATAGTAGGAAAATATGGATAGTCTCAAGTATTGTTTTGGATAAAGGTACAGGTTCGGGCAATGTTTTAATAACATGATGTATTTTTAAAAAGATTATGAGTGTAGGAAATTAAGGTTTATCACAGGATTTATGTCTACTGCTTGAGCATAATCACCAGAAGTCTTTCTATTCTTAATTAACAAAATTGTTCCATATTATTTTATTGATTTCTTAGTTAAACTCTTGTTTTTTGCATCTCATAGCTTTTGACTTCAAAAATTGGTATTAAATTGAGCTATATCATAAGGAAAAATAATTGAAGATACATAAACTGA\n",
       "5 GGAGGCCGTGTCCCCGCACTCGAGCTTAAGGACATCTGACAGGTGCTGGGGTAGGGTGCTCCCTCAGACTGGTCTCTCCCATGGACAGGTTTGGTTTCTCCCATTAGACTAGCTGTATCTTCCTTCTCAGGCTAGGGGTTCCTAAGGACCGGATTGTGTCTCCTCCATCAGACTGGAAGTTCTCGAGGGCTGGCCTTTGTCTCCTTCATCAGACTAGTGTTTACTGAGGGCTGGGCTGTGCTTCCTCCACCAGACTCGGGGCTCCTGAGGGCTGGATTGTCTCCTGTGTGAGACAGTCCTGAGGGTTCCCTGACTGATGTTCTAGAAAGTCGCTTAGGACCTCTGTACCCACCTGTCTTCCTCCGGGCTGCATCATGGTCACCCATGACAACCAACTCTGAGGCCTTGGAGGGGACGCTGCTGCCTACCCTGCTGATGGCTCTCACCCGGAACCGATAGCTCTGACCTTCGACGAGGCCTTGGATTGGGCACCGACAAGTCCCTCCGGGGGCCTCATGGCAGGCGATCCATTCCCCAGACTCGCCCTGGCACCTGTTGGAGACAGGCCCCCCCTTTCAGCCCCTGCCCACAATGCACACCTTCCCAATGTGAGCCTCTACAAGGGCCTTTCTCTGACTGGGGGAGCCTGCCCAGCTCATCTCTGCCAATTAAAGTTCTTCTCTCCAATGGAAGAGCCTGGCTCCAACCTCGGGCCCCCGGGAGACCTTTTCACCATCCCTGACACTGACCAGCAGCAGTGCCTTTCATGGGGCATCATCGTGAGCCTGTGACTGTGCTGTGCCCTCCACACCCAGCCCTCGTTTTATCTCCCTGGCAGTCCTAGGGGGCACGTGTGGTCACCTTCACTGCACACATGGAGGATCTGTGGCTCAGAGAGTGACAAGACCTGCCCAAGGTCACACAGTTAGGATTTACCTGAGCTTGTCCCCTCCCTAAGTTGGCATGCATTCCAGGTTGACCCTCCAAGCCTGGGCTCTCTGTACCCTCTTGGTACCATTGTTCCAGGCAGTACGACAGTGCACGTTACCCTTATTGTTACCAGCTGGTTGAGGTAGTCGTCACATGTGGGTCCAAGTCTTGTCTCCACCACTAATGACAAATGTGTCTTTGAGCAAAGTCATCTCCCCACATACTTTGGTTTCCCCATCTATAGAAGAGGGCATTAGATAGTCCCCCTCCCCTTTAGAGACGGGTCATTGGAAGGATGGAAAGAGATGAGGCATGCCCTTAGCACGGTCATGAGCCTGTCCGTGGCAGCATTAGCTATTTTCTCAAGCTGGGCCTTCAGAGCCGGCCACACTGGAAAAAGGCCGGAGGTTCTGGCCTCTCTACCTGTTTGCCTCCTCCCTTGGGGTCAGTGCTATTCCATCTCTCTCTGTCATTAGGAAGGAAACTAGCCCACGAATTCACTGTGCTCAGGGTTCAAGCACTCCCCGTTTTGCCCCTCTGGGTCAGCTCTAGAGGGTCCACAGGGCAGTGGCCGACTCCAGCATAGAATTCCAGTTATCAGCATGACAAAGACTTGGAGGTGTGGATGCCCCTCCATTGCCCCTAAATGACACAGCACAGCCTGTCTCCTGTCCTTTTCTGAGGAGCGGGGGTGTGAGGGTTCTCTGAGGTCAGACATGGGGCCTCCTCTTTGCTGTGGCTCCCACCACCAGACAGAATTCTACCCCTAGGGCCTCTGCCACTCACGAGGTCGACTCACCGCTCAATGGTGTAGGCAGTGATGGGGTTGCCCCGGGTGTCACTGGGCGGGGCCCAAGTCAGGATGAGGCAGTCTCTGTTCACATCCAGGCATCGGACGTTCAGTGGGGAGCCTGGGGCCCCGGGGTTCTCGGCCTCGGCATCTGAAACCCGGGGGTGAGAGGGAGGCCCTTCTAGTCAGTGGCCATTTGGTGACAGGCCCTTCCCACTCCCGCCCAGCATCCTCTTCTCATCCATCCTCCAGGGGCTCAGTTTTGATCTTGAGGACTGGGG\n",
       "6 TCCATTTCTACCTATAACCCCCTTCCGTCTTGTCTCAAATGGCCATCAGGGGGATCCTTTTATAGCACGTGTCAGACCAGGTCCCTGTCTGCCCAGAACCCTCCCACGTCCCGCATCTCCCTCAGAGCAAAAGCTTCCCCATCGCCTGACCCCTCGGCCTGTCTGGCCACCGTTCCCTCTGCCCTTAGTCTCTGTGCCTCTCTGCTGTTTCCTGAGGGTCCAAGTCCCACCTCTGGGCCTTTGCACTTGCTGGTCCCTCAGCCTGGAATGTTCTTCTCCGAGAAATCTCTTGGCTTCCTGTAGGCCTTTAATAAAAATCCACCTTCCTGGGCAGTGGGGAGGCCATCCCAGCCACTCCATCTAAAAATGTCAGCAGCTCCTCTCCCCACACTTCAAGTTCCCCTCCCTGCTCAATGTCTTTCTCCTTAGCGCCTACCACTCACTACTGTGCTTAATATTCTACTGATTTACTCCATTTATCATTGGCACCCCCTCCCCTGACTGCCGTGTCCCTAGGGCCAAGAACAGGACTGGCACATAGCAGGTGCTCCATCTATGTTTCTGGGACAAATGAATGAACAAATGAATGAATTCTCACAATAACCCTGCAGGAAGGTGTTAATTTCTCTGCCGATGAGGAAAGTCAGGTTCAGAGAGTTTCGGTAACTTGGCCAAAAGTCCTGCATCTAATAACTGGTGGATATAGTATTAAACTTCACTCAGGTGTGGTTGGCTGCGAACCTGTTTACTCTCCACAGCATCAGGGACCCAGAAGGCAGCCAGAAACCCCGAGTCTCTGGGCAGATGGAGGGTGGAGAGCCCAGGGTGAGACAGATGAGTGAGGTACCCAGAGACCCTTTCTGCTGAGTCTGGGCAAGAGAGTTAAGACCTAGAAGCACAAGGGGACCCACTGATTCCACGCTCTGTGGTTTTCCCCCCACAAGCCCATCTGGCTGTCAGTGGCCTAGACCAGGTAGGACAAGAAATTGCCATAAGAAACCATGAACACTGCTGAGCTCCTACTGTGTGCCAGGCTCCATTCTAAGTCTTTATGTGCGCTAATTAATTTGATCCTCACATTAACCCTACAAGCTGTGTATGATTATTATCATTTTATGGAAGAAGAAACAGAGGCACAGAGAAACTAAGTAACTTGCCCAAGGTCACGCAGCTGGTAAGTAGCAGAGATAGAATTTGAACCCAAGCAGTCTGACGCCAACATCTTCACCATGATACACTACCACCTTGTGAAACAAATCCTCAATTATCTACAGCTTTCCTATGTCGGAGAAAAAGGATTACCCATGAGTGTGAAAAGAGAGGCCTGTTTGGATAATCAGAGCCAGAGATTCCTCCCTGGAAATTTTAAATTCATTTATTCCCTAAACATTTTCTGTCCACCTAGTTTGTGCCAGGCATTGTGCTGGGCACAGAAAGTAATGAGAAGATAAACTTAGTCTCTGACTTCAGGGAGATAGTCAAGAACACCTCCTTGGGAAGCACTGACAGATCCCAGGGGTTGCTGGCTTTGGCTGTGGGCTGTGTTTTATTTCATCTTCACAGGGCAGGTTCTCTATTCTATGCTGGAGGAAACTGAGGCTCAGAGAGTTTAGGACACTCACTCAGGATCACACAGCACAAGGAAGGATTTGAATAGATTTTGACACCATGCTGTCTTCTACTCTGCCATACTGCCCCCCCTCCACTGTGAAGTTCACTCCACAAGACCTGCCTCATCCCCGCCGGGGTCTCCCCTGCCCCCACTCCCCAGTGAGAGCCACCTCCTAGTGCTAATCACACCATAGGCTCTGCAAGTGCTGCTGGTGCCTGTCCCTGGCTGGAGGGTACCAGCCTTGTTTCCCTCCCAACATAGTCCCACCAAGAAGTGCTTGGCCCCAATGTGTGGTCTGATGCCATCTGGCTTGGGGGCAGGGAGGTACCCAGGAAGTGGTGGATCGTATTGTCATTGTTGTCTGTGTCTTGTATTTTGTGTATTTCCAC"
      ]
     },
     "metadata": {},
     "output_type": "display_data"
    }
   ],
   "source": [
    "head(gene_info)"
   ]
  },
  {
   "cell_type": "code",
   "execution_count": 14,
   "id": "d4e27471",
   "metadata": {
    "execution": {
     "iopub.execute_input": "2024-10-29T23:56:32.321444Z",
     "iopub.status.busy": "2024-10-29T23:56:32.319323Z",
     "iopub.status.idle": "2024-10-29T23:56:32.536491Z",
     "shell.execute_reply": "2024-10-29T23:56:32.534481Z"
    }
   },
   "outputs": [],
   "source": [
    "write_tsv(gene_info, '../../result/deseq2/all_gene_sequence.tsv')"
   ]
  },
  {
   "cell_type": "markdown",
   "id": "9a8e56c3",
   "metadata": {},
   "source": [
    "### Significant Genes"
   ]
  },
  {
   "cell_type": "code",
   "execution_count": 15,
   "id": "d2f26dc3",
   "metadata": {
    "execution": {
     "iopub.execute_input": "2024-10-29T23:56:32.542004Z",
     "iopub.status.busy": "2024-10-29T23:56:32.540524Z",
     "iopub.status.idle": "2024-10-29T23:56:32.652834Z",
     "shell.execute_reply": "2024-10-29T23:56:32.650990Z"
    }
   },
   "outputs": [
    {
     "name": "stderr",
     "output_type": "stream",
     "text": [
      "\u001b[1mRows: \u001b[22m\u001b[34m8300\u001b[39m \u001b[1mColumns: \u001b[22m\u001b[34m7\u001b[39m\n"
     ]
    },
    {
     "name": "stderr",
     "output_type": "stream",
     "text": [
      "\u001b[36m──\u001b[39m \u001b[1mColumn specification\u001b[22m \u001b[36m────────────────────────────────────────────────────────\u001b[39m\n",
      "\u001b[1mDelimiter:\u001b[22m \",\"\n",
      "\u001b[31mchr\u001b[39m (1): gene\n",
      "\u001b[32mdbl\u001b[39m (6): baseMean, log2FoldChange, lfcSE, stat, pvalue, padj\n"
     ]
    },
    {
     "name": "stderr",
     "output_type": "stream",
     "text": [
      "\n",
      "\u001b[36mℹ\u001b[39m Use `spec()` to retrieve the full column specification for this data.\n",
      "\u001b[36mℹ\u001b[39m Specify the column types or set `show_col_types = FALSE` to quiet this message.\n"
     ]
    },
    {
     "data": {
      "text/html": [
       "<table class=\"dataframe\">\n",
       "<caption>A tibble: 6 × 7</caption>\n",
       "<thead>\n",
       "\t<tr><th scope=col>gene</th><th scope=col>baseMean</th><th scope=col>log2FoldChange</th><th scope=col>lfcSE</th><th scope=col>stat</th><th scope=col>pvalue</th><th scope=col>padj</th></tr>\n",
       "\t<tr><th scope=col>&lt;chr&gt;</th><th scope=col>&lt;dbl&gt;</th><th scope=col>&lt;dbl&gt;</th><th scope=col>&lt;dbl&gt;</th><th scope=col>&lt;dbl&gt;</th><th scope=col>&lt;dbl&gt;</th><th scope=col>&lt;dbl&gt;</th></tr>\n",
       "</thead>\n",
       "<tbody>\n",
       "\t<tr><td>ENSG00000227232</td><td>420.856227</td><td>1.877341</td><td>0.4063936</td><td>4.619515</td><td>3.846377e-06</td><td>3.423083e-05</td></tr>\n",
       "\t<tr><td>ENSG00000278267</td><td>  8.613466</td><td>2.615336</td><td>0.8545570</td><td>3.060458</td><td>2.209988e-03</td><td>7.991285e-03</td></tr>\n",
       "\t<tr><td>ENSG00000268903</td><td> 18.716412</td><td>5.774899</td><td>0.9753198</td><td>5.921032</td><td>3.199285e-09</td><td>6.290752e-08</td></tr>\n",
       "\t<tr><td>ENSG00000269981</td><td> 12.547480</td><td>5.752313</td><td>1.2084716</td><td>4.759990</td><td>1.936023e-06</td><td>1.891486e-05</td></tr>\n",
       "\t<tr><td>ENSG00000239906</td><td>  3.579557</td><td>3.791956</td><td>1.4671741</td><td>2.584531</td><td>9.751165e-03</td><td>2.777531e-02</td></tr>\n",
       "\t<tr><td>ENSG00000279457</td><td>551.484304</td><td>2.532600</td><td>0.3827524</td><td>6.616811</td><td>3.670306e-11</td><td>1.079563e-09</td></tr>\n",
       "</tbody>\n",
       "</table>\n"
      ],
      "text/latex": [
       "A tibble: 6 × 7\n",
       "\\begin{tabular}{lllllll}\n",
       " gene & baseMean & log2FoldChange & lfcSE & stat & pvalue & padj\\\\\n",
       " <chr> & <dbl> & <dbl> & <dbl> & <dbl> & <dbl> & <dbl>\\\\\n",
       "\\hline\n",
       "\t ENSG00000227232 & 420.856227 & 1.877341 & 0.4063936 & 4.619515 & 3.846377e-06 & 3.423083e-05\\\\\n",
       "\t ENSG00000278267 &   8.613466 & 2.615336 & 0.8545570 & 3.060458 & 2.209988e-03 & 7.991285e-03\\\\\n",
       "\t ENSG00000268903 &  18.716412 & 5.774899 & 0.9753198 & 5.921032 & 3.199285e-09 & 6.290752e-08\\\\\n",
       "\t ENSG00000269981 &  12.547480 & 5.752313 & 1.2084716 & 4.759990 & 1.936023e-06 & 1.891486e-05\\\\\n",
       "\t ENSG00000239906 &   3.579557 & 3.791956 & 1.4671741 & 2.584531 & 9.751165e-03 & 2.777531e-02\\\\\n",
       "\t ENSG00000279457 & 551.484304 & 2.532600 & 0.3827524 & 6.616811 & 3.670306e-11 & 1.079563e-09\\\\\n",
       "\\end{tabular}\n"
      ],
      "text/markdown": [
       "\n",
       "A tibble: 6 × 7\n",
       "\n",
       "| gene &lt;chr&gt; | baseMean &lt;dbl&gt; | log2FoldChange &lt;dbl&gt; | lfcSE &lt;dbl&gt; | stat &lt;dbl&gt; | pvalue &lt;dbl&gt; | padj &lt;dbl&gt; |\n",
       "|---|---|---|---|---|---|---|\n",
       "| ENSG00000227232 | 420.856227 | 1.877341 | 0.4063936 | 4.619515 | 3.846377e-06 | 3.423083e-05 |\n",
       "| ENSG00000278267 |   8.613466 | 2.615336 | 0.8545570 | 3.060458 | 2.209988e-03 | 7.991285e-03 |\n",
       "| ENSG00000268903 |  18.716412 | 5.774899 | 0.9753198 | 5.921032 | 3.199285e-09 | 6.290752e-08 |\n",
       "| ENSG00000269981 |  12.547480 | 5.752313 | 1.2084716 | 4.759990 | 1.936023e-06 | 1.891486e-05 |\n",
       "| ENSG00000239906 |   3.579557 | 3.791956 | 1.4671741 | 2.584531 | 9.751165e-03 | 2.777531e-02 |\n",
       "| ENSG00000279457 | 551.484304 | 2.532600 | 0.3827524 | 6.616811 | 3.670306e-11 | 1.079563e-09 |\n",
       "\n"
      ],
      "text/plain": [
       "  gene            baseMean   log2FoldChange lfcSE     stat     pvalue      \n",
       "1 ENSG00000227232 420.856227 1.877341       0.4063936 4.619515 3.846377e-06\n",
       "2 ENSG00000278267   8.613466 2.615336       0.8545570 3.060458 2.209988e-03\n",
       "3 ENSG00000268903  18.716412 5.774899       0.9753198 5.921032 3.199285e-09\n",
       "4 ENSG00000269981  12.547480 5.752313       1.2084716 4.759990 1.936023e-06\n",
       "5 ENSG00000239906   3.579557 3.791956       1.4671741 2.584531 9.751165e-03\n",
       "6 ENSG00000279457 551.484304 2.532600       0.3827524 6.616811 3.670306e-11\n",
       "  padj        \n",
       "1 3.423083e-05\n",
       "2 7.991285e-03\n",
       "3 6.290752e-08\n",
       "4 1.891486e-05\n",
       "5 2.777531e-02\n",
       "6 1.079563e-09"
      ]
     },
     "metadata": {},
     "output_type": "display_data"
    }
   ],
   "source": [
    "sig_gene <- read_csv('../../result/deseq2/sig_gene.csv')\n",
    "head(sig_gene)"
   ]
  },
  {
   "cell_type": "code",
   "execution_count": 16,
   "id": "a4cd77fe",
   "metadata": {
    "execution": {
     "iopub.execute_input": "2024-10-29T23:56:32.658283Z",
     "iopub.status.busy": "2024-10-29T23:56:32.656719Z",
     "iopub.status.idle": "2024-10-29T23:56:32.673384Z",
     "shell.execute_reply": "2024-10-29T23:56:32.671432Z"
    }
   },
   "outputs": [],
   "source": [
    "# only keep the gene names\n",
    "sig_gene <- sig_gene[, 1]"
   ]
  },
  {
   "cell_type": "code",
   "execution_count": 17,
   "id": "bb7c8faf",
   "metadata": {
    "execution": {
     "iopub.execute_input": "2024-10-29T23:56:32.678802Z",
     "iopub.status.busy": "2024-10-29T23:56:32.677261Z",
     "iopub.status.idle": "2024-10-29T23:56:42.712142Z",
     "shell.execute_reply": "2024-10-29T23:56:42.710333Z"
    }
   },
   "outputs": [
    {
     "data": {
      "text/html": [
       "<table class=\"dataframe\">\n",
       "<caption>A data.frame: 6 × 6</caption>\n",
       "<thead>\n",
       "\t<tr><th></th><th scope=col>ensembl_gene_id</th><th scope=col>hgnc_symbol</th><th scope=col>chromosome_name</th><th scope=col>start_position</th><th scope=col>end_position</th><th scope=col>strand</th></tr>\n",
       "\t<tr><th></th><th scope=col>&lt;chr&gt;</th><th scope=col>&lt;chr&gt;</th><th scope=col>&lt;chr&gt;</th><th scope=col>&lt;int&gt;</th><th scope=col>&lt;int&gt;</th><th scope=col>&lt;int&gt;</th></tr>\n",
       "</thead>\n",
       "<tbody>\n",
       "\t<tr><th scope=row>1</th><td>ENSG00000000457</td><td>SCYL3 </td><td>1</td><td>169849631</td><td>169894267</td><td>-1</td></tr>\n",
       "\t<tr><th scope=row>2</th><td>ENSG00000000971</td><td>CFH   </td><td>1</td><td>196651754</td><td>196752476</td><td> 1</td></tr>\n",
       "\t<tr><th scope=row>3</th><td>ENSG00000001084</td><td>GCLC  </td><td>6</td><td> 53497341</td><td> 53616970</td><td>-1</td></tr>\n",
       "\t<tr><th scope=row>4</th><td>ENSG00000001167</td><td>NFYA  </td><td>6</td><td> 41072974</td><td> 41102403</td><td> 1</td></tr>\n",
       "\t<tr><th scope=row>5</th><td>ENSG00000001617</td><td>SEMA3F</td><td>3</td><td> 50155045</td><td> 50189075</td><td> 1</td></tr>\n",
       "\t<tr><th scope=row>6</th><td>ENSG00000001629</td><td>ANKIB1</td><td>7</td><td> 92245974</td><td> 92401383</td><td> 1</td></tr>\n",
       "</tbody>\n",
       "</table>\n"
      ],
      "text/latex": [
       "A data.frame: 6 × 6\n",
       "\\begin{tabular}{r|llllll}\n",
       "  & ensembl\\_gene\\_id & hgnc\\_symbol & chromosome\\_name & start\\_position & end\\_position & strand\\\\\n",
       "  & <chr> & <chr> & <chr> & <int> & <int> & <int>\\\\\n",
       "\\hline\n",
       "\t1 & ENSG00000000457 & SCYL3  & 1 & 169849631 & 169894267 & -1\\\\\n",
       "\t2 & ENSG00000000971 & CFH    & 1 & 196651754 & 196752476 &  1\\\\\n",
       "\t3 & ENSG00000001084 & GCLC   & 6 &  53497341 &  53616970 & -1\\\\\n",
       "\t4 & ENSG00000001167 & NFYA   & 6 &  41072974 &  41102403 &  1\\\\\n",
       "\t5 & ENSG00000001617 & SEMA3F & 3 &  50155045 &  50189075 &  1\\\\\n",
       "\t6 & ENSG00000001629 & ANKIB1 & 7 &  92245974 &  92401383 &  1\\\\\n",
       "\\end{tabular}\n"
      ],
      "text/markdown": [
       "\n",
       "A data.frame: 6 × 6\n",
       "\n",
       "| <!--/--> | ensembl_gene_id &lt;chr&gt; | hgnc_symbol &lt;chr&gt; | chromosome_name &lt;chr&gt; | start_position &lt;int&gt; | end_position &lt;int&gt; | strand &lt;int&gt; |\n",
       "|---|---|---|---|---|---|---|\n",
       "| 1 | ENSG00000000457 | SCYL3  | 1 | 169849631 | 169894267 | -1 |\n",
       "| 2 | ENSG00000000971 | CFH    | 1 | 196651754 | 196752476 |  1 |\n",
       "| 3 | ENSG00000001084 | GCLC   | 6 |  53497341 |  53616970 | -1 |\n",
       "| 4 | ENSG00000001167 | NFYA   | 6 |  41072974 |  41102403 |  1 |\n",
       "| 5 | ENSG00000001617 | SEMA3F | 3 |  50155045 |  50189075 |  1 |\n",
       "| 6 | ENSG00000001629 | ANKIB1 | 7 |  92245974 |  92401383 |  1 |\n",
       "\n"
      ],
      "text/plain": [
       "  ensembl_gene_id hgnc_symbol chromosome_name start_position end_position\n",
       "1 ENSG00000000457 SCYL3       1               169849631      169894267   \n",
       "2 ENSG00000000971 CFH         1               196651754      196752476   \n",
       "3 ENSG00000001084 GCLC        6                53497341       53616970   \n",
       "4 ENSG00000001167 NFYA        6                41072974       41102403   \n",
       "5 ENSG00000001617 SEMA3F      3                50155045       50189075   \n",
       "6 ENSG00000001629 ANKIB1      7                92245974       92401383   \n",
       "  strand\n",
       "1 -1    \n",
       "2  1    \n",
       "3 -1    \n",
       "4  1    \n",
       "5  1    \n",
       "6  1    "
      ]
     },
     "metadata": {},
     "output_type": "display_data"
    }
   ],
   "source": [
    "sig_gene_info <- getBM(\n",
    "    attributes = c(\"ensembl_gene_id\", \"hgnc_symbol\", \"chromosome_name\", \"start_position\", \"end_position\", \"strand\"),\n",
    "    filters = \"ensembl_gene_id\", \n",
    "    values = sig_gene$gene, \n",
    "    mart = mart\n",
    ")\n",
    "head(sig_gene_info)"
   ]
  },
  {
   "cell_type": "code",
   "execution_count": 18,
   "id": "6afa7012",
   "metadata": {
    "execution": {
     "iopub.execute_input": "2024-10-29T23:56:42.717665Z",
     "iopub.status.busy": "2024-10-29T23:56:42.716192Z",
     "iopub.status.idle": "2024-10-29T23:56:42.739009Z",
     "shell.execute_reply": "2024-10-29T23:56:42.737014Z"
    }
   },
   "outputs": [],
   "source": [
    "sig_gene_info <- sig_gene_info |> \n",
    "    mutate(\n",
    "        upstream_start = ifelse(strand == 1, start_position - 2001, end_position + 2001),\n",
    "        upstream_end = ifelse(strand == 1, start_position - 1, end_position + 1),\n",
    "        temp_upstream_start = upstream_start,\n",
    "        temp_upstream_end = upstream_end) |>\n",
    "    mutate(\n",
    "        upstream_start = ifelse(strand == -1, temp_upstream_end, temp_upstream_start),\n",
    "        upstream_end = ifelse(strand == -1, temp_upstream_start, temp_upstream_end)) |>\n",
    "    dplyr::select(-c(temp_upstream_start, temp_upstream_end))"
   ]
  },
  {
   "cell_type": "code",
   "execution_count": 19,
   "id": "ef9edffd",
   "metadata": {
    "execution": {
     "iopub.execute_input": "2024-10-29T23:56:42.744391Z",
     "iopub.status.busy": "2024-10-29T23:56:42.742892Z",
     "iopub.status.idle": "2024-10-29T23:56:42.773970Z",
     "shell.execute_reply": "2024-10-29T23:56:42.772221Z"
    }
   },
   "outputs": [
    {
     "data": {
      "text/html": [
       "<table class=\"dataframe\">\n",
       "<caption>A data.frame: 6 × 8</caption>\n",
       "<thead>\n",
       "\t<tr><th></th><th scope=col>ensembl_gene_id</th><th scope=col>hgnc_symbol</th><th scope=col>chromosome_name</th><th scope=col>start_position</th><th scope=col>end_position</th><th scope=col>strand</th><th scope=col>upstream_start</th><th scope=col>upstream_end</th></tr>\n",
       "\t<tr><th></th><th scope=col>&lt;chr&gt;</th><th scope=col>&lt;chr&gt;</th><th scope=col>&lt;chr&gt;</th><th scope=col>&lt;int&gt;</th><th scope=col>&lt;int&gt;</th><th scope=col>&lt;int&gt;</th><th scope=col>&lt;dbl&gt;</th><th scope=col>&lt;dbl&gt;</th></tr>\n",
       "</thead>\n",
       "<tbody>\n",
       "\t<tr><th scope=row>1</th><td>ENSG00000000457</td><td>SCYL3 </td><td>1</td><td>169849631</td><td>169894267</td><td>-1</td><td>169894268</td><td>169896268</td></tr>\n",
       "\t<tr><th scope=row>2</th><td>ENSG00000000971</td><td>CFH   </td><td>1</td><td>196651754</td><td>196752476</td><td> 1</td><td>196649753</td><td>196651753</td></tr>\n",
       "\t<tr><th scope=row>3</th><td>ENSG00000001084</td><td>GCLC  </td><td>6</td><td> 53497341</td><td> 53616970</td><td>-1</td><td> 53616971</td><td> 53618971</td></tr>\n",
       "\t<tr><th scope=row>4</th><td>ENSG00000001167</td><td>NFYA  </td><td>6</td><td> 41072974</td><td> 41102403</td><td> 1</td><td> 41070973</td><td> 41072973</td></tr>\n",
       "\t<tr><th scope=row>5</th><td>ENSG00000001617</td><td>SEMA3F</td><td>3</td><td> 50155045</td><td> 50189075</td><td> 1</td><td> 50153044</td><td> 50155044</td></tr>\n",
       "\t<tr><th scope=row>6</th><td>ENSG00000001629</td><td>ANKIB1</td><td>7</td><td> 92245974</td><td> 92401383</td><td> 1</td><td> 92243973</td><td> 92245973</td></tr>\n",
       "</tbody>\n",
       "</table>\n"
      ],
      "text/latex": [
       "A data.frame: 6 × 8\n",
       "\\begin{tabular}{r|llllllll}\n",
       "  & ensembl\\_gene\\_id & hgnc\\_symbol & chromosome\\_name & start\\_position & end\\_position & strand & upstream\\_start & upstream\\_end\\\\\n",
       "  & <chr> & <chr> & <chr> & <int> & <int> & <int> & <dbl> & <dbl>\\\\\n",
       "\\hline\n",
       "\t1 & ENSG00000000457 & SCYL3  & 1 & 169849631 & 169894267 & -1 & 169894268 & 169896268\\\\\n",
       "\t2 & ENSG00000000971 & CFH    & 1 & 196651754 & 196752476 &  1 & 196649753 & 196651753\\\\\n",
       "\t3 & ENSG00000001084 & GCLC   & 6 &  53497341 &  53616970 & -1 &  53616971 &  53618971\\\\\n",
       "\t4 & ENSG00000001167 & NFYA   & 6 &  41072974 &  41102403 &  1 &  41070973 &  41072973\\\\\n",
       "\t5 & ENSG00000001617 & SEMA3F & 3 &  50155045 &  50189075 &  1 &  50153044 &  50155044\\\\\n",
       "\t6 & ENSG00000001629 & ANKIB1 & 7 &  92245974 &  92401383 &  1 &  92243973 &  92245973\\\\\n",
       "\\end{tabular}\n"
      ],
      "text/markdown": [
       "\n",
       "A data.frame: 6 × 8\n",
       "\n",
       "| <!--/--> | ensembl_gene_id &lt;chr&gt; | hgnc_symbol &lt;chr&gt; | chromosome_name &lt;chr&gt; | start_position &lt;int&gt; | end_position &lt;int&gt; | strand &lt;int&gt; | upstream_start &lt;dbl&gt; | upstream_end &lt;dbl&gt; |\n",
       "|---|---|---|---|---|---|---|---|---|\n",
       "| 1 | ENSG00000000457 | SCYL3  | 1 | 169849631 | 169894267 | -1 | 169894268 | 169896268 |\n",
       "| 2 | ENSG00000000971 | CFH    | 1 | 196651754 | 196752476 |  1 | 196649753 | 196651753 |\n",
       "| 3 | ENSG00000001084 | GCLC   | 6 |  53497341 |  53616970 | -1 |  53616971 |  53618971 |\n",
       "| 4 | ENSG00000001167 | NFYA   | 6 |  41072974 |  41102403 |  1 |  41070973 |  41072973 |\n",
       "| 5 | ENSG00000001617 | SEMA3F | 3 |  50155045 |  50189075 |  1 |  50153044 |  50155044 |\n",
       "| 6 | ENSG00000001629 | ANKIB1 | 7 |  92245974 |  92401383 |  1 |  92243973 |  92245973 |\n",
       "\n"
      ],
      "text/plain": [
       "  ensembl_gene_id hgnc_symbol chromosome_name start_position end_position\n",
       "1 ENSG00000000457 SCYL3       1               169849631      169894267   \n",
       "2 ENSG00000000971 CFH         1               196651754      196752476   \n",
       "3 ENSG00000001084 GCLC        6                53497341       53616970   \n",
       "4 ENSG00000001167 NFYA        6                41072974       41102403   \n",
       "5 ENSG00000001617 SEMA3F      3                50155045       50189075   \n",
       "6 ENSG00000001629 ANKIB1      7                92245974       92401383   \n",
       "  strand upstream_start upstream_end\n",
       "1 -1     169894268      169896268   \n",
       "2  1     196649753      196651753   \n",
       "3 -1      53616971       53618971   \n",
       "4  1      41070973       41072973   \n",
       "5  1      50153044       50155044   \n",
       "6  1      92243973       92245973   "
      ]
     },
     "metadata": {},
     "output_type": "display_data"
    }
   ],
   "source": [
    "head(sig_gene_info)"
   ]
  },
  {
   "cell_type": "code",
   "execution_count": 20,
   "id": "679c67e9",
   "metadata": {
    "execution": {
     "iopub.execute_input": "2024-10-29T23:56:42.779079Z",
     "iopub.status.busy": "2024-10-29T23:56:42.777653Z",
     "iopub.status.idle": "2024-10-29T23:56:42.794667Z",
     "shell.execute_reply": "2024-10-29T23:56:42.792952Z"
    }
   },
   "outputs": [
    {
     "data": {
      "text/html": [
       "<style>\n",
       ".list-inline {list-style: none; margin:0; padding: 0}\n",
       ".list-inline>li {display: inline-block}\n",
       ".list-inline>li:not(:last-child)::after {content: \"\\00b7\"; padding: 0 .5ex}\n",
       "</style>\n",
       "<ol class=list-inline><li>8195</li><li>8</li></ol>\n"
      ],
      "text/latex": [
       "\\begin{enumerate*}\n",
       "\\item 8195\n",
       "\\item 8\n",
       "\\end{enumerate*}\n"
      ],
      "text/markdown": [
       "1. 8195\n",
       "2. 8\n",
       "\n",
       "\n"
      ],
      "text/plain": [
       "[1] 8195    8"
      ]
     },
     "metadata": {},
     "output_type": "display_data"
    }
   ],
   "source": [
    "dim(sig_gene_info)"
   ]
  },
  {
   "cell_type": "code",
   "execution_count": 21,
   "id": "d7db87d2",
   "metadata": {
    "execution": {
     "iopub.execute_input": "2024-10-29T23:56:42.799864Z",
     "iopub.status.busy": "2024-10-29T23:56:42.798418Z",
     "iopub.status.idle": "2024-10-29T23:56:42.815912Z",
     "shell.execute_reply": "2024-10-29T23:56:42.814164Z"
    }
   },
   "outputs": [
    {
     "data": {
      "text/html": [
       "<style>\n",
       ".list-inline {list-style: none; margin:0; padding: 0}\n",
       ".list-inline>li {display: inline-block}\n",
       ".list-inline>li:not(:last-child)::after {content: \"\\00b7\"; padding: 0 .5ex}\n",
       "</style>\n",
       "<ol class=list-inline><li>8300</li><li>1</li></ol>\n"
      ],
      "text/latex": [
       "\\begin{enumerate*}\n",
       "\\item 8300\n",
       "\\item 1\n",
       "\\end{enumerate*}\n"
      ],
      "text/markdown": [
       "1. 8300\n",
       "2. 1\n",
       "\n",
       "\n"
      ],
      "text/plain": [
       "[1] 8300    1"
      ]
     },
     "metadata": {},
     "output_type": "display_data"
    }
   ],
   "source": [
    "dim(sig_gene)"
   ]
  },
  {
   "cell_type": "markdown",
   "id": "94f1c81a",
   "metadata": {},
   "source": [
    "8195 significant genes had chromosome coordinates, compared to 8300 total significant genes present."
   ]
  },
  {
   "cell_type": "code",
   "execution_count": 22,
   "id": "faa2197e",
   "metadata": {
    "execution": {
     "iopub.execute_input": "2024-10-29T23:56:42.821248Z",
     "iopub.status.busy": "2024-10-29T23:56:42.819779Z",
     "iopub.status.idle": "2024-10-30T00:26:08.928384Z",
     "shell.execute_reply": "2024-10-30T00:26:08.926628Z"
    }
   },
   "outputs": [
    {
     "data": {
      "text/plain": [
       "    user   system  elapsed \n",
       "  61.788    0.734 1765.618 "
      ]
     },
     "metadata": {},
     "output_type": "display_data"
    }
   ],
   "source": [
    "system.time({\n",
    "    sig_gene_info <- sig_gene_info %>%\n",
    "        mutate(upstream_region <-  pmap_chr(\n",
    "          list(chromosome_name, upstream_start, upstream_end, strand), \n",
    "          fetch_sequence\n",
    "      ))\n",
    "    })"
   ]
  },
  {
   "cell_type": "code",
   "execution_count": 23,
   "id": "2c52e1e6",
   "metadata": {
    "execution": {
     "iopub.execute_input": "2024-10-30T00:26:09.105948Z",
     "iopub.status.busy": "2024-10-30T00:26:09.104379Z",
     "iopub.status.idle": "2024-10-30T00:26:09.161412Z",
     "shell.execute_reply": "2024-10-30T00:26:09.159509Z"
    }
   },
   "outputs": [],
   "source": [
    "write_tsv(sig_gene_info, '../../result/deseq2/sig_gene_sequence.tsv')"
   ]
  },
  {
   "cell_type": "markdown",
   "id": "84420d9b",
   "metadata": {},
   "source": [
    "## Conclusion"
   ]
  },
  {
   "cell_type": "markdown",
   "id": "ff5962e8",
   "metadata": {},
   "source": [
    "We extracted upstream 2000 bp sequences for all genes in the RNA-seq count matrix and significant genes identified by DESeq2."
   ]
  },
  {
   "cell_type": "code",
   "execution_count": 24,
   "id": "be3bfb7f",
   "metadata": {
    "execution": {
     "iopub.execute_input": "2024-10-30T00:26:09.169416Z",
     "iopub.status.busy": "2024-10-30T00:26:09.167943Z",
     "iopub.status.idle": "2024-10-30T00:26:09.207816Z",
     "shell.execute_reply": "2024-10-30T00:26:09.206110Z"
    }
   },
   "outputs": [
    {
     "data": {
      "text/plain": [
       "R version 4.3.1 (2023-06-16)\n",
       "Platform: x86_64-conda-linux-gnu (64-bit)\n",
       "Running under: Ubuntu 22.04.5 LTS\n",
       "\n",
       "Matrix products: default\n",
       "BLAS/LAPACK: /home/ubuntu/miniconda3/lib/libopenblasp-r0.3.28.so;  LAPACK version 3.12.0\n",
       "\n",
       "locale:\n",
       " [1] LC_CTYPE=C.UTF-8       LC_NUMERIC=C           LC_TIME=C.UTF-8       \n",
       " [4] LC_COLLATE=C.UTF-8     LC_MONETARY=C.UTF-8    LC_MESSAGES=C.UTF-8   \n",
       " [7] LC_PAPER=C.UTF-8       LC_NAME=C              LC_ADDRESS=C          \n",
       "[10] LC_TELEPHONE=C         LC_MEASUREMENT=C.UTF-8 LC_IDENTIFICATION=C   \n",
       "\n",
       "time zone: Etc/UTC\n",
       "tzcode source: system (glibc)\n",
       "\n",
       "attached base packages:\n",
       "[1] stats     graphics  grDevices utils     datasets  methods   base     \n",
       "\n",
       "other attached packages:\n",
       " [1] stringi_1.8.4   xml2_1.3.6      jsonlite_1.8.9  httr_1.4.7     \n",
       " [5] biomaRt_2.58.2  lubridate_1.9.3 forcats_1.0.0   stringr_1.5.1  \n",
       " [9] dplyr_1.1.4     purrr_1.0.2     readr_2.1.5     tidyr_1.3.1    \n",
       "[13] tibble_3.2.1    ggplot2_3.5.1   tidyverse_2.0.0\n",
       "\n",
       "loaded via a namespace (and not attached):\n",
       " [1] KEGGREST_1.42.0         gtable_0.3.6            Biobase_2.62.0         \n",
       " [4] tzdb_0.4.0              vctrs_0.6.5             tools_4.3.1            \n",
       " [7] bitops_1.0-9            generics_0.1.3          parallel_4.3.1         \n",
       "[10] curl_5.2.1              stats4_4.3.1            fansi_1.0.6            \n",
       "[13] AnnotationDbi_1.64.1    RSQLite_2.3.7           blob_1.2.4             \n",
       "[16] pkgconfig_2.0.3         dbplyr_2.5.0            S4Vectors_0.40.2       \n",
       "[19] uuid_1.2-1              lifecycle_1.0.4         GenomeInfoDbData_1.2.11\n",
       "[22] compiler_4.3.1          Biostrings_2.70.3       progress_1.2.3         \n",
       "[25] munsell_0.5.1           repr_1.1.7              GenomeInfoDb_1.38.8    \n",
       "[28] htmltools_0.5.8.1       RCurl_1.98-1.16         pillar_1.9.0           \n",
       "[31] crayon_1.5.3            cachem_1.1.0            tidyselect_1.2.1       \n",
       "[34] digest_0.6.37           fastmap_1.2.0           grid_4.3.1             \n",
       "[37] colorspace_2.1-1        cli_3.6.3               magrittr_2.0.3         \n",
       "[40] base64enc_0.1-3         XML_3.99-0.17           utf8_1.2.4             \n",
       "[43] IRdisplay_1.1           withr_3.0.2             rappdirs_0.3.3         \n",
       "[46] filelock_1.0.3          prettyunits_1.2.0       scales_1.3.0           \n",
       "[49] IRkernel_1.3.2          bit64_4.5.2             timechange_0.3.0       \n",
       "[52] XVector_0.42.0          bit_4.5.0               pbdZMQ_0.3-13          \n",
       "[55] png_0.1-8               hms_1.1.3               memoise_2.0.1          \n",
       "[58] evaluate_1.0.1          IRanges_2.36.0          BiocFileCache_2.10.2   \n",
       "[61] rlang_1.1.4             glue_1.8.0              DBI_1.2.3              \n",
       "[64] BiocGenerics_0.48.1     vroom_1.6.5             R6_2.5.1               \n",
       "[67] zlibbioc_1.48.2        "
      ]
     },
     "metadata": {},
     "output_type": "display_data"
    }
   ],
   "source": [
    "sessionInfo()"
   ]
  }
 ],
 "metadata": {
  "kernelspec": {
   "display_name": "R",
   "language": "R",
   "name": "ir"
  },
  "language_info": {
   "codemirror_mode": "r",
   "file_extension": ".r",
   "mimetype": "text/x-r-source",
   "name": "R",
   "pygments_lexer": "r",
   "version": "4.3.1"
  }
 },
 "nbformat": 4,
 "nbformat_minor": 5
}

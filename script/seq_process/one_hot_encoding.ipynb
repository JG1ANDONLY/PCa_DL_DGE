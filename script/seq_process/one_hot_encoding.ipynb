{
 "cells": [
  {
   "cell_type": "markdown",
   "id": "59f5372a-404e-4ffc-a207-2db84cf994e9",
   "metadata": {},
   "source": [
    "This notebook uses a Python kernel."
   ]
  },
  {
   "cell_type": "markdown",
   "id": "c305adf8-1df1-4e53-a1e9-1cdcbe62a7b4",
   "metadata": {},
   "source": [
    "# Sequence Processing for DL"
   ]
  },
  {
   "cell_type": "markdown",
   "id": "8cb6559f-6665-4798-b208-b8736cde9f4b",
   "metadata": {},
   "source": [
    "Author: Zhongyi (James) Guo <br>\n",
    "Date: 10/29/2024"
   ]
  },
  {
   "cell_type": "markdown",
   "id": "6c9e1dd4-b175-4b38-90ae-0339bdd8862d",
   "metadata": {},
   "source": [
    "## Import Packages"
   ]
  },
  {
   "cell_type": "code",
   "execution_count": null,
   "id": "185824c8-5f58-4abf-93b2-e5cdfe3e0dc2",
   "metadata": {},
   "outputs": [],
   "source": [
    "import os\n",
    "import pandas as pd\n",
    "import numpy as np\n",
    "import pickle"
   ]
  },
  {
   "cell_type": "code",
   "execution_count": null,
   "id": "76a70ee4-ec25-4e3e-8ee2-21d286298336",
   "metadata": {},
   "outputs": [],
   "source": [
    "os.getcwd()"
   ]
  },
  {
   "cell_type": "markdown",
   "id": "4c46d612",
   "metadata": {},
   "source": [
    "## Import Data"
   ]
  },
  {
   "cell_type": "code",
   "execution_count": null,
   "id": "eb368c40",
   "metadata": {},
   "outputs": [],
   "source": [
    "all_gene_sequence = pd.read_csv('../../result/deseq2/all_gene_sequence.tsv', sep='\\t')\n",
    "all_gene_sequence.head()"
   ]
  },
  {
   "cell_type": "code",
   "execution_count": null,
   "id": "995cb8df",
   "metadata": {},
   "outputs": [],
   "source": [
    "all_gene_sequence.shape"
   ]
  },
  {
   "cell_type": "code",
   "execution_count": null,
   "id": "85237885",
   "metadata": {},
   "outputs": [],
   "source": [
    "upstream_region = all_gene_sequence[['ensembl_gene_id', 'upstream_region']]\n",
    "upstream_region.head()"
   ]
  },
  {
   "cell_type": "markdown",
   "id": "b5676977",
   "metadata": {},
   "source": [
    "## Quality Control"
   ]
  },
  {
   "cell_type": "markdown",
   "id": "f7c96d3d",
   "metadata": {},
   "source": [
    "The promoter/enhancer region must contain only A, T, C, and G. Rows violating this rule will be dropped."
   ]
  },
  {
   "cell_type": "code",
   "execution_count": null,
   "id": "589ba5d3",
   "metadata": {},
   "outputs": [],
   "source": [
    "upstream_region_filtered = upstream_region[upstream_region['upstream_region'].str.fullmatch(r'[ATCG]+')]\n",
    "upstream_region_filtered.head()"
   ]
  },
  {
   "cell_type": "markdown",
   "id": "be689009",
   "metadata": {},
   "source": [
    "<hr>"
   ]
  },
  {
   "cell_type": "markdown",
   "id": "a7f29869",
   "metadata": {},
   "source": [
    "We will manually inspect dropped rows."
   ]
  },
  {
   "cell_type": "code",
   "execution_count": null,
   "id": "4e62af61",
   "metadata": {},
   "outputs": [],
   "source": [
    "dropped_rows = upstream_region[~upstream_region.index.isin(upstream_region_filtered.index)]\n",
    "dropped_rows.head()"
   ]
  },
  {
   "cell_type": "markdown",
   "id": "1e35efb1",
   "metadata": {},
   "source": [
    "A lot of dropped rows contained \"N.\""
   ]
  },
  {
   "cell_type": "markdown",
   "id": "a933925b",
   "metadata": {},
   "source": [
    "<hr>"
   ]
  },
  {
   "cell_type": "code",
   "execution_count": null,
   "id": "3960bdfe",
   "metadata": {},
   "outputs": [],
   "source": [
    "upstream_region_filtered.shape"
   ]
  },
  {
   "cell_type": "markdown",
   "id": "30040c41",
   "metadata": {},
   "source": [
    "55226 genes had valid promoter/enhancer sequences, out of 56523 total genes."
   ]
  },
  {
   "cell_type": "markdown",
   "id": "00e33180",
   "metadata": {},
   "source": [
    "## Label Genes"
   ]
  },
  {
   "cell_type": "markdown",
   "id": "b387c444",
   "metadata": {},
   "source": [
    "We’ll label all significant genes with DE status as 1 (DE = 1)."
   ]
  },
  {
   "cell_type": "code",
   "execution_count": null,
   "id": "e9ad3191",
   "metadata": {},
   "outputs": [],
   "source": [
    "sig_gene_sequence = pd.read_csv('../../result/deseq2/sig_gene_sequence.tsv', sep='\\t')\n",
    "sig_gene_sequence.head()"
   ]
  },
  {
   "cell_type": "code",
   "execution_count": null,
   "id": "76d0a3a5",
   "metadata": {},
   "outputs": [],
   "source": [
    "sig_gene_sequence = sig_gene_sequence[['ensembl_gene_id']]\n",
    "sig_gene_sequence['DE'] = 1"
   ]
  },
  {
   "cell_type": "code",
   "execution_count": null,
   "id": "a7d7a707",
   "metadata": {},
   "outputs": [],
   "source": [
    "sig_gene_sequence"
   ]
  },
  {
   "cell_type": "markdown",
   "id": "fe19acfe",
   "metadata": {},
   "source": [
    "There are 8195 significant genes."
   ]
  },
  {
   "cell_type": "markdown",
   "id": "3af0e915",
   "metadata": {},
   "source": [
    "Left join `sig_gene_sequence` to `upstream_region_filtered` by the column `ensembl_gene_id`."
   ]
  },
  {
   "cell_type": "code",
   "execution_count": null,
   "id": "4fb0cb4f",
   "metadata": {},
   "outputs": [],
   "source": [
    "merged_df = upstream_region_filtered.merge(sig_gene_sequence, on='ensembl_gene_id', how='left')\n",
    "merged_df['DE'] = merged_df['DE'].fillna(0).astype(int)"
   ]
  },
  {
   "cell_type": "code",
   "execution_count": null,
   "id": "23d70cfa",
   "metadata": {},
   "outputs": [],
   "source": [
    "merged_df.head()"
   ]
  },
  {
   "cell_type": "code",
   "execution_count": null,
   "id": "d53e31c3",
   "metadata": {},
   "outputs": [],
   "source": [
    "merged_df.shape"
   ]
  },
  {
   "cell_type": "markdown",
   "id": "94c3250d",
   "metadata": {},
   "source": [
    "### Sanity Check"
   ]
  },
  {
   "cell_type": "code",
   "execution_count": null,
   "id": "0c38536a",
   "metadata": {},
   "outputs": [],
   "source": [
    "'ENSG00000000457' in sig_gene_sequence['ensembl_gene_id'].values"
   ]
  },
  {
   "cell_type": "code",
   "execution_count": null,
   "id": "77d45266",
   "metadata": {},
   "outputs": [],
   "source": [
    "'ENSG00000001460' in sig_gene_sequence['ensembl_gene_id'].values"
   ]
  },
  {
   "cell_type": "code",
   "execution_count": null,
   "id": "08fff143",
   "metadata": {},
   "outputs": [],
   "source": [
    "'ENSG00000000938' in sig_gene_sequence['ensembl_gene_id'].values"
   ]
  },
  {
   "cell_type": "markdown",
   "id": "0751cdb2",
   "metadata": {},
   "source": [
    "## One Hot Encoding"
   ]
  },
  {
   "cell_type": "code",
   "execution_count": null,
   "id": "96165d2a",
   "metadata": {},
   "outputs": [],
   "source": [
    "def one_hot_encode(sequence):\n",
    "    # Define mapping for each base\n",
    "    encoding_dict = {\n",
    "        'A': [1, 0, 0, 0],\n",
    "        'T': [0, 1, 0, 0],\n",
    "        'C': [0, 0, 1, 0],\n",
    "        'G': [0, 0, 0, 1] \n",
    "    }\n",
    "    \n",
    "    encoded_sequence = [encoding_dict[base] if base in encoding_dict \n",
    "                        else (_ for _ in ()).throw(KeyError(f\"Invalid base: {base}\")) for base in sequence]\n",
    "    \n",
    "    return np.array(encoded_sequence)"
   ]
  },
  {
   "cell_type": "code",
   "execution_count": null,
   "id": "8521e07d",
   "metadata": {},
   "outputs": [],
   "source": [
    "merged_df['upstream_region_encoded'] = merged_df['upstream_region'].apply(one_hot_encode)\n",
    "merged_df.head()"
   ]
  },
  {
   "cell_type": "code",
   "execution_count": null,
   "id": "85310b15",
   "metadata": {},
   "outputs": [],
   "source": [
    "merged_df.to_pickle('../../result/one_hot_encoding/gene_id_seq_label_ohe.pkl')"
   ]
  },
  {
   "cell_type": "markdown",
   "id": "454d28e1",
   "metadata": {},
   "source": [
    "## Conclusion"
   ]
  },
  {
   "cell_type": "markdown",
   "id": "c48d9ca6",
   "metadata": {},
   "source": [
    "In this notebook, we one-hot-encoded the DNA region sequence and saved it as a pickle file."
   ]
  },
  {
   "cell_type": "code",
   "execution_count": null,
   "id": "dd33a2bc",
   "metadata": {},
   "outputs": [],
   "source": [
    "import pkg_resources\n",
    "installed_packages = {d.project_name: d.version for d in pkg_resources.working_set}\n",
    "print(installed_packages)"
   ]
  }
 ],
 "metadata": {
  "kernelspec": {
   "display_name": "Python 3 (ipykernel)",
   "language": "python",
   "name": "python3"
  },
  "language_info": {
   "codemirror_mode": {
    "name": "ipython",
    "version": 3
   },
   "file_extension": ".py",
   "mimetype": "text/x-python",
   "name": "python",
   "nbconvert_exporter": "python",
   "pygments_lexer": "ipython3",
   "version": "3.11.4"
  }
 },
 "nbformat": 4,
 "nbformat_minor": 5
}

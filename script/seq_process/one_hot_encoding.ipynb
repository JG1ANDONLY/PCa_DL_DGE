{
 "cells": [
  {
   "cell_type": "markdown",
   "id": "59f5372a-404e-4ffc-a207-2db84cf994e9",
   "metadata": {},
   "source": [
    "This notebook uses a Python kernel."
   ]
  },
  {
   "cell_type": "markdown",
   "id": "c305adf8-1df1-4e53-a1e9-1cdcbe62a7b4",
   "metadata": {},
   "source": [
    "# Sequence Processing for DL"
   ]
  },
  {
   "cell_type": "markdown",
   "id": "8cb6559f-6665-4798-b208-b8736cde9f4b",
   "metadata": {},
   "source": [
    "Author: Zhongyi (James) Guo <br>\n",
    "Date: 10/29/2024"
   ]
  },
  {
   "cell_type": "markdown",
   "id": "6c9e1dd4-b175-4b38-90ae-0339bdd8862d",
   "metadata": {},
   "source": [
    "## Import Packages"
   ]
  },
  {
   "cell_type": "code",
   "execution_count": null,
   "id": "185824c8-5f58-4abf-93b2-e5cdfe3e0dc2",
   "metadata": {},
   "outputs": [],
   "source": [
    "import os\n",
    "import pandas as pd\n",
    "import numpy as np"
   ]
  },
  {
   "cell_type": "code",
   "execution_count": null,
   "id": "76a70ee4-ec25-4e3e-8ee2-21d286298336",
   "metadata": {},
   "outputs": [],
   "source": [
    "os.getcwd()"
   ]
  }
 ],
 "metadata": {
  "kernelspec": {
   "display_name": "Python [conda env:base] *",
   "language": "python",
   "name": "conda-base-py"
  },
  "language_info": {
   "name": ""
  }
 },
 "nbformat": 4,
 "nbformat_minor": 5
}

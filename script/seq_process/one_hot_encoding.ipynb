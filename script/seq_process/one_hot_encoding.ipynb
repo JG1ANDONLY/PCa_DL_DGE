{
 "cells": [
  {
   "cell_type": "markdown",
   "id": "59f5372a-404e-4ffc-a207-2db84cf994e9",
   "metadata": {},
   "source": [
    "This notebook uses a Python kernel."
   ]
  },
  {
   "cell_type": "markdown",
   "id": "c305adf8-1df1-4e53-a1e9-1cdcbe62a7b4",
   "metadata": {},
   "source": [
    "# Sequence Processing for DL"
   ]
  },
  {
   "cell_type": "markdown",
   "id": "8cb6559f-6665-4798-b208-b8736cde9f4b",
   "metadata": {},
   "source": [
    "Author: Zhongyi (James) Guo <br>\n",
    "Date: 10/29/2024"
   ]
  },
  {
   "cell_type": "markdown",
   "id": "6c9e1dd4-b175-4b38-90ae-0339bdd8862d",
   "metadata": {},
   "source": [
    "## Import Packages"
   ]
  },
  {
   "cell_type": "code",
   "execution_count": 1,
   "id": "185824c8-5f58-4abf-93b2-e5cdfe3e0dc2",
   "metadata": {
    "execution": {
     "iopub.execute_input": "2024-11-15T02:10:51.388572Z",
     "iopub.status.busy": "2024-11-15T02:10:51.388242Z",
     "iopub.status.idle": "2024-11-15T02:10:52.179087Z",
     "shell.execute_reply": "2024-11-15T02:10:52.178524Z"
    }
   },
   "outputs": [],
   "source": [
    "import os\n",
    "import pandas as pd\n",
    "import numpy as np\n",
    "import pickle"
   ]
  },
  {
   "cell_type": "code",
   "execution_count": 2,
   "id": "76a70ee4-ec25-4e3e-8ee2-21d286298336",
   "metadata": {
    "execution": {
     "iopub.execute_input": "2024-11-15T02:10:52.181965Z",
     "iopub.status.busy": "2024-11-15T02:10:52.181519Z",
     "iopub.status.idle": "2024-11-15T02:10:52.186881Z",
     "shell.execute_reply": "2024-11-15T02:10:52.186437Z"
    }
   },
   "outputs": [
    {
     "data": {
      "text/plain": [
       "'/home/ubuntu/SCA-DL-DGE/script/seq_process'"
      ]
     },
     "execution_count": 2,
     "metadata": {},
     "output_type": "execute_result"
    }
   ],
   "source": [
    "os.getcwd()"
   ]
  },
  {
   "cell_type": "markdown",
   "id": "4c46d612",
   "metadata": {},
   "source": [
    "## Import Data"
   ]
  },
  {
   "cell_type": "code",
   "execution_count": 3,
   "id": "eb368c40",
   "metadata": {
    "execution": {
     "iopub.execute_input": "2024-11-15T02:10:52.189344Z",
     "iopub.status.busy": "2024-11-15T02:10:52.188970Z",
     "iopub.status.idle": "2024-11-15T02:10:53.959839Z",
     "shell.execute_reply": "2024-11-15T02:10:53.959355Z"
    }
   },
   "outputs": [
    {
     "data": {
      "text/html": [
       "<div>\n",
       "<style scoped>\n",
       "    .dataframe tbody tr th:only-of-type {\n",
       "        vertical-align: middle;\n",
       "    }\n",
       "\n",
       "    .dataframe tbody tr th {\n",
       "        vertical-align: top;\n",
       "    }\n",
       "\n",
       "    .dataframe thead th {\n",
       "        text-align: right;\n",
       "    }\n",
       "</style>\n",
       "<table border=\"1\" class=\"dataframe\">\n",
       "  <thead>\n",
       "    <tr style=\"text-align: right;\">\n",
       "      <th></th>\n",
       "      <th>ensembl_gene_id</th>\n",
       "      <th>hgnc_symbol</th>\n",
       "      <th>chromosome_name</th>\n",
       "      <th>start_position</th>\n",
       "      <th>end_position</th>\n",
       "      <th>strand</th>\n",
       "      <th>upstream_start</th>\n",
       "      <th>upstream_end</th>\n",
       "      <th>upstream_region</th>\n",
       "    </tr>\n",
       "  </thead>\n",
       "  <tbody>\n",
       "    <tr>\n",
       "      <th>0</th>\n",
       "      <td>ENSG00000000457</td>\n",
       "      <td>SCYL3</td>\n",
       "      <td>1</td>\n",
       "      <td>169849631</td>\n",
       "      <td>169894267</td>\n",
       "      <td>-1</td>\n",
       "      <td>169894268</td>\n",
       "      <td>169896267</td>\n",
       "      <td>ACATAAAATGTGGTGTATCCCTCTAGACTAGTATATGCAACTATTA...</td>\n",
       "    </tr>\n",
       "    <tr>\n",
       "      <th>1</th>\n",
       "      <td>ENSG00000000460</td>\n",
       "      <td>FIRRM</td>\n",
       "      <td>1</td>\n",
       "      <td>169662007</td>\n",
       "      <td>169854080</td>\n",
       "      <td>1</td>\n",
       "      <td>169660007</td>\n",
       "      <td>169662006</td>\n",
       "      <td>GGGGCAGGGGAAAGGAGAGCATTTCATTGTGAATCAAGGAATTTCT...</td>\n",
       "    </tr>\n",
       "    <tr>\n",
       "      <th>2</th>\n",
       "      <td>ENSG00000000938</td>\n",
       "      <td>FGR</td>\n",
       "      <td>1</td>\n",
       "      <td>27612064</td>\n",
       "      <td>27635185</td>\n",
       "      <td>-1</td>\n",
       "      <td>27635186</td>\n",
       "      <td>27637185</td>\n",
       "      <td>ACTAAATTGATTTCACATATGCAAGTTTTTGAAGTGCCCTGGATTA...</td>\n",
       "    </tr>\n",
       "    <tr>\n",
       "      <th>3</th>\n",
       "      <td>ENSG00000000971</td>\n",
       "      <td>CFH</td>\n",
       "      <td>1</td>\n",
       "      <td>196651754</td>\n",
       "      <td>196752476</td>\n",
       "      <td>1</td>\n",
       "      <td>196649754</td>\n",
       "      <td>196651753</td>\n",
       "      <td>CTGCTGCAATTAGTGAAACAAGGAACAGTGTTACCACATATGGTCC...</td>\n",
       "    </tr>\n",
       "    <tr>\n",
       "      <th>4</th>\n",
       "      <td>ENSG00000001460</td>\n",
       "      <td>STPG1</td>\n",
       "      <td>1</td>\n",
       "      <td>24356999</td>\n",
       "      <td>24416934</td>\n",
       "      <td>-1</td>\n",
       "      <td>24416935</td>\n",
       "      <td>24418934</td>\n",
       "      <td>GGAGGCCGTGTCCCCGCACTCGAGCTTAAGGACATCTGACAGGTGC...</td>\n",
       "    </tr>\n",
       "  </tbody>\n",
       "</table>\n",
       "</div>"
      ],
      "text/plain": [
       "   ensembl_gene_id hgnc_symbol chromosome_name  start_position  end_position  \\\n",
       "0  ENSG00000000457       SCYL3               1       169849631     169894267   \n",
       "1  ENSG00000000460       FIRRM               1       169662007     169854080   \n",
       "2  ENSG00000000938         FGR               1        27612064      27635185   \n",
       "3  ENSG00000000971         CFH               1       196651754     196752476   \n",
       "4  ENSG00000001460       STPG1               1        24356999      24416934   \n",
       "\n",
       "   strand  upstream_start  upstream_end  \\\n",
       "0      -1       169894268     169896267   \n",
       "1       1       169660007     169662006   \n",
       "2      -1        27635186      27637185   \n",
       "3       1       196649754     196651753   \n",
       "4      -1        24416935      24418934   \n",
       "\n",
       "                                     upstream_region  \n",
       "0  ACATAAAATGTGGTGTATCCCTCTAGACTAGTATATGCAACTATTA...  \n",
       "1  GGGGCAGGGGAAAGGAGAGCATTTCATTGTGAATCAAGGAATTTCT...  \n",
       "2  ACTAAATTGATTTCACATATGCAAGTTTTTGAAGTGCCCTGGATTA...  \n",
       "3  CTGCTGCAATTAGTGAAACAAGGAACAGTGTTACCACATATGGTCC...  \n",
       "4  GGAGGCCGTGTCCCCGCACTCGAGCTTAAGGACATCTGACAGGTGC...  "
      ]
     },
     "execution_count": 3,
     "metadata": {},
     "output_type": "execute_result"
    }
   ],
   "source": [
    "all_gene_sequence = pd.read_csv('../../result/deseq2/all_gene_sequence.tsv.gz', sep='\\t', compression='gzip')\n",
    "all_gene_sequence.head()"
   ]
  },
  {
   "cell_type": "code",
   "execution_count": 4,
   "id": "995cb8df",
   "metadata": {
    "execution": {
     "iopub.execute_input": "2024-11-15T02:10:53.962193Z",
     "iopub.status.busy": "2024-11-15T02:10:53.961911Z",
     "iopub.status.idle": "2024-11-15T02:10:53.965397Z",
     "shell.execute_reply": "2024-11-15T02:10:53.964958Z"
    }
   },
   "outputs": [
    {
     "data": {
      "text/plain": [
       "(56523, 9)"
      ]
     },
     "execution_count": 4,
     "metadata": {},
     "output_type": "execute_result"
    }
   ],
   "source": [
    "all_gene_sequence.shape"
   ]
  },
  {
   "cell_type": "code",
   "execution_count": 5,
   "id": "85237885",
   "metadata": {
    "execution": {
     "iopub.execute_input": "2024-11-15T02:10:53.967618Z",
     "iopub.status.busy": "2024-11-15T02:10:53.967309Z",
     "iopub.status.idle": "2024-11-15T02:10:53.981466Z",
     "shell.execute_reply": "2024-11-15T02:10:53.981008Z"
    }
   },
   "outputs": [
    {
     "data": {
      "text/html": [
       "<div>\n",
       "<style scoped>\n",
       "    .dataframe tbody tr th:only-of-type {\n",
       "        vertical-align: middle;\n",
       "    }\n",
       "\n",
       "    .dataframe tbody tr th {\n",
       "        vertical-align: top;\n",
       "    }\n",
       "\n",
       "    .dataframe thead th {\n",
       "        text-align: right;\n",
       "    }\n",
       "</style>\n",
       "<table border=\"1\" class=\"dataframe\">\n",
       "  <thead>\n",
       "    <tr style=\"text-align: right;\">\n",
       "      <th></th>\n",
       "      <th>ensembl_gene_id</th>\n",
       "      <th>upstream_region</th>\n",
       "    </tr>\n",
       "  </thead>\n",
       "  <tbody>\n",
       "    <tr>\n",
       "      <th>0</th>\n",
       "      <td>ENSG00000000457</td>\n",
       "      <td>ACATAAAATGTGGTGTATCCCTCTAGACTAGTATATGCAACTATTA...</td>\n",
       "    </tr>\n",
       "    <tr>\n",
       "      <th>1</th>\n",
       "      <td>ENSG00000000460</td>\n",
       "      <td>GGGGCAGGGGAAAGGAGAGCATTTCATTGTGAATCAAGGAATTTCT...</td>\n",
       "    </tr>\n",
       "    <tr>\n",
       "      <th>2</th>\n",
       "      <td>ENSG00000000938</td>\n",
       "      <td>ACTAAATTGATTTCACATATGCAAGTTTTTGAAGTGCCCTGGATTA...</td>\n",
       "    </tr>\n",
       "    <tr>\n",
       "      <th>3</th>\n",
       "      <td>ENSG00000000971</td>\n",
       "      <td>CTGCTGCAATTAGTGAAACAAGGAACAGTGTTACCACATATGGTCC...</td>\n",
       "    </tr>\n",
       "    <tr>\n",
       "      <th>4</th>\n",
       "      <td>ENSG00000001460</td>\n",
       "      <td>GGAGGCCGTGTCCCCGCACTCGAGCTTAAGGACATCTGACAGGTGC...</td>\n",
       "    </tr>\n",
       "  </tbody>\n",
       "</table>\n",
       "</div>"
      ],
      "text/plain": [
       "   ensembl_gene_id                                    upstream_region\n",
       "0  ENSG00000000457  ACATAAAATGTGGTGTATCCCTCTAGACTAGTATATGCAACTATTA...\n",
       "1  ENSG00000000460  GGGGCAGGGGAAAGGAGAGCATTTCATTGTGAATCAAGGAATTTCT...\n",
       "2  ENSG00000000938  ACTAAATTGATTTCACATATGCAAGTTTTTGAAGTGCCCTGGATTA...\n",
       "3  ENSG00000000971  CTGCTGCAATTAGTGAAACAAGGAACAGTGTTACCACATATGGTCC...\n",
       "4  ENSG00000001460  GGAGGCCGTGTCCCCGCACTCGAGCTTAAGGACATCTGACAGGTGC..."
      ]
     },
     "execution_count": 5,
     "metadata": {},
     "output_type": "execute_result"
    }
   ],
   "source": [
    "upstream_region = all_gene_sequence[['ensembl_gene_id', 'upstream_region']]\n",
    "upstream_region.head()"
   ]
  },
  {
   "cell_type": "markdown",
   "id": "b5676977",
   "metadata": {},
   "source": [
    "## Quality Control"
   ]
  },
  {
   "cell_type": "markdown",
   "id": "f7c96d3d",
   "metadata": {},
   "source": [
    "The promoter/enhancer region must contain only A, T, C, and G. Rows violating this rule will be dropped."
   ]
  },
  {
   "cell_type": "code",
   "execution_count": 6,
   "id": "589ba5d3",
   "metadata": {
    "execution": {
     "iopub.execute_input": "2024-11-15T02:10:53.983957Z",
     "iopub.status.busy": "2024-11-15T02:10:53.983549Z",
     "iopub.status.idle": "2024-11-15T02:10:54.348965Z",
     "shell.execute_reply": "2024-11-15T02:10:54.348508Z"
    }
   },
   "outputs": [
    {
     "data": {
      "text/html": [
       "<div>\n",
       "<style scoped>\n",
       "    .dataframe tbody tr th:only-of-type {\n",
       "        vertical-align: middle;\n",
       "    }\n",
       "\n",
       "    .dataframe tbody tr th {\n",
       "        vertical-align: top;\n",
       "    }\n",
       "\n",
       "    .dataframe thead th {\n",
       "        text-align: right;\n",
       "    }\n",
       "</style>\n",
       "<table border=\"1\" class=\"dataframe\">\n",
       "  <thead>\n",
       "    <tr style=\"text-align: right;\">\n",
       "      <th></th>\n",
       "      <th>ensembl_gene_id</th>\n",
       "      <th>upstream_region</th>\n",
       "    </tr>\n",
       "  </thead>\n",
       "  <tbody>\n",
       "    <tr>\n",
       "      <th>0</th>\n",
       "      <td>ENSG00000000457</td>\n",
       "      <td>ACATAAAATGTGGTGTATCCCTCTAGACTAGTATATGCAACTATTA...</td>\n",
       "    </tr>\n",
       "    <tr>\n",
       "      <th>1</th>\n",
       "      <td>ENSG00000000460</td>\n",
       "      <td>GGGGCAGGGGAAAGGAGAGCATTTCATTGTGAATCAAGGAATTTCT...</td>\n",
       "    </tr>\n",
       "    <tr>\n",
       "      <th>2</th>\n",
       "      <td>ENSG00000000938</td>\n",
       "      <td>ACTAAATTGATTTCACATATGCAAGTTTTTGAAGTGCCCTGGATTA...</td>\n",
       "    </tr>\n",
       "    <tr>\n",
       "      <th>3</th>\n",
       "      <td>ENSG00000000971</td>\n",
       "      <td>CTGCTGCAATTAGTGAAACAAGGAACAGTGTTACCACATATGGTCC...</td>\n",
       "    </tr>\n",
       "    <tr>\n",
       "      <th>4</th>\n",
       "      <td>ENSG00000001460</td>\n",
       "      <td>GGAGGCCGTGTCCCCGCACTCGAGCTTAAGGACATCTGACAGGTGC...</td>\n",
       "    </tr>\n",
       "  </tbody>\n",
       "</table>\n",
       "</div>"
      ],
      "text/plain": [
       "   ensembl_gene_id                                    upstream_region\n",
       "0  ENSG00000000457  ACATAAAATGTGGTGTATCCCTCTAGACTAGTATATGCAACTATTA...\n",
       "1  ENSG00000000460  GGGGCAGGGGAAAGGAGAGCATTTCATTGTGAATCAAGGAATTTCT...\n",
       "2  ENSG00000000938  ACTAAATTGATTTCACATATGCAAGTTTTTGAAGTGCCCTGGATTA...\n",
       "3  ENSG00000000971  CTGCTGCAATTAGTGAAACAAGGAACAGTGTTACCACATATGGTCC...\n",
       "4  ENSG00000001460  GGAGGCCGTGTCCCCGCACTCGAGCTTAAGGACATCTGACAGGTGC..."
      ]
     },
     "execution_count": 6,
     "metadata": {},
     "output_type": "execute_result"
    }
   ],
   "source": [
    "upstream_region_filtered = upstream_region[upstream_region['upstream_region'].str.fullmatch(r'[ATCG]+')]\n",
    "upstream_region_filtered.head()"
   ]
  },
  {
   "cell_type": "markdown",
   "id": "be689009",
   "metadata": {},
   "source": [
    "<hr>"
   ]
  },
  {
   "cell_type": "markdown",
   "id": "a7f29869",
   "metadata": {},
   "source": [
    "We will manually inspect dropped rows."
   ]
  },
  {
   "cell_type": "code",
   "execution_count": 7,
   "id": "4e62af61",
   "metadata": {
    "execution": {
     "iopub.execute_input": "2024-11-15T02:10:54.351431Z",
     "iopub.status.busy": "2024-11-15T02:10:54.351065Z",
     "iopub.status.idle": "2024-11-15T02:10:54.361971Z",
     "shell.execute_reply": "2024-11-15T02:10:54.361550Z"
    }
   },
   "outputs": [
    {
     "data": {
      "text/html": [
       "<div>\n",
       "<style scoped>\n",
       "    .dataframe tbody tr th:only-of-type {\n",
       "        vertical-align: middle;\n",
       "    }\n",
       "\n",
       "    .dataframe tbody tr th {\n",
       "        vertical-align: top;\n",
       "    }\n",
       "\n",
       "    .dataframe thead th {\n",
       "        text-align: right;\n",
       "    }\n",
       "</style>\n",
       "<table border=\"1\" class=\"dataframe\">\n",
       "  <thead>\n",
       "    <tr style=\"text-align: right;\">\n",
       "      <th></th>\n",
       "      <th>ensembl_gene_id</th>\n",
       "      <th>upstream_region</th>\n",
       "    </tr>\n",
       "  </thead>\n",
       "  <tbody>\n",
       "    <tr>\n",
       "      <th>207</th>\n",
       "      <td>ENSG00000116198</td>\n",
       "      <td>NNNNNNNNNNNNNNNNNNNNNNNNNNNNNNNNNNNNNNNNNNNNNN...</td>\n",
       "    </tr>\n",
       "    <tr>\n",
       "      <th>534</th>\n",
       "      <td>ENSG00000131788</td>\n",
       "      <td>NNNNNNNNNNNNNNNNNNNNNNNNNNNNNNNNNNNNNNNNNNNNNN...</td>\n",
       "    </tr>\n",
       "    <tr>\n",
       "      <th>666</th>\n",
       "      <td>ENSG00000142606</td>\n",
       "      <td>ACCCCCAGGTGAGCATCTGGCAACCTGGAACAGCATCTACAGCCCC...</td>\n",
       "    </tr>\n",
       "    <tr>\n",
       "      <th>1090</th>\n",
       "      <td>ENSG00000162493</td>\n",
       "      <td>NNNNNNNNNNNNNNNNNNNNNNNNNNNNNNNNNNNNNNNNNNNNNN...</td>\n",
       "    </tr>\n",
       "    <tr>\n",
       "      <th>1287</th>\n",
       "      <td>ENSG00000169598</td>\n",
       "      <td>NNNNNNNNNNNNNNNNNNNNNNNNNNNNNNNNNNNNNNNNNNNNNN...</td>\n",
       "    </tr>\n",
       "  </tbody>\n",
       "</table>\n",
       "</div>"
      ],
      "text/plain": [
       "      ensembl_gene_id                                    upstream_region\n",
       "207   ENSG00000116198  NNNNNNNNNNNNNNNNNNNNNNNNNNNNNNNNNNNNNNNNNNNNNN...\n",
       "534   ENSG00000131788  NNNNNNNNNNNNNNNNNNNNNNNNNNNNNNNNNNNNNNNNNNNNNN...\n",
       "666   ENSG00000142606  ACCCCCAGGTGAGCATCTGGCAACCTGGAACAGCATCTACAGCCCC...\n",
       "1090  ENSG00000162493  NNNNNNNNNNNNNNNNNNNNNNNNNNNNNNNNNNNNNNNNNNNNNN...\n",
       "1287  ENSG00000169598  NNNNNNNNNNNNNNNNNNNNNNNNNNNNNNNNNNNNNNNNNNNNNN..."
      ]
     },
     "execution_count": 7,
     "metadata": {},
     "output_type": "execute_result"
    }
   ],
   "source": [
    "dropped_rows = upstream_region[~upstream_region.index.isin(upstream_region_filtered.index)]\n",
    "dropped_rows.head()"
   ]
  },
  {
   "cell_type": "markdown",
   "id": "1e35efb1",
   "metadata": {},
   "source": [
    "A lot of dropped rows contained \"N.\""
   ]
  },
  {
   "cell_type": "markdown",
   "id": "a933925b",
   "metadata": {},
   "source": [
    "<hr>"
   ]
  },
  {
   "cell_type": "code",
   "execution_count": 8,
   "id": "3960bdfe",
   "metadata": {
    "execution": {
     "iopub.execute_input": "2024-11-15T02:10:54.364373Z",
     "iopub.status.busy": "2024-11-15T02:10:54.363975Z",
     "iopub.status.idle": "2024-11-15T02:10:54.367184Z",
     "shell.execute_reply": "2024-11-15T02:10:54.366756Z"
    }
   },
   "outputs": [
    {
     "data": {
      "text/plain": [
       "(55226, 2)"
      ]
     },
     "execution_count": 8,
     "metadata": {},
     "output_type": "execute_result"
    }
   ],
   "source": [
    "upstream_region_filtered.shape"
   ]
  },
  {
   "cell_type": "markdown",
   "id": "30040c41",
   "metadata": {},
   "source": [
    "55226 genes had valid promoter/enhancer sequences, out of 56523 total genes."
   ]
  },
  {
   "cell_type": "markdown",
   "id": "00e33180",
   "metadata": {},
   "source": [
    "## Label Genes"
   ]
  },
  {
   "cell_type": "markdown",
   "id": "b387c444",
   "metadata": {},
   "source": [
    "We’ll label all significant genes with DE status as 1 (DE = 1)."
   ]
  },
  {
   "cell_type": "code",
   "execution_count": 9,
   "id": "e9ad3191",
   "metadata": {
    "execution": {
     "iopub.execute_input": "2024-11-15T02:10:54.369536Z",
     "iopub.status.busy": "2024-11-15T02:10:54.369166Z",
     "iopub.status.idle": "2024-11-15T02:10:54.468964Z",
     "shell.execute_reply": "2024-11-15T02:10:54.468490Z"
    }
   },
   "outputs": [
    {
     "data": {
      "text/html": [
       "<div>\n",
       "<style scoped>\n",
       "    .dataframe tbody tr th:only-of-type {\n",
       "        vertical-align: middle;\n",
       "    }\n",
       "\n",
       "    .dataframe tbody tr th {\n",
       "        vertical-align: top;\n",
       "    }\n",
       "\n",
       "    .dataframe thead th {\n",
       "        text-align: right;\n",
       "    }\n",
       "</style>\n",
       "<table border=\"1\" class=\"dataframe\">\n",
       "  <thead>\n",
       "    <tr style=\"text-align: right;\">\n",
       "      <th></th>\n",
       "      <th>ensembl_gene_id</th>\n",
       "      <th>hgnc_symbol</th>\n",
       "      <th>chromosome_name</th>\n",
       "      <th>start_position</th>\n",
       "      <th>end_position</th>\n",
       "      <th>strand</th>\n",
       "      <th>upstream_start</th>\n",
       "      <th>upstream_end</th>\n",
       "      <th>... &lt;- NULL</th>\n",
       "    </tr>\n",
       "  </thead>\n",
       "  <tbody>\n",
       "    <tr>\n",
       "      <th>0</th>\n",
       "      <td>ENSG00000000971</td>\n",
       "      <td>CFH</td>\n",
       "      <td>1</td>\n",
       "      <td>196651754</td>\n",
       "      <td>196752476</td>\n",
       "      <td>1</td>\n",
       "      <td>196649754</td>\n",
       "      <td>196651753</td>\n",
       "      <td>CTGCTGCAATTAGTGAAACAAGGAACAGTGTTACCACATATGGTCC...</td>\n",
       "    </tr>\n",
       "    <tr>\n",
       "      <th>1</th>\n",
       "      <td>ENSG00000001617</td>\n",
       "      <td>SEMA3F</td>\n",
       "      <td>3</td>\n",
       "      <td>50155045</td>\n",
       "      <td>50189075</td>\n",
       "      <td>1</td>\n",
       "      <td>50153045</td>\n",
       "      <td>50155044</td>\n",
       "      <td>CCATGCTTCTGAGCTGATCTGAGGGGGCGAGGGGAGGCAGTGAGAC...</td>\n",
       "    </tr>\n",
       "    <tr>\n",
       "      <th>2</th>\n",
       "      <td>ENSG00000001630</td>\n",
       "      <td>CYP51A1</td>\n",
       "      <td>7</td>\n",
       "      <td>92084987</td>\n",
       "      <td>92134803</td>\n",
       "      <td>-1</td>\n",
       "      <td>92134804</td>\n",
       "      <td>92136803</td>\n",
       "      <td>TCATCCCATTGAGAATTTTAGATGGCTTACAACAAAATAAAAAAAG...</td>\n",
       "    </tr>\n",
       "    <tr>\n",
       "      <th>3</th>\n",
       "      <td>ENSG00000002330</td>\n",
       "      <td>BAD</td>\n",
       "      <td>11</td>\n",
       "      <td>64269830</td>\n",
       "      <td>64284704</td>\n",
       "      <td>-1</td>\n",
       "      <td>64284705</td>\n",
       "      <td>64286704</td>\n",
       "      <td>AGGAAGTCCATGGATGCATTACCAAGCAAGTGTCAATGTGAGCCAC...</td>\n",
       "    </tr>\n",
       "    <tr>\n",
       "      <th>4</th>\n",
       "      <td>ENSG00000002726</td>\n",
       "      <td>AOC1</td>\n",
       "      <td>7</td>\n",
       "      <td>150824627</td>\n",
       "      <td>150861504</td>\n",
       "      <td>1</td>\n",
       "      <td>150822627</td>\n",
       "      <td>150824626</td>\n",
       "      <td>GATGCAGTGACACCCTTTAGGGGGTGCCCGCTGCTTCCCGTTCTGT...</td>\n",
       "    </tr>\n",
       "  </tbody>\n",
       "</table>\n",
       "</div>"
      ],
      "text/plain": [
       "   ensembl_gene_id hgnc_symbol chromosome_name  start_position  end_position  \\\n",
       "0  ENSG00000000971         CFH               1       196651754     196752476   \n",
       "1  ENSG00000001617      SEMA3F               3        50155045      50189075   \n",
       "2  ENSG00000001630     CYP51A1               7        92084987      92134803   \n",
       "3  ENSG00000002330         BAD              11        64269830      64284704   \n",
       "4  ENSG00000002726        AOC1               7       150824627     150861504   \n",
       "\n",
       "   strand  upstream_start  upstream_end  \\\n",
       "0       1       196649754     196651753   \n",
       "1       1        50153045      50155044   \n",
       "2      -1        92134804      92136803   \n",
       "3      -1        64284705      64286704   \n",
       "4       1       150822627     150824626   \n",
       "\n",
       "                                         ... <- NULL  \n",
       "0  CTGCTGCAATTAGTGAAACAAGGAACAGTGTTACCACATATGGTCC...  \n",
       "1  CCATGCTTCTGAGCTGATCTGAGGGGGCGAGGGGAGGCAGTGAGAC...  \n",
       "2  TCATCCCATTGAGAATTTTAGATGGCTTACAACAAAATAAAAAAAG...  \n",
       "3  AGGAAGTCCATGGATGCATTACCAAGCAAGTGTCAATGTGAGCCAC...  \n",
       "4  GATGCAGTGACACCCTTTAGGGGGTGCCCGCTGCTTCCCGTTCTGT...  "
      ]
     },
     "execution_count": 9,
     "metadata": {},
     "output_type": "execute_result"
    }
   ],
   "source": [
    "sig_gene_sequence = pd.read_csv('../../result/deseq2/sig_gene_sequence.tsv', sep='\\t')\n",
    "sig_gene_sequence.head()"
   ]
  },
  {
   "cell_type": "code",
   "execution_count": 10,
   "id": "76d0a3a5",
   "metadata": {
    "execution": {
     "iopub.execute_input": "2024-11-15T02:10:54.471327Z",
     "iopub.status.busy": "2024-11-15T02:10:54.471058Z",
     "iopub.status.idle": "2024-11-15T02:10:54.475011Z",
     "shell.execute_reply": "2024-11-15T02:10:54.474549Z"
    }
   },
   "outputs": [],
   "source": [
    "sig_gene_sequence = sig_gene_sequence[['ensembl_gene_id']]\n",
    "sig_gene_sequence['DE'] = 1"
   ]
  },
  {
   "cell_type": "code",
   "execution_count": 11,
   "id": "a7d7a707",
   "metadata": {
    "execution": {
     "iopub.execute_input": "2024-11-15T02:10:54.477243Z",
     "iopub.status.busy": "2024-11-15T02:10:54.476918Z",
     "iopub.status.idle": "2024-11-15T02:10:54.483157Z",
     "shell.execute_reply": "2024-11-15T02:10:54.482701Z"
    }
   },
   "outputs": [
    {
     "data": {
      "text/html": [
       "<div>\n",
       "<style scoped>\n",
       "    .dataframe tbody tr th:only-of-type {\n",
       "        vertical-align: middle;\n",
       "    }\n",
       "\n",
       "    .dataframe tbody tr th {\n",
       "        vertical-align: top;\n",
       "    }\n",
       "\n",
       "    .dataframe thead th {\n",
       "        text-align: right;\n",
       "    }\n",
       "</style>\n",
       "<table border=\"1\" class=\"dataframe\">\n",
       "  <thead>\n",
       "    <tr style=\"text-align: right;\">\n",
       "      <th></th>\n",
       "      <th>ensembl_gene_id</th>\n",
       "      <th>DE</th>\n",
       "    </tr>\n",
       "  </thead>\n",
       "  <tbody>\n",
       "    <tr>\n",
       "      <th>0</th>\n",
       "      <td>ENSG00000000971</td>\n",
       "      <td>1</td>\n",
       "    </tr>\n",
       "    <tr>\n",
       "      <th>1</th>\n",
       "      <td>ENSG00000001617</td>\n",
       "      <td>1</td>\n",
       "    </tr>\n",
       "    <tr>\n",
       "      <th>2</th>\n",
       "      <td>ENSG00000001630</td>\n",
       "      <td>1</td>\n",
       "    </tr>\n",
       "    <tr>\n",
       "      <th>3</th>\n",
       "      <td>ENSG00000002330</td>\n",
       "      <td>1</td>\n",
       "    </tr>\n",
       "    <tr>\n",
       "      <th>4</th>\n",
       "      <td>ENSG00000002726</td>\n",
       "      <td>1</td>\n",
       "    </tr>\n",
       "    <tr>\n",
       "      <th>...</th>\n",
       "      <td>...</td>\n",
       "      <td>...</td>\n",
       "    </tr>\n",
       "    <tr>\n",
       "      <th>4248</th>\n",
       "      <td>ENSG00000283541</td>\n",
       "      <td>1</td>\n",
       "    </tr>\n",
       "    <tr>\n",
       "      <th>4249</th>\n",
       "      <td>ENSG00000283930</td>\n",
       "      <td>1</td>\n",
       "    </tr>\n",
       "    <tr>\n",
       "      <th>4250</th>\n",
       "      <td>ENSG00000284070</td>\n",
       "      <td>1</td>\n",
       "    </tr>\n",
       "    <tr>\n",
       "      <th>4251</th>\n",
       "      <td>ENSG00000284128</td>\n",
       "      <td>1</td>\n",
       "    </tr>\n",
       "    <tr>\n",
       "      <th>4252</th>\n",
       "      <td>ENSG00000284337</td>\n",
       "      <td>1</td>\n",
       "    </tr>\n",
       "  </tbody>\n",
       "</table>\n",
       "<p>4253 rows × 2 columns</p>\n",
       "</div>"
      ],
      "text/plain": [
       "      ensembl_gene_id  DE\n",
       "0     ENSG00000000971   1\n",
       "1     ENSG00000001617   1\n",
       "2     ENSG00000001630   1\n",
       "3     ENSG00000002330   1\n",
       "4     ENSG00000002726   1\n",
       "...               ...  ..\n",
       "4248  ENSG00000283541   1\n",
       "4249  ENSG00000283930   1\n",
       "4250  ENSG00000284070   1\n",
       "4251  ENSG00000284128   1\n",
       "4252  ENSG00000284337   1\n",
       "\n",
       "[4253 rows x 2 columns]"
      ]
     },
     "execution_count": 11,
     "metadata": {},
     "output_type": "execute_result"
    }
   ],
   "source": [
    "sig_gene_sequence"
   ]
  },
  {
   "cell_type": "markdown",
   "id": "fe19acfe",
   "metadata": {},
   "source": [
    "There are 8195 significant genes."
   ]
  },
  {
   "cell_type": "markdown",
   "id": "3af0e915",
   "metadata": {},
   "source": [
    "Left join `sig_gene_sequence` to `upstream_region_filtered` by the column `ensembl_gene_id`."
   ]
  },
  {
   "cell_type": "code",
   "execution_count": 12,
   "id": "4fb0cb4f",
   "metadata": {
    "execution": {
     "iopub.execute_input": "2024-11-15T02:10:54.485454Z",
     "iopub.status.busy": "2024-11-15T02:10:54.485121Z",
     "iopub.status.idle": "2024-11-15T02:10:54.513247Z",
     "shell.execute_reply": "2024-11-15T02:10:54.512721Z"
    }
   },
   "outputs": [],
   "source": [
    "merged_df = upstream_region_filtered.merge(sig_gene_sequence, on='ensembl_gene_id', how='left')\n",
    "merged_df['DE'] = merged_df['DE'].fillna(0).astype(int)"
   ]
  },
  {
   "cell_type": "code",
   "execution_count": 13,
   "id": "23d70cfa",
   "metadata": {
    "execution": {
     "iopub.execute_input": "2024-11-15T02:10:54.515941Z",
     "iopub.status.busy": "2024-11-15T02:10:54.515460Z",
     "iopub.status.idle": "2024-11-15T02:10:54.521544Z",
     "shell.execute_reply": "2024-11-15T02:10:54.521123Z"
    }
   },
   "outputs": [
    {
     "data": {
      "text/html": [
       "<div>\n",
       "<style scoped>\n",
       "    .dataframe tbody tr th:only-of-type {\n",
       "        vertical-align: middle;\n",
       "    }\n",
       "\n",
       "    .dataframe tbody tr th {\n",
       "        vertical-align: top;\n",
       "    }\n",
       "\n",
       "    .dataframe thead th {\n",
       "        text-align: right;\n",
       "    }\n",
       "</style>\n",
       "<table border=\"1\" class=\"dataframe\">\n",
       "  <thead>\n",
       "    <tr style=\"text-align: right;\">\n",
       "      <th></th>\n",
       "      <th>ensembl_gene_id</th>\n",
       "      <th>upstream_region</th>\n",
       "      <th>DE</th>\n",
       "    </tr>\n",
       "  </thead>\n",
       "  <tbody>\n",
       "    <tr>\n",
       "      <th>0</th>\n",
       "      <td>ENSG00000000457</td>\n",
       "      <td>ACATAAAATGTGGTGTATCCCTCTAGACTAGTATATGCAACTATTA...</td>\n",
       "      <td>0</td>\n",
       "    </tr>\n",
       "    <tr>\n",
       "      <th>1</th>\n",
       "      <td>ENSG00000000460</td>\n",
       "      <td>GGGGCAGGGGAAAGGAGAGCATTTCATTGTGAATCAAGGAATTTCT...</td>\n",
       "      <td>0</td>\n",
       "    </tr>\n",
       "    <tr>\n",
       "      <th>2</th>\n",
       "      <td>ENSG00000000938</td>\n",
       "      <td>ACTAAATTGATTTCACATATGCAAGTTTTTGAAGTGCCCTGGATTA...</td>\n",
       "      <td>0</td>\n",
       "    </tr>\n",
       "    <tr>\n",
       "      <th>3</th>\n",
       "      <td>ENSG00000000971</td>\n",
       "      <td>CTGCTGCAATTAGTGAAACAAGGAACAGTGTTACCACATATGGTCC...</td>\n",
       "      <td>1</td>\n",
       "    </tr>\n",
       "    <tr>\n",
       "      <th>4</th>\n",
       "      <td>ENSG00000001460</td>\n",
       "      <td>GGAGGCCGTGTCCCCGCACTCGAGCTTAAGGACATCTGACAGGTGC...</td>\n",
       "      <td>0</td>\n",
       "    </tr>\n",
       "  </tbody>\n",
       "</table>\n",
       "</div>"
      ],
      "text/plain": [
       "   ensembl_gene_id                                    upstream_region  DE\n",
       "0  ENSG00000000457  ACATAAAATGTGGTGTATCCCTCTAGACTAGTATATGCAACTATTA...   0\n",
       "1  ENSG00000000460  GGGGCAGGGGAAAGGAGAGCATTTCATTGTGAATCAAGGAATTTCT...   0\n",
       "2  ENSG00000000938  ACTAAATTGATTTCACATATGCAAGTTTTTGAAGTGCCCTGGATTA...   0\n",
       "3  ENSG00000000971  CTGCTGCAATTAGTGAAACAAGGAACAGTGTTACCACATATGGTCC...   1\n",
       "4  ENSG00000001460  GGAGGCCGTGTCCCCGCACTCGAGCTTAAGGACATCTGACAGGTGC...   0"
      ]
     },
     "execution_count": 13,
     "metadata": {},
     "output_type": "execute_result"
    }
   ],
   "source": [
    "merged_df.head()"
   ]
  },
  {
   "cell_type": "code",
   "execution_count": 14,
   "id": "d53e31c3",
   "metadata": {
    "execution": {
     "iopub.execute_input": "2024-11-15T02:10:54.523861Z",
     "iopub.status.busy": "2024-11-15T02:10:54.523512Z",
     "iopub.status.idle": "2024-11-15T02:10:54.527220Z",
     "shell.execute_reply": "2024-11-15T02:10:54.526662Z"
    }
   },
   "outputs": [
    {
     "data": {
      "text/plain": [
       "(55226, 3)"
      ]
     },
     "execution_count": 14,
     "metadata": {},
     "output_type": "execute_result"
    }
   ],
   "source": [
    "merged_df.shape"
   ]
  },
  {
   "cell_type": "markdown",
   "id": "94c3250d",
   "metadata": {},
   "source": [
    "### Sanity Check"
   ]
  },
  {
   "cell_type": "code",
   "execution_count": 15,
   "id": "0c38536a",
   "metadata": {
    "execution": {
     "iopub.execute_input": "2024-11-15T02:10:54.529763Z",
     "iopub.status.busy": "2024-11-15T02:10:54.529405Z",
     "iopub.status.idle": "2024-11-15T02:10:54.533517Z",
     "shell.execute_reply": "2024-11-15T02:10:54.532955Z"
    }
   },
   "outputs": [
    {
     "data": {
      "text/plain": [
       "False"
      ]
     },
     "execution_count": 15,
     "metadata": {},
     "output_type": "execute_result"
    }
   ],
   "source": [
    "'ENSG00000000457' in sig_gene_sequence['ensembl_gene_id'].values"
   ]
  },
  {
   "cell_type": "code",
   "execution_count": 16,
   "id": "77d45266",
   "metadata": {
    "execution": {
     "iopub.execute_input": "2024-11-15T02:10:54.536054Z",
     "iopub.status.busy": "2024-11-15T02:10:54.535622Z",
     "iopub.status.idle": "2024-11-15T02:10:54.539532Z",
     "shell.execute_reply": "2024-11-15T02:10:54.538981Z"
    }
   },
   "outputs": [
    {
     "data": {
      "text/plain": [
       "False"
      ]
     },
     "execution_count": 16,
     "metadata": {},
     "output_type": "execute_result"
    }
   ],
   "source": [
    "'ENSG00000001460' in sig_gene_sequence['ensembl_gene_id'].values"
   ]
  },
  {
   "cell_type": "code",
   "execution_count": 17,
   "id": "08fff143",
   "metadata": {
    "execution": {
     "iopub.execute_input": "2024-11-15T02:10:54.541928Z",
     "iopub.status.busy": "2024-11-15T02:10:54.541562Z",
     "iopub.status.idle": "2024-11-15T02:10:54.545385Z",
     "shell.execute_reply": "2024-11-15T02:10:54.544835Z"
    }
   },
   "outputs": [
    {
     "data": {
      "text/plain": [
       "False"
      ]
     },
     "execution_count": 17,
     "metadata": {},
     "output_type": "execute_result"
    }
   ],
   "source": [
    "'ENSG00000000938' in sig_gene_sequence['ensembl_gene_id'].values"
   ]
  },
  {
   "cell_type": "markdown",
   "id": "e0add179-31d6-4b77-aab8-137cb8a841da",
   "metadata": {},
   "source": [
    "Verify that all entries in the `upstream_region_encoded` column have a consistent dimension of (2000, 4)."
   ]
  },
  {
   "cell_type": "code",
   "execution_count": 18,
   "id": "63bc211a-3e8f-4167-987d-217e92414d94",
   "metadata": {
    "execution": {
     "iopub.execute_input": "2024-11-15T02:10:54.547803Z",
     "iopub.status.busy": "2024-11-15T02:10:54.547495Z",
     "iopub.status.idle": "2024-11-15T02:10:54.568770Z",
     "shell.execute_reply": "2024-11-15T02:10:54.568262Z"
    }
   },
   "outputs": [
    {
     "name": "stdout",
     "output_type": "stream",
     "text": [
      "Rows have different lengths.\n",
      "Unique lengths: {2000, 546, 1827, 1896}\n"
     ]
    }
   ],
   "source": [
    "lengths = [len(row) for row in merged_df['upstream_region']]\n",
    "if len(set(lengths)) == 1:\n",
    "    print(\"All rows have the same length:\", lengths[0])\n",
    "else:\n",
    "    print(\"Rows have different lengths.\")\n",
    "    print(\"Unique lengths:\", set(lengths))"
   ]
  },
  {
   "cell_type": "markdown",
   "id": "e9e5860b-ffc1-4df4-8688-131682be0dc6",
   "metadata": {},
   "source": [
    "Some rows have entries in `upstream_region_encoded` that are not of length 2000, which we expected. This likely occurs because not all genes have an upstream region of at least 2000 base pairs—some genes may be located close to the start of a chromosome, limiting the available upstream region. Therefore, we will remove genes with upstream regions that are not exactly 2000 bp."
   ]
  },
  {
   "cell_type": "code",
   "execution_count": 19,
   "id": "d85737d2-0ea2-47de-8af6-836a6c4aedfa",
   "metadata": {
    "execution": {
     "iopub.execute_input": "2024-11-15T02:10:54.571248Z",
     "iopub.status.busy": "2024-11-15T02:10:54.570911Z",
     "iopub.status.idle": "2024-11-15T02:10:54.595367Z",
     "shell.execute_reply": "2024-11-15T02:10:54.594864Z"
    }
   },
   "outputs": [],
   "source": [
    "merged_df = merged_df[merged_df['upstream_region'].apply(lambda x: len(x) == 2000)]"
   ]
  },
  {
   "cell_type": "code",
   "execution_count": 20,
   "id": "778827dc-291e-4a91-a7b5-9986035051e9",
   "metadata": {
    "execution": {
     "iopub.execute_input": "2024-11-15T02:10:54.597996Z",
     "iopub.status.busy": "2024-11-15T02:10:54.597592Z",
     "iopub.status.idle": "2024-11-15T02:10:54.605262Z",
     "shell.execute_reply": "2024-11-15T02:10:54.604727Z"
    }
   },
   "outputs": [
    {
     "data": {
      "text/html": [
       "<div>\n",
       "<style scoped>\n",
       "    .dataframe tbody tr th:only-of-type {\n",
       "        vertical-align: middle;\n",
       "    }\n",
       "\n",
       "    .dataframe tbody tr th {\n",
       "        vertical-align: top;\n",
       "    }\n",
       "\n",
       "    .dataframe thead th {\n",
       "        text-align: right;\n",
       "    }\n",
       "</style>\n",
       "<table border=\"1\" class=\"dataframe\">\n",
       "  <thead>\n",
       "    <tr style=\"text-align: right;\">\n",
       "      <th></th>\n",
       "      <th>ensembl_gene_id</th>\n",
       "      <th>upstream_region</th>\n",
       "      <th>DE</th>\n",
       "    </tr>\n",
       "  </thead>\n",
       "  <tbody>\n",
       "    <tr>\n",
       "      <th>0</th>\n",
       "      <td>ENSG00000000457</td>\n",
       "      <td>ACATAAAATGTGGTGTATCCCTCTAGACTAGTATATGCAACTATTA...</td>\n",
       "      <td>0</td>\n",
       "    </tr>\n",
       "    <tr>\n",
       "      <th>1</th>\n",
       "      <td>ENSG00000000460</td>\n",
       "      <td>GGGGCAGGGGAAAGGAGAGCATTTCATTGTGAATCAAGGAATTTCT...</td>\n",
       "      <td>0</td>\n",
       "    </tr>\n",
       "    <tr>\n",
       "      <th>2</th>\n",
       "      <td>ENSG00000000938</td>\n",
       "      <td>ACTAAATTGATTTCACATATGCAAGTTTTTGAAGTGCCCTGGATTA...</td>\n",
       "      <td>0</td>\n",
       "    </tr>\n",
       "    <tr>\n",
       "      <th>3</th>\n",
       "      <td>ENSG00000000971</td>\n",
       "      <td>CTGCTGCAATTAGTGAAACAAGGAACAGTGTTACCACATATGGTCC...</td>\n",
       "      <td>1</td>\n",
       "    </tr>\n",
       "    <tr>\n",
       "      <th>4</th>\n",
       "      <td>ENSG00000001460</td>\n",
       "      <td>GGAGGCCGTGTCCCCGCACTCGAGCTTAAGGACATCTGACAGGTGC...</td>\n",
       "      <td>0</td>\n",
       "    </tr>\n",
       "    <tr>\n",
       "      <th>...</th>\n",
       "      <td>...</td>\n",
       "      <td>...</td>\n",
       "      <td>...</td>\n",
       "    </tr>\n",
       "    <tr>\n",
       "      <th>55221</th>\n",
       "      <td>ENSG00000284520</td>\n",
       "      <td>TGTAAGGGATTGAAATCATAGAGCACATTCTCTTACTCATAAGATG...</td>\n",
       "      <td>0</td>\n",
       "    </tr>\n",
       "    <tr>\n",
       "      <th>55222</th>\n",
       "      <td>ENSG00000284544</td>\n",
       "      <td>TGGAGTGCAATGGCGCGATTTTGGCTCACTGTAACCTCTGCCTCCC...</td>\n",
       "      <td>0</td>\n",
       "    </tr>\n",
       "    <tr>\n",
       "      <th>55223</th>\n",
       "      <td>ENSG00000284554</td>\n",
       "      <td>ACAGAGGCATCTTTCAAGAAGTTCTGGGCTGGATGTGGCTCATGCC...</td>\n",
       "      <td>0</td>\n",
       "    </tr>\n",
       "    <tr>\n",
       "      <th>55224</th>\n",
       "      <td>ENSG00000284568</td>\n",
       "      <td>AGACCCCTGCACTGAGAACTCAGCTCCCGGATGTGGGCGCTGTGCA...</td>\n",
       "      <td>0</td>\n",
       "    </tr>\n",
       "    <tr>\n",
       "      <th>55225</th>\n",
       "      <td>ENSG00000284583</td>\n",
       "      <td>TGGTGCCAGACAGATATAAAAGAAAGCATCCTTTAAGTTTAAGACT...</td>\n",
       "      <td>0</td>\n",
       "    </tr>\n",
       "  </tbody>\n",
       "</table>\n",
       "<p>55223 rows × 3 columns</p>\n",
       "</div>"
      ],
      "text/plain": [
       "       ensembl_gene_id                                    upstream_region  DE\n",
       "0      ENSG00000000457  ACATAAAATGTGGTGTATCCCTCTAGACTAGTATATGCAACTATTA...   0\n",
       "1      ENSG00000000460  GGGGCAGGGGAAAGGAGAGCATTTCATTGTGAATCAAGGAATTTCT...   0\n",
       "2      ENSG00000000938  ACTAAATTGATTTCACATATGCAAGTTTTTGAAGTGCCCTGGATTA...   0\n",
       "3      ENSG00000000971  CTGCTGCAATTAGTGAAACAAGGAACAGTGTTACCACATATGGTCC...   1\n",
       "4      ENSG00000001460  GGAGGCCGTGTCCCCGCACTCGAGCTTAAGGACATCTGACAGGTGC...   0\n",
       "...                ...                                                ...  ..\n",
       "55221  ENSG00000284520  TGTAAGGGATTGAAATCATAGAGCACATTCTCTTACTCATAAGATG...   0\n",
       "55222  ENSG00000284544  TGGAGTGCAATGGCGCGATTTTGGCTCACTGTAACCTCTGCCTCCC...   0\n",
       "55223  ENSG00000284554  ACAGAGGCATCTTTCAAGAAGTTCTGGGCTGGATGTGGCTCATGCC...   0\n",
       "55224  ENSG00000284568  AGACCCCTGCACTGAGAACTCAGCTCCCGGATGTGGGCGCTGTGCA...   0\n",
       "55225  ENSG00000284583  TGGTGCCAGACAGATATAAAAGAAAGCATCCTTTAAGTTTAAGACT...   0\n",
       "\n",
       "[55223 rows x 3 columns]"
      ]
     },
     "execution_count": 20,
     "metadata": {},
     "output_type": "execute_result"
    }
   ],
   "source": [
    "merged_df"
   ]
  },
  {
   "cell_type": "code",
   "execution_count": 21,
   "id": "8919871d-ccc1-4b79-9d01-7ab1d471103a",
   "metadata": {
    "execution": {
     "iopub.execute_input": "2024-11-15T02:10:54.607761Z",
     "iopub.status.busy": "2024-11-15T02:10:54.607413Z",
     "iopub.status.idle": "2024-11-15T02:10:54.610986Z",
     "shell.execute_reply": "2024-11-15T02:10:54.610441Z"
    }
   },
   "outputs": [
    {
     "data": {
      "text/plain": [
       "3"
      ]
     },
     "execution_count": 21,
     "metadata": {},
     "output_type": "execute_result"
    }
   ],
   "source": [
    "55226 - 55223"
   ]
  },
  {
   "cell_type": "markdown",
   "id": "3c6e3e35-2bf0-4183-bc7c-0e53461a5e27",
   "metadata": {},
   "source": [
    "Only 3 rows (genes) were removed."
   ]
  },
  {
   "cell_type": "markdown",
   "id": "0751cdb2",
   "metadata": {},
   "source": [
    "## One Hot Encoding"
   ]
  },
  {
   "cell_type": "code",
   "execution_count": 22,
   "id": "96165d2a",
   "metadata": {
    "execution": {
     "iopub.execute_input": "2024-11-15T02:10:54.613579Z",
     "iopub.status.busy": "2024-11-15T02:10:54.613223Z",
     "iopub.status.idle": "2024-11-15T02:10:54.617459Z",
     "shell.execute_reply": "2024-11-15T02:10:54.617011Z"
    }
   },
   "outputs": [],
   "source": [
    "def one_hot_encode(sequence):\n",
    "    # Define mapping for each base\n",
    "    encoding_dict = {\n",
    "        'A': [1, 0, 0, 0],\n",
    "        'T': [0, 1, 0, 0],\n",
    "        'C': [0, 0, 1, 0],\n",
    "        'G': [0, 0, 0, 1] \n",
    "    }\n",
    "    \n",
    "    encoded_sequence = [encoding_dict[base] if base in encoding_dict \n",
    "                        else (_ for _ in ()).throw(KeyError(f\"Invalid base: {base}\")) for base in sequence]\n",
    "    \n",
    "    return np.array(encoded_sequence)"
   ]
  },
  {
   "cell_type": "code",
   "execution_count": 23,
   "id": "8521e07d",
   "metadata": {
    "execution": {
     "iopub.execute_input": "2024-11-15T02:10:54.619789Z",
     "iopub.status.busy": "2024-11-15T02:10:54.619395Z",
     "iopub.status.idle": "2024-11-15T02:11:41.540194Z",
     "shell.execute_reply": "2024-11-15T02:11:41.539688Z"
    }
   },
   "outputs": [
    {
     "data": {
      "text/html": [
       "<div>\n",
       "<style scoped>\n",
       "    .dataframe tbody tr th:only-of-type {\n",
       "        vertical-align: middle;\n",
       "    }\n",
       "\n",
       "    .dataframe tbody tr th {\n",
       "        vertical-align: top;\n",
       "    }\n",
       "\n",
       "    .dataframe thead th {\n",
       "        text-align: right;\n",
       "    }\n",
       "</style>\n",
       "<table border=\"1\" class=\"dataframe\">\n",
       "  <thead>\n",
       "    <tr style=\"text-align: right;\">\n",
       "      <th></th>\n",
       "      <th>ensembl_gene_id</th>\n",
       "      <th>upstream_region</th>\n",
       "      <th>DE</th>\n",
       "      <th>upstream_region_encoded</th>\n",
       "    </tr>\n",
       "  </thead>\n",
       "  <tbody>\n",
       "    <tr>\n",
       "      <th>0</th>\n",
       "      <td>ENSG00000000457</td>\n",
       "      <td>ACATAAAATGTGGTGTATCCCTCTAGACTAGTATATGCAACTATTA...</td>\n",
       "      <td>0</td>\n",
       "      <td>[[1, 0, 0, 0], [0, 0, 1, 0], [1, 0, 0, 0], [0,...</td>\n",
       "    </tr>\n",
       "    <tr>\n",
       "      <th>1</th>\n",
       "      <td>ENSG00000000460</td>\n",
       "      <td>GGGGCAGGGGAAAGGAGAGCATTTCATTGTGAATCAAGGAATTTCT...</td>\n",
       "      <td>0</td>\n",
       "      <td>[[0, 0, 0, 1], [0, 0, 0, 1], [0, 0, 0, 1], [0,...</td>\n",
       "    </tr>\n",
       "    <tr>\n",
       "      <th>2</th>\n",
       "      <td>ENSG00000000938</td>\n",
       "      <td>ACTAAATTGATTTCACATATGCAAGTTTTTGAAGTGCCCTGGATTA...</td>\n",
       "      <td>0</td>\n",
       "      <td>[[1, 0, 0, 0], [0, 0, 1, 0], [0, 1, 0, 0], [1,...</td>\n",
       "    </tr>\n",
       "    <tr>\n",
       "      <th>3</th>\n",
       "      <td>ENSG00000000971</td>\n",
       "      <td>CTGCTGCAATTAGTGAAACAAGGAACAGTGTTACCACATATGGTCC...</td>\n",
       "      <td>1</td>\n",
       "      <td>[[0, 0, 1, 0], [0, 1, 0, 0], [0, 0, 0, 1], [0,...</td>\n",
       "    </tr>\n",
       "    <tr>\n",
       "      <th>4</th>\n",
       "      <td>ENSG00000001460</td>\n",
       "      <td>GGAGGCCGTGTCCCCGCACTCGAGCTTAAGGACATCTGACAGGTGC...</td>\n",
       "      <td>0</td>\n",
       "      <td>[[0, 0, 0, 1], [0, 0, 0, 1], [1, 0, 0, 0], [0,...</td>\n",
       "    </tr>\n",
       "  </tbody>\n",
       "</table>\n",
       "</div>"
      ],
      "text/plain": [
       "   ensembl_gene_id                                    upstream_region  DE  \\\n",
       "0  ENSG00000000457  ACATAAAATGTGGTGTATCCCTCTAGACTAGTATATGCAACTATTA...   0   \n",
       "1  ENSG00000000460  GGGGCAGGGGAAAGGAGAGCATTTCATTGTGAATCAAGGAATTTCT...   0   \n",
       "2  ENSG00000000938  ACTAAATTGATTTCACATATGCAAGTTTTTGAAGTGCCCTGGATTA...   0   \n",
       "3  ENSG00000000971  CTGCTGCAATTAGTGAAACAAGGAACAGTGTTACCACATATGGTCC...   1   \n",
       "4  ENSG00000001460  GGAGGCCGTGTCCCCGCACTCGAGCTTAAGGACATCTGACAGGTGC...   0   \n",
       "\n",
       "                             upstream_region_encoded  \n",
       "0  [[1, 0, 0, 0], [0, 0, 1, 0], [1, 0, 0, 0], [0,...  \n",
       "1  [[0, 0, 0, 1], [0, 0, 0, 1], [0, 0, 0, 1], [0,...  \n",
       "2  [[1, 0, 0, 0], [0, 0, 1, 0], [0, 1, 0, 0], [1,...  \n",
       "3  [[0, 0, 1, 0], [0, 1, 0, 0], [0, 0, 0, 1], [0,...  \n",
       "4  [[0, 0, 0, 1], [0, 0, 0, 1], [1, 0, 0, 0], [0,...  "
      ]
     },
     "execution_count": 23,
     "metadata": {},
     "output_type": "execute_result"
    }
   ],
   "source": [
    "merged_df['upstream_region_encoded'] = merged_df['upstream_region'].apply(one_hot_encode)\n",
    "merged_df.head()"
   ]
  },
  {
   "cell_type": "code",
   "execution_count": 24,
   "id": "52c2c796",
   "metadata": {
    "execution": {
     "iopub.execute_input": "2024-11-15T02:11:41.542523Z",
     "iopub.status.busy": "2024-11-15T02:11:41.542252Z",
     "iopub.status.idle": "2024-11-15T02:11:41.547841Z",
     "shell.execute_reply": "2024-11-15T02:11:41.547410Z"
    }
   },
   "outputs": [],
   "source": [
    "# remove the sequence column\n",
    "merged_df_filtered = merged_df[['ensembl_gene_id', 'DE', 'upstream_region_encoded']]"
   ]
  },
  {
   "cell_type": "code",
   "execution_count": 25,
   "id": "85310b15",
   "metadata": {
    "execution": {
     "iopub.execute_input": "2024-11-15T02:11:41.550225Z",
     "iopub.status.busy": "2024-11-15T02:11:41.549887Z",
     "iopub.status.idle": "2024-11-15T02:18:47.969883Z",
     "shell.execute_reply": "2024-11-15T02:18:47.969340Z"
    }
   },
   "outputs": [],
   "source": [
    "# compress to save space\n",
    "merged_df_filtered.to_pickle('../../result/one_hot_encoding/gene_id_label_ohe.pkl.gz', compression='gzip')"
   ]
  },
  {
   "cell_type": "markdown",
   "id": "454d28e1",
   "metadata": {},
   "source": [
    "## Conclusion"
   ]
  },
  {
   "cell_type": "markdown",
   "id": "c48d9ca6",
   "metadata": {},
   "source": [
    "In this notebook, we one-hot-encoded the DNA region sequence and saved it as a pickle file."
   ]
  },
  {
   "cell_type": "code",
   "execution_count": 26,
   "id": "dd33a2bc",
   "metadata": {
    "execution": {
     "iopub.execute_input": "2024-11-15T02:18:47.972716Z",
     "iopub.status.busy": "2024-11-15T02:18:47.972440Z",
     "iopub.status.idle": "2024-11-15T02:18:48.084769Z",
     "shell.execute_reply": "2024-11-15T02:18:48.084270Z"
    }
   },
   "outputs": [
    {
     "name": "stdout",
     "output_type": "stream",
     "text": [
      "{'Automat': '24.8.1', 'Markdown': '3.7', 'MarkupSafe': '3.0.2', 'Protego': '0.3.1', 'PyDispatcher': '2.0.7', 'PyJWT': '2.9.0', 'PySocks': '1.7.1', 'PyYAML': '6.0.2', 'SQLAlchemy': '2.0.24', 'Scrapy': '2.11.2', 'SecretStorage': '3.3.3', 'Send2Trash': '1.8.3', 'absl-py': '2.1.0', 'aiohappyeyeballs': '2.4.3', 'aiohttp': '3.10.10', 'aiosignal': '1.3.1', 'amqp': '5.2.0', 'annotated-types': '0.7.0', 'anyio': '4.6.2.post1', 'argon2-cffi': '23.1.0', 'argon2-cffi-bindings': '21.2.0', 'arrow': '1.3.0', 'astroid': '3.3.5', 'asttokens': '2.4.1', 'astunparse': '1.6.3', 'async-lru': '2.0.4', 'attrs': '24.2.0', 'awscli': '1.35.14', 'babel': '2.16.0', 'beautifulsoup4': '4.12.3', 'billiard': '4.2.1', 'black': '24.10.0', 'bleach': '6.1.0', 'blinker': '1.8.2', 'bokeh': '3.6.0', 'boto3': '1.35.48', 'botocore': '1.35.48', 'build': '1.2.2.post1', 'celery': '5.4.0', 'certifi': '2024.8.30', 'cffi': '1.17.1', 'charset-normalizer': '3.4.0', 'click': '8.1.7', 'click-didyoumean': '0.3.1', 'click-plugins': '1.1.1', 'click-repl': '0.3.0', 'cloudpickle': '3.1.0', 'cmake': '3.30.5', 'colorama': '0.4.6', 'comm': '0.2.2', 'constantly': '23.10.4', 'contourpy': '1.3.0', 'cryptography': '43.0.3', 'cssselect': '1.2.0', 'cycler': '0.12.1', 'dask': '2024.10.0', 'debugpy': '1.8.7', 'decorator': '5.1.1', 'defusedxml': '0.7.1', 'dill': '0.3.9', 'distlib': '0.3.9', 'dlib': '19.24.2', 'docutils': '0.16', 'dparse': '0.6.3', 'entrypoints': '0.4', 'executing': '2.1.0', 'face-recognition': '1.3.0', 'face-recognition-models': '0.3.0', 'fastapi': '0.115.3', 'fastjsonschema': '2.20.0', 'filelock': '3.16.1', 'flask': '3.0.3', 'flatbuffers': '24.3.25', 'fonttools': '4.54.1', 'fqdn': '1.5.1', 'frozenlist': '1.5.0', 'fsspec': '2024.10.0', 'gast': '0.6.0', 'google-pasta': '0.2.0', 'greenlet': '3.1.1', 'grpcio': '1.67.0', 'h11': '0.14.0', 'h5py': '3.12.1', 'httpcore': '1.0.6', 'httpie': '3.2.1', 'httpx': '0.27.2', 'hyperlink': '21.0.0', 'idna': '3.10', 'imageio': '2.36.0', 'importlib-metadata': '8.5.0', 'incremental': '24.7.2', 'iniconfig': '2.0.0', 'ipykernel': '6.29.5', 'ipython': '8.29.0', 'ipython-genutils': '0.2.0', 'ipywidgets': '8.1.5', 'isoduration': '20.11.0', 'isort': '5.13.2', 'itemadapter': '0.9.0', 'itemloaders': '1.3.2', 'itsdangerous': '2.2.0', 'jaraco.classes': '3.4.0', 'jaraco.context': '6.0.1', 'jaraco.functools': '4.1.0', 'jedi': '0.19.1', 'jeepney': '0.8.0', 'jinja2': '3.1.4', 'jmespath': '1.0.1', 'joblib': '1.4.2', 'json5': '0.9.25', 'jsonpointer': '3.0.0', 'jsonschema': '4.23.0', 'jsonschema-specifications': '2024.10.1', 'jupyter-client': '7.4.9', 'jupyter-core': '5.7.2', 'jupyter-events': '0.10.0', 'jupyter-lsp': '2.2.5', 'jupyter-server': '2.14.2', 'jupyter-server-terminals': '0.5.3', 'jupyterlab': '4.2.5', 'jupyterlab-pygments': '0.3.0', 'jupyterlab-server': '2.27.3', 'jupyterlab-widgets': '3.0.13', 'keras': '3.6.0', 'keyring': '25.4.1', 'kiwisolver': '1.4.7', 'kombu': '5.4.2', 'libclang': '18.1.1', 'llvmlite': '0.43.0', 'locket': '1.0.0', 'lxml': '5.3.0', 'markdown-it-py': '3.0.0', 'matplotlib': '3.9.2', 'matplotlib-inline': '0.1.7', 'mccabe': '0.7.0', 'mdurl': '0.1.2', 'mistune': '3.0.2', 'ml-dtypes': '0.4.1', 'more-itertools': '10.5.0', 'multidict': '6.1.0', 'mypy': '1.13.0', 'mypy-extensions': '1.0.0', 'namex': '0.0.8', 'nbclassic': '1.1.0', 'nbclient': '0.10.0', 'nbconvert': '7.16.4', 'nbformat': '5.10.4', 'nest-asyncio': '1.6.0', 'nh3': '0.2.18', 'notebook': '6.5.7', 'notebook-shim': '0.2.4', 'numba': '0.60.0', 'numpy': '1.26.4', 'nvidia-ml-py': '12.560.30', 'opencv-python': '4.10.0.84', 'opt-einsum': '3.4.0', 'optree': '0.13.0', 'overrides': '7.7.0', 'packaging': '21.3', 'pandas': '2.2.3', 'pandocfilters': '1.5.1', 'parsel': '1.9.1', 'parso': '0.8.4', 'partd': '1.4.2', 'pathspec': '0.12.1', 'pexpect': '4.9.0', 'pillow': '11.0.0', 'pip': '24.2', 'pip-tools': '7.4.1', 'pipdeptree': '2.23.4', 'pipenv': '2024.2.0', 'pkginfo': '1.10.0', 'platformdirs': '4.3.6', 'plotly': '5.24.1', 'pluggy': '1.5.0', 'prometheus-client': '0.21.0', 'prompt-toolkit': '3.0.48', 'propcache': '0.2.0', 'protobuf': '4.25.5', 'psutil': '6.1.0', 'psycopg2-binary': '2.9.10', 'ptyprocess': '0.7.0', 'pure-eval': '0.2.3', 'pyOpenSSL': '24.2.1', 'pyasn1': '0.6.1', 'pyasn1-modules': '0.4.1', 'pycparser': '2.22', 'pydantic': '2.9.2', 'pydantic-core': '2.23.4', 'pygments': '2.18.0', 'pylint': '3.3.1', 'pyparsing': '3.2.0', 'pyproject-hooks': '1.2.0', 'pytest': '8.3.3', 'python-dateutil': '2.9.0.post0', 'python-json-logger': '2.0.7', 'pytz': '2024.2', 'pyzmq': '26.2.0', 'queuelib': '1.7.0', 'readme-renderer': '43.0', 'redis': '5.2.0', 'referencing': '0.35.1', 'requests': '2.32.3', 'requests-file': '2.1.0', 'requests-toolbelt': '1.0.0', 'rfc3339-validator': '0.1.4', 'rfc3986': '2.0.0', 'rfc3986-validator': '0.1.1', 'rich': '13.9.3', 'rpds-py': '0.20.0', 'rsa': '4.7.2', 'ruamel.yaml': '0.18.6', 'ruamel.yaml.clib': '0.2.12', 's3transfer': '0.10.3', 'scikit-learn': '1.5.2', 'scipy': '1.14.1', 'seaborn': '0.13.2', 'service-identity': '24.1.0', 'setuptools': '75.2.0', 'shap': '0.46.0', 'six': '1.16.0', 'slicer': '0.0.8', 'sniffio': '1.3.1', 'soupsieve': '2.6', 'stack-data': '0.6.3', 'starlette': '0.41.0', 'tenacity': '9.0.0', 'tensorboard': '2.17.1', 'tensorboard-data-server': '0.7.2', 'tensorflow': '2.17.1', 'termcolor': '2.5.0', 'terminado': '0.18.1', 'tf-keras': '2.18.0', 'threadpoolctl': '3.5.0', 'tinycss2': '1.4.0', 'tldextract': '5.1.2', 'tomli': '2.0.2', 'tomlkit': '0.13.2', 'toolz': '1.0.0', 'tornado': '6.4.1', 'tqdm': '4.66.5', 'traitlets': '5.14.3', 'twine': '5.1.1', 'twisted': '24.7.0', 'types-python-dateutil': '2.9.0.20241003', 'typing-extensions': '4.12.2', 'tzdata': '2024.2', 'uri-template': '1.3.0', 'urllib3': '2.2.3', 'vine': '5.1.0', 'virtualenv': '20.27.0', 'w3lib': '2.2.1', 'wcwidth': '0.2.13', 'webcolors': '24.8.0', 'webencodings': '0.5.1', 'websocket-client': '1.8.0', 'werkzeug': '3.0.5', 'wheel': '0.44.0', 'widgetsnbextension': '4.0.13', 'wrapt': '1.16.0', 'xyzservices': '2024.9.0', 'yapf': '0.40.2', 'yarl': '1.16.0', 'zipp': '3.20.2', 'zope.interface': '7.1.1', 'autocommand': '2.2.2', 'backports.tarfile': '1.2.0', 'importlib-resources': '6.4.0', 'inflect': '7.3.1', 'jaraco.collections': '5.1.0', 'jaraco.text': '3.12.1', 'typeguard': '4.3.0'}\n"
     ]
    },
    {
     "name": "stderr",
     "output_type": "stream",
     "text": [
      "/tmp/ipykernel_7455/1281145417.py:1: DeprecationWarning: pkg_resources is deprecated as an API. See https://setuptools.pypa.io/en/latest/pkg_resources.html\n",
      "  import pkg_resources\n"
     ]
    }
   ],
   "source": [
    "import pkg_resources\n",
    "installed_packages = {d.project_name: d.version for d in pkg_resources.working_set}\n",
    "print(installed_packages)"
   ]
  }
 ],
 "metadata": {
  "kernelspec": {
   "display_name": "Python [conda env:base] *",
   "language": "python",
   "name": "conda-base-py"
  },
  "language_info": {
   "codemirror_mode": {
    "name": "ipython",
    "version": 3
   },
   "file_extension": ".py",
   "mimetype": "text/x-python",
   "name": "python",
   "nbconvert_exporter": "python",
   "pygments_lexer": "ipython3",
   "version": "3.12.6"
  }
 },
 "nbformat": 4,
 "nbformat_minor": 5
}
